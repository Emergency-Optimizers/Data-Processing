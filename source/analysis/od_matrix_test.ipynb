{
 "cells": [
  {
   "cell_type": "markdown",
   "metadata": {},
   "source": [
    "# Fix pathing"
   ]
  },
  {
   "cell_type": "code",
   "execution_count": 1,
   "metadata": {},
   "outputs": [],
   "source": [
    "import sys\n",
    "\n",
    "\n",
    "sys.path.append(\"..\")\n"
   ]
  },
  {
   "cell_type": "code",
   "execution_count": 2,
   "metadata": {},
   "outputs": [],
   "source": [
    "import constants\n",
    "\n",
    "import os\n",
    "\n",
    "\n",
    "constants.PROJECT_DIRECTORY_PATH = os.path.dirname(os.path.dirname(constants.PROJECT_DIRECTORY_PATH))\n"
   ]
  },
  {
   "cell_type": "markdown",
   "metadata": {},
   "source": [
    "# Imports"
   ]
  },
  {
   "cell_type": "code",
   "execution_count": 3,
   "metadata": {},
   "outputs": [],
   "source": [
    "import datahandler\n",
    "import utils\n",
    "import pathing\n",
    "\n",
    "import networkx\n",
    "import osmnx as ox\n",
    "import numpy as np\n",
    "import pandas as pd\n"
   ]
  },
  {
   "cell_type": "markdown",
   "metadata": {},
   "source": [
    "# Constants"
   ]
  },
  {
   "cell_type": "code",
   "execution_count": 4,
   "metadata": {},
   "outputs": [
    {
     "name": "stderr",
     "output_type": "stream",
     "text": [
      "Cleaning dataset: 100%|██████████| 2/2 [00:00<?, ?it/s]\n",
      "Processing dataset: 100%|██████████| 2/2 [00:00<?, ?it/s]\n",
      "Enhancing dataset: 100%|██████████| 2/2 [00:00<00:00, 2001.10it/s]\n"
     ]
    }
   ],
   "source": [
    "data_preprocessor = datahandler.DataPreprocessorOUS_V2()\n",
    "data_preprocessor.execute()\n",
    "\n",
    "data_loader = datahandler.DataLoader(datahandler.DataPreprocessorOUS_V2)\n",
    "data_loader.execute(clean=False, processed=False, enhanced=False)"
   ]
  },
  {
   "cell_type": "markdown",
   "metadata": {},
   "source": [
    "# Methods"
   ]
  },
  {
   "cell_type": "code",
   "execution_count": 5,
   "metadata": {},
   "outputs": [],
   "source": [
    "def fix_lat_lon(benchmark_times):\n",
    "    new_benchmark_times = {}\n",
    "\n",
    "    for ((start_lat, start_lon), (end_lat, end_lon)), benchmark in benchmark_times.items():\n",
    "        new_benchmark_times[((start_lon, start_lat), (end_lon, end_lat))] = benchmark\n",
    "\n",
    "    return new_benchmark_times"
   ]
  },
  {
   "cell_type": "code",
   "execution_count": 6,
   "metadata": {},
   "outputs": [],
   "source": [
    "# times from Google Maps (Sunday, start at 02:00)\n",
    "benchmark_times = {\n",
    "    ((59.9369806, 10.7343661), (59.6800045, 10.6572104)): (35, 45),\n",
    "    ((59.93596, 10.73244), (59.92629, 10.77570)): (4, 9),\n",
    "    ((59.90864, 10.73921), (59.93037, 10.77273)): (9, 16),\n",
    "    ((59.92727, 10.73174), (59.86305, 10.66617)): (50, 60),\n",
    "    ((59.82052, 10.47168), (59.95577, 11.04773)): (40, 50),\n",
    "    ((60.00352, 10.76216), (59.83905, 10.80742)): (28, 28),\n",
    "\n",
    "    ((60.31262, 11.14674), (60.11964, 11.47577)): (40, 40),\n",
    "    ((60.11964, 11.47577), (60.13423, 11.166858)): (22, 26),\n",
    "    ((60.13423, 11.166858), (59.879044, 11.561687)): (50, 50),\n",
    "    ((59.879044, 11.561687), (59.932076, 10.987775)): (40, 40),\n",
    "    ((59.932076, 10.987775), (60.042152, 10.880784)): (20, 22),\n",
    "    ((60.042152, 10.880784), (59.930733, 10.831094)): (20, 20),\n",
    "    ((59.930733, 10.831094), (59.917, 10.758744)): (9, 14),\n",
    "    ((59.917, 10.758744), (59.93917, 10.741926)): (7, 14),\n",
    "    ((59.93917, 10.741926), (59.71566, 10.853331)): (35, 35),\n",
    "    ((59.71566, 10.853331), (59.659687, 10.725881)): (18, 18),\n",
    "    ((59.659687, 10.725881), (59.833073, 10.806946)): (22, 22),\n",
    "    ((59.833073, 10.806946), (59.830055, 10.439887)): (30, 40),\n",
    "    ((59.830055, 10.439887), (59.89813, 10.509723)): (14, 14),\n",
    "    ((59.89813, 10.509723), (59.939663, 10.687367)): (16, 20),\n",
    "    ((59.939663, 10.687367), (59.893173, 10.806364)): (12, 16),\n",
    "    ((59.893173, 10.806364), (59.960304, 10.884091)): (12, 18),\n",
    "    ((59.960304, 10.884091), (59.997875, 11.03928)): (20, 20),\n",
    "    ((59.997875, 11.03928), (59.917873, 10.585751)): (28, 35),\n",
    "    ((59.917873, 10.585751), (60.31262, 11.14674)): (55, 65),\n",
    "}\n",
    "\n",
    "benchmark_times = fix_lat_lon(benchmark_times)"
   ]
  },
  {
   "cell_type": "code",
   "execution_count": 7,
   "metadata": {},
   "outputs": [],
   "source": [
    "def get_node(od: pathing.OriginDestination, x, y):\n",
    "    if (x, y) in od.node_cache:\n",
    "        return od.node_cache[(x, y)]\n",
    "    \n",
    "    while True:\n",
    "        node = ox.distance.nearest_nodes(od.graph, x, y)\n",
    "        if networkx.has_path(od.graph, node, od.node_validator) and networkx.has_path(od.graph, od.node_validator, node):\n",
    "            od.node_cache[(x, y)] = node\n",
    "            return node\n",
    "        else:\n",
    "            od.graph.remove_node(node)\n"
   ]
  },
  {
   "cell_type": "code",
   "execution_count": 23,
   "metadata": {},
   "outputs": [],
   "source": [
    "def calculate_error(od: pathing.OriginDestination, benchmark_times):\n",
    "    calculated_times = {}\n",
    "\n",
    "    for ((start_lon, start_lat), (end_lon, end_lat)), _ in benchmark_times.items():\n",
    "        # Convert geographic coordinates to UTM and get the corresponding node\n",
    "        start_x, start_y = utils.geographic_to_utm(start_lon, start_lat, od.utm_epsg)\n",
    "        end_x, end_y = utils.geographic_to_utm(end_lon, end_lat, od.utm_epsg)\n",
    "\n",
    "        start_node = od.get_node_from_lat_lon(start_lat, start_lon)\n",
    "        end_node = od.get_node_from_lat_lon(end_lat, end_lon)\n",
    "\n",
    "        if start_node is None or end_node is None:\n",
    "            continue\n",
    "\n",
    "        # Calculate the shortest path and total travel time\n",
    "        shortest_time_path = ox.shortest_path(\n",
    "            od.graph,\n",
    "            start_node,\n",
    "            end_node,\n",
    "            weight='time'\n",
    "        )\n",
    "        total_travel_time = sum(od.graph[u][v][0]['time'] for u, v in zip(shortest_time_path[:-1], shortest_time_path[1:]))\n",
    "\n",
    "        # Store the calculated travel time\n",
    "        calculated_times[((start_lon, start_lat), (end_lon, end_lat))] = total_travel_time\n",
    "\n",
    "        # Print the calculated travel time and compare with the benchmark\n",
    "        benchmark_range = benchmark_times[((start_lon, start_lat), (end_lon, end_lat))]\n",
    "        print(f\"Path: ({start_lon}, {start_lat}) to ({end_lon}, {end_lat})\")\n",
    "        print(f\"Calculated Travel Time: {total_travel_time:.2f} minutes\")\n",
    "        print(f\"Benchmark Travel Time Range: {benchmark_range[0]} - {benchmark_range[1]} minutes\")\n",
    "        print()\n",
    "\n",
    "    return calculated_times"
   ]
  },
  {
   "cell_type": "markdown",
   "metadata": {},
   "source": [
    "# Main"
   ]
  },
  {
   "cell_type": "code",
   "execution_count": 25,
   "metadata": {},
   "outputs": [],
   "source": [
    "od = pathing.OriginDestination(\n",
    "    dataset_id=\"oslo\",\n",
    "    utm_epsg=f\"EPSG:326{33}\"\n",
    ")\n",
    "\n",
    "od.get_graph()"
   ]
  },
  {
   "cell_type": "code",
   "execution_count": 29,
   "metadata": {},
   "outputs": [
    {
     "name": "stdout",
     "output_type": "stream",
     "text": [
      "Mean Squared Error: 915142.2846161921\n",
      "Coordinates: ((10.7343661, 59.9369806), (10.6572104, 59.6800045)), Calculated Time: 1203.3897666666667\n",
      "Coordinates: ((10.73244, 59.93596), (10.7757, 59.92629)), Calculated Time: 94.96826666666666\n",
      "Coordinates: ((10.73921, 59.90864), (10.77273, 59.93037)), Calculated Time: 137.63216666666668\n",
      "Coordinates: ((10.73174, 59.92727), (10.66617, 59.86305)), Calculated Time: 1572.6406333333337\n",
      "Coordinates: ((10.47168, 59.82052), (11.04773, 59.95577)), Calculated Time: 1484.3633333333335\n",
      "Coordinates: ((10.76216, 60.00352), (10.80742, 59.83905)), Calculated Time: 705.9755333333335\n",
      "Coordinates: ((11.14674, 60.31262), (11.47577, 60.11964)), Calculated Time: 1141.6837666666663\n",
      "Coordinates: ((11.47577, 60.11964), (11.166858, 60.13423)), Calculated Time: 682.8854999999999\n",
      "Coordinates: ((11.166858, 60.13423), (11.561687, 59.879044)), Calculated Time: 1643.3071666666674\n",
      "Coordinates: ((11.561687, 59.879044), (10.987775, 59.932076)), Calculated Time: 1381.1309333333338\n",
      "Coordinates: ((10.987775, 59.932076), (10.880784, 60.042152)), Calculated Time: 553.1929666666666\n",
      "Coordinates: ((10.880784, 60.042152), (10.831094, 59.930733)), Calculated Time: 569.5018\n",
      "Coordinates: ((10.831094, 59.930733), (10.758744, 59.917)), Calculated Time: 182.35786666666655\n",
      "Coordinates: ((10.758744, 59.917), (10.741926, 59.93917)), Calculated Time: 107.14573333333334\n",
      "Coordinates: ((10.741926, 59.93917), (10.853331, 59.71566)), Calculated Time: 1007.1667666666664\n",
      "Coordinates: ((10.853331, 59.71566), (10.725881, 59.659687)), Calculated Time: 386.4817333333334\n",
      "Coordinates: ((10.725881, 59.659687), (10.806946, 59.833073)), Calculated Time: 763.2492333333332\n",
      "Coordinates: ((10.806946, 59.833073), (10.439887, 59.830055)), Calculated Time: 1084.1170999999997\n",
      "Coordinates: ((10.439887, 59.830055), (10.509723, 59.89813)), Calculated Time: 388.0752000000001\n",
      "Coordinates: ((10.509723, 59.89813), (10.687367, 59.939663)), Calculated Time: 407.8654333333335\n",
      "Coordinates: ((10.687367, 59.939663), (10.806364, 59.893173)), Calculated Time: 335.97386666666665\n",
      "Coordinates: ((10.806364, 59.893173), (10.884091, 59.960304)), Calculated Time: 324.8202333333333\n",
      "Coordinates: ((10.884091, 59.960304), (11.03928, 59.997875)), Calculated Time: 610.1836000000004\n",
      "Coordinates: ((11.03928, 59.997875), (10.585751, 59.917873)), Calculated Time: 1046.9682333333326\n",
      "Coordinates: ((10.585751, 59.917873), (11.14674, 60.31262)), Calculated Time: 2415.7365333333328\n"
     ]
    }
   ],
   "source": [
    "calculated_times = calculate_error(od, benchmark_times)\n"
   ]
  },
  {
   "cell_type": "code",
   "execution_count": 28,
   "metadata": {},
   "outputs": [],
   "source": [
    "def verify_and_set_edge_attributes(graph):\n",
    "    for u, v, data in graph.edges(data=True):\n",
    "        if 'time' not in data:\n",
    "            # Set a default time or calculate it based on other attributes, like length or speed limit\n",
    "            # This is a simplified example; you should adjust it based on your actual data\n",
    "            data['time'] = data.get('length', 0) / 30  # Example: default speed = 30 units\n",
    "\n",
    "# Call this function with your graph instance before running the calculate_error function\n",
    "verify_and_set_edge_attributes(od.graph)\n"
   ]
  },
  {
   "cell_type": "code",
   "execution_count": 31,
   "metadata": {},
   "outputs": [
    {
     "ename": "TypeError",
     "evalue": "'<=' not supported between instances of 'int' and 'str'",
     "output_type": "error",
     "traceback": [
      "\u001b[1;31m---------------------------------------------------------------------------\u001b[0m",
      "\u001b[1;31mTypeError\u001b[0m                                 Traceback (most recent call last)",
      "Cell \u001b[1;32mIn[31], line 30\u001b[0m\n\u001b[0;32m     27\u001b[0m         \u001b[38;5;28mprint\u001b[39m(\u001b[38;5;124mf\u001b[39m\u001b[38;5;124m\"\u001b[39m\u001b[38;5;124mCoordinates: \u001b[39m\u001b[38;5;132;01m{\u001b[39;00mpath\u001b[38;5;132;01m}\u001b[39;00m\u001b[38;5;124m, Calculated Ambulance Time: \u001b[39m\u001b[38;5;132;01m{\u001b[39;00mcalc_time\u001b[38;5;132;01m:\u001b[39;00m\u001b[38;5;124m.2f\u001b[39m\u001b[38;5;132;01m}\u001b[39;00m\u001b[38;5;124m minutes, Benchmark Time Range: (\u001b[39m\u001b[38;5;132;01m{\u001b[39;00mmin_time\u001b[38;5;132;01m}\u001b[39;00m\u001b[38;5;124m, \u001b[39m\u001b[38;5;132;01m{\u001b[39;00mmax_time\u001b[38;5;132;01m}\u001b[39;00m\u001b[38;5;124m) minutes\u001b[39m\u001b[38;5;124m\"\u001b[39m)\n\u001b[0;32m     29\u001b[0m \u001b[38;5;66;03m# Assuming benchmark_times is defined as shown previously and od is your OriginDestination instance\u001b[39;00m\n\u001b[1;32m---> 30\u001b[0m \u001b[43mprint_calculated_vs_benchmark_times\u001b[49m\u001b[43m(\u001b[49m\u001b[43mod\u001b[49m\u001b[43m,\u001b[49m\u001b[43m \u001b[49m\u001b[43mbenchmark_times\u001b[49m\u001b[43m)\u001b[49m\n",
      "Cell \u001b[1;32mIn[31], line 6\u001b[0m, in \u001b[0;36mprint_calculated_vs_benchmark_times\u001b[1;34m(od, benchmark_times)\u001b[0m\n\u001b[0;32m      2\u001b[0m calculated_times \u001b[38;5;241m=\u001b[39m {}\n\u001b[0;32m      4\u001b[0m \u001b[38;5;28;01mfor\u001b[39;00m ((start_lat, start_lon), (end_lat, end_lon)), _ \u001b[38;5;129;01min\u001b[39;00m benchmark_times\u001b[38;5;241m.\u001b[39mitems():\n\u001b[0;32m      5\u001b[0m     \u001b[38;5;66;03m# Convert geographic coordinates to UTM and get the corresponding node\u001b[39;00m\n\u001b[1;32m----> 6\u001b[0m     start_x, start_y \u001b[38;5;241m=\u001b[39m \u001b[43mutils\u001b[49m\u001b[38;5;241;43m.\u001b[39;49m\u001b[43mgeographic_to_utm\u001b[49m\u001b[43m(\u001b[49m\u001b[43mstart_lon\u001b[49m\u001b[43m,\u001b[49m\u001b[43m \u001b[49m\u001b[43mstart_lat\u001b[49m\u001b[43m,\u001b[49m\u001b[43m \u001b[49m\u001b[43mod\u001b[49m\u001b[38;5;241;43m.\u001b[39;49m\u001b[43mutm_epsg\u001b[49m\u001b[43m)\u001b[49m\n\u001b[0;32m      7\u001b[0m     end_x, end_y \u001b[38;5;241m=\u001b[39m utils\u001b[38;5;241m.\u001b[39mgeographic_to_utm(end_lon, end_lat, od\u001b[38;5;241m.\u001b[39mutm_epsg)\n\u001b[0;32m      9\u001b[0m     start_node \u001b[38;5;241m=\u001b[39m get_node(od, start_x, start_y)\n",
      "File \u001b[1;32mc:\\Programming\\GitHub\\Data-Processing\\source\\analysis\\..\\utils.py:46\u001b[0m, in \u001b[0;36mgeographic_to_utm\u001b[1;34m(lon, lat, zone)\u001b[0m\n\u001b[0;32m     45\u001b[0m \u001b[38;5;28;01mdef\u001b[39;00m \u001b[38;5;21mgeographic_to_utm\u001b[39m(lon, lat, zone\u001b[38;5;241m=\u001b[39m\u001b[38;5;241m33\u001b[39m):\n\u001b[1;32m---> 46\u001b[0m     x, y, _, _, \u001b[38;5;241m=\u001b[39m \u001b[43mutm\u001b[49m\u001b[38;5;241;43m.\u001b[39;49m\u001b[43mfrom_latlon\u001b[49m\u001b[43m(\u001b[49m\u001b[43mlat\u001b[49m\u001b[43m,\u001b[49m\u001b[43m \u001b[49m\u001b[43mlon\u001b[49m\u001b[43m,\u001b[49m\u001b[43m \u001b[49m\u001b[43mzone\u001b[49m\u001b[43m)\u001b[49m\n\u001b[0;32m     47\u001b[0m     \u001b[38;5;28;01mreturn\u001b[39;00m x, y\n",
      "File \u001b[1;32mc:\\Programming\\GitHub\\Data-Processing\\.venv\\Lib\\site-packages\\utm\\conversion.py:233\u001b[0m, in \u001b[0;36mfrom_latlon\u001b[1;34m(latitude, longitude, force_zone_number, force_zone_letter)\u001b[0m\n\u001b[0;32m    231\u001b[0m     \u001b[38;5;28;01mraise\u001b[39;00m OutOfRangeError(\u001b[38;5;124m'\u001b[39m\u001b[38;5;124mlongitude out of range (must be between 180 deg W and 180 deg E)\u001b[39m\u001b[38;5;124m'\u001b[39m)\n\u001b[0;32m    232\u001b[0m \u001b[38;5;28;01mif\u001b[39;00m force_zone_number \u001b[38;5;129;01mis\u001b[39;00m \u001b[38;5;129;01mnot\u001b[39;00m \u001b[38;5;28;01mNone\u001b[39;00m:\n\u001b[1;32m--> 233\u001b[0m     \u001b[43mcheck_valid_zone\u001b[49m\u001b[43m(\u001b[49m\u001b[43mforce_zone_number\u001b[49m\u001b[43m,\u001b[49m\u001b[43m \u001b[49m\u001b[43mforce_zone_letter\u001b[49m\u001b[43m)\u001b[49m\n\u001b[0;32m    235\u001b[0m lat_rad \u001b[38;5;241m=\u001b[39m mathlib\u001b[38;5;241m.\u001b[39mradians(latitude)\n\u001b[0;32m    236\u001b[0m lat_sin \u001b[38;5;241m=\u001b[39m mathlib\u001b[38;5;241m.\u001b[39msin(lat_rad)\n",
      "File \u001b[1;32mc:\\Programming\\GitHub\\Data-Processing\\.venv\\Lib\\site-packages\\utm\\conversion.py:54\u001b[0m, in \u001b[0;36mcheck_valid_zone\u001b[1;34m(zone_number, zone_letter)\u001b[0m\n\u001b[0;32m     53\u001b[0m \u001b[38;5;28;01mdef\u001b[39;00m \u001b[38;5;21mcheck_valid_zone\u001b[39m(zone_number, zone_letter):\n\u001b[1;32m---> 54\u001b[0m     \u001b[38;5;28;01mif\u001b[39;00m \u001b[38;5;129;01mnot\u001b[39;00m \u001b[38;5;241;43m1\u001b[39;49m\u001b[43m \u001b[49m\u001b[38;5;241;43m<\u001b[39;49m\u001b[38;5;241;43m=\u001b[39;49m\u001b[43m \u001b[49m\u001b[43mzone_number\u001b[49m\u001b[43m \u001b[49m\u001b[38;5;241;43m<\u001b[39;49m\u001b[38;5;241;43m=\u001b[39;49m\u001b[43m \u001b[49m\u001b[38;5;241;43m60\u001b[39;49m:\n\u001b[0;32m     55\u001b[0m         \u001b[38;5;28;01mraise\u001b[39;00m OutOfRangeError(\u001b[38;5;124m'\u001b[39m\u001b[38;5;124mzone number out of range (must be between 1 and 60)\u001b[39m\u001b[38;5;124m'\u001b[39m)\n\u001b[0;32m     57\u001b[0m     \u001b[38;5;28;01mif\u001b[39;00m zone_letter:\n",
      "\u001b[1;31mTypeError\u001b[0m: '<=' not supported between instances of 'int' and 'str'"
     ]
    }
   ],
   "source": [
    "def print_calculated_vs_benchmark_times(od, benchmark_times):\n",
    "    calculated_times = {}\n",
    "\n",
    "    for ((start_lat, start_lon), (end_lat, end_lon)), _ in benchmark_times.items():\n",
    "        # Convert geographic coordinates to UTM and get the corresponding node\n",
    "        start_x, start_y = utils.geographic_to_utm(start_lon, start_lat, od.utm_epsg)\n",
    "        end_x, end_y = utils.geographic_to_utm(end_lon, end_lat, od.utm_epsg)\n",
    "\n",
    "        start_node = get_node(od, start_x, start_y)\n",
    "        end_node = get_node(od, end_x, end_y)\n",
    "\n",
    "        # Calculate the shortest path and total travel time\n",
    "        shortest_path = od.shortest_path(\n",
    "            od.graph,\n",
    "            start_node,\n",
    "            end_node,\n",
    "            weight='time'\n",
    "        )\n",
    "        total_travel_time = sum(od.graph[u][v][0]['time'] for u, v in zip(shortest_path[:-1], shortest_path[1:]))\n",
    "\n",
    "        # Store the calculated travel time\n",
    "        calculated_times[((start_lat, start_lon), (end_lat, end_lon))] = total_travel_time\n",
    "\n",
    "    # Print calculated times vs benchmark times\n",
    "    for path, (min_time, max_time) in benchmark_times.items():\n",
    "        calc_time = calculated_times[path]\n",
    "        print(f\"Coordinates: {path}, Calculated Ambulance Time: {calc_time:.2f} minutes, Benchmark Time Range: ({min_time}, {max_time}) minutes\")\n",
    "\n",
    "# Assuming benchmark_times is defined as shown previously and od is your OriginDestination instance\n",
    "print_calculated_vs_benchmark_times(od, benchmark_times)\n"
   ]
  }
 ],
 "metadata": {
  "kernelspec": {
   "display_name": ".venv",
   "language": "python",
   "name": "python3"
  },
  "language_info": {
   "codemirror_mode": {
    "name": "ipython",
    "version": 3
   },
   "file_extension": ".py",
   "mimetype": "text/x-python",
   "name": "python",
   "nbconvert_exporter": "python",
   "pygments_lexer": "ipython3",
   "version": "3.11.7"
  }
 },
 "nbformat": 4,
 "nbformat_minor": 2
}
