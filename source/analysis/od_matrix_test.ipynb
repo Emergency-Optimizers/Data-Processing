{
 "cells": [
  {
   "cell_type": "markdown",
   "metadata": {},
   "source": [
    "# Fix pathing"
   ]
  },
  {
   "cell_type": "code",
   "execution_count": 1,
   "metadata": {},
   "outputs": [],
   "source": [
    "import sys\n",
    "\n",
    "\n",
    "sys.path.append(\"..\")\n"
   ]
  },
  {
   "cell_type": "code",
   "execution_count": 2,
   "metadata": {},
   "outputs": [],
   "source": [
    "import constants\n",
    "\n",
    "import os\n",
    "\n",
    "\n",
    "constants.PROJECT_DIRECTORY_PATH = os.path.dirname(os.path.dirname(constants.PROJECT_DIRECTORY_PATH))\n"
   ]
  },
  {
   "cell_type": "markdown",
   "metadata": {},
   "source": [
    "# Imports"
   ]
  },
  {
   "cell_type": "code",
   "execution_count": 3,
   "metadata": {},
   "outputs": [],
   "source": [
    "import datahandler\n",
    "import utils\n",
    "import pathing\n",
    "\n",
    "import random\n",
    "import time\n",
    "\n",
    "import networkx\n",
    "import osmnx as ox\n",
    "import numpy as np\n",
    "import pandas as pd\n"
   ]
  },
  {
   "cell_type": "markdown",
   "metadata": {},
   "source": [
    "# Constants"
   ]
  },
  {
   "cell_type": "code",
   "execution_count": 4,
   "metadata": {},
   "outputs": [
    {
     "name": "stderr",
     "output_type": "stream",
     "text": [
      "Cleaning dataset: 100%|██████████| 2/2 [00:00<?, ?it/s]\n",
      "Processing dataset: 100%|██████████| 2/2 [00:00<?, ?it/s]\n",
      "Enhancing dataset: 100%|██████████| 2/2 [00:00<?, ?it/s]\n"
     ]
    }
   ],
   "source": [
    "data_preprocessor = datahandler.DataPreprocessorOUS_V2()\n",
    "data_preprocessor.execute()\n",
    "\n",
    "data_loader = datahandler.DataLoader(datahandler.DataPreprocessorOUS_V2)\n",
    "data_loader.execute(clean=False, processed=False, enhanced=False)"
   ]
  },
  {
   "cell_type": "markdown",
   "metadata": {},
   "source": [
    "# Methods"
   ]
  },
  {
   "cell_type": "code",
   "execution_count": 5,
   "metadata": {},
   "outputs": [],
   "source": [
    "def fix_lat_lon(benchmark_times):\n",
    "    new_benchmark_times = {}\n",
    "\n",
    "    for ((start_lat, start_lon), (end_lat, end_lon)), benchmark in benchmark_times.items():\n",
    "        new_benchmark_times[((start_lon, start_lat), (end_lon, end_lat))] = benchmark\n",
    "\n",
    "    return new_benchmark_times"
   ]
  },
  {
   "cell_type": "code",
   "execution_count": 6,
   "metadata": {},
   "outputs": [],
   "source": [
    "\n",
    "# times from Google Maps (Sunday, start at 02:00)\n",
    "benchmark_times = {\n",
    "    ((59.9369806, 10.7343661), (59.6800045, 10.6572104)): (35, 45),\n",
    "    ((59.93596, 10.73244), (59.92629, 10.77570)): (4, 9),\n",
    "    ((59.90864, 10.73921), (59.93037, 10.77273)): (9, 16),\n",
    "    ((59.92727, 10.73174), (59.86305, 10.66617)): (50, 60),\n",
    "    ((59.82052, 10.47168), (59.95577, 11.04773)): (40, 50),\n",
    "    ((60.00352, 10.76216), (59.83905, 10.80742)): (28, 28),\n",
    "\n",
    "    ((60.31262, 11.14674), (60.11964, 11.47577)): (40, 40),\n",
    "    ((60.11964, 11.47577), (60.13423, 11.166858)): (22, 26),\n",
    "    ((60.13423, 11.166858), (59.879044, 11.561687)): (50, 50),\n",
    "    ((59.879044, 11.561687), (59.932076, 10.987775)): (40, 40),\n",
    "    ((59.932076, 10.987775), (60.042152, 10.880784)): (20, 22),\n",
    "    ((60.042152, 10.880784), (59.930733, 10.831094)): (20, 20),\n",
    "    ((59.930733, 10.831094), (59.917, 10.758744)): (9, 14),\n",
    "    ((59.917, 10.758744), (59.93917, 10.741926)): (7, 14),\n",
    "    ((59.93917, 10.741926), (59.71566, 10.853331)): (35, 35),\n",
    "    ((59.71566, 10.853331), (59.659687, 10.725881)): (18, 18),\n",
    "    ((59.659687, 10.725881), (59.833073, 10.806946)): (22, 22),\n",
    "    ((59.833073, 10.806946), (59.830055, 10.439887)): (30, 40),\n",
    "    ((59.830055, 10.439887), (59.89813, 10.509723)): (14, 14),\n",
    "    ((59.89813, 10.509723), (59.939663, 10.687367)): (16, 20),\n",
    "    ((59.939663, 10.687367), (59.893173, 10.806364)): (12, 16),\n",
    "    ((59.893173, 10.806364), (59.960304, 10.884091)): (12, 18),\n",
    "    ((59.960304, 10.884091), (59.997875, 11.03928)): (20, 20),\n",
    "    ((59.997875, 11.03928), (59.917873, 10.585751)): (28, 35),\n",
    "    ((59.917873, 10.585751), (60.31262, 11.14674)): (55, 65),\n",
    "}\n",
    "\n",
    "benchmark_times = fix_lat_lon(benchmark_times)\n",
    "\n"
   ]
  },
  {
   "cell_type": "code",
   "execution_count": 38,
   "metadata": {},
   "outputs": [],
   "source": [
    "# times from Google Maps (Sunday, start at 02:00)\n",
    "test_benchmark_times = {\n",
    "    ((59.92289773858113, 10.679167138180098), (59.920308050739855, 10.770082007256002)): (10, 16),\n",
    "    ((59.95345016032127, 10.760869824639984), (59.88350174573856, 10.77162290351496)): (20,24),\n",
    "    ((59.857600021161346, 10.43132928126165), (60.05149938976296, 10.83919667864857)): (40, 50),\n",
    "    ((60.053190496575645, 10.854342819294414), (59.9274978707624, 11.185305926264945)): (30, 30),\n",
    "    ((59.809771557951564, 10.760794771211929), (60.148013543553006, 11.296246670387003)): (44, 44),\n",
    "}\n",
    "\n",
    "test_benchmark_times = fix_lat_lon(test_benchmark_times)\n"
   ]
  },
  {
   "cell_type": "code",
   "execution_count": 7,
   "metadata": {},
   "outputs": [],
   "source": [
    "def get_node(od: pathing.OriginDestination, x, y):\n",
    "    if (x, y) in od.node_cache:\n",
    "        return od.node_cache[(x, y)]\n",
    "    \n",
    "    while True:\n",
    "        node = ox.distance.nearest_nodes(od.graph, x, y)\n",
    "        if networkx.has_path(od.graph, node, od.node_validator) and networkx.has_path(od.graph, od.node_validator, node):\n",
    "            od.node_cache[(x, y)] = node\n",
    "            return node\n",
    "        else:\n",
    "            od.graph.remove_node(node)\n"
   ]
  },
  {
   "cell_type": "code",
   "execution_count": 33,
   "metadata": {},
   "outputs": [],
   "source": [
    "def calculate_error(od: pathing.OriginDestination, benchmark_times):\n",
    "    calculated_times = {}\n",
    "    \n",
    "    # Assuming utils and get_node functions are defined and work as intended\n",
    "    for ((start_lon, start_lat), (end_lon, end_lat)), _ in benchmark_times.items():\n",
    "        # Convert geographic coordinates to UTM and get the corresponding node\n",
    "        start_x, start_y = utils.geographic_to_utm(start_lon, start_lat)\n",
    "        end_x, end_y = utils.geographic_to_utm(end_lon, end_lat)\n",
    "\n",
    "        start_node = get_node(od, start_x, start_y)\n",
    "        end_node = get_node(od, end_x, end_y)\n",
    "\n",
    "        # Calculate the shortest path and total travel time\n",
    "        shortest_time_path = ox.shortest_path(\n",
    "            od.graph,\n",
    "            start_node,\n",
    "            end_node,\n",
    "            weight='time'\n",
    "        )\n",
    "        total_travel_time = sum(od.graph[u][v][0]['time'] for u, v in zip(shortest_time_path[:-1], shortest_time_path[1:]))\n",
    "\n",
    "        # Store the calculated travel time\n",
    "        calculated_times[((start_lon, start_lat), (end_lon, end_lat))] = total_travel_time\n",
    "\n",
    "    # Calculate MSE\n",
    "    errors = []\n",
    "\n",
    "    for path, acceptable_range in benchmark_times.items():\n",
    "        calculated_time = calculated_times[path]\n",
    "        lower_bound, upper_bound = acceptable_range\n",
    "\n",
    "        # Check if the calculated time falls within the acceptable range\n",
    "        if lower_bound <= calculated_time <= upper_bound:\n",
    "            error = 0\n",
    "        else:\n",
    "            # If outside the range, find the smallest absolute difference to the bounds\n",
    "            error = min(abs(calculated_time - lower_bound), abs(calculated_time - upper_bound))\n",
    "        \n",
    "        errors.append(error)\n",
    "\n",
    "    mse = sum(error ** 2 for error in errors) / len(errors)\n",
    "    \n",
    "    return calculated_times\n"
   ]
  },
  {
   "cell_type": "code",
   "execution_count": 9,
   "metadata": {},
   "outputs": [],
   "source": [
    "def get_node(od: pathing.OriginDestination, x, y):\n",
    "    if (x, y) in od.node_cache:\n",
    "        return od.node_cache[(x, y)]\n",
    "    \n",
    "    while True:\n",
    "        node = ox.distance.nearest_nodes(od.graph, x, y)\n",
    "        if networkx.has_path(od.graph, node, od.node_validator) and networkx.has_path(od.graph, od.node_validator, node):\n",
    "            od.node_cache[(x, y)] = node\n",
    "            return node\n",
    "        else:\n",
    "            od.graph.remove_node(node)\n"
   ]
  },
  {
   "cell_type": "markdown",
   "metadata": {},
   "source": [
    "# Main"
   ]
  },
  {
   "cell_type": "code",
   "execution_count": 17,
   "metadata": {},
   "outputs": [],
   "source": [
    "default_intersection_penalty = 2\n",
    "traffic_signal_penalty = 5\n",
    "use_ambulance_speeds=False\n",
    "road_type_factors= {\n",
    "        \"motorway\": 0.9704026402720763,\n",
    "        \"trunk\": 0.9872728848094453,\n",
    "        \"primary\": 0.9434615680765118,\n",
    "        \"secondary\": 0.49062545330175955,\n",
    "        \"tertiary\": 0.9327873614166583,\n",
    "        \"unclassified\": 0.8502498894729571,\n",
    "        \"residential\": 0.7543590170147566,\n",
    "        \"living_street\": 0.8078248863334735,\n",
    "    }"
   ]
  },
  {
   "cell_type": "code",
   "execution_count": 18,
   "metadata": {},
   "outputs": [],
   "source": [
    "od = pathing.OriginDestination(\n",
    "    dataset_id=\"oslo\",\n",
    "    utm_epsg=f\"EPSG:326{33}\"\n",
    ")"
   ]
  },
  {
   "cell_type": "code",
   "execution_count": 34,
   "metadata": {},
   "outputs": [],
   "source": [
    "od.get_graph()"
   ]
  },
  {
   "cell_type": "code",
   "execution_count": 39,
   "metadata": {},
   "outputs": [],
   "source": [
    "od.set_graph_weights_v2(default_intersection_penalty, traffic_signal_penalty, road_type_factors, use_ambulance_speeds)\n",
    "calculated_times = calculate_error(od, test_benchmark_times)\n",
    "\n",
    "od.set_graph_weights_v2(default_intersection_penalty, traffic_signal_penalty, road_type_factors, use_ambulance_speeds=True)\n",
    "calculated_ambulance_times = calculate_error(od, test_benchmark_times)"
   ]
  },
  {
   "cell_type": "code",
   "execution_count": 41,
   "metadata": {},
   "outputs": [
    {
     "name": "stdout",
     "output_type": "stream",
     "text": [
      "Path ((10.679167138180098, 59.92289773858113), (10.770082007256002, 59.920308050739855)):\n",
      "  Benchmark Time: 10 to 16 minutes\n",
      "  Computed Car Time: 9.84 minutes\n",
      "  Computed Ambulance Time: 8.35 minutes\n",
      "\n",
      "Path ((10.760869824639984, 59.95345016032127), (10.77162290351496, 59.88350174573856)):\n",
      "  Benchmark Time: 20 to 24 minutes\n",
      "  Computed Car Time: 12.14 minutes\n",
      "  Computed Ambulance Time: 9.37 minutes\n",
      "\n",
      "Path ((10.43132928126165, 59.857600021161346), (10.83919667864857, 60.05149938976296)):\n",
      "  Benchmark Time: 40 to 50 minutes\n",
      "  Computed Car Time: 52.75 minutes\n",
      "  Computed Ambulance Time: 42.56 minutes\n",
      "\n",
      "Path ((10.854342819294414, 60.053190496575645), (11.185305926264945, 59.9274978707624)):\n",
      "  Benchmark Time: 30 to 30 minutes\n",
      "  Computed Car Time: 27.55 minutes\n",
      "  Computed Ambulance Time: 20.55 minutes\n",
      "\n",
      "Path ((10.760794771211929, 59.809771557951564), (11.296246670387003, 60.148013543553006)):\n",
      "  Benchmark Time: 44 to 44 minutes\n",
      "  Computed Car Time: 54.95 minutes\n",
      "  Computed Ambulance Time: 44.34 minutes\n",
      "\n"
     ]
    }
   ],
   "source": [
    "def compare_times(od, benchmark_times, normal_times, ambulance_times):\n",
    "    # Calculate computed car times just like before, if not already calculated\n",
    "    computed_car_times = {}\n",
    "    for ((start_lon, start_lat), (end_lon, end_lat)) in benchmark_times.keys():\n",
    "        start_x, start_y = utils.geographic_to_utm(start_lon, start_lat)\n",
    "        end_x, end_y = utils.geographic_to_utm(end_lon, end_lat)\n",
    "        \n",
    "        start_node = get_node(od, start_x, start_y)\n",
    "        end_node = get_node(od, end_x, end_y)\n",
    "        \n",
    "        shortest_time_path = ox.shortest_path(\n",
    "            od.graph,\n",
    "            start_node,\n",
    "            end_node,\n",
    "            weight='time'\n",
    "        )\n",
    "        total_travel_time = sum(od.graph[u][v][0]['time'] for u, v in zip(shortest_time_path[:-1], shortest_time_path[1:]))\n",
    "        computed_car_times[((start_lon, start_lat), (end_lon, end_lat))] = total_travel_time\n",
    "    \n",
    "    # Now, compare benchmark, normal_times (computed car times), and ambulance_times\n",
    "    for path, benchmark_range in benchmark_times.items():\n",
    "        bench_low, bench_high = benchmark_range\n",
    "        try:\n",
    "            car_time = normal_times[path]\n",
    "        except KeyError:\n",
    "            car_time = 0\n",
    "        ambulance_time = ambulance_times.get(path, 0)\n",
    "        \n",
    "        print(f\"Path {path}:\")\n",
    "        print(f\"  Benchmark Time: {bench_low} to {bench_high} minutes\")\n",
    "        print(f\"  Computed Car Time: {car_time:.2f} minutes\")\n",
    "        print(f\"  Computed Ambulance Time: {ambulance_time:.2f} minutes\\n\")\n",
    "\n",
    "compare_times(od, test_benchmark_times, calculated_times, calculated_ambulance_times)\n"
   ]
  }
 ],
 "metadata": {
  "kernelspec": {
   "display_name": ".venv",
   "language": "python",
   "name": "python3"
  },
  "language_info": {
   "codemirror_mode": {
    "name": "ipython",
    "version": 3
   },
   "file_extension": ".py",
   "mimetype": "text/x-python",
   "name": "python",
   "nbconvert_exporter": "python",
   "pygments_lexer": "ipython3",
   "version": "3.11.7"
  }
 },
 "nbformat": 4,
 "nbformat_minor": 2
}
