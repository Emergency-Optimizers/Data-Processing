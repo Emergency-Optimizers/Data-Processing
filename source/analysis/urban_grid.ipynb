{
 "cells": [
  {
   "cell_type": "code",
   "execution_count": null,
   "metadata": {},
   "outputs": [],
   "source": [
    "import sys\n",
    "\n",
    "\n",
    "sys.path.append(\"..\")\n"
   ]
  },
  {
   "cell_type": "code",
   "execution_count": null,
   "metadata": {},
   "outputs": [],
   "source": [
    "import constants\n",
    "import os\n",
    "\n",
    "\n",
    "constants.PROJECT_DIRECTORY_PATH = os.path.dirname(os.path.dirname(constants.PROJECT_DIRECTORY_PATH))\n"
   ]
  },
  {
   "cell_type": "code",
   "execution_count": null,
   "metadata": {},
   "outputs": [],
   "source": [
    "import datahandler\n",
    "import geopandas as gpd\n",
    "import matplotlib.pyplot as plt\n",
    "import pandas as pd \n",
    "import folium\n",
    "\n",
    "dataset_id = \"oslo\"\n",
    "\n",
    "data_preprocessor = datahandler.DataPreprocessorOUS()\n",
    "data_preprocessor.execute()\n",
    "\n",
    "data_loader = datahandler.DataLoader()\n",
    "data_loader.execute()\n",
    "\n",
    "df = data_loader.enhanced_incidents_df\n"
   ]
  },
  {
   "cell_type": "code",
   "execution_count": null,
   "metadata": {},
   "outputs": [],
   "source": [
    "# Step 1: Load the GeoJSON files into GeoDataFrames\n",
    "akershus_gdf = gpd.read_file(os.path.join(constants.PROJECT_DIRECTORY_PATH, \"data\", \"ssb_2019_akershus_polygon_epsg4326.geojson\"))\n",
    "oslo_gdf = gpd.read_file(os.path.join(constants.PROJECT_DIRECTORY_PATH, \"data\", \"ssb_2019_oslo_polygon_epsg4326.geojson\"))\n",
    "urban_settlements_gdf = gpd.read_file(os.path.join(constants.PROJECT_DIRECTORY_PATH, \"data\", \"ssb_2021_urban_settlements_polygon_epsg4326.geojson\"))\n",
    "\n",
    "# Step 2: Combine Akershus and Oslo GeoDataFrames\n",
    "combined_gdf = gpd.GeoDataFrame(pd.concat([akershus_gdf, oslo_gdf], ignore_index=True))\n",
    "\n",
    "# Step 3: Perform the spatial join\n",
    "urban_clipped_akershus_oslo = gpd.overlay(urban_settlements_gdf, combined_gdf, how='intersection')"
   ]
  },
  {
   "cell_type": "code",
   "execution_count": null,
   "metadata": {},
   "outputs": [],
   "source": [
    "import seaborn as sns\n",
    "\n",
    "m = folium.Map(location=[59.9139, 10.7522], zoom_start=10)  # Coordinates for Oslo\n",
    "\n",
    "akershus_gdf['dissolve_field'] = 'Region'\n",
    "oslo_gdf['dissolve_field'] = 'Region'\n",
    "combined_gdf = pd.concat([akershus_gdf, oslo_gdf], ignore_index=True)\n",
    "dissolved_gdf = combined_gdf.dissolve(by='dissolve_field')\n",
    "\n",
    "oslo_akershus_geojson = dissolved_gdf.to_json()\n",
    "urban_clipped_geojson = urban_clipped_akershus_oslo.to_json()\n",
    "\n",
    "palette = sns.color_palette(\"husl\", 4)  # \"husl\" is just an example, and 2 is the number of colors you want\n",
    "region_color = palette.as_hex()[1]\n",
    "urban_color = palette.as_hex()[0]\n",
    "\n",
    "folium.GeoJson(\n",
    "    oslo_akershus_geojson,\n",
    "    name='Oslo og Akershus',\n",
    "    style_function=lambda x: {'fillColor': region_color, 'color': region_color}\n",
    ").add_to(m)\n",
    "\n",
    "folium.GeoJson(\n",
    "    urban_clipped_geojson,\n",
    "    name='Urban Settlements Clipped',\n",
    "    style_function=lambda x: {'fillColor': urban_color, 'color': urban_color}\n",
    ").add_to(m)\n",
    "\n",
    "folium.LayerControl().add_to(m)\n",
    "\n",
    "m\n"
   ]
  },
  {
   "cell_type": "code",
   "execution_count": null,
   "metadata": {},
   "outputs": [],
   "source": [
    "CODE HERE"
   ]
  }
 ],
 "metadata": {
  "kernelspec": {
   "display_name": ".venv",
   "language": "python",
   "name": "python3"
  },
  "language_info": {
   "codemirror_mode": {
    "name": "ipython",
    "version": 3
   },
   "file_extension": ".py",
   "mimetype": "text/x-python",
   "name": "python",
   "nbconvert_exporter": "python",
   "pygments_lexer": "ipython3",
   "version": "3.11.7"
  }
 },
 "nbformat": 4,
 "nbformat_minor": 2
}
