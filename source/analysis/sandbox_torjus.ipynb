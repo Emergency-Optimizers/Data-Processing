{
 "cells": [
  {
   "cell_type": "markdown",
   "metadata": {},
   "source": [
    "# Fix pathing"
   ]
  },
  {
   "cell_type": "code",
   "execution_count": 1,
   "metadata": {},
   "outputs": [],
   "source": [
    "import sys\n",
    "\n",
    "\n",
    "sys.path.append(\"..\")\n"
   ]
  },
  {
   "cell_type": "code",
   "execution_count": 2,
   "metadata": {},
   "outputs": [],
   "source": [
    "import constants\n",
    "import os\n",
    "\n",
    "\n",
    "constants.PROJECT_DIRECTORY_PATH = os.path.dirname(os.path.dirname(constants.PROJECT_DIRECTORY_PATH))\n"
   ]
  },
  {
   "cell_type": "markdown",
   "metadata": {},
   "source": [
    "# Init"
   ]
  },
  {
   "cell_type": "code",
   "execution_count": 3,
   "metadata": {},
   "outputs": [
    {
     "name": "stderr",
     "output_type": "stream",
     "text": [
      "Cleaning dataset: 100%|██████████| 2/2 [00:00<?, ?it/s]\n",
      "Processing dataset: 100%|██████████| 2/2 [00:00<?, ?it/s]\n",
      "Enhancing dataset: 100%|██████████| 2/2 [00:00<?, ?it/s]\n",
      "Loading dataset: 100%|██████████| 6/6 [00:11<00:00,  2.00s/it]\n"
     ]
    }
   ],
   "source": [
    "import datahandler\n",
    "\n",
    "\n",
    "dataset_id = \"oslo\"\n",
    "\n",
    "data_preprocessor = datahandler.DataPreprocessorOUS(dataset_id)\n",
    "data_preprocessor.execute()\n",
    "\n",
    "data_loader = datahandler.DataLoader(dataset_id)\n",
    "data_loader.execute()\n"
   ]
  },
  {
   "cell_type": "code",
   "execution_count": 4,
   "metadata": {},
   "outputs": [],
   "source": [
    "import constants\n",
    "import seaborn as sns\n",
    "import pandas as pd\n",
    "import numpy as np\n",
    "import matplotlib.pyplot as plt\n",
    "\n",
    "COLOR_PALETTE = constants.COLOR_MAPPING_DEEP"
   ]
  },
  {
   "cell_type": "markdown",
   "metadata": {},
   "source": [
    "# Plot"
   ]
  },
  {
   "cell_type": "code",
   "execution_count": 5,
   "metadata": {},
   "outputs": [
    {
     "data": {
      "text/plain": [
       "\"# Initialize figure\\nplt.figure(figsize=(10, 6))\\n\\ndf = data_loader.enhanced_incidents_df\\ntriage_counts = df['triage_impression_during_call'].value_counts()\\n\\n# Pre-filter data for each category and for response_time_sec < 10800\\nfiltered_data = {cat: df[(df['triage_impression_during_call'] == cat) & (df['response_time_sec'] < 10800) & (df['response_time_sec'] > 0)]['response_time_sec'] for cat in triage_counts.index}\\n\\n# Plot histogram for each category using the custom color palette\\nfor cat in triage_counts.index:\\n    sns.histplot(filtered_data[cat], kde=False, label=cat, color=COLOR_PALETTE[cat])\\n\\n# Add labels and title\\nplt.xlabel('Response Time (seconds)')\\nplt.ylabel('Frequency')\\nplt.title('Distribution of Response Times by Triage Category (< 10800 seconds)')\\nplt.legend(title='Categories')\\n\\n# Show the plot\\nplt.show()\""
      ]
     },
     "execution_count": 5,
     "metadata": {},
     "output_type": "execute_result"
    }
   ],
   "source": [
    "\"\"\"# Initialize figure\n",
    "plt.figure(figsize=(10, 6))\n",
    "\n",
    "df = data_loader.enhanced_incidents_df\n",
    "triage_counts = df['triage_impression_during_call'].value_counts()\n",
    "\n",
    "# Pre-filter data for each category and for response_time_sec < 10800\n",
    "filtered_data = {cat: df[(df['triage_impression_during_call'] == cat) & (df['response_time_sec'] < 10800) & (df['response_time_sec'] > 0)]['response_time_sec'] for cat in triage_counts.index}\n",
    "\n",
    "# Plot histogram for each category using the custom color palette\n",
    "for cat in triage_counts.index:\n",
    "    sns.histplot(filtered_data[cat], kde=False, label=cat, color=COLOR_PALETTE[cat])\n",
    "\n",
    "# Add labels and title\n",
    "plt.xlabel('Response Time (seconds)')\n",
    "plt.ylabel('Frequency')\n",
    "plt.title('Distribution of Response Times by Triage Category (< 10800 seconds)')\n",
    "plt.legend(title='Categories')\n",
    "\n",
    "# Show the plot\n",
    "plt.show()\"\"\""
   ]
  },
  {
   "cell_type": "code",
   "execution_count": 6,
   "metadata": {},
   "outputs": [
    {
     "data": {
      "text/plain": [
       "\"# Initialize figure\\nplt.figure(figsize=(10, 6))\\n\\nnew_df = df\\ncategories = ['Critical', 'High Priority']\\n# Pre-filter data for each category and for response_time_sec < 10800\\nfiltered_data = {cat: new_df[(new_df['triage_impression_during_call'] == cat) & (new_df['response_time_sec'] < 8000) & (new_df['response_time_sec'] > 0)]['response_time_sec'] for cat in categories}\\n\\n# Plot histogram for each category using the custom color palette\\nfor cat in categories:\\n    sns.histplot(filtered_data[cat], kde=False, label=cat, color=COLOR_PALETTE[cat])\\n\\n# Add labels and title\\nplt.xlabel('Response Time (seconds)')\\nplt.ylabel('Frequency')\\nplt.title('Distribution of Response Times by Triage Category (< 10800 seconds)')\\nplt.legend(title='Categories')\\n\\n# Show the plot\\nplt.show()\""
      ]
     },
     "execution_count": 6,
     "metadata": {},
     "output_type": "execute_result"
    }
   ],
   "source": [
    "\"\"\"# Initialize figure\n",
    "plt.figure(figsize=(10, 6))\n",
    "\n",
    "new_df = df\n",
    "categories = ['Critical', 'High Priority']\n",
    "# Pre-filter data for each category and for response_time_sec < 10800\n",
    "filtered_data = {cat: new_df[(new_df['triage_impression_during_call'] == cat) & (new_df['response_time_sec'] < 8000) & (new_df['response_time_sec'] > 0)]['response_time_sec'] for cat in categories}\n",
    "\n",
    "# Plot histogram for each category using the custom color palette\n",
    "for cat in categories:\n",
    "    sns.histplot(filtered_data[cat], kde=False, label=cat, color=COLOR_PALETTE[cat])\n",
    "\n",
    "# Add labels and title\n",
    "plt.xlabel('Response Time (seconds)')\n",
    "plt.ylabel('Frequency')\n",
    "plt.title('Distribution of Response Times by Triage Category (< 10800 seconds)')\n",
    "plt.legend(title='Categories')\n",
    "\n",
    "# Show the plot\n",
    "plt.show()\"\"\""
   ]
  },
  {
   "cell_type": "code",
   "execution_count": 7,
   "metadata": {},
   "outputs": [
    {
     "ename": "NameError",
     "evalue": "name 'stats_dict_bad_values' is not defined",
     "output_type": "error",
     "traceback": [
      "\u001b[1;31m---------------------------------------------------------------------------\u001b[0m",
      "\u001b[1;31mNameError\u001b[0m                                 Traceback (most recent call last)",
      "\u001b[1;32mc:\\Programming\\GitHub projects\\Data-Processing\\source\\analysis\\sandbox_torjus.ipynb Cell 10\u001b[0m line \u001b[0;36m1\n\u001b[0;32m     <a href='vscode-notebook-cell:/c%3A/Programming/GitHub%20projects/Data-Processing/source/analysis/sandbox_torjus.ipynb#X30sZmlsZQ%3D%3D?line=9'>10</a>\u001b[0m plt\u001b[39m.\u001b[39mfigure(figsize\u001b[39m=\u001b[39m(\u001b[39m18\u001b[39m, \u001b[39m12\u001b[39m))\n\u001b[0;32m     <a href='vscode-notebook-cell:/c%3A/Programming/GitHub%20projects/Data-Processing/source/analysis/sandbox_torjus.ipynb#X30sZmlsZQ%3D%3D?line=11'>12</a>\u001b[0m \u001b[39m# Loop through the columns and plot the distribution of \"good\" time differences\u001b[39;00m\n\u001b[1;32m---> <a href='vscode-notebook-cell:/c%3A/Programming/GitHub%20projects/Data-Processing/source/analysis/sandbox_torjus.ipynb#X30sZmlsZQ%3D%3D?line=12'>13</a>\u001b[0m \u001b[39mfor\u001b[39;00m i, (key, _) \u001b[39min\u001b[39;00m \u001b[39menumerate\u001b[39m(stats_dict_bad_values\u001b[39m.\u001b[39mitems()):\n\u001b[0;32m     <a href='vscode-notebook-cell:/c%3A/Programming/GitHub%20projects/Data-Processing/source/analysis/sandbox_torjus.ipynb#X30sZmlsZQ%3D%3D?line=13'>14</a>\u001b[0m     col1, col2 \u001b[39m=\u001b[39m key\u001b[39m.\u001b[39msplit(\u001b[39m\"\u001b[39m\u001b[39m > \u001b[39m\u001b[39m\"\u001b[39m)\n\u001b[0;32m     <a href='vscode-notebook-cell:/c%3A/Programming/GitHub%20projects/Data-Processing/source/analysis/sandbox_torjus.ipynb#X30sZmlsZQ%3D%3D?line=15'>16</a>\u001b[0m     \u001b[39m# Calculate time difference for good values in seconds\u001b[39;00m\n",
      "\u001b[1;31mNameError\u001b[0m: name 'stats_dict_bad_values' is not defined"
     ]
    },
    {
     "data": {
      "text/plain": [
       "<Figure size 1800x1200 with 0 Axes>"
      ]
     },
     "metadata": {},
     "output_type": "display_data"
    }
   ],
   "source": [
    "test_df = data_loader.processed_incidents_df\n",
    "\n",
    "# Convert all time columns to datetime format\n",
    "time_columns = [\n",
    "    'time_call_received', 'time_call_processed', 'time_ambulance_notified',\n",
    "    'time_dispatch', 'time_arrival_scene', 'time_departure_scene',\n",
    "    'time_arrival_hospital', 'time_available'\n",
    "]\n",
    "# Initialize the figure\n",
    "plt.figure(figsize=(18, 12))\n",
    "\n",
    "# Loop through the columns and plot the distribution of \"good\" time differences\n",
    "for i, (key, _) in enumerate(stats_dict_bad_values.items()):\n",
    "    col1, col2 = key.split(\" > \")\n",
    "    \n",
    "    # Calculate time difference for good values in seconds\n",
    "    time_diff_series_bad = (df_sample[df_sample[col1] > df_sample[col2]][col2] - \n",
    "                             df_sample[df_sample[col1] > df_sample[col2]][col1]).dt.total_seconds()\n",
    "    \n",
    "    plt.subplot(3, 3, i + 1)\n",
    "    sns.histplot(time_diff_series_bad, bins=50, kde=False)\n",
    "    plt.title(f'Distribution of {key}')\n",
    "    plt.xlabel('Time Difference (seconds)')\n",
    "    plt.ylabel('Frequency')\n",
    "\n",
    "plt.tight_layout()\n",
    "plt.show()"
   ]
  },
  {
   "cell_type": "code",
   "execution_count": null,
   "metadata": {},
   "outputs": [
    {
     "data": {
      "text/plain": [
       "{'time_call_processed before time_call_received': 69700,\n",
       " 'time_ambulance_notified before time_call_processed': 7688,\n",
       " 'time_dispatch before time_ambulance_notified': 13,\n",
       " 'time_arrival_scene before time_dispatch': 34,\n",
       " 'time_departure_scene before time_arrival_scene': 2,\n",
       " 'time_arrival_hospital before time_departure_scene': 2,\n",
       " 'time_available before time_arrival_hospital': 34}"
      ]
     },
     "execution_count": 29,
     "metadata": {},
     "output_type": "execute_result"
    }
   ],
   "source": [
    "# Sample code to check if there are any rows where time2 is before time1 in a DataFrame\n",
    "test_df = data_loader.processed_incidents_df\n",
    "\n",
    "# Initialize a dictionary to store counts of such instances for each pair of time columns\n",
    "count_dict = {}\n",
    "time_columns = [\n",
    "    'time_call_received', 'time_call_processed', 'time_ambulance_notified',\n",
    "    'time_dispatch', 'time_arrival_scene', 'time_departure_scene',\n",
    "    'time_arrival_hospital', 'time_available'\n",
    "]\n",
    "\n",
    "# Loop through adjacent pairs of time columns to check\n",
    "for i in range(len(time_columns) - 1):\n",
    "    col1 = time_columns[i]\n",
    "    col2 = time_columns[i + 1]\n",
    "    \n",
    "    # Count the number of rows where time2 is before time1\n",
    "    count = len(test_df[test_df[col1] > test_df[col2]])\n",
    "    \n",
    "    # Store the count in the dictionary\n",
    "    count_dict[f\"{col2} before {col1}\"] = count\n",
    "\n",
    "count_dict"
   ]
  },
  {
   "cell_type": "code",
   "execution_count": null,
   "metadata": {},
   "outputs": [
    {
     "ename": "NameError",
     "evalue": "name 'stats_dict_bad_values' is not defined",
     "output_type": "error",
     "traceback": [
      "\u001b[1;31m---------------------------------------------------------------------------\u001b[0m",
      "\u001b[1;31mNameError\u001b[0m                                 Traceback (most recent call last)",
      "\u001b[1;32mc:\\Programming\\GitHub projects\\Data-Processing\\source\\analysis\\sandbox_torjus.ipynb Cell 12\u001b[0m line \u001b[0;36m1\n\u001b[0;32m      <a href='vscode-notebook-cell:/c%3A/Programming/GitHub%20projects/Data-Processing/source/analysis/sandbox_torjus.ipynb#X33sZmlsZQ%3D%3D?line=7'>8</a>\u001b[0m plt\u001b[39m.\u001b[39mfigure(figsize\u001b[39m=\u001b[39m(\u001b[39m18\u001b[39m, \u001b[39m12\u001b[39m))\n\u001b[0;32m     <a href='vscode-notebook-cell:/c%3A/Programming/GitHub%20projects/Data-Processing/source/analysis/sandbox_torjus.ipynb#X33sZmlsZQ%3D%3D?line=10'>11</a>\u001b[0m \u001b[39m# Loop through the columns and plot the distribution of \"good\" time differences\u001b[39;00m\n\u001b[1;32m---> <a href='vscode-notebook-cell:/c%3A/Programming/GitHub%20projects/Data-Processing/source/analysis/sandbox_torjus.ipynb#X33sZmlsZQ%3D%3D?line=11'>12</a>\u001b[0m \u001b[39mfor\u001b[39;00m i, (key, _) \u001b[39min\u001b[39;00m \u001b[39menumerate\u001b[39m(stats_dict_bad_values\u001b[39m.\u001b[39mitems()):\n\u001b[0;32m     <a href='vscode-notebook-cell:/c%3A/Programming/GitHub%20projects/Data-Processing/source/analysis/sandbox_torjus.ipynb#X33sZmlsZQ%3D%3D?line=12'>13</a>\u001b[0m     col1, col2 \u001b[39m=\u001b[39m key\u001b[39m.\u001b[39msplit(\u001b[39m\"\u001b[39m\u001b[39m > \u001b[39m\u001b[39m\"\u001b[39m)\n\u001b[0;32m     <a href='vscode-notebook-cell:/c%3A/Programming/GitHub%20projects/Data-Processing/source/analysis/sandbox_torjus.ipynb#X33sZmlsZQ%3D%3D?line=14'>15</a>\u001b[0m     \u001b[39m# Calculate time difference for good values in seconds\u001b[39;00m\n",
      "\u001b[1;31mNameError\u001b[0m: name 'stats_dict_bad_values' is not defined"
     ]
    },
    {
     "data": {
      "text/plain": [
       "<Figure size 1800x1200 with 0 Axes>"
      ]
     },
     "metadata": {},
     "output_type": "display_data"
    }
   ],
   "source": [
    "# Convert all time columns to datetime format\n",
    "time_columns = [\n",
    "    'time_call_received', 'time_call_processed', 'time_ambulance_notified',\n",
    "    'time_dispatch', 'time_arrival_scene', 'time_departure_scene',\n",
    "    'time_arrival_hospital', 'time_available'\n",
    "]\n",
    "# Initialize the figure\n",
    "plt.figure(figsize=(18, 12))\n",
    "\n",
    "\n",
    "# Loop through the columns and plot the distribution of \"good\" time differences\n",
    "for i, (key, _) in enumerate(stats_dict_bad_values.items()):\n",
    "    col1, col2 = key.split(\" > \")\n",
    "    \n",
    "    # Calculate time difference for good values in seconds\n",
    "    time_diff_series_bad = (test_df[test_df[col1] > test_df[col2]][col2] - \n",
    "                             test_df[test_df[col1] > test_df[col2]][col1]).dt.total_seconds()\n",
    "    \n",
    "    plt.subplot(3, 3, i + 1)\n",
    "    sns.histplot(time_diff_series_bad, bins=50, kde=False)\n",
    "    plt.title(f'Distribution of {key}')\n",
    "    plt.xlabel('Time Difference (seconds)')\n",
    "    plt.ylabel('Frequency')\n",
    "\n",
    "plt.tight_layout()\n",
    "plt.show()"
   ]
  },
  {
   "cell_type": "code",
   "execution_count": null,
   "metadata": {},
   "outputs": [
    {
     "data": {
      "text/plain": [
       "{'time_call_received <= time_call_processed': {'mean': 3262.421678955667,\n",
       "  'median': 102.0,\n",
       "  'mode': 45.0},\n",
       " 'time_call_processed <= time_ambulance_notified': {'mean': 658.8536202315207,\n",
       "  'median': 68.0,\n",
       "  'mode': 4.0},\n",
       " 'time_ambulance_notified <= time_dispatch': {'mean': 103.21219546948471,\n",
       "  'median': 71.0,\n",
       "  'mode': 4.0},\n",
       " 'time_dispatch <= time_arrival_scene': {'mean': 583.5090119535205,\n",
       "  'median': 476.0,\n",
       "  'mode': 2.0},\n",
       " 'time_arrival_scene <= time_departure_scene': {'mean': 1213.577041058083,\n",
       "  'median': 1070.0,\n",
       "  'mode': 2.0},\n",
       " 'time_departure_scene <= time_arrival_hospital': {'mean': 1015.1713200955629,\n",
       "  'median': 821.0,\n",
       "  'mode': 2.0},\n",
       " 'time_arrival_hospital <= time_available': {'mean': 1518.9536579109704,\n",
       "  'median': 871.0,\n",
       "  'mode': 2.0}}"
      ]
     },
     "execution_count": 16,
     "metadata": {},
     "output_type": "execute_result"
    }
   ],
   "source": [
    "import pandas as pd\n",
    "# Initialize a dictionary to keep the statistics for \"good\" datetime values\n",
    "stats_dict_good_values = {}\n",
    "\n",
    "df_sample = data_loader.enhanced_incidents_df\n",
    "\n",
    "time_columns = [\n",
    "    'time_call_received', 'time_call_processed', 'time_ambulance_notified',\n",
    "    'time_dispatch', 'time_arrival_scene', 'time_departure_scene',\n",
    "    'time_arrival_hospital', 'time_available'\n",
    "]\n",
    "df_sample[time_columns] = df_sample[time_columns].apply(pd.to_datetime, errors='coerce', format=\"%Y.%m.%dT%H:%M:%S\")\n",
    "        \n",
    "# Loop through the columns and compare\n",
    "for i in range(len(time_columns) - 1):\n",
    "    col1 = time_columns[i]\n",
    "    col2 = time_columns[i + 1]\n",
    "    filtered_df_good = df_sample[df_sample[col1] <= df_sample[col2]]\n",
    "    \n",
    "    if not filtered_df_good.empty:\n",
    "        # Calculate the time difference in seconds\n",
    "        time_diff_series_good = (filtered_df_good[col2] - filtered_df_good[col1]).dt.total_seconds()\n",
    "        \n",
    "        # Calculate mean, median, and mode\n",
    "        mean_time_diff_good = time_diff_series_good.mean()\n",
    "        median_time_diff_good = time_diff_series_good.median()\n",
    "        mode_time_diff_good = time_diff_series_good.mode()[0]  # Taking the first mode\n",
    "\n",
    "        # Store the statistics in the dictionary\n",
    "        stats_dict_good_values[f\"{col1} <= {col2}\"] = {\n",
    "            'mean': mean_time_diff_good,\n",
    "            'median': median_time_diff_good,\n",
    "            'mode': mode_time_diff_good\n",
    "        }\n",
    "\n",
    "# Display the statistics for \"good\" datetime values\n",
    "stats_dict_good_values"
   ]
  },
  {
   "cell_type": "markdown",
   "metadata": {},
   "source": [
    "## Histogram by Triage Level"
   ]
  },
  {
   "cell_type": "code",
   "execution_count": 100,
   "metadata": {},
   "outputs": [
    {
     "data": {
      "image/png": "[encoded data removed]",
      "text/plain": [
       "<Figure size 1000x600 with 1 Axes>"
      ]
     },
     "metadata": {},
     "output_type": "display_data"
    }
   ],
   "source": [
    "df = data_loader.enhanced_incidents_df\n",
    "\n",
    "# Create the figure and axis objects\n",
    "plt.figure(figsize=(10, 6))\n",
    "\n",
    "colors = sns.color_palette()\n",
    "\n",
    "# Color mapping\n",
    "color_mapping = {\n",
    "    'High Priority': colors[0],  # First color in the palette (usually blue)\n",
    "    'Critical': colors[1]        # Second color in the palette (usually orange)\n",
    "}\n",
    "kde_color_mapping = {\n",
    "    'High Priority': sns.dark_palette(colors[0], 3)[-1],  # Darker variant of the first color\n",
    "    'Critical': sns.dark_palette(colors[1], 3)[-1]        # Darker variant of the second color\n",
    "}\n",
    "\n",
    "# Define bin range and bin width\n",
    "bin_range = range(0, 8000, 6)\n",
    "bin_width = bin_range[1] - bin_range[0]\n",
    "\n",
    "# Loop through each unique Triage Level to plot its corresponding Response Time\n",
    "for level in df['triage_impression_during_call'].unique():\n",
    "    subset = df[df['triage_impression_during_call'] == level]\n",
    "    \n",
    "    # Plot the histogram\n",
    "    plt.hist(subset['response_time_sec'], bins=bin_range, density=False, alpha=0.6, \n",
    "             label=level, color=color_mapping.get(level, 'grey'))\n",
    "    \n",
    "    # Compute and plot the KDE\n",
    "    kde = gaussian_kde(subset['response_time_sec'])\n",
    "    x_range = np.linspace(0, 7100, 200)\n",
    "    plt.plot(x_range, kde(x_range) * len(subset) * bin_width, label=f\"{level} KDE\", color=kde_color_mapping.get(level, 'grey'), alpha=0.7)\n",
    "\n",
    "# Add labels and title\n",
    "plt.xlabel('Response Time')\n",
    "plt.ylabel('Incident Count')\n",
    "plt.title('Response Time by Triage Level')\n",
    "plt.legend()\n",
    "\n",
    "# Show the plot\n",
    "plt.show()\n"
   ]
  },
  {
   "cell_type": "code",
   "execution_count": null,
   "metadata": {},
   "outputs": [],
   "source": []
  }
 ],
 "metadata": {
  "kernelspec": {
   "display_name": ".venv",
   "language": "python",
   "name": "python3"
  },
  "language_info": {
   "codemirror_mode": {
    "name": "ipython",
    "version": 3
   },
   "file_extension": ".py",
   "mimetype": "text/x-python",
   "name": "python",
   "nbconvert_exporter": "python",
   "pygments_lexer": "ipython3",
   "version": "3.11.1"
  }
 },
 "nbformat": 4,
 "nbformat_minor": 2
}
