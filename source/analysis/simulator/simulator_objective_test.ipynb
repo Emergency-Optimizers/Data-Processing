{
 "cells": [
  {
   "cell_type": "markdown",
   "metadata": {},
   "source": [
    "# Fix pathing"
   ]
  },
  {
   "cell_type": "code",
   "execution_count": 1,
   "metadata": {},
   "outputs": [],
   "source": [
    "import sys\n",
    "\n",
    "\n",
    "sys.path.append(\"../..\")\n"
   ]
  },
  {
   "cell_type": "code",
   "execution_count": 2,
   "metadata": {},
   "outputs": [],
   "source": [
    "import constants\n",
    "\n",
    "import os\n",
    "\n",
    "\n",
    "constants.PROJECT_DIRECTORY_PATH = os.path.dirname(os.path.dirname(os.path.dirname(os.path.dirname(constants.PROJECT_DIRECTORY_PATH))))\n"
   ]
  },
  {
   "cell_type": "markdown",
   "metadata": {},
   "source": [
    "# Imports"
   ]
  },
  {
   "cell_type": "code",
   "execution_count": 3,
   "metadata": {},
   "outputs": [],
   "source": [
    "import plotter\n",
    "import datahandler\n",
    "\n",
    "import matplotlib.pyplot\n",
    "import numpy as np\n",
    "import pandas as pd\n",
    "import seaborn as sns\n",
    "import IPython.display\n"
   ]
  },
  {
   "cell_type": "markdown",
   "metadata": {},
   "source": [
    "# Constants"
   ]
  },
  {
   "cell_type": "code",
   "execution_count": 4,
   "metadata": {},
   "outputs": [],
   "source": [
    "FOLDER_PATH = os.path.join(os.path.dirname(constants.PROJECT_DIRECTORY_PATH), \"Simulator\", \"data\")\n"
   ]
  },
  {
   "cell_type": "markdown",
   "metadata": {},
   "source": [
    "# Methods"
   ]
  },
  {
   "cell_type": "code",
   "execution_count": 5,
   "metadata": {},
   "outputs": [],
   "source": [
    "def load_csv(folder, filename = \"events\"):\n",
    "    dataframes = []\n",
    "    for seed in list(range(10)):\n",
    "        dataframes.append(pd.read_csv(os.path.join(FOLDER_PATH, folder, filename + \"_seed=\" + str(seed) + \".csv\")))\n",
    "    \n",
    "    dataframe = pd.concat(dataframes, ignore_index=True)\n",
    "\n",
    "    response_time_cols = [\n",
    "        'duration_incident_creation',\n",
    "        'duration_resource_appointment',\n",
    "        'duration_resource_preparing_departure',\n",
    "        'duration_dispatching_to_scene'\n",
    "    ]\n",
    "    dataframe['total_response_time'] = dataframe[response_time_cols].sum(axis=1)\n",
    "\n",
    "    dataframe[\"complied\"] = np.nan\n",
    "\n",
    "    criteria = {\n",
    "        ('A', True): 12 * 60,\n",
    "        ('A', False): 25 * 60,\n",
    "        ('H', True): 30 * 60,\n",
    "        ('H', False): 40 * 60\n",
    "    }\n",
    "\n",
    "    for (triage, urban), group in dataframe.groupby(['triage_impression_during_call', 'urban']):\n",
    "        if triage == 'V1':\n",
    "            continue\n",
    "    \n",
    "        limit = criteria.get((triage, urban))\n",
    "        if limit is not None:\n",
    "            dataframe.loc[group.index, 'complied'] = group['total_response_time'] < limit\n",
    "\n",
    "    return dataframe\n"
   ]
  },
  {
   "cell_type": "markdown",
   "metadata": {},
   "source": [
    "# Main"
   ]
  },
  {
   "cell_type": "code",
   "execution_count": 6,
   "metadata": {},
   "outputs": [
    {
     "name": "stderr",
     "output_type": "stream",
     "text": [
      "C:\\Users\\sindr\\AppData\\Local\\Temp\\ipykernel_23712\\1438922377.py:31: FutureWarning: Setting an item of incompatible dtype is deprecated and will raise in a future error of pandas. Value '[ True  True  True False  True  True  True  True False  True  True  True\n",
      "  True False  True  True  True  True False  True  True  True  True False\n",
      "  True  True  True  True False  True  True  True  True False  True  True\n",
      "  True  True False  True  True  True  True False  True  True  True  True\n",
      " False  True]' has dtype incompatible with float64, please explicitly cast to a compatible dtype first.\n",
      "  dataframe.loc[group.index, 'complied'] = group['total_response_time'] < limit\n",
      "C:\\Users\\sindr\\AppData\\Local\\Temp\\ipykernel_23712\\1438922377.py:31: FutureWarning: Setting an item of incompatible dtype is deprecated and will raise in a future error of pandas. Value '[ True  True  True  True  True  True False  True  True  True  True  True\n",
      "  True  True False  True  True  True False  True  True  True False  True\n",
      "  True  True False  True  True  True  True  True  True  True  True  True\n",
      "  True  True False  True]' has dtype incompatible with float64, please explicitly cast to a compatible dtype first.\n",
      "  dataframe.loc[group.index, 'complied'] = group['total_response_time'] < limit\n",
      "C:\\Users\\sindr\\AppData\\Local\\Temp\\ipykernel_23712\\1438922377.py:31: FutureWarning: Setting an item of incompatible dtype is deprecated and will raise in a future error of pandas. Value '[ True  True  True  True  True  True  True  True  True  True  True  True\n",
      " False  True  True  True  True  True  True  True  True  True  True  True\n",
      "  True  True  True False  True  True  True  True  True  True  True  True\n",
      "  True  True  True  True  True  True False  True  True  True  True  True\n",
      "  True  True  True  True  True  True  True  True  True False  True  True\n",
      "  True  True  True  True  True  True  True  True  True  True  True  True\n",
      " False  True  True  True  True  True  True  True  True  True  True  True\n",
      "  True  True  True False  True  True  True  True  True  True  True  True\n",
      "  True  True  True  True  True  True False  True  True  True  True  True\n",
      "  True  True  True  True  True  True  True  True  True False  True  True\n",
      "  True  True  True  True  True  True  True  True  True  True  True  True\n",
      " False  True  True  True  True  True  True  True  True  True  True  True\n",
      "  True  True  True False  True  True]' has dtype incompatible with float64, please explicitly cast to a compatible dtype first.\n",
      "  dataframe.loc[group.index, 'complied'] = group['total_response_time'] < limit\n"
     ]
    }
   ],
   "source": [
    "dataframe_least = load_csv(folder=\"mv_objectives_cds_least_NONE\")\n",
    "dataframe_average = load_csv(folder=\"mv_objectives_cds_avg_NONE\")\n",
    "dataframe_highest = load_csv(folder=\"mv_objectives_cds_most_NONE\")\n"
   ]
  },
  {
   "cell_type": "code",
   "execution_count": 7,
   "metadata": {},
   "outputs": [
    {
     "name": "stdout",
     "output_type": "stream",
     "text": [
      "Lowest activity day:\n",
      "\tTotal response time: 14.74 minutes\n",
      "\t\tUrban response time: 14.14 minutes, difference from total: -4.08%\n",
      "\t\tNon-urban response time: 22.29 minutes, difference from total: 51.18%\n",
      "\tTotal compliance rate: 89.60%\n",
      "\t\tUrban compliance rate: 90.22%, difference from total: 0.69%\n",
      "\t\tNon-urban compliance rate: 81.82%, difference from total: -8.68%\n"
     ]
    }
   ],
   "source": [
    "print(\"Lowest activity day:\")\n",
    "dataframe = dataframe_least\n",
    "\n",
    "r = dataframe[(dataframe[\"triage_impression_during_call\"] == \"A\") | (dataframe[\"triage_impression_during_call\"] == \"H\")][\"total_response_time\"].mean() / 60\n",
    "print(f\"\\tTotal response time: {r:.2f} minutes\")\n",
    "\n",
    "r_u = dataframe[((dataframe[\"triage_impression_during_call\"] == \"A\") | (dataframe[\"triage_impression_during_call\"] == \"H\")) & (dataframe[\"urban\"] == True)][\"total_response_time\"].mean() / 60\n",
    "print(f\"\\t\\tUrban response time: {r_u:.2f} minutes, difference from total: {((r_u - r) / r) * 100:.2f}%\")\n",
    "\n",
    "r_r = dataframe[((dataframe[\"triage_impression_during_call\"] == \"A\") | (dataframe[\"triage_impression_during_call\"] == \"H\")) & (dataframe[\"urban\"] == False)][\"total_response_time\"].mean() / 60\n",
    "print(f\"\\t\\tNon-urban response time: {r_r:.2f} minutes, difference from total: {((r_r - r) / r) * 100:.2f}%\")\n",
    "\n",
    "c = dataframe[(dataframe[\"triage_impression_during_call\"] == \"A\") | (dataframe[\"triage_impression_during_call\"] == \"H\")][\"complied\"].mean() * 100\n",
    "print(f\"\\tTotal compliance rate: {c:.2f}%\")\n",
    "\n",
    "c_u = dataframe[((dataframe[\"triage_impression_during_call\"] == \"A\") | (dataframe[\"triage_impression_during_call\"] == \"H\")) & (dataframe[\"urban\"] == True)][\"complied\"].mean() * 100\n",
    "print(f\"\\t\\tUrban compliance rate: {c_u:.2f}%, difference from total: {((c_u - c) / c) * 100:.2f}%\")\n",
    "\n",
    "c_r = dataframe[((dataframe[\"triage_impression_during_call\"] == \"A\") | (dataframe[\"triage_impression_during_call\"] == \"H\")) & (dataframe[\"urban\"] == False)][\"complied\"].mean() * 100\n",
    "print(f\"\\t\\tNon-urban compliance rate: {c_r:.2f}%, difference from total: {((c_r - c) / c) * 100:.2f}%\")\n"
   ]
  },
  {
   "cell_type": "code",
   "execution_count": 8,
   "metadata": {},
   "outputs": [
    {
     "name": "stdout",
     "output_type": "stream",
     "text": [
      "Average activity day:\n",
      "\tTotal response time: 13.80 minutes\n",
      "\t\tUrban response time: 13.62 minutes, difference from total: -1.35%\n",
      "\t\tNon-urban response time: 17.43 minutes, difference from total: 26.28%\n",
      "\tTotal compliance rate: 86.28%\n",
      "\t\tUrban compliance rate: 85.96%, difference from total: -0.37%\n",
      "\t\tNon-urban compliance rate: 92.50%, difference from total: 7.21%\n"
     ]
    }
   ],
   "source": [
    "print(\"Average activity day:\")\n",
    "dataframe = dataframe_average\n",
    "\n",
    "r = dataframe[(dataframe[\"triage_impression_during_call\"] == \"A\") | (dataframe[\"triage_impression_during_call\"] == \"H\")][\"total_response_time\"].mean() / 60\n",
    "print(f\"\\tTotal response time: {r:.2f} minutes\")\n",
    "\n",
    "r_u = dataframe[((dataframe[\"triage_impression_during_call\"] == \"A\") | (dataframe[\"triage_impression_during_call\"] == \"H\")) & (dataframe[\"urban\"] == True)][\"total_response_time\"].mean() / 60\n",
    "print(f\"\\t\\tUrban response time: {r_u:.2f} minutes, difference from total: {((r_u - r) / r) * 100:.2f}%\")\n",
    "\n",
    "r_r = dataframe[((dataframe[\"triage_impression_during_call\"] == \"A\") | (dataframe[\"triage_impression_during_call\"] == \"H\")) & (dataframe[\"urban\"] == False)][\"total_response_time\"].mean() / 60\n",
    "print(f\"\\t\\tNon-urban response time: {r_r:.2f} minutes, difference from total: {((r_r - r) / r) * 100:.2f}%\")\n",
    "\n",
    "c = dataframe[(dataframe[\"triage_impression_during_call\"] == \"A\") | (dataframe[\"triage_impression_during_call\"] == \"H\")][\"complied\"].mean() * 100\n",
    "print(f\"\\tTotal compliance rate: {c:.2f}%\")\n",
    "\n",
    "c_u = dataframe[((dataframe[\"triage_impression_during_call\"] == \"A\") | (dataframe[\"triage_impression_during_call\"] == \"H\")) & (dataframe[\"urban\"] == True)][\"complied\"].mean() * 100\n",
    "print(f\"\\t\\tUrban compliance rate: {c_u:.2f}%, difference from total: {((c_u - c) / c) * 100:.2f}%\")\n",
    "\n",
    "c_r = dataframe[((dataframe[\"triage_impression_during_call\"] == \"A\") | (dataframe[\"triage_impression_during_call\"] == \"H\")) & (dataframe[\"urban\"] == False)][\"complied\"].mean() * 100\n",
    "print(f\"\\t\\tNon-urban compliance rate: {c_r:.2f}%, difference from total: {((c_r - c) / c) * 100:.2f}%\")\n"
   ]
  },
  {
   "cell_type": "code",
   "execution_count": 9,
   "metadata": {},
   "outputs": [
    {
     "name": "stdout",
     "output_type": "stream",
     "text": [
      "Highest activity day:\n",
      "\tTotal response time: 15.97 minutes\n",
      "\t\tUrban response time: 15.60 minutes, difference from total: -2.29%\n",
      "\t\tNon-urban response time: 18.52 minutes, difference from total: 15.95%\n",
      "\tTotal compliance rate: 78.74%\n",
      "\t\tUrban compliance rate: 76.88%, difference from total: -2.37%\n",
      "\t\tNon-urban compliance rate: 91.74%, difference from total: 16.50%\n"
     ]
    }
   ],
   "source": [
    "print(\"Highest activity day:\")\n",
    "dataframe = dataframe_highest\n",
    "\n",
    "r = dataframe[(dataframe[\"triage_impression_during_call\"] == \"A\") | (dataframe[\"triage_impression_during_call\"] == \"H\")][\"total_response_time\"].mean() / 60\n",
    "print(f\"\\tTotal response time: {r:.2f} minutes\")\n",
    "\n",
    "r_u = dataframe[((dataframe[\"triage_impression_during_call\"] == \"A\") | (dataframe[\"triage_impression_during_call\"] == \"H\")) & (dataframe[\"urban\"] == True)][\"total_response_time\"].mean() / 60\n",
    "print(f\"\\t\\tUrban response time: {r_u:.2f} minutes, difference from total: {((r_u - r) / r) * 100:.2f}%\")\n",
    "\n",
    "r_r = dataframe[((dataframe[\"triage_impression_during_call\"] == \"A\") | (dataframe[\"triage_impression_during_call\"] == \"H\")) & (dataframe[\"urban\"] == False)][\"total_response_time\"].mean() / 60\n",
    "print(f\"\\t\\tNon-urban response time: {r_r:.2f} minutes, difference from total: {((r_r - r) / r) * 100:.2f}%\")\n",
    "\n",
    "c = dataframe[(dataframe[\"triage_impression_during_call\"] == \"A\") | (dataframe[\"triage_impression_during_call\"] == \"H\")][\"complied\"].mean() * 100\n",
    "print(f\"\\tTotal compliance rate: {c:.2f}%\")\n",
    "\n",
    "c_u = dataframe[((dataframe[\"triage_impression_during_call\"] == \"A\") | (dataframe[\"triage_impression_during_call\"] == \"H\")) & (dataframe[\"urban\"] == True)][\"complied\"].mean() * 100\n",
    "print(f\"\\t\\tUrban compliance rate: {c_u:.2f}%, difference from total: {((c_u - c) / c) * 100:.2f}%\")\n",
    "\n",
    "c_r = dataframe[((dataframe[\"triage_impression_during_call\"] == \"A\") | (dataframe[\"triage_impression_during_call\"] == \"H\")) & (dataframe[\"urban\"] == False)][\"complied\"].mean() * 100\n",
    "print(f\"\\t\\tNon-urban compliance rate: {c_r:.2f}%, difference from total: {((c_r - c) / c) * 100:.2f}%\")\n"
   ]
  }
 ],
 "metadata": {
  "kernelspec": {
   "display_name": ".venv",
   "language": "python",
   "name": "python3"
  },
  "language_info": {
   "codemirror_mode": {
    "name": "ipython",
    "version": 3
   },
   "file_extension": ".py",
   "mimetype": "text/x-python",
   "name": "python",
   "nbconvert_exporter": "python",
   "pygments_lexer": "ipython3",
   "version": "3.11.6"
  }
 },
 "nbformat": 4,
 "nbformat_minor": 2
}
