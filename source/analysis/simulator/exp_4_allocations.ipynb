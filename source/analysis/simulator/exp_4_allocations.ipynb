{
 "cells": [
  {
   "cell_type": "markdown",
   "metadata": {},
   "source": [
    "# Fix pathing"
   ]
  },
  {
   "cell_type": "code",
   "execution_count": 1,
   "metadata": {},
   "outputs": [],
   "source": [
    "import sys\n",
    "\n",
    "\n",
    "sys.path.append(\"../..\")\n"
   ]
  },
  {
   "cell_type": "code",
   "execution_count": 2,
   "metadata": {},
   "outputs": [],
   "source": [
    "import constants\n",
    "\n",
    "import os\n",
    "\n",
    "\n",
    "constants.PROJECT_DIRECTORY_PATH = os.path.dirname(os.path.dirname(os.path.dirname(os.path.dirname(constants.PROJECT_DIRECTORY_PATH))))\n"
   ]
  },
  {
   "cell_type": "markdown",
   "metadata": {},
   "source": [
    "# Imports"
   ]
  },
  {
   "cell_type": "code",
   "execution_count": 3,
   "metadata": {},
   "outputs": [],
   "source": [
    "import plotter\n",
    "import datahandler\n",
    "\n",
    "import matplotlib.pyplot\n",
    "import numpy as np\n",
    "import pandas as pd\n",
    "import seaborn as sns\n",
    "import IPython.display\n"
   ]
  },
  {
   "cell_type": "markdown",
   "metadata": {},
   "source": [
    "# Constants"
   ]
  },
  {
   "cell_type": "code",
   "execution_count": 4,
   "metadata": {},
   "outputs": [],
   "source": [
    "FOLDER_NAME = \"ex_4_least_NONE\"\n",
    "\n",
    "FOLDER_PATH = os.path.join(os.path.dirname(constants.PROJECT_DIRECTORY_PATH), \"Simulator\", \"data\", FOLDER_NAME)\n"
   ]
  },
  {
   "cell_type": "markdown",
   "metadata": {},
   "source": [
    "# Methods"
   ]
  },
  {
   "cell_type": "code",
   "execution_count": 5,
   "metadata": {},
   "outputs": [],
   "source": [
    "def load_csv(filename = \"events\"):\n",
    "    dataframes = []\n",
    "    for seed in list(range(10)):\n",
    "        dataframes.append(pd.read_csv(os.path.join(FOLDER_PATH, filename + \"_seed=\" + str(seed) + \".csv\")))\n",
    "    \n",
    "    dataframe = pd.concat(dataframes, ignore_index=True)\n",
    "\n",
    "    response_time_cols = [\n",
    "        'duration_incident_creation',\n",
    "        'duration_resource_appointment',\n",
    "        'duration_resource_preparing_departure',\n",
    "        'duration_dispatching_to_scene'\n",
    "    ]\n",
    "    dataframe['total_response_time'] = dataframe[response_time_cols].sum(axis=1)\n",
    "\n",
    "    dataframe[\"complied\"] = np.nan\n",
    "    # Define the criteria for response times\n",
    "    criteria = {\n",
    "        ('A', True): 12 * 60,\n",
    "        ('A', False): 25 * 60,\n",
    "        ('H', True): 30 * 60,\n",
    "        ('H', False): 40 * 60\n",
    "    }\n",
    "\n",
    "    for (triage, urban), group in dataframe.groupby(['triage_impression_during_call', 'urban']):\n",
    "        if triage == 'V1':\n",
    "            continue\n",
    "    \n",
    "        limit = criteria.get((triage, urban))\n",
    "        if limit is not None:\n",
    "            dataframe.loc[group.index, 'complied'] = group['total_response_time'] < limit\n",
    "\n",
    "    return dataframe\n"
   ]
  },
  {
   "cell_type": "code",
   "execution_count": 6,
   "metadata": {},
   "outputs": [],
   "source": [
    "def plot_response_time_density(df):\n",
    "    matplotlib.pyplot.figure(figsize=(12, 8))\n",
    "\n",
    "    for triage_category in [\"A\", \"H\", \"V1\"]:\n",
    "        subset = df[df['triage_impression_during_call'] == triage_category]\n",
    "        sns.kdeplot(subset['total_response_time'] / 60, bw_adjust=0.5, label=f'Triage {triage_category}', fill=True)\n",
    "\n",
    "    matplotlib.pyplot.title('Response Time Density by Triage Category')\n",
    "    matplotlib.pyplot.xlabel('Response Time (minutes)')\n",
    "    matplotlib.pyplot.ylabel('Density')\n",
    "    matplotlib.pyplot.xlim(left=0)\n",
    "    matplotlib.pyplot.legend()\n",
    "    matplotlib.pyplot.show()\n"
   ]
  },
  {
   "cell_type": "code",
   "execution_count": 7,
   "metadata": {},
   "outputs": [],
   "source": [
    "def print_table(df: pd.DataFrame):\n",
    "    # Use a dictionary within agg to specify aggregations for different columns\n",
    "    stats = df.groupby(['triage_impression_during_call', 'urban']).agg({\n",
    "        'total_response_time': ['mean', 'median'],\n",
    "        'complied': 'mean'  # Calculate the mean of the boolean 'complied', which effectively gives the compliance rate\n",
    "    }).reset_index()\n",
    "\n",
    "    # Flatten the multi-level column names resulting from aggregation\n",
    "    stats.columns = ['Triage', 'Urban', 'Mean Response Time', 'Median Response Time', 'Compliance Rate']\n",
    "\n",
    "    # Convert response times from seconds to minutes and round to 2 decimal places\n",
    "    stats['Mean Response Time'] = (stats['Mean Response Time'] / 60).round(2)\n",
    "    stats['Median Response Time'] = (stats['Median Response Time'] / 60).round(2)\n",
    "\n",
    "    # Convert the compliance rate to percentage and round to 2 decimal places\n",
    "    # Fill NaN values with 'N/A' for compliance rate\n",
    "    stats['Compliance Rate'] = stats['Compliance Rate'].apply(lambda x: f\"{x*100:.2f}%\" if pd.notna(x) else \"N/A\")\n",
    "\n",
    "    # Map boolean 'Urban' to 'Yes' or 'No'\n",
    "    stats['Urban'] = stats['Urban'].map({True: 'Yes', False: 'No'})\n",
    "\n",
    "    # Sort the DataFrame\n",
    "    stats.sort_values(by=[\"Urban\", \"Triage\"], ascending=[False, True], inplace=True)\n",
    "\n",
    "    # Display the DataFrame using IPython display capabilities, hiding the index\n",
    "    IPython.display.display(stats.style.hide(axis='index'))\n"
   ]
  },
  {
   "cell_type": "code",
   "execution_count": 8,
   "metadata": {},
   "outputs": [],
   "source": [
    "def print_info(dataframe: pd.DataFrame):\n",
    "    filtered_df = dataframe.dropna(subset=['complied'])\n",
    "\n",
    "    # compliance\n",
    "    numerator = filtered_df['complied'].count()\n",
    "    true_count = filtered_df['complied'].sum()\n",
    "\n",
    "    compliance_rate = true_count / numerator\n",
    "\n",
    "    print(f\"Compliance Rate: {(abs(compliance_rate - 1) * 100):.2f}\")\n",
    "\n",
    "    # complaince (U)\n",
    "    # compliance (R)\n",
    "    compliance_rates = filtered_df.groupby('urban')['complied'].agg(lambda x: x.mean())\n",
    "\n",
    "    for group, rate in compliance_rates.items():\n",
    "        print(f\"Compliance Rate for {'Urban' if group else 'Non-Urban'}: {(abs(rate - 1) * 100):.2f}\")\n"
   ]
  },
  {
   "cell_type": "markdown",
   "metadata": {},
   "source": [
    "# Main"
   ]
  },
  {
   "cell_type": "code",
   "execution_count": 9,
   "metadata": {},
   "outputs": [
    {
     "name": "stderr",
     "output_type": "stream",
     "text": [
      "C:\\Users\\sindr\\AppData\\Local\\Temp\\ipykernel_11996\\3357299027.py:31: FutureWarning: Setting an item of incompatible dtype is deprecated and will raise in a future error of pandas. Value '[False  True False False False False  True False False False False  True\n",
      " False False False False  True False False False False  True False False\n",
      " False False  True False False False False  True False False False False\n",
      "  True False False False False  True False False False False  True False\n",
      " False False]' has dtype incompatible with float64, please explicitly cast to a compatible dtype first.\n",
      "  dataframe.loc[group.index, 'complied'] = group['total_response_time'] < limit\n",
      "C:\\Users\\sindr\\AppData\\Local\\Temp\\ipykernel_11996\\3357299027.py:31: FutureWarning: Setting an item of incompatible dtype is deprecated and will raise in a future error of pandas. Value '[ True  True  True False  True  True  True  True False  True  True  True\n",
      "  True False  True  True  True  True False  True  True  True  True False\n",
      "  True  True  True  True False  True  True  True  True False  True  True\n",
      "  True  True False  True  True  True  True False  True  True  True  True\n",
      " False  True]' has dtype incompatible with float64, please explicitly cast to a compatible dtype first.\n",
      "  dataframe.loc[group.index, 'complied'] = group['total_response_time'] < limit\n",
      "C:\\Users\\sindr\\AppData\\Local\\Temp\\ipykernel_11996\\3357299027.py:31: FutureWarning: Setting an item of incompatible dtype is deprecated and will raise in a future error of pandas. Value '[ True  True  True False  True  True  True  True False  True  True  True\n",
      "  True False  True  True  True  True False  True  True  True  True False\n",
      "  True  True  True  True False  True  True  True  True False  True  True\n",
      "  True  True False  True  True  True  True False  True  True  True  True\n",
      " False  True]' has dtype incompatible with float64, please explicitly cast to a compatible dtype first.\n",
      "  dataframe.loc[group.index, 'complied'] = group['total_response_time'] < limit\n",
      "C:\\Users\\sindr\\AppData\\Local\\Temp\\ipykernel_11996\\3357299027.py:31: FutureWarning: Setting an item of incompatible dtype is deprecated and will raise in a future error of pandas. Value '[ True  True False False  True  True  True False False  True  True  True\n",
      "  True False  True  True  True False False  True  True  True False False\n",
      "  True  True  True False False  True  True  True  True False  True  True\n",
      "  True False False  True  True  True False False  True  True  True False\n",
      " False  True]' has dtype incompatible with float64, please explicitly cast to a compatible dtype first.\n",
      "  dataframe.loc[group.index, 'complied'] = group['total_response_time'] < limit\n",
      "C:\\Users\\sindr\\AppData\\Local\\Temp\\ipykernel_11996\\3357299027.py:31: FutureWarning: Setting an item of incompatible dtype is deprecated and will raise in a future error of pandas. Value '[ True  True  True False  True  True  True  True False  True  True  True\n",
      "  True False  True  True  True  True False  True  True  True  True False\n",
      "  True  True  True  True False  True  True  True  True False  True  True\n",
      "  True  True False  True  True  True  True False  True  True  True  True\n",
      " False  True]' has dtype incompatible with float64, please explicitly cast to a compatible dtype first.\n",
      "  dataframe.loc[group.index, 'complied'] = group['total_response_time'] < limit\n",
      "C:\\Users\\sindr\\AppData\\Local\\Temp\\ipykernel_11996\\3357299027.py:31: FutureWarning: Setting an item of incompatible dtype is deprecated and will raise in a future error of pandas. Value '[ True  True False False  True  True  True False False  True  True  True\n",
      " False False  True  True  True False False  True  True  True False False\n",
      "  True  True  True False False  True  True  True  True False  True  True\n",
      "  True False False  True  True  True False False  True  True  True False\n",
      " False  True]' has dtype incompatible with float64, please explicitly cast to a compatible dtype first.\n",
      "  dataframe.loc[group.index, 'complied'] = group['total_response_time'] < limit\n",
      "C:\\Users\\sindr\\AppData\\Local\\Temp\\ipykernel_11996\\3357299027.py:31: FutureWarning: Setting an item of incompatible dtype is deprecated and will raise in a future error of pandas. Value '[ True  True  True False  True  True  True  True False  True  True  True\n",
      "  True False  True  True  True  True False  True  True  True  True False\n",
      "  True  True  True  True False  True  True  True  True False  True  True\n",
      "  True  True False  True  True  True  True False  True  True  True  True\n",
      " False  True]' has dtype incompatible with float64, please explicitly cast to a compatible dtype first.\n",
      "  dataframe.loc[group.index, 'complied'] = group['total_response_time'] < limit\n",
      "C:\\Users\\sindr\\AppData\\Local\\Temp\\ipykernel_11996\\3357299027.py:31: FutureWarning: Setting an item of incompatible dtype is deprecated and will raise in a future error of pandas. Value '[ True  True False False  True  True  True  True False  True False  True\n",
      "  True False  True  True  True False False  True False  True  True False\n",
      " False  True  True  True False False  True  True False False  True  True\n",
      "  True False False  True  True  True  True False  True  True  True  True\n",
      " False  True]' has dtype incompatible with float64, please explicitly cast to a compatible dtype first.\n",
      "  dataframe.loc[group.index, 'complied'] = group['total_response_time'] < limit\n",
      "C:\\Users\\sindr\\AppData\\Local\\Temp\\ipykernel_11996\\3357299027.py:31: FutureWarning: Setting an item of incompatible dtype is deprecated and will raise in a future error of pandas. Value '[ True  True  True False  True  True  True  True False  True  True  True\n",
      "  True False  True  True  True  True False  True  True  True  True False\n",
      "  True  True  True  True False  True  True  True  True False  True  True\n",
      "  True  True False  True  True  True  True False  True  True  True  True\n",
      " False  True]' has dtype incompatible with float64, please explicitly cast to a compatible dtype first.\n",
      "  dataframe.loc[group.index, 'complied'] = group['total_response_time'] < limit\n",
      "C:\\Users\\sindr\\AppData\\Local\\Temp\\ipykernel_11996\\3357299027.py:31: FutureWarning: Setting an item of incompatible dtype is deprecated and will raise in a future error of pandas. Value '[ True  True False False False  True  True  True False  True  True  True\n",
      "  True False False  True  True False False  True  True  True False False\n",
      "  True  True  True  True False  True  True  True  True False  True  True\n",
      "  True False False  True  True  True  True False  True  True  True False\n",
      " False  True]' has dtype incompatible with float64, please explicitly cast to a compatible dtype first.\n",
      "  dataframe.loc[group.index, 'complied'] = group['total_response_time'] < limit\n"
     ]
    }
   ],
   "source": [
    "dataframe_acc = load_csv(filename=\"events_ACC\")\n",
    "dataframe_u = load_csv(filename=\"events_U\")\n",
    "dataframe_pp = load_csv(filename=\"events_PP\")\n",
    "dataframe_sls = load_csv(filename=\"events_SLS\")\n",
    "dataframe_ga = load_csv(filename=\"events_GA\")\n",
    "dataframe_ma = load_csv(filename=\"events_MA\")\n",
    "dataframe_ouh = load_csv(filename=\"events_OUH\")\n",
    "\n",
    "dataframe_r = load_csv(filename=\"events_R\")\n",
    "dataframe_ur = load_csv(filename=\"events_UR\")\n",
    "dataframe_ip = load_csv(filename=\"events_IP\")\n"
   ]
  },
  {
   "cell_type": "code",
   "execution_count": 13,
   "metadata": {},
   "outputs": [
    {
     "name": "stdout",
     "output_type": "stream",
     "text": [
      "Compliance Rate: 12.01\n",
      "Compliance Rate for Non-Urban: 35.45\n",
      "Compliance Rate for Urban: 10.14\n"
     ]
    }
   ],
   "source": [
    "print_info(dataframe_ip)\n"
   ]
  }
 ],
 "metadata": {
  "kernelspec": {
   "display_name": ".venv",
   "language": "python",
   "name": "python3"
  },
  "language_info": {
   "codemirror_mode": {
    "name": "ipython",
    "version": 3
   },
   "file_extension": ".py",
   "mimetype": "text/x-python",
   "name": "python",
   "nbconvert_exporter": "python",
   "pygments_lexer": "ipython3",
   "version": "3.11.6"
  }
 },
 "nbformat": 4,
 "nbformat_minor": 2
}
