{
 "cells": [
  {
   "cell_type": "markdown",
   "metadata": {},
   "source": [
    "# Fix pathing"
   ]
  },
  {
   "cell_type": "code",
   "execution_count": 1,
   "metadata": {},
   "outputs": [],
   "source": [
    "import sys\n",
    "\n",
    "\n",
    "sys.path.append(\"../..\")\n"
   ]
  },
  {
   "cell_type": "code",
   "execution_count": 2,
   "metadata": {},
   "outputs": [],
   "source": [
    "import constants\n",
    "\n",
    "import os\n",
    "\n",
    "\n",
    "constants.PROJECT_DIRECTORY_PATH = os.path.dirname(os.path.dirname(os.path.dirname(os.path.dirname(constants.PROJECT_DIRECTORY_PATH))))\n"
   ]
  },
  {
   "cell_type": "markdown",
   "metadata": {},
   "source": [
    "# Imports"
   ]
  },
  {
   "cell_type": "code",
   "execution_count": 3,
   "metadata": {},
   "outputs": [],
   "source": [
    "import plotter\n",
    "import datahandler\n",
    "\n",
    "import matplotlib.pyplot\n",
    "import numpy as np\n",
    "import pandas as pd\n",
    "import seaborn as sns\n",
    "import IPython.display\n"
   ]
  },
  {
   "cell_type": "markdown",
   "metadata": {},
   "source": [
    "# Constants"
   ]
  },
  {
   "cell_type": "code",
   "execution_count": 44,
   "metadata": {},
   "outputs": [],
   "source": [
    "FOLDER_NAME = \"mv_stress_test_rds_most_NONE\"\n",
    "\n",
    "FOLDER_PATH = os.path.join(os.path.dirname(constants.PROJECT_DIRECTORY_PATH), \"Simulator\", \"data\", FOLDER_NAME)\n"
   ]
  },
  {
   "cell_type": "markdown",
   "metadata": {},
   "source": [
    "# Methods"
   ]
  },
  {
   "cell_type": "code",
   "execution_count": 45,
   "metadata": {},
   "outputs": [],
   "source": [
    "def load_csv(fileName):\n",
    "    df = pd.read_csv(os.path.join(FOLDER_PATH, fileName + \".csv\"))\n",
    "\n",
    "    response_time_cols = [\n",
    "        'duration_incident_creation',\n",
    "        'duration_resource_appointment',\n",
    "        'duration_resource_preparing_departure',\n",
    "        'duration_dispatching_to_scene'\n",
    "    ]\n",
    "    df['total_response_time'] = df[response_time_cols].sum(axis=1)\n",
    "\n",
    "    return df\n"
   ]
  },
  {
   "cell_type": "code",
   "execution_count": 46,
   "metadata": {},
   "outputs": [],
   "source": [
    "def print_results(df: pd.DataFrame):\n",
    "    # Define the criteria for response times\n",
    "    criteria = {\n",
    "        ('A', True): 12 * 60,\n",
    "        ('A', False): 25 * 60,\n",
    "        ('H', True): 30 * 60,\n",
    "        ('H', False): 40 * 60\n",
    "    }\n",
    "\n",
    "    # Function to calculate compliance for each group\n",
    "    def calculate_compliance(group, triage, urban):\n",
    "        limit = criteria.get((triage, urban))\n",
    "        if limit is not None:\n",
    "            return (group['total_response_time'] < limit).mean()\n",
    "        return None\n",
    "\n",
    "    # Calculate statistics and compliance for each group\n",
    "    results = []\n",
    "    for (triage, urban), group in df.groupby(['triage_impression_during_call', 'urban']):\n",
    "        mean = group['total_response_time'].mean()\n",
    "        median = group['total_response_time'].median()\n",
    "        compliance = calculate_compliance(group, triage, urban)\n",
    "        results.append({\n",
    "            'Triage': triage,\n",
    "            'Urban': urban,\n",
    "            'Mean (sec)': mean,\n",
    "            'Median (sec)': median,\n",
    "            'Compliance': compliance\n",
    "        })\n",
    "\n",
    "    stats = pd.DataFrame(results)\n",
    "\n",
    "    # Convert mean and median to minutes\n",
    "    stats['Mean (min)'] = (stats['Mean (sec)'] / 60)\n",
    "    stats['Median (min)'] = (stats['Median (sec)'] / 60)\n",
    "    stats.drop(columns=['Mean (sec)', 'Median (sec)'], inplace=True)\n",
    "\n",
    "    # Map urban values to Yes/No\n",
    "    stats['Urban'] = stats['Urban'].map({True: 'Yes', False: 'No'})\n",
    "    \n",
    "    # Sort values\n",
    "    stats.sort_values(by=[\"Urban\", \"Triage\"], ascending=[False, True], inplace=True)\n",
    "    \n",
    "    # Display the DataFrame\n",
    "    formatted_stats = stats.style.format({\n",
    "        'Mean (min)': \"{:.2f}\",\n",
    "        'Median (min)': \"{:.2f}\",\n",
    "        'Compliance': \"{:.2%}\"\n",
    "    }).hide(axis='index')\n",
    "    IPython.display.display(formatted_stats)\n"
   ]
  },
  {
   "cell_type": "code",
   "execution_count": 47,
   "metadata": {},
   "outputs": [],
   "source": [
    "def table_results():\n",
    "    def calculate_compliance(df, urban_filter=None):\n",
    "        if df is None:\n",
    "            return None\n",
    "\n",
    "        # Criteria for both triage types in both urban and rural settings\n",
    "        criteria = {\n",
    "            ('A', True): 12 * 60,  # 12 minutes for triage 'A' in urban areas\n",
    "            ('A', False): 25 * 60,  # 25 minutes for triage 'A' in rural areas\n",
    "            ('H', True): 30 * 60,  # 30 minutes for triage 'H' in urban areas\n",
    "            ('H', False): 40 * 60  # 40 minutes for triage 'H' in rural areas\n",
    "        }\n",
    "\n",
    "        # Initialize counters\n",
    "        total_compliant_cases = 0\n",
    "        total_cases = 0\n",
    "\n",
    "        # Check necessary columns exist\n",
    "        for urban in [True, False]:\n",
    "            if urban_filter is not None and urban != urban_filter:\n",
    "                continue\n",
    "            for triage in ['A', 'H']:\n",
    "                filtered_df = df[(df['triage_impression_during_call'] == triage) & (df['urban'] == urban)]\n",
    "                limit = criteria.get((triage, urban))\n",
    "                if not filtered_df.empty:\n",
    "                    # Count compliant cases for this triage type\n",
    "                    compliant_cases = filtered_df['total_response_time'] < limit\n",
    "                    total_compliant_cases += compliant_cases.sum()\n",
    "                    total_cases += len(filtered_df)\n",
    "\n",
    "        if total_cases > 0:\n",
    "            # Calculate overall compliance rate across both triage types\n",
    "            overall_compliance = total_compliant_cases / total_cases\n",
    "            return overall_compliance\n",
    "        else:\n",
    "            return None  # Return None if there are no cases to evaluate\n",
    "\n",
    "    # Factors to test\n",
    "    factors = [0.5, 1.0, 1.5]\n",
    "\n",
    "    results = []\n",
    "\n",
    "    for factor in factors:\n",
    "        filename = f\"events_numIncidentsFactor={factor:.6f}\"\n",
    "        df = load_csv(filename)\n",
    "        results.append({\n",
    "            \"Factor\": factor,\n",
    "            \"Compliance\": calculate_compliance(df),\n",
    "            \"Urban\": calculate_compliance(df, urban_filter=True),\n",
    "            \"Rural\": calculate_compliance(df, urban_filter=False)\n",
    "        })\n",
    "\n",
    "    # Create DataFrame\n",
    "    results_df = pd.DataFrame(results)\n",
    "\n",
    "    results_df = results_df.applymap(lambda x: round(x, 4) if isinstance(x, float) else x)\n",
    "\n",
    "    return results_df\n",
    "\n"
   ]
  },
  {
   "cell_type": "markdown",
   "metadata": {},
   "source": [
    "# Main"
   ]
  },
  {
   "cell_type": "code",
   "execution_count": 48,
   "metadata": {},
   "outputs": [
    {
     "name": "stderr",
     "output_type": "stream",
     "text": [
      "C:\\Users\\sindr\\AppData\\Local\\Temp\\ipykernel_16832\\1394679720.py:56: FutureWarning: DataFrame.applymap has been deprecated. Use DataFrame.map instead.\n",
      "  results_df = results_df.applymap(lambda x: round(x, 4) if isinstance(x, float) else x)\n"
     ]
    },
    {
     "data": {
      "text/html": [
       "<div>\n",
       "<style scoped>\n",
       "    .dataframe tbody tr th:only-of-type {\n",
       "        vertical-align: middle;\n",
       "    }\n",
       "\n",
       "    .dataframe tbody tr th {\n",
       "        vertical-align: top;\n",
       "    }\n",
       "\n",
       "    .dataframe thead th {\n",
       "        text-align: right;\n",
       "    }\n",
       "</style>\n",
       "<table border=\"1\" class=\"dataframe\">\n",
       "  <thead>\n",
       "    <tr style=\"text-align: right;\">\n",
       "      <th></th>\n",
       "      <th>Factor</th>\n",
       "      <th>Compliance</th>\n",
       "      <th>Urban</th>\n",
       "      <th>Rural</th>\n",
       "    </tr>\n",
       "  </thead>\n",
       "  <tbody>\n",
       "    <tr>\n",
       "      <th>0</th>\n",
       "      <td>0.5</td>\n",
       "      <td>0.3218</td>\n",
       "      <td>0.3333</td>\n",
       "      <td>0.2500</td>\n",
       "    </tr>\n",
       "    <tr>\n",
       "      <th>1</th>\n",
       "      <td>1.0</td>\n",
       "      <td>0.3169</td>\n",
       "      <td>0.3312</td>\n",
       "      <td>0.2174</td>\n",
       "    </tr>\n",
       "    <tr>\n",
       "      <th>2</th>\n",
       "      <td>1.5</td>\n",
       "      <td>0.1624</td>\n",
       "      <td>0.1605</td>\n",
       "      <td>0.1786</td>\n",
       "    </tr>\n",
       "  </tbody>\n",
       "</table>\n",
       "</div>"
      ],
      "text/plain": [
       "   Factor  Compliance   Urban   Rural\n",
       "0     0.5      0.3218  0.3333  0.2500\n",
       "1     1.0      0.3169  0.3312  0.2174\n",
       "2     1.5      0.1624  0.1605  0.1786"
      ]
     },
     "execution_count": 48,
     "metadata": {},
     "output_type": "execute_result"
    }
   ],
   "source": [
    "table_results()\n"
   ]
  },
  {
   "cell_type": "code",
   "execution_count": 49,
   "metadata": {},
   "outputs": [
    {
     "data": {
      "text/html": [
       "<style type=\"text/css\">\n",
       "</style>\n",
       "<table id=\"T_e333c\">\n",
       "  <thead>\n",
       "    <tr>\n",
       "      <th id=\"T_e333c_level0_col0\" class=\"col_heading level0 col0\" >Triage</th>\n",
       "      <th id=\"T_e333c_level0_col1\" class=\"col_heading level0 col1\" >Urban</th>\n",
       "      <th id=\"T_e333c_level0_col2\" class=\"col_heading level0 col2\" >Compliance</th>\n",
       "      <th id=\"T_e333c_level0_col3\" class=\"col_heading level0 col3\" >Mean (min)</th>\n",
       "      <th id=\"T_e333c_level0_col4\" class=\"col_heading level0 col4\" >Median (min)</th>\n",
       "    </tr>\n",
       "  </thead>\n",
       "  <tbody>\n",
       "    <tr>\n",
       "      <td id=\"T_e333c_row0_col0\" class=\"data row0 col0\" >A</td>\n",
       "      <td id=\"T_e333c_row0_col1\" class=\"data row0 col1\" >Yes</td>\n",
       "      <td id=\"T_e333c_row0_col2\" class=\"data row0 col2\" >16.67%</td>\n",
       "      <td id=\"T_e333c_row0_col3\" class=\"data row0 col3\" >25.22</td>\n",
       "      <td id=\"T_e333c_row0_col4\" class=\"data row0 col4\" >22.62</td>\n",
       "    </tr>\n",
       "    <tr>\n",
       "      <td id=\"T_e333c_row1_col0\" class=\"data row1 col0\" >H</td>\n",
       "      <td id=\"T_e333c_row1_col1\" class=\"data row1 col1\" >Yes</td>\n",
       "      <td id=\"T_e333c_row1_col2\" class=\"data row1 col2\" >48.72%</td>\n",
       "      <td id=\"T_e333c_row1_col3\" class=\"data row1 col3\" >32.16</td>\n",
       "      <td id=\"T_e333c_row1_col4\" class=\"data row1 col4\" >31.62</td>\n",
       "    </tr>\n",
       "    <tr>\n",
       "      <td id=\"T_e333c_row2_col0\" class=\"data row2 col0\" >V1</td>\n",
       "      <td id=\"T_e333c_row2_col1\" class=\"data row2 col1\" >Yes</td>\n",
       "      <td id=\"T_e333c_row2_col2\" class=\"data row2 col2\" >nan%</td>\n",
       "      <td id=\"T_e333c_row2_col3\" class=\"data row2 col3\" >86.71</td>\n",
       "      <td id=\"T_e333c_row2_col4\" class=\"data row2 col4\" >77.69</td>\n",
       "    </tr>\n",
       "    <tr>\n",
       "      <td id=\"T_e333c_row3_col0\" class=\"data row3 col0\" >A</td>\n",
       "      <td id=\"T_e333c_row3_col1\" class=\"data row3 col1\" >No</td>\n",
       "      <td id=\"T_e333c_row3_col2\" class=\"data row3 col2\" >16.67%</td>\n",
       "      <td id=\"T_e333c_row3_col3\" class=\"data row3 col3\" >41.43</td>\n",
       "      <td id=\"T_e333c_row3_col4\" class=\"data row3 col4\" >35.75</td>\n",
       "    </tr>\n",
       "    <tr>\n",
       "      <td id=\"T_e333c_row4_col0\" class=\"data row4 col0\" >H</td>\n",
       "      <td id=\"T_e333c_row4_col1\" class=\"data row4 col1\" >No</td>\n",
       "      <td id=\"T_e333c_row4_col2\" class=\"data row4 col2\" >33.33%</td>\n",
       "      <td id=\"T_e333c_row4_col3\" class=\"data row4 col3\" >46.20</td>\n",
       "      <td id=\"T_e333c_row4_col4\" class=\"data row4 col4\" >48.84</td>\n",
       "    </tr>\n",
       "    <tr>\n",
       "      <td id=\"T_e333c_row5_col0\" class=\"data row5 col0\" >V1</td>\n",
       "      <td id=\"T_e333c_row5_col1\" class=\"data row5 col1\" >No</td>\n",
       "      <td id=\"T_e333c_row5_col2\" class=\"data row5 col2\" >nan%</td>\n",
       "      <td id=\"T_e333c_row5_col3\" class=\"data row5 col3\" >86.20</td>\n",
       "      <td id=\"T_e333c_row5_col4\" class=\"data row5 col4\" >77.28</td>\n",
       "    </tr>\n",
       "  </tbody>\n",
       "</table>\n"
      ],
      "text/plain": [
       "<pandas.io.formats.style.Styler at 0x22e0738bdd0>"
      ]
     },
     "metadata": {},
     "output_type": "display_data"
    }
   ],
   "source": [
    "print_results(load_csv(\"events_numIncidentsFactor=0.500000\"))\n"
   ]
  },
  {
   "cell_type": "code",
   "execution_count": 50,
   "metadata": {},
   "outputs": [
    {
     "data": {
      "text/html": [
       "<style type=\"text/css\">\n",
       "</style>\n",
       "<table id=\"T_e2b00\">\n",
       "  <thead>\n",
       "    <tr>\n",
       "      <th id=\"T_e2b00_level0_col0\" class=\"col_heading level0 col0\" >Triage</th>\n",
       "      <th id=\"T_e2b00_level0_col1\" class=\"col_heading level0 col1\" >Urban</th>\n",
       "      <th id=\"T_e2b00_level0_col2\" class=\"col_heading level0 col2\" >Compliance</th>\n",
       "      <th id=\"T_e2b00_level0_col3\" class=\"col_heading level0 col3\" >Mean (min)</th>\n",
       "      <th id=\"T_e2b00_level0_col4\" class=\"col_heading level0 col4\" >Median (min)</th>\n",
       "    </tr>\n",
       "  </thead>\n",
       "  <tbody>\n",
       "    <tr>\n",
       "      <td id=\"T_e2b00_row0_col0\" class=\"data row0 col0\" >A</td>\n",
       "      <td id=\"T_e2b00_row0_col1\" class=\"data row0 col1\" >Yes</td>\n",
       "      <td id=\"T_e2b00_row0_col2\" class=\"data row0 col2\" >14.86%</td>\n",
       "      <td id=\"T_e2b00_row0_col3\" class=\"data row0 col3\" >25.40</td>\n",
       "      <td id=\"T_e2b00_row0_col4\" class=\"data row0 col4\" >24.81</td>\n",
       "    </tr>\n",
       "    <tr>\n",
       "      <td id=\"T_e2b00_row1_col0\" class=\"data row1 col0\" >H</td>\n",
       "      <td id=\"T_e2b00_row1_col1\" class=\"data row1 col1\" >Yes</td>\n",
       "      <td id=\"T_e2b00_row1_col2\" class=\"data row1 col2\" >48.84%</td>\n",
       "      <td id=\"T_e2b00_row1_col3\" class=\"data row1 col3\" >34.59</td>\n",
       "      <td id=\"T_e2b00_row1_col4\" class=\"data row1 col4\" >30.49</td>\n",
       "    </tr>\n",
       "    <tr>\n",
       "      <td id=\"T_e2b00_row2_col0\" class=\"data row2 col0\" >V1</td>\n",
       "      <td id=\"T_e2b00_row2_col1\" class=\"data row2 col1\" >Yes</td>\n",
       "      <td id=\"T_e2b00_row2_col2\" class=\"data row2 col2\" >nan%</td>\n",
       "      <td id=\"T_e2b00_row2_col3\" class=\"data row2 col3\" >71.98</td>\n",
       "      <td id=\"T_e2b00_row2_col4\" class=\"data row2 col4\" >67.20</td>\n",
       "    </tr>\n",
       "    <tr>\n",
       "      <td id=\"T_e2b00_row3_col0\" class=\"data row3 col0\" >A</td>\n",
       "      <td id=\"T_e2b00_row3_col1\" class=\"data row3 col1\" >No</td>\n",
       "      <td id=\"T_e2b00_row3_col2\" class=\"data row3 col2\" >13.33%</td>\n",
       "      <td id=\"T_e2b00_row3_col3\" class=\"data row3 col3\" >39.11</td>\n",
       "      <td id=\"T_e2b00_row3_col4\" class=\"data row3 col4\" >36.05</td>\n",
       "    </tr>\n",
       "    <tr>\n",
       "      <td id=\"T_e2b00_row4_col0\" class=\"data row4 col0\" >H</td>\n",
       "      <td id=\"T_e2b00_row4_col1\" class=\"data row4 col1\" >No</td>\n",
       "      <td id=\"T_e2b00_row4_col2\" class=\"data row4 col2\" >37.50%</td>\n",
       "      <td id=\"T_e2b00_row4_col3\" class=\"data row4 col3\" >48.47</td>\n",
       "      <td id=\"T_e2b00_row4_col4\" class=\"data row4 col4\" >44.86</td>\n",
       "    </tr>\n",
       "    <tr>\n",
       "      <td id=\"T_e2b00_row5_col0\" class=\"data row5 col0\" >V1</td>\n",
       "      <td id=\"T_e2b00_row5_col1\" class=\"data row5 col1\" >No</td>\n",
       "      <td id=\"T_e2b00_row5_col2\" class=\"data row5 col2\" >nan%</td>\n",
       "      <td id=\"T_e2b00_row5_col3\" class=\"data row5 col3\" >94.27</td>\n",
       "      <td id=\"T_e2b00_row5_col4\" class=\"data row5 col4\" >78.93</td>\n",
       "    </tr>\n",
       "  </tbody>\n",
       "</table>\n"
      ],
      "text/plain": [
       "<pandas.io.formats.style.Styler at 0x22e07374650>"
      ]
     },
     "metadata": {},
     "output_type": "display_data"
    }
   ],
   "source": [
    "print_results(load_csv(\"events_numIncidentsFactor=1.000000\"))\n"
   ]
  },
  {
   "cell_type": "code",
   "execution_count": 51,
   "metadata": {},
   "outputs": [
    {
     "data": {
      "text/html": [
       "<style type=\"text/css\">\n",
       "</style>\n",
       "<table id=\"T_b9026\">\n",
       "  <thead>\n",
       "    <tr>\n",
       "      <th id=\"T_b9026_level0_col0\" class=\"col_heading level0 col0\" >Triage</th>\n",
       "      <th id=\"T_b9026_level0_col1\" class=\"col_heading level0 col1\" >Urban</th>\n",
       "      <th id=\"T_b9026_level0_col2\" class=\"col_heading level0 col2\" >Compliance</th>\n",
       "      <th id=\"T_b9026_level0_col3\" class=\"col_heading level0 col3\" >Mean (min)</th>\n",
       "      <th id=\"T_b9026_level0_col4\" class=\"col_heading level0 col4\" >Median (min)</th>\n",
       "    </tr>\n",
       "  </thead>\n",
       "  <tbody>\n",
       "    <tr>\n",
       "      <td id=\"T_b9026_row0_col0\" class=\"data row0 col0\" >A</td>\n",
       "      <td id=\"T_b9026_row0_col1\" class=\"data row0 col1\" >Yes</td>\n",
       "      <td id=\"T_b9026_row0_col2\" class=\"data row0 col2\" >6.60%</td>\n",
       "      <td id=\"T_b9026_row0_col3\" class=\"data row0 col3\" >86.35</td>\n",
       "      <td id=\"T_b9026_row0_col4\" class=\"data row0 col4\" >29.30</td>\n",
       "    </tr>\n",
       "    <tr>\n",
       "      <td id=\"T_b9026_row1_col0\" class=\"data row1 col0\" >H</td>\n",
       "      <td id=\"T_b9026_row1_col1\" class=\"data row1 col1\" >Yes</td>\n",
       "      <td id=\"T_b9026_row1_col2\" class=\"data row1 col2\" >23.36%</td>\n",
       "      <td id=\"T_b9026_row1_col3\" class=\"data row1 col3\" >92.50</td>\n",
       "      <td id=\"T_b9026_row1_col4\" class=\"data row1 col4\" >44.77</td>\n",
       "    </tr>\n",
       "    <tr>\n",
       "      <td id=\"T_b9026_row2_col0\" class=\"data row2 col0\" >V1</td>\n",
       "      <td id=\"T_b9026_row2_col1\" class=\"data row2 col1\" >Yes</td>\n",
       "      <td id=\"T_b9026_row2_col2\" class=\"data row2 col2\" >nan%</td>\n",
       "      <td id=\"T_b9026_row2_col3\" class=\"data row2 col3\" >145.55</td>\n",
       "      <td id=\"T_b9026_row2_col4\" class=\"data row2 col4\" >87.62</td>\n",
       "    </tr>\n",
       "    <tr>\n",
       "      <td id=\"T_b9026_row3_col0\" class=\"data row3 col0\" >A</td>\n",
       "      <td id=\"T_b9026_row3_col1\" class=\"data row3 col1\" >No</td>\n",
       "      <td id=\"T_b9026_row3_col2\" class=\"data row3 col2\" >11.76%</td>\n",
       "      <td id=\"T_b9026_row3_col3\" class=\"data row3 col3\" >44.34</td>\n",
       "      <td id=\"T_b9026_row3_col4\" class=\"data row3 col4\" >41.32</td>\n",
       "    </tr>\n",
       "    <tr>\n",
       "      <td id=\"T_b9026_row4_col0\" class=\"data row4 col0\" >H</td>\n",
       "      <td id=\"T_b9026_row4_col1\" class=\"data row4 col1\" >No</td>\n",
       "      <td id=\"T_b9026_row4_col2\" class=\"data row4 col2\" >27.27%</td>\n",
       "      <td id=\"T_b9026_row4_col3\" class=\"data row4 col3\" >101.96</td>\n",
       "      <td id=\"T_b9026_row4_col4\" class=\"data row4 col4\" >63.88</td>\n",
       "    </tr>\n",
       "    <tr>\n",
       "      <td id=\"T_b9026_row5_col0\" class=\"data row5 col0\" >V1</td>\n",
       "      <td id=\"T_b9026_row5_col1\" class=\"data row5 col1\" >No</td>\n",
       "      <td id=\"T_b9026_row5_col2\" class=\"data row5 col2\" >nan%</td>\n",
       "      <td id=\"T_b9026_row5_col3\" class=\"data row5 col3\" >193.64</td>\n",
       "      <td id=\"T_b9026_row5_col4\" class=\"data row5 col4\" >116.18</td>\n",
       "    </tr>\n",
       "  </tbody>\n",
       "</table>\n"
      ],
      "text/plain": [
       "<pandas.io.formats.style.Styler at 0x22e07389350>"
      ]
     },
     "metadata": {},
     "output_type": "display_data"
    }
   ],
   "source": [
    "print_results(load_csv(\"events_numIncidentsFactor=1.500000\"))\n"
   ]
  }
 ],
 "metadata": {
  "kernelspec": {
   "display_name": ".venv",
   "language": "python",
   "name": "python3"
  },
  "language_info": {
   "codemirror_mode": {
    "name": "ipython",
    "version": 3
   },
   "file_extension": ".py",
   "mimetype": "text/x-python",
   "name": "python",
   "nbconvert_exporter": "python",
   "pygments_lexer": "ipython3",
   "version": "3.11.6"
  }
 },
 "nbformat": 4,
 "nbformat_minor": 2
}
