{
 "cells": [
  {
   "cell_type": "markdown",
   "metadata": {},
   "source": [
    "# Fix pathing"
   ]
  },
  {
   "cell_type": "code",
   "execution_count": 1,
   "metadata": {},
   "outputs": [],
   "source": [
    "import sys\n",
    "\n",
    "\n",
    "sys.path.append(\"../..\")\n"
   ]
  },
  {
   "cell_type": "code",
   "execution_count": 2,
   "metadata": {},
   "outputs": [],
   "source": [
    "import constants\n",
    "\n",
    "import os\n",
    "\n",
    "\n",
    "constants.PROJECT_DIRECTORY_PATH = os.path.dirname(os.path.dirname(os.path.dirname(os.path.dirname(constants.PROJECT_DIRECTORY_PATH))))\n"
   ]
  },
  {
   "cell_type": "markdown",
   "metadata": {},
   "source": [
    "# Imports"
   ]
  },
  {
   "cell_type": "code",
   "execution_count": 3,
   "metadata": {},
   "outputs": [],
   "source": [
    "import plotter\n",
    "import datahandler\n",
    "\n",
    "import matplotlib.pyplot\n",
    "import numpy as np\n",
    "import pandas as pd\n",
    "import seaborn as sns\n",
    "import IPython.display\n"
   ]
  },
  {
   "cell_type": "markdown",
   "metadata": {},
   "source": [
    "# Constants"
   ]
  },
  {
   "cell_type": "code",
   "execution_count": 84,
   "metadata": {},
   "outputs": [],
   "source": [
    "FOLDER_NAME = \"mv_stress_test_rds_most_NONE\"\n",
    "\n",
    "FOLDER_PATH = os.path.join(os.path.dirname(constants.PROJECT_DIRECTORY_PATH), \"Simulator\", \"data\", FOLDER_NAME)\n"
   ]
  },
  {
   "cell_type": "markdown",
   "metadata": {},
   "source": [
    "# Methods"
   ]
  },
  {
   "cell_type": "code",
   "execution_count": 85,
   "metadata": {},
   "outputs": [],
   "source": [
    "def load_csv(fileName):\n",
    "    df = pd.read_csv(os.path.join(FOLDER_PATH, fileName + \".csv\"))\n",
    "\n",
    "    response_time_cols = [\n",
    "        'duration_incident_creation',\n",
    "        'duration_resource_appointment',\n",
    "        'duration_resource_preparing_departure',\n",
    "        'duration_dispatching_to_scene'\n",
    "    ]\n",
    "    df['total_response_time'] = df[response_time_cols].sum(axis=1)\n",
    "\n",
    "    return df\n"
   ]
  },
  {
   "cell_type": "code",
   "execution_count": 86,
   "metadata": {},
   "outputs": [],
   "source": [
    "def print_results(df: pd.DataFrame):\n",
    "    # Define the criteria for response times\n",
    "    criteria = {\n",
    "        ('A', True): 12 * 60,\n",
    "        ('A', False): 25 * 60,\n",
    "        ('H', True): 30 * 60,\n",
    "        ('H', False): 40 * 60\n",
    "    }\n",
    "\n",
    "    # Function to calculate compliance for each group\n",
    "    def calculate_compliance(group, triage, urban):\n",
    "        limit = criteria.get((triage, urban))\n",
    "        if limit is not None:\n",
    "            return (group['total_response_time'] < limit).mean()\n",
    "        return None\n",
    "\n",
    "    # Calculate statistics and compliance for each group\n",
    "    results = []\n",
    "    for (triage, urban), group in df.groupby(['triage_impression_during_call', 'urban']):\n",
    "        mean = group['total_response_time'].mean()\n",
    "        median = group['total_response_time'].median()\n",
    "        compliance = calculate_compliance(group, triage, urban)\n",
    "        results.append({\n",
    "            'Triage': triage,\n",
    "            'Urban': urban,\n",
    "            'Mean (sec)': mean,\n",
    "            'Median (sec)': median,\n",
    "            'Compliance': compliance\n",
    "        })\n",
    "\n",
    "    stats = pd.DataFrame(results)\n",
    "\n",
    "    # Convert mean and median to minutes\n",
    "    stats['Mean (min)'] = (stats['Mean (sec)'] / 60)\n",
    "    stats['Median (min)'] = (stats['Median (sec)'] / 60)\n",
    "    stats.drop(columns=['Mean (sec)', 'Median (sec)'], inplace=True)\n",
    "\n",
    "    # Map urban values to Yes/No\n",
    "    stats['Urban'] = stats['Urban'].map({True: 'Yes', False: 'No'})\n",
    "    \n",
    "    # Sort values\n",
    "    stats.sort_values(by=[\"Urban\", \"Triage\"], ascending=[False, True], inplace=True)\n",
    "    \n",
    "    # Display the DataFrame\n",
    "    formatted_stats = stats.style.format({\n",
    "        'Mean (min)': \"{:.2f}\",\n",
    "        'Median (min)': \"{:.2f}\",\n",
    "        'Compliance': \"{:.2%}\"\n",
    "    }).hide(axis='index')\n",
    "    IPython.display.display(formatted_stats)\n"
   ]
  },
  {
   "cell_type": "code",
   "execution_count": 87,
   "metadata": {},
   "outputs": [],
   "source": [
    "def table_results():\n",
    "    def calculate_compliance(df, urban_filter=None):\n",
    "        if df is None:\n",
    "            return None\n",
    "\n",
    "        # Criteria for both triage types in both urban and rural settings\n",
    "        criteria = {\n",
    "            ('A', True): 12 * 60,  # 12 minutes for triage 'A' in urban areas\n",
    "            ('A', False): 25 * 60,  # 25 minutes for triage 'A' in rural areas\n",
    "            ('H', True): 30 * 60,  # 30 minutes for triage 'H' in urban areas\n",
    "            ('H', False): 40 * 60  # 40 minutes for triage 'H' in rural areas\n",
    "        }\n",
    "\n",
    "        # Initialize counters\n",
    "        total_compliant_cases = 0\n",
    "        total_cases = 0\n",
    "\n",
    "        # Check necessary columns exist\n",
    "        for urban in [True, False]:\n",
    "            if urban_filter is not None and urban != urban_filter:\n",
    "                continue\n",
    "            for triage in ['A', 'H']:\n",
    "                filtered_df = df[(df['triage_impression_during_call'] == triage) & (df['urban'] == urban)]\n",
    "                limit = criteria.get((triage, urban))\n",
    "                if not filtered_df.empty:\n",
    "                    # Count compliant cases for this triage type\n",
    "                    compliant_cases = filtered_df['total_response_time'] < limit\n",
    "                    total_compliant_cases += compliant_cases.sum()\n",
    "                    total_cases += len(filtered_df)\n",
    "\n",
    "        if total_cases > 0:\n",
    "            # Calculate overall compliance rate across both triage types\n",
    "            overall_compliance = total_compliant_cases / total_cases\n",
    "            return overall_compliance\n",
    "        else:\n",
    "            return None  # Return None if there are no cases to evaluate\n",
    "\n",
    "    # Factors to test\n",
    "    factors = [0.5, 1.0, 1.5]\n",
    "\n",
    "    results = []\n",
    "\n",
    "    for factor in factors:\n",
    "        filename = f\"events_numIncidentsFactor={factor:.6f}\"\n",
    "        df = load_csv(filename)\n",
    "        results.append({\n",
    "            \"Factor\": factor,\n",
    "            \"Compliance\": calculate_compliance(df),\n",
    "            \"Urban\": calculate_compliance(df, urban_filter=True),\n",
    "            \"Rural\": calculate_compliance(df, urban_filter=False)\n",
    "        })\n",
    "\n",
    "    # Create DataFrame\n",
    "    results_df = pd.DataFrame(results)\n",
    "\n",
    "    results_df = results_df.applymap(lambda x: round(x, 4) if isinstance(x, float) else x)\n",
    "\n",
    "    return results_df\n",
    "\n"
   ]
  },
  {
   "cell_type": "markdown",
   "metadata": {},
   "source": [
    "# Main"
   ]
  },
  {
   "cell_type": "code",
   "execution_count": 88,
   "metadata": {},
   "outputs": [
    {
     "name": "stderr",
     "output_type": "stream",
     "text": [
      "C:\\Users\\sindr\\AppData\\Local\\Temp\\ipykernel_11992\\1394679720.py:56: FutureWarning: DataFrame.applymap has been deprecated. Use DataFrame.map instead.\n",
      "  results_df = results_df.applymap(lambda x: round(x, 4) if isinstance(x, float) else x)\n"
     ]
    },
    {
     "data": {
      "text/html": [
       "<div>\n",
       "<style scoped>\n",
       "    .dataframe tbody tr th:only-of-type {\n",
       "        vertical-align: middle;\n",
       "    }\n",
       "\n",
       "    .dataframe tbody tr th {\n",
       "        vertical-align: top;\n",
       "    }\n",
       "\n",
       "    .dataframe thead th {\n",
       "        text-align: right;\n",
       "    }\n",
       "</style>\n",
       "<table border=\"1\" class=\"dataframe\">\n",
       "  <thead>\n",
       "    <tr style=\"text-align: right;\">\n",
       "      <th></th>\n",
       "      <th>Factor</th>\n",
       "      <th>Compliance</th>\n",
       "      <th>Urban</th>\n",
       "      <th>Rural</th>\n",
       "    </tr>\n",
       "  </thead>\n",
       "  <tbody>\n",
       "    <tr>\n",
       "      <th>0</th>\n",
       "      <td>0.5</td>\n",
       "      <td>0.2414</td>\n",
       "      <td>0.2267</td>\n",
       "      <td>0.3333</td>\n",
       "    </tr>\n",
       "    <tr>\n",
       "      <th>1</th>\n",
       "      <td>1.0</td>\n",
       "      <td>0.2623</td>\n",
       "      <td>0.2562</td>\n",
       "      <td>0.3043</td>\n",
       "    </tr>\n",
       "    <tr>\n",
       "      <th>2</th>\n",
       "      <td>1.5</td>\n",
       "      <td>0.1734</td>\n",
       "      <td>0.1811</td>\n",
       "      <td>0.1071</td>\n",
       "    </tr>\n",
       "  </tbody>\n",
       "</table>\n",
       "</div>"
      ],
      "text/plain": [
       "   Factor  Compliance   Urban   Rural\n",
       "0     0.5      0.2414  0.2267  0.3333\n",
       "1     1.0      0.2623  0.2562  0.3043\n",
       "2     1.5      0.1734  0.1811  0.1071"
      ]
     },
     "execution_count": 88,
     "metadata": {},
     "output_type": "execute_result"
    }
   ],
   "source": [
    "table_results()\n"
   ]
  },
  {
   "cell_type": "code",
   "execution_count": 89,
   "metadata": {},
   "outputs": [
    {
     "data": {
      "text/html": [
       "<style type=\"text/css\">\n",
       "</style>\n",
       "<table id=\"T_cf309\">\n",
       "  <thead>\n",
       "    <tr>\n",
       "      <th id=\"T_cf309_level0_col0\" class=\"col_heading level0 col0\" >Triage</th>\n",
       "      <th id=\"T_cf309_level0_col1\" class=\"col_heading level0 col1\" >Urban</th>\n",
       "      <th id=\"T_cf309_level0_col2\" class=\"col_heading level0 col2\" >Compliance</th>\n",
       "      <th id=\"T_cf309_level0_col3\" class=\"col_heading level0 col3\" >Mean (min)</th>\n",
       "      <th id=\"T_cf309_level0_col4\" class=\"col_heading level0 col4\" >Median (min)</th>\n",
       "    </tr>\n",
       "  </thead>\n",
       "  <tbody>\n",
       "    <tr>\n",
       "      <td id=\"T_cf309_row0_col0\" class=\"data row0 col0\" >A</td>\n",
       "      <td id=\"T_cf309_row0_col1\" class=\"data row0 col1\" >Yes</td>\n",
       "      <td id=\"T_cf309_row0_col2\" class=\"data row0 col2\" >8.33%</td>\n",
       "      <td id=\"T_cf309_row0_col3\" class=\"data row0 col3\" >26.03</td>\n",
       "      <td id=\"T_cf309_row0_col4\" class=\"data row0 col4\" >25.90</td>\n",
       "    </tr>\n",
       "    <tr>\n",
       "      <td id=\"T_cf309_row1_col0\" class=\"data row1 col0\" >H</td>\n",
       "      <td id=\"T_cf309_row1_col1\" class=\"data row1 col1\" >Yes</td>\n",
       "      <td id=\"T_cf309_row1_col2\" class=\"data row1 col2\" >35.90%</td>\n",
       "      <td id=\"T_cf309_row1_col3\" class=\"data row1 col3\" >39.31</td>\n",
       "      <td id=\"T_cf309_row1_col4\" class=\"data row1 col4\" >32.05</td>\n",
       "    </tr>\n",
       "    <tr>\n",
       "      <td id=\"T_cf309_row2_col0\" class=\"data row2 col0\" >V1</td>\n",
       "      <td id=\"T_cf309_row2_col1\" class=\"data row2 col1\" >Yes</td>\n",
       "      <td id=\"T_cf309_row2_col2\" class=\"data row2 col2\" >nan%</td>\n",
       "      <td id=\"T_cf309_row2_col3\" class=\"data row2 col3\" >131.22</td>\n",
       "      <td id=\"T_cf309_row2_col4\" class=\"data row2 col4\" >111.86</td>\n",
       "    </tr>\n",
       "    <tr>\n",
       "      <td id=\"T_cf309_row3_col0\" class=\"data row3 col0\" >A</td>\n",
       "      <td id=\"T_cf309_row3_col1\" class=\"data row3 col1\" >No</td>\n",
       "      <td id=\"T_cf309_row3_col2\" class=\"data row3 col2\" >16.67%</td>\n",
       "      <td id=\"T_cf309_row3_col3\" class=\"data row3 col3\" >45.91</td>\n",
       "      <td id=\"T_cf309_row3_col4\" class=\"data row3 col4\" >45.16</td>\n",
       "    </tr>\n",
       "    <tr>\n",
       "      <td id=\"T_cf309_row4_col0\" class=\"data row4 col0\" >H</td>\n",
       "      <td id=\"T_cf309_row4_col1\" class=\"data row4 col1\" >No</td>\n",
       "      <td id=\"T_cf309_row4_col2\" class=\"data row4 col2\" >50.00%</td>\n",
       "      <td id=\"T_cf309_row4_col3\" class=\"data row4 col3\" >41.49</td>\n",
       "      <td id=\"T_cf309_row4_col4\" class=\"data row4 col4\" >41.57</td>\n",
       "    </tr>\n",
       "    <tr>\n",
       "      <td id=\"T_cf309_row5_col0\" class=\"data row5 col0\" >V1</td>\n",
       "      <td id=\"T_cf309_row5_col1\" class=\"data row5 col1\" >No</td>\n",
       "      <td id=\"T_cf309_row5_col2\" class=\"data row5 col2\" >nan%</td>\n",
       "      <td id=\"T_cf309_row5_col3\" class=\"data row5 col3\" >115.40</td>\n",
       "      <td id=\"T_cf309_row5_col4\" class=\"data row5 col4\" >124.10</td>\n",
       "    </tr>\n",
       "  </tbody>\n",
       "</table>\n"
      ],
      "text/plain": [
       "<pandas.io.formats.style.Styler at 0x1d79fb11010>"
      ]
     },
     "metadata": {},
     "output_type": "display_data"
    }
   ],
   "source": [
    "print_results(load_csv(\"events_numIncidentsFactor=0.500000\"))\n"
   ]
  },
  {
   "cell_type": "code",
   "execution_count": 90,
   "metadata": {},
   "outputs": [
    {
     "data": {
      "text/html": [
       "<style type=\"text/css\">\n",
       "</style>\n",
       "<table id=\"T_81a21\">\n",
       "  <thead>\n",
       "    <tr>\n",
       "      <th id=\"T_81a21_level0_col0\" class=\"col_heading level0 col0\" >Triage</th>\n",
       "      <th id=\"T_81a21_level0_col1\" class=\"col_heading level0 col1\" >Urban</th>\n",
       "      <th id=\"T_81a21_level0_col2\" class=\"col_heading level0 col2\" >Compliance</th>\n",
       "      <th id=\"T_81a21_level0_col3\" class=\"col_heading level0 col3\" >Mean (min)</th>\n",
       "      <th id=\"T_81a21_level0_col4\" class=\"col_heading level0 col4\" >Median (min)</th>\n",
       "    </tr>\n",
       "  </thead>\n",
       "  <tbody>\n",
       "    <tr>\n",
       "      <td id=\"T_81a21_row0_col0\" class=\"data row0 col0\" >A</td>\n",
       "      <td id=\"T_81a21_row0_col1\" class=\"data row0 col1\" >Yes</td>\n",
       "      <td id=\"T_81a21_row0_col2\" class=\"data row0 col2\" >12.16%</td>\n",
       "      <td id=\"T_81a21_row0_col3\" class=\"data row0 col3\" >25.03</td>\n",
       "      <td id=\"T_81a21_row0_col4\" class=\"data row0 col4\" >21.55</td>\n",
       "    </tr>\n",
       "    <tr>\n",
       "      <td id=\"T_81a21_row1_col0\" class=\"data row1 col0\" >H</td>\n",
       "      <td id=\"T_81a21_row1_col1\" class=\"data row1 col1\" >Yes</td>\n",
       "      <td id=\"T_81a21_row1_col2\" class=\"data row1 col2\" >37.21%</td>\n",
       "      <td id=\"T_81a21_row1_col3\" class=\"data row1 col3\" >40.04</td>\n",
       "      <td id=\"T_81a21_row1_col4\" class=\"data row1 col4\" >36.83</td>\n",
       "    </tr>\n",
       "    <tr>\n",
       "      <td id=\"T_81a21_row2_col0\" class=\"data row2 col0\" >V1</td>\n",
       "      <td id=\"T_81a21_row2_col1\" class=\"data row2 col1\" >Yes</td>\n",
       "      <td id=\"T_81a21_row2_col2\" class=\"data row2 col2\" >nan%</td>\n",
       "      <td id=\"T_81a21_row2_col3\" class=\"data row2 col3\" >112.08</td>\n",
       "      <td id=\"T_81a21_row2_col4\" class=\"data row2 col4\" >97.85</td>\n",
       "    </tr>\n",
       "    <tr>\n",
       "      <td id=\"T_81a21_row3_col0\" class=\"data row3 col0\" >A</td>\n",
       "      <td id=\"T_81a21_row3_col1\" class=\"data row3 col1\" >No</td>\n",
       "      <td id=\"T_81a21_row3_col2\" class=\"data row3 col2\" >20.00%</td>\n",
       "      <td id=\"T_81a21_row3_col3\" class=\"data row3 col3\" >36.30</td>\n",
       "      <td id=\"T_81a21_row3_col4\" class=\"data row3 col4\" >34.75</td>\n",
       "    </tr>\n",
       "    <tr>\n",
       "      <td id=\"T_81a21_row4_col0\" class=\"data row4 col0\" >H</td>\n",
       "      <td id=\"T_81a21_row4_col1\" class=\"data row4 col1\" >No</td>\n",
       "      <td id=\"T_81a21_row4_col2\" class=\"data row4 col2\" >50.00%</td>\n",
       "      <td id=\"T_81a21_row4_col3\" class=\"data row4 col3\" >48.85</td>\n",
       "      <td id=\"T_81a21_row4_col4\" class=\"data row4 col4\" >47.48</td>\n",
       "    </tr>\n",
       "    <tr>\n",
       "      <td id=\"T_81a21_row5_col0\" class=\"data row5 col0\" >V1</td>\n",
       "      <td id=\"T_81a21_row5_col1\" class=\"data row5 col1\" >No</td>\n",
       "      <td id=\"T_81a21_row5_col2\" class=\"data row5 col2\" >nan%</td>\n",
       "      <td id=\"T_81a21_row5_col3\" class=\"data row5 col3\" >138.82</td>\n",
       "      <td id=\"T_81a21_row5_col4\" class=\"data row5 col4\" >134.63</td>\n",
       "    </tr>\n",
       "  </tbody>\n",
       "</table>\n"
      ],
      "text/plain": [
       "<pandas.io.formats.style.Styler at 0x1d79fb2c810>"
      ]
     },
     "metadata": {},
     "output_type": "display_data"
    }
   ],
   "source": [
    "print_results(load_csv(\"events_numIncidentsFactor=1.000000\"))\n"
   ]
  },
  {
   "cell_type": "code",
   "execution_count": 91,
   "metadata": {},
   "outputs": [
    {
     "data": {
      "text/html": [
       "<style type=\"text/css\">\n",
       "</style>\n",
       "<table id=\"T_a47f1\">\n",
       "  <thead>\n",
       "    <tr>\n",
       "      <th id=\"T_a47f1_level0_col0\" class=\"col_heading level0 col0\" >Triage</th>\n",
       "      <th id=\"T_a47f1_level0_col1\" class=\"col_heading level0 col1\" >Urban</th>\n",
       "      <th id=\"T_a47f1_level0_col2\" class=\"col_heading level0 col2\" >Compliance</th>\n",
       "      <th id=\"T_a47f1_level0_col3\" class=\"col_heading level0 col3\" >Mean (min)</th>\n",
       "      <th id=\"T_a47f1_level0_col4\" class=\"col_heading level0 col4\" >Median (min)</th>\n",
       "    </tr>\n",
       "  </thead>\n",
       "  <tbody>\n",
       "    <tr>\n",
       "      <td id=\"T_a47f1_row0_col0\" class=\"data row0 col0\" >A</td>\n",
       "      <td id=\"T_a47f1_row0_col1\" class=\"data row0 col1\" >Yes</td>\n",
       "      <td id=\"T_a47f1_row0_col2\" class=\"data row0 col2\" >9.43%</td>\n",
       "      <td id=\"T_a47f1_row0_col3\" class=\"data row0 col3\" >66.15</td>\n",
       "      <td id=\"T_a47f1_row0_col4\" class=\"data row0 col4\" >27.68</td>\n",
       "    </tr>\n",
       "    <tr>\n",
       "      <td id=\"T_a47f1_row1_col0\" class=\"data row1 col0\" >H</td>\n",
       "      <td id=\"T_a47f1_row1_col1\" class=\"data row1 col1\" >Yes</td>\n",
       "      <td id=\"T_a47f1_row1_col2\" class=\"data row1 col2\" >24.82%</td>\n",
       "      <td id=\"T_a47f1_row1_col3\" class=\"data row1 col3\" >92.53</td>\n",
       "      <td id=\"T_a47f1_row1_col4\" class=\"data row1 col4\" >49.78</td>\n",
       "    </tr>\n",
       "    <tr>\n",
       "      <td id=\"T_a47f1_row2_col0\" class=\"data row2 col0\" >V1</td>\n",
       "      <td id=\"T_a47f1_row2_col1\" class=\"data row2 col1\" >Yes</td>\n",
       "      <td id=\"T_a47f1_row2_col2\" class=\"data row2 col2\" >nan%</td>\n",
       "      <td id=\"T_a47f1_row2_col3\" class=\"data row2 col3\" >178.35</td>\n",
       "      <td id=\"T_a47f1_row2_col4\" class=\"data row2 col4\" >115.66</td>\n",
       "    </tr>\n",
       "    <tr>\n",
       "      <td id=\"T_a47f1_row3_col0\" class=\"data row3 col0\" >A</td>\n",
       "      <td id=\"T_a47f1_row3_col1\" class=\"data row3 col1\" >No</td>\n",
       "      <td id=\"T_a47f1_row3_col2\" class=\"data row3 col2\" >5.88%</td>\n",
       "      <td id=\"T_a47f1_row3_col3\" class=\"data row3 col3\" >47.30</td>\n",
       "      <td id=\"T_a47f1_row3_col4\" class=\"data row3 col4\" >37.68</td>\n",
       "    </tr>\n",
       "    <tr>\n",
       "      <td id=\"T_a47f1_row4_col0\" class=\"data row4 col0\" >H</td>\n",
       "      <td id=\"T_a47f1_row4_col1\" class=\"data row4 col1\" >No</td>\n",
       "      <td id=\"T_a47f1_row4_col2\" class=\"data row4 col2\" >18.18%</td>\n",
       "      <td id=\"T_a47f1_row4_col3\" class=\"data row4 col3\" >182.38</td>\n",
       "      <td id=\"T_a47f1_row4_col4\" class=\"data row4 col4\" >55.95</td>\n",
       "    </tr>\n",
       "    <tr>\n",
       "      <td id=\"T_a47f1_row5_col0\" class=\"data row5 col0\" >V1</td>\n",
       "      <td id=\"T_a47f1_row5_col1\" class=\"data row5 col1\" >No</td>\n",
       "      <td id=\"T_a47f1_row5_col2\" class=\"data row5 col2\" >nan%</td>\n",
       "      <td id=\"T_a47f1_row5_col3\" class=\"data row5 col3\" >160.15</td>\n",
       "      <td id=\"T_a47f1_row5_col4\" class=\"data row5 col4\" >154.19</td>\n",
       "    </tr>\n",
       "  </tbody>\n",
       "</table>\n"
      ],
      "text/plain": [
       "<pandas.io.formats.style.Styler at 0x1d79fb2e3d0>"
      ]
     },
     "metadata": {},
     "output_type": "display_data"
    }
   ],
   "source": [
    "print_results(load_csv(\"events_numIncidentsFactor=1.500000\"))\n"
   ]
  }
 ],
 "metadata": {
  "kernelspec": {
   "display_name": ".venv",
   "language": "python",
   "name": "python3"
  },
  "language_info": {
   "codemirror_mode": {
    "name": "ipython",
    "version": 3
   },
   "file_extension": ".py",
   "mimetype": "text/x-python",
   "name": "python",
   "nbconvert_exporter": "python",
   "pygments_lexer": "ipython3",
   "version": "3.11.6"
  }
 },
 "nbformat": 4,
 "nbformat_minor": 2
}
