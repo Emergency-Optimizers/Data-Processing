{
 "cells": [
  {
   "cell_type": "markdown",
   "metadata": {},
   "source": [
    "# Fix pathing"
   ]
  },
  {
   "cell_type": "code",
   "execution_count": 1,
   "metadata": {},
   "outputs": [],
   "source": [
    "import sys\n",
    "\n",
    "\n",
    "sys.path.append(\"../..\")\n"
   ]
  },
  {
   "cell_type": "code",
   "execution_count": 2,
   "metadata": {},
   "outputs": [],
   "source": [
    "import constants\n",
    "\n",
    "import os\n",
    "\n",
    "\n",
    "constants.PROJECT_DIRECTORY_PATH = os.path.dirname(os.path.dirname(os.path.dirname(os.path.dirname(constants.PROJECT_DIRECTORY_PATH))))\n"
   ]
  },
  {
   "cell_type": "markdown",
   "metadata": {},
   "source": [
    "# Imports"
   ]
  },
  {
   "cell_type": "code",
   "execution_count": 3,
   "metadata": {},
   "outputs": [],
   "source": [
    "import plotter\n",
    "import datahandler\n",
    "\n",
    "import matplotlib.pyplot\n",
    "import numpy as np\n",
    "import pandas as pd\n",
    "import seaborn as sns\n",
    "import IPython.display\n"
   ]
  },
  {
   "cell_type": "markdown",
   "metadata": {},
   "source": [
    "# Constants"
   ]
  },
  {
   "cell_type": "code",
   "execution_count": 4,
   "metadata": {},
   "outputs": [],
   "source": [
    "FOLDER_PATH = os.path.join(os.path.dirname(constants.PROJECT_DIRECTORY_PATH), \"Simulator\", \"data\")\n"
   ]
  },
  {
   "cell_type": "markdown",
   "metadata": {},
   "source": [
    "# Methods"
   ]
  },
  {
   "cell_type": "code",
   "execution_count": 5,
   "metadata": {},
   "outputs": [],
   "source": [
    "def load_csv(folder):\n",
    "    df = pd.read_csv(os.path.join(FOLDER_PATH, folder, \"ambulances.csv\"))\n",
    "\n",
    "    df[\"hours_worked\"] = df[\"seconds_worked\"] / 60 / 60\n",
    "\n",
    "    return df\n"
   ]
  },
  {
   "cell_type": "markdown",
   "metadata": {},
   "source": [
    "# Main"
   ]
  },
  {
   "cell_type": "code",
   "execution_count": 6,
   "metadata": {},
   "outputs": [],
   "source": [
    "df_lowest_false = load_csv(\"mv_uhu_cds_least_uhu=false_NONE\")\n",
    "df_average_false = load_csv(\"mv_uhu_cds_avg_uhu=false_NONE\")\n",
    "df_highest_false = load_csv(\"mv_uhu_cds_most_uhu=false_NONE\")\n",
    "\n",
    "df_lowest_true = load_csv(\"mv_uhu_cds_least_uhu=true_NONE\")\n",
    "df_average_true = load_csv(\"mv_uhu_cds_avg_uhu=true_NONE\")\n",
    "df_highest_true = load_csv(\"mv_uhu_cds_most_uhu=true_NONE\")\n"
   ]
  },
  {
   "cell_type": "code",
   "execution_count": 7,
   "metadata": {},
   "outputs": [
    {
     "name": "stdout",
     "output_type": "stream",
     "text": [
      "-1.62%\n"
     ]
    }
   ],
   "source": [
    "combined_off = pd.concat([df_lowest_false[\"hours_worked\"], df_average_false[\"hours_worked\"], df_highest_false[\"hours_worked\"]])\n",
    "combined_on = pd.concat([df_lowest_true[\"hours_worked\"], df_average_true[\"hours_worked\"], df_highest_true[\"hours_worked\"]])\n",
    "\n",
    "uhu_off = combined_off.std()\n",
    "uhu_on = combined_on.std()\n",
    "\n",
    "difference = ((uhu_on - uhu_off) / uhu_off) * 100\n",
    "\n",
    "print(f\"{difference:.2f}%\")\n"
   ]
  },
  {
   "cell_type": "code",
   "execution_count": 8,
   "metadata": {},
   "outputs": [
    {
     "name": "stdout",
     "output_type": "stream",
     "text": [
      "-8.57%\n"
     ]
    }
   ],
   "source": [
    "difference = min([\n",
    "    ((df_lowest_true[\"hours_worked\"].std() - df_lowest_false[\"hours_worked\"].std()) / df_lowest_false[\"hours_worked\"].std()) * 100,\n",
    "    ((df_average_true[\"hours_worked\"].std() - df_average_false[\"hours_worked\"].std()) / df_average_false[\"hours_worked\"].std()) * 100,\n",
    "    ((df_highest_true[\"hours_worked\"].std() - df_highest_false[\"hours_worked\"].std()) / df_highest_false[\"hours_worked\"].std()) * 100,\n",
    "])\n",
    "\n",
    "print(f\"{difference:.2f}%\")\n"
   ]
  }
 ],
 "metadata": {
  "kernelspec": {
   "display_name": ".venv",
   "language": "python",
   "name": "python3"
  },
  "language_info": {
   "codemirror_mode": {
    "name": "ipython",
    "version": 3
   },
   "file_extension": ".py",
   "mimetype": "text/x-python",
   "name": "python",
   "nbconvert_exporter": "python",
   "pygments_lexer": "ipython3",
   "version": "3.11.6"
  }
 },
 "nbformat": 4,
 "nbformat_minor": 2
}
