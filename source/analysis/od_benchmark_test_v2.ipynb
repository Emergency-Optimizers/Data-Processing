{
 "cells": [
  {
   "cell_type": "markdown",
   "metadata": {},
   "source": [
    "# Fix pathing"
   ]
  },
  {
   "cell_type": "code",
   "execution_count": 1,
   "metadata": {},
   "outputs": [],
   "source": [
    "import sys\n",
    "\n",
    "\n",
    "sys.path.append(\"..\")\n"
   ]
  },
  {
   "cell_type": "code",
   "execution_count": 2,
   "metadata": {},
   "outputs": [],
   "source": [
    "import constants\n",
    "\n",
    "import os\n",
    "\n",
    "\n",
    "constants.PROJECT_DIRECTORY_PATH = os.path.dirname(os.path.dirname(constants.PROJECT_DIRECTORY_PATH))\n"
   ]
  },
  {
   "cell_type": "markdown",
   "metadata": {},
   "source": [
    "# Imports"
   ]
  },
  {
   "cell_type": "code",
   "execution_count": 3,
   "metadata": {},
   "outputs": [],
   "source": [
    "import datahandler\n",
    "import utils\n",
    "import pathing\n",
    "\n",
    "import osmnx as ox\n",
    "import networkx\n",
    "import random\n",
    "import time\n",
    "from tqdm import tqdm\n"
   ]
  },
  {
   "cell_type": "markdown",
   "metadata": {},
   "source": [
    "# Constants"
   ]
  },
  {
   "cell_type": "code",
   "execution_count": 4,
   "metadata": {},
   "outputs": [
    {
     "name": "stderr",
     "output_type": "stream",
     "text": [
      "Cleaning dataset: 100%|██████████| 2/2 [00:00<00:00, 2010.21it/s]\n",
      "Processing dataset: 100%|██████████| 2/2 [00:00<00:00, 2003.97it/s]\n",
      "Enhancing dataset: 100%|██████████| 2/2 [00:00<?, ?it/s]\n"
     ]
    }
   ],
   "source": [
    "data_preprocessor = datahandler.DataPreprocessorOUS_V2()\n",
    "data_preprocessor.execute()\n",
    "\n",
    "data_loader = datahandler.DataLoader(datahandler.DataPreprocessorOUS_V2)\n",
    "data_loader.execute(clean=False, processed=False, enhanced=False)"
   ]
  },
  {
   "cell_type": "markdown",
   "metadata": {},
   "source": [
    "# Methods"
   ]
  },
  {
   "cell_type": "code",
   "execution_count": 5,
   "metadata": {},
   "outputs": [],
   "source": [
    "def get_node(od: pathing.OriginDestination, x, y):\n",
    "    if (x, y) in od.node_cache:\n",
    "        return od.node_cache[(x, y)]\n",
    "    \n",
    "    while True:\n",
    "        node = ox.distance.nearest_nodes(od.graph, x, y)\n",
    "        if networkx.has_path(od.graph, node, od.node_validator) and networkx.has_path(od.graph, od.node_validator, node):\n",
    "            od.node_cache[(x, y)] = node\n",
    "            return node\n",
    "        else:\n",
    "            od.graph.remove_node(node)\n"
   ]
  },
  {
   "cell_type": "code",
   "execution_count": 6,
   "metadata": {},
   "outputs": [],
   "source": [
    "def evaluate_travel_time_accuracy(benchmark_times, calculated_times):\n",
    "    total_diff = 0\n",
    "    total_diff_percentage = 0\n",
    "\n",
    "    for destination, benchmark in benchmark_times.items():\n",
    "        if destination in calculated_times:\n",
    "            calculated = calculated_times[destination]\n",
    "            diff = abs(benchmark - calculated)\n",
    "            diff_percentage = (diff / benchmark) * 100\n",
    "\n",
    "            total_diff += diff\n",
    "            total_diff_percentage += diff_percentage\n",
    "\n",
    "            print(f\"Destination {destination}:\")\n",
    "            print(f\"  Benchmark Time: {benchmark} minutes\")\n",
    "            print(f\"  Calculated Time: {calculated} minutes\")\n",
    "            print(f\"  Difference: {diff} minutes ({diff_percentage:.2f}%)\")\n",
    "            print()\n",
    "        else:\n",
    "            print(f\"Destination {destination} not found in calculated times.\")\n",
    "\n",
    "    avg_diff_percentage = total_diff_percentage / len(benchmark_times)\n",
    "    print(f\"Total Discrepancy: {total_diff} minutes across all destinations.\")\n",
    "    print(f\"Average Discrepancy Percentage: {avg_diff_percentage:.2f}%\")\n"
   ]
  },
  {
   "cell_type": "code",
   "execution_count": 7,
   "metadata": {},
   "outputs": [],
   "source": [
    "def calculate_error(od: pathing.OriginDestination, benchmark_times, start_node):\n",
    "    calculated_times = {}\n",
    "    \n",
    "    # Assuming utils and get_node functions are defined and work as intended\n",
    "    for (lon, lat), _ in benchmark_times.items():\n",
    "        # Convert geographic coordinates to UTM and get the corresponding node\n",
    "        x, y = utils.geographic_to_utm(lon, lat)\n",
    "        destination_node = get_node(od, x, y)\n",
    "\n",
    "        # Calculate the shortest path and total travel time\n",
    "        shortest_time_path = ox.shortest_path(\n",
    "            od.graph,\n",
    "            start_node,\n",
    "            destination_node,\n",
    "            weight='time'\n",
    "        )\n",
    "        total_travel_time = sum(od.graph[u][v][0]['time'] for u, v in zip(shortest_time_path[:-1], shortest_time_path[1:]))\n",
    "\n",
    "        # Store the calculated travel time\n",
    "        calculated_times[(lon, lat)] = total_travel_time\n",
    "\n",
    "    # Calculate MSE\n",
    "    errors = [abs(benchmark_times[key] - calculated_times[key]) for key in benchmark_times]\n",
    "\n",
    "    mse = sum(error ** 2 for error in errors) / len(errors)\n",
    "    \n",
    "    return mse\n"
   ]
  },
  {
   "cell_type": "code",
   "execution_count": 8,
   "metadata": {},
   "outputs": [],
   "source": [
    "def gen_linkers(road_type_factors, link_factor):\n",
    "    linkables = [\n",
    "        \"motorway\",\n",
    "        \"trunk\",\n",
    "        \"primary\",\n",
    "        \"secondary\",\n",
    "        \"tertiary\",\n",
    "    ]\n",
    "\n",
    "    for linkable in linkables:\n",
    "        road_type_factors[linkable + \"_link\"] = road_type_factors[linkable] * link_factor\n",
    "    \n",
    "    return road_type_factors\n"
   ]
  },
  {
   "cell_type": "code",
   "execution_count": 9,
   "metadata": {},
   "outputs": [],
   "source": [
    "def optimize_parameters(od: pathing.OriginDestination, benchmark_times, start_node, max_duration_minutes):\n",
    "    start_time = time.time()\n",
    "    max_duration_seconds = max_duration_minutes * 60\n",
    "    \n",
    "    # Define parameter bounds\n",
    "    param_bounds = {\n",
    "        \"default_intersection_penalty\": (5, 20),\n",
    "        \"traffic_signal_penalty\": (5, 30),\n",
    "        \"linkable_factor\": (0.75, 1.0),\n",
    "        \"road_type_factors\": {\n",
    "            \"motorway\": (0.75, 1.0),\n",
    "            \"trunk\": (0.75, 1.0),\n",
    "            \"primary\": (0.75, 1.0),\n",
    "            \"secondary\": (0.5, 0.75),\n",
    "            \"tertiary\": (0.5, 0.75),\n",
    "            \"unclassified\": (0.5, 0.75),\n",
    "            \"residential\": (0.25, 0.75),\n",
    "            \"living_street\": (0.25, 0.75)\n",
    "        }\n",
    "    }\n",
    "    \n",
    "    # Initialize the best solution\n",
    "    best_solution = None\n",
    "    best_error = float(\"inf\")\n",
    "    \n",
    "    # Progress bar\n",
    "    with tqdm(total=max_duration_seconds, desc=\"Optimizing Parameters\") as pbar:\n",
    "        while time.time() - start_time < max_duration_seconds:\n",
    "            # Generate a random solution within the bounds\n",
    "            current_solution = {\n",
    "                \"default_intersection_penalty\": random.randint(*param_bounds[\"default_intersection_penalty\"]),\n",
    "                \"traffic_signal_penalty\": random.randint(*param_bounds[\"traffic_signal_penalty\"]),\n",
    "                \"road_type_factors\": {k: random.uniform(*v) for k, v in param_bounds[\"road_type_factors\"].items()}\n",
    "            }\n",
    "            linkable_factor = random.uniform(*param_bounds[\"linkable_factor\"])\n",
    "\n",
    "            current_solution[\"road_type_factors\"] = gen_linkers(current_solution[\"road_type_factors\"], linkable_factor)\n",
    "            \n",
    "            # Set graph weights with the current solution\n",
    "            od.set_graph_weights_v2(**current_solution)\n",
    "            \n",
    "            # Calculate the error for the current solution\n",
    "            current_error = calculate_error(od, benchmark_times, start_node)\n",
    "            \n",
    "            # Update best solution if the current one is better\n",
    "            if current_error < best_error:\n",
    "                best_solution = current_solution\n",
    "                best_error = current_error\n",
    "                tqdm.write(\n",
    "                    f\"    New best solution:\\n\"\n",
    "                    f\"        Default Intersection Penalty: {best_solution['default_intersection_penalty']}\\n\"\n",
    "                    f\"        Traffic Signal Penalty: {best_solution['traffic_signal_penalty']}\\n\"\n",
    "                    f\"        Road Type Factors:\\n\"\n",
    "                    + \"\\n\".join([f\"            {k}: {v}\" for k, v in best_solution['road_type_factors'].items()]) +\n",
    "                    f\"\\n        With error: {best_error}\"\n",
    "                )\n",
    "            \n",
    "            # Update progress bar\n",
    "            pbar.update(time.time() - start_time - pbar.n)\n",
    "            \n",
    "            # Exit loop if the maximum duration is exceeded\n",
    "            if pbar.n >= max_duration_seconds:\n",
    "                break\n",
    "    \n",
    "    return best_solution, best_error\n"
   ]
  },
  {
   "cell_type": "markdown",
   "metadata": {},
   "source": [
    "# Main"
   ]
  },
  {
   "cell_type": "code",
   "execution_count": 10,
   "metadata": {},
   "outputs": [],
   "source": [
    "od = pathing.OriginDestination(\n",
    "    dataset_id=\"oslo\",\n",
    "    utm_epsg=f\"EPSG:326{33}\"\n",
    ")\n",
    "\n",
    "od.get_graph()\n",
    "\n",
    "central_depot_grid_id = 22620006649000\n",
    "central_depot_x, central_depot_y = utils.id_to_utm(central_depot_grid_id)\n",
    "od.node_validator = ox.distance.nearest_nodes(od.graph, central_depot_x, central_depot_y)\n"
   ]
  },
  {
   "cell_type": "code",
   "execution_count": 11,
   "metadata": {},
   "outputs": [],
   "source": [
    "x, y = utils.geographic_to_utm(10.7343661, 59.9369806)\n",
    "start_node = get_node(od, x, y)\n",
    "\n",
    "benchmark_times = {\n",
    "    (10.6572104, 59.6800045): 40,\n",
    "    (10.6661424, 59.8598299): 60,\n",
    "    (10.4852080, 59.8073283): 35,\n",
    "    (11.8086592, 60.2271721): 68,\n",
    "    (10.7193651, 60.1973847): 53,\n",
    "    (10.7622022, 60.0035569): 14\n",
    "}\n"
   ]
  },
  {
   "cell_type": "code",
   "execution_count": 12,
   "metadata": {},
   "outputs": [
    {
     "name": "stderr",
     "output_type": "stream",
     "text": [
      "Optimizing Parameters:  15%|█▍        | 8.723611831665039/60 [00:08<00:51,  1.00it/s]"
     ]
    },
    {
     "name": "stdout",
     "output_type": "stream",
     "text": [
      "    New best solution:\n",
      "        Default Intersection Penalty: 14\n",
      "        Traffic Signal Penalty: 16\n",
      "        Road Type Factors:\n",
      "            motorway: 0.7523587491819068\n",
      "            trunk: 0.7862210745507554\n",
      "            primary: 0.7705193704887314\n",
      "            secondary: 0.5140308158211166\n",
      "            tertiary: 0.6320448341025829\n",
      "            unclassified: 0.7155955425163079\n",
      "            residential: 0.7194432660756624\n",
      "            living_street: 0.4067165954020093\n",
      "            motorway_link: 0.7059187111810864\n",
      "            trunk_link: 0.7376908532714984\n",
      "            primary_link: 0.7229583513807936\n",
      "            secondary_link: 0.48230178941412305\n",
      "            tertiary_link: 0.5930312835246666\n",
      "        With error: 178.18604920415916\n"
     ]
    },
    {
     "name": "stderr",
     "output_type": "stream",
     "text": [
      "Optimizing Parameters:  21%|██        | 12.357666969299316/60 [00:12<00:47,  1.00it/s]"
     ]
    },
    {
     "name": "stdout",
     "output_type": "stream",
     "text": [
      "    New best solution:\n",
      "        Default Intersection Penalty: 11\n",
      "        Traffic Signal Penalty: 10\n",
      "        Road Type Factors:\n",
      "            motorway: 0.8532718504756684\n",
      "            trunk: 0.8448146692720017\n",
      "            primary: 0.9236827478601958\n",
      "            secondary: 0.6878716543520392\n",
      "            tertiary: 0.5141160986750725\n",
      "            unclassified: 0.6428882122654791\n",
      "            residential: 0.37815935925124433\n",
      "            living_street: 0.7281979154856979\n",
      "            motorway_link: 0.7347357272236807\n",
      "            trunk_link: 0.7274534136462733\n",
      "            primary_link: 0.795365175933905\n",
      "            secondary_link: 0.5923128483790452\n",
      "            tertiary_link: 0.4426953325916644\n",
      "        With error: 75.44653564614828\n"
     ]
    },
    {
     "name": "stderr",
     "output_type": "stream",
     "text": [
      "Optimizing Parameters:  27%|██▋       | 16.20295739173889/60 [00:16<00:43,  1.00it/s] "
     ]
    },
    {
     "name": "stdout",
     "output_type": "stream",
     "text": [
      "    New best solution:\n",
      "        Default Intersection Penalty: 19\n",
      "        Traffic Signal Penalty: 9\n",
      "        Road Type Factors:\n",
      "            motorway: 0.9087436471168079\n",
      "            trunk: 0.9447237037066691\n",
      "            primary: 0.8474458936322875\n",
      "            secondary: 0.6888521073912702\n",
      "            tertiary: 0.6854827770799679\n",
      "            unclassified: 0.5281298088080688\n",
      "            residential: 0.4561767333316043\n",
      "            living_street: 0.6375314966721741\n",
      "            motorway_link: 0.7073441781731766\n",
      "            trunk_link: 0.7353501880527796\n",
      "            primary_link: 0.6596314825191988\n",
      "            secondary_link: 0.5361858972345676\n",
      "            tertiary_link: 0.5335632916322025\n",
      "        With error: 48.93608499337392\n"
     ]
    },
    {
     "name": "stderr",
     "output_type": "stream",
     "text": [
      "Optimizing Parameters:  32%|███▏      | 19.464641094207764/60 [00:19<00:40,  1.00it/s]"
     ]
    },
    {
     "name": "stdout",
     "output_type": "stream",
     "text": [
      "    New best solution:\n",
      "        Default Intersection Penalty: 10\n",
      "        Traffic Signal Penalty: 20\n",
      "        Road Type Factors:\n",
      "            motorway: 0.8937931995556349\n",
      "            trunk: 0.9811519611808105\n",
      "            primary: 0.7914589345215217\n",
      "            secondary: 0.6361529729726295\n",
      "            tertiary: 0.5371332310671773\n",
      "            unclassified: 0.5944898484084661\n",
      "            residential: 0.44605465918155396\n",
      "            living_street: 0.5631715781437201\n",
      "            motorway_link: 0.711867899143142\n",
      "            trunk_link: 0.7814454011209799\n",
      "            primary_link: 0.6303630518290099\n",
      "            secondary_link: 0.5066685231313414\n",
      "            tertiary_link: 0.42780355114567925\n",
      "        With error: 36.95884865217546\n"
     ]
    },
    {
     "name": "stderr",
     "output_type": "stream",
     "text": [
      "Optimizing Parameters:  83%|████████▎ | 49.53409957885742/60 [00:49<00:10,  1.00it/s] "
     ]
    },
    {
     "name": "stdout",
     "output_type": "stream",
     "text": [
      "    New best solution:\n",
      "        Default Intersection Penalty: 10\n",
      "        Traffic Signal Penalty: 18\n",
      "        Road Type Factors:\n",
      "            motorway: 0.8266669543563125\n",
      "            trunk: 0.9895018372104942\n",
      "            primary: 0.8094856939227552\n",
      "            secondary: 0.5341171531025775\n",
      "            tertiary: 0.7400324282726038\n",
      "            unclassified: 0.5628282547805638\n",
      "            residential: 0.5669180967251916\n",
      "            living_street: 0.5460711797725011\n",
      "            motorway_link: 0.7210574902781329\n",
      "            trunk_link: 0.8630896730596429\n",
      "            primary_link: 0.7060711932418828\n",
      "            secondary_link: 0.46588190310634603\n",
      "            tertiary_link: 0.6454908142181278\n",
      "        With error: 36.101032570702024\n"
     ]
    },
    {
     "name": "stderr",
     "output_type": "stream",
     "text": [
      "Optimizing Parameters: 100%|█████████▉| 59.926435470581055/60 [00:59<00:00,  1.00it/s]"
     ]
    },
    {
     "name": "stdout",
     "output_type": "stream",
     "text": [
      "    New best solution:\n",
      "        Default Intersection Penalty: 9\n",
      "        Traffic Signal Penalty: 6\n",
      "        Road Type Factors:\n",
      "            motorway: 0.9614682201862459\n",
      "            trunk: 0.9299403221139196\n",
      "            primary: 0.8931321884184713\n",
      "            secondary: 0.5232343633373289\n",
      "            tertiary: 0.7194797357417648\n",
      "            unclassified: 0.5785951162356147\n",
      "            residential: 0.3568164275409318\n",
      "            living_street: 0.30230075317088123\n",
      "            motorway_link: 0.9324388163904462\n",
      "            trunk_link: 0.9018628333838068\n",
      "            primary_link: 0.8661660397759258\n",
      "            secondary_link: 0.5074364604069386\n",
      "            tertiary_link: 0.6977566383650288\n",
      "        With error: 32.138742909857626\n"
     ]
    },
    {
     "name": "stderr",
     "output_type": "stream",
     "text": [
      "Optimizing Parameters: 63.89891958236694it [01:03,  1.00it/s]                         \n"
     ]
    }
   ],
   "source": [
    "best_solution, best_error = optimize_parameters(\n",
    "    od,\n",
    "    benchmark_times,\n",
    "    start_node,\n",
    "    max_duration_minutes=1\n",
    ")\n"
   ]
  },
  {
   "cell_type": "code",
   "execution_count": 14,
   "metadata": {},
   "outputs": [
    {
     "name": "stdout",
     "output_type": "stream",
     "text": [
      "Destination (10.6572104, 59.6800045):\n",
      "  Benchmark Time: 40 minutes\n",
      "  Calculated Time: 44.53320427050637 minutes\n",
      "  Difference: 4.533204270506367 minutes (11.33%)\n",
      "\n",
      "Destination (10.6661424, 59.8598299):\n",
      "  Benchmark Time: 60 minutes\n",
      "  Calculated Time: 58.32057058848948 minutes\n",
      "  Difference: 1.6794294115105188 minutes (2.80%)\n",
      "\n",
      "Destination (10.485208, 59.8073283):\n",
      "  Benchmark Time: 35 minutes\n",
      "  Calculated Time: 32.67541773845802 minutes\n",
      "  Difference: 2.324582261541977 minutes (6.64%)\n",
      "\n",
      "Destination (11.8086592, 60.2271721):\n",
      "  Benchmark Time: 68 minutes\n",
      "  Calculated Time: 79.0054808214622 minutes\n",
      "  Difference: 11.0054808214622 minutes (16.18%)\n",
      "\n",
      "Destination (10.7193651, 60.1973847):\n",
      "  Benchmark Time: 53 minutes\n",
      "  Calculated Time: 55.003349126789395 minutes\n",
      "  Difference: 2.003349126789395 minutes (3.78%)\n",
      "\n",
      "Destination (10.7622022, 60.0035569):\n",
      "  Benchmark Time: 14 minutes\n",
      "  Calculated Time: 20.238936994930008 minutes\n",
      "  Difference: 6.2389369949300075 minutes (44.56%)\n",
      "\n",
      "Total Discrepancy: 27.784982886740465 minutes across all destinations.\n",
      "Average Discrepancy Percentage: 14.22%\n"
     ]
    }
   ],
   "source": [
    "od.set_graph_weights_v2(**best_solution)\n",
    "\n",
    "calculated_times = {}\n",
    "\n",
    "for lon, lat in benchmark_times.keys():\n",
    "    # gets destination node for UTM coordinates\n",
    "    x, y = utils.geographic_to_utm(lon, lat)\n",
    "    destination_node = get_node(od, x, y)\n",
    "\n",
    "    # get path of nodes from start node to destination node\n",
    "    shortest_time_path = ox.shortest_path(\n",
    "        od.graph,\n",
    "        start_node,\n",
    "        destination_node,\n",
    "        weight='time'\n",
    "    )\n",
    "\n",
    "    # caclulate travel time between start and destination node and cache the result\n",
    "    total_travel_time = sum(od.graph[u][v][0]['time'] for u, v in zip(shortest_time_path[:-1], shortest_time_path[1:]))\n",
    "    calculated_times[(lon, lat)] = total_travel_time\n",
    "    \n",
    "evaluate_travel_time_accuracy(benchmark_times, calculated_times)\n"
   ]
  }
 ],
 "metadata": {
  "kernelspec": {
   "display_name": ".venv",
   "language": "python",
   "name": "python3"
  },
  "language_info": {
   "codemirror_mode": {
    "name": "ipython",
    "version": 3
   },
   "file_extension": ".py",
   "mimetype": "text/x-python",
   "name": "python",
   "nbconvert_exporter": "python",
   "pygments_lexer": "ipython3",
   "version": "3.11.7"
  }
 },
 "nbformat": 4,
 "nbformat_minor": 2
}
