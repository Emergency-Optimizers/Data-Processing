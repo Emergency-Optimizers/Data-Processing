{
 "cells": [
  {
   "cell_type": "markdown",
   "metadata": {},
   "source": [
    "# Fix pathing"
   ]
  },
  {
   "cell_type": "code",
   "execution_count": 1,
   "metadata": {},
   "outputs": [],
   "source": [
    "import sys\n",
    "\n",
    "\n",
    "sys.path.append(\"..\")\n"
   ]
  },
  {
   "cell_type": "code",
   "execution_count": 2,
   "metadata": {},
   "outputs": [],
   "source": [
    "import constants\n",
    "\n",
    "import os\n",
    "\n",
    "\n",
    "constants.PROJECT_DIRECTORY_PATH = os.path.dirname(os.path.dirname(constants.PROJECT_DIRECTORY_PATH))\n"
   ]
  },
  {
   "cell_type": "markdown",
   "metadata": {},
   "source": [
    "# Imports"
   ]
  },
  {
   "cell_type": "code",
   "execution_count": 3,
   "metadata": {},
   "outputs": [],
   "source": [
    "import datahandler\n",
    "import utils\n",
    "import pathing\n",
    "\n",
    "import osmnx as ox\n",
    "import networkx\n",
    "import random\n",
    "import time\n",
    "from tqdm import tqdm\n"
   ]
  },
  {
   "cell_type": "markdown",
   "metadata": {},
   "source": [
    "# Constants"
   ]
  },
  {
   "cell_type": "code",
   "execution_count": 4,
   "metadata": {},
   "outputs": [
    {
     "name": "stderr",
     "output_type": "stream",
     "text": [
      "Cleaning dataset: 100%|██████████| 2/2 [00:00<00:00, 1002.46it/s]\n",
      "Processing dataset: 100%|██████████| 2/2 [00:00<00:00, 1001.62it/s]\n",
      "Enhancing dataset: 100%|██████████| 2/2 [00:00<?, ?it/s]\n"
     ]
    }
   ],
   "source": [
    "data_preprocessor = datahandler.DataPreprocessorOUS_V2()\n",
    "data_preprocessor.execute()\n",
    "\n",
    "data_loader = datahandler.DataLoader(datahandler.DataPreprocessorOUS_V2)\n",
    "data_loader.execute(clean=False, processed=False, enhanced=False)"
   ]
  },
  {
   "cell_type": "markdown",
   "metadata": {},
   "source": [
    "# Methods"
   ]
  },
  {
   "cell_type": "code",
   "execution_count": 5,
   "metadata": {},
   "outputs": [],
   "source": [
    "def get_node(od: pathing.OriginDestination, x, y):\n",
    "    if (x, y) in od.node_cache:\n",
    "        return od.node_cache[(x, y)]\n",
    "    \n",
    "    while True:\n",
    "        node = ox.distance.nearest_nodes(od.graph, x, y)\n",
    "        if networkx.has_path(od.graph, node, od.node_validator) and networkx.has_path(od.graph, od.node_validator, node):\n",
    "            od.node_cache[(x, y)] = node\n",
    "            return node\n",
    "        else:\n",
    "            od.graph.remove_node(node)\n"
   ]
  },
  {
   "cell_type": "code",
   "execution_count": 6,
   "metadata": {},
   "outputs": [],
   "source": [
    "def gen_linkers(road_type_factors, link_factor):\n",
    "    linkables = [\n",
    "        \"motorway\",\n",
    "        \"trunk\",\n",
    "        \"primary\",\n",
    "        \"secondary\",\n",
    "        \"tertiary\",\n",
    "    ]\n",
    "\n",
    "    for linkable in linkables:\n",
    "        if linkable in road_type_factors:\n",
    "            road_type_factors[linkable + \"_link\"] = road_type_factors[linkable] * link_factor\n",
    "    \n",
    "    return road_type_factors\n"
   ]
  },
  {
   "cell_type": "code",
   "execution_count": 7,
   "metadata": {},
   "outputs": [],
   "source": [
    "def evaluate_travel_time_accuracy(benchmark_times, calculated_times):\n",
    "    total_diff = 0\n",
    "    total_diff_percentage = 0\n",
    "\n",
    "    for path, acceptable_range in benchmark_times.items():\n",
    "        if path in calculated_times:\n",
    "\n",
    "            calculated_time = calculated_times[path]\n",
    "            lower_bound, upper_bound = acceptable_range\n",
    "\n",
    "            # Check if the calculated time falls within the acceptable range\n",
    "            if lower_bound <= calculated_time <= upper_bound:\n",
    "                diff = 0\n",
    "                diff_percentage = 0\n",
    "            else:\n",
    "                # If outside the range, find the smallest absolute difference to the bounds\n",
    "                diff = min(abs(calculated_time - lower_bound), abs(calculated_time - upper_bound))\n",
    "                diff_percentage = min((diff / lower_bound) * 100, (diff / upper_bound) * 100)\n",
    "\n",
    "            total_diff += diff\n",
    "            total_diff_percentage += diff_percentage\n",
    "\n",
    "            print(f\"Path {path}:\")\n",
    "            print(f\"  Benchmark Time: {acceptable_range} minutes\")\n",
    "            print(f\"  Calculated Time: {calculated_time} minutes\")\n",
    "            print(f\"  Difference: {diff} minutes ({diff_percentage:.2f}%)\")\n",
    "            print()\n",
    "        else:\n",
    "            print(f\"Path {path} not found in calculated times.\")\n",
    "\n",
    "    avg_diff_percentage = total_diff_percentage / len(benchmark_times)\n",
    "    print(f\"Total Discrepancy: {total_diff} minutes across all paths.\")\n",
    "    print(f\"Average Discrepancy Percentage: {avg_diff_percentage:.2f}%\")\n"
   ]
  },
  {
   "cell_type": "code",
   "execution_count": 8,
   "metadata": {},
   "outputs": [],
   "source": [
    "def calculate_error(od: pathing.OriginDestination, benchmark_times):\n",
    "    calculated_times = {}\n",
    "    \n",
    "    # Assuming utils and get_node functions are defined and work as intended\n",
    "    for ((start_lon, start_lat), (end_lon, end_lat)), _ in benchmark_times.items():\n",
    "        # Convert geographic coordinates to UTM and get the corresponding node\n",
    "        start_x, start_y = utils.geographic_to_utm(start_lon, start_lat)\n",
    "        end_x, end_y = utils.geographic_to_utm(end_lon, end_lat)\n",
    "\n",
    "        start_node = get_node(od, start_x, start_y)\n",
    "        end_node = get_node(od, end_x, end_y)\n",
    "\n",
    "        # Calculate the shortest path and total travel time\n",
    "        shortest_time_path = ox.shortest_path(\n",
    "            od.graph,\n",
    "            start_node,\n",
    "            end_node,\n",
    "            weight='time'\n",
    "        )\n",
    "        total_travel_time = sum(od.graph[u][v][0]['time'] for u, v in zip(shortest_time_path[:-1], shortest_time_path[1:]))\n",
    "\n",
    "        # Store the calculated travel time\n",
    "        calculated_times[((start_lon, start_lat), (end_lon, end_lat))] = total_travel_time\n",
    "\n",
    "    # Calculate MSE\n",
    "    errors = []\n",
    "\n",
    "    for path, acceptable_range in benchmark_times.items():\n",
    "        calculated_time = calculated_times[path]\n",
    "        lower_bound, upper_bound = acceptable_range\n",
    "\n",
    "        # Check if the calculated time falls within the acceptable range\n",
    "        if lower_bound <= calculated_time <= upper_bound:\n",
    "            error = 0\n",
    "        else:\n",
    "            # If outside the range, find the smallest absolute difference to the bounds\n",
    "            error = min(abs(calculated_time - lower_bound), abs(calculated_time - upper_bound))\n",
    "        \n",
    "        errors.append(error)\n",
    "\n",
    "    mse = sum(error ** 2 for error in errors) / len(errors)\n",
    "    \n",
    "    return mse, calculated_times\n"
   ]
  },
  {
   "cell_type": "code",
   "execution_count": 9,
   "metadata": {},
   "outputs": [],
   "source": [
    "def optimize_parameters(od: pathing.OriginDestination, benchmark_times, max_duration_minutes):\n",
    "    start_time = time.time()\n",
    "    max_duration_seconds = max_duration_minutes * 60\n",
    "    \n",
    "    # Define parameter bounds\n",
    "    param_bounds = {\n",
    "        \"default_intersection_penalty\": (1, 15),\n",
    "        \"traffic_signal_penalty\": (1, 15),\n",
    "        \"linkable_factor\": (0.8, 1.0),\n",
    "        \"road_type_factors\": {\n",
    "            \"motorway\": (0.9, 1.0),\n",
    "            \"trunk\": (0.9, 1.0),\n",
    "            \"primary\": (0.7, 0.9),\n",
    "            \"secondary\": (0.7, 0.9),\n",
    "            \"tertiary\": (0.7, 0.9),\n",
    "            \"unclassified\": (0.6, 0.8),\n",
    "            \"residential\": (0.5, 0.7),\n",
    "            \"living_street\": (0.3, 0.5)\n",
    "        }\n",
    "    }\n",
    "    \n",
    "    # Initialize the best solution\n",
    "    best_solution = None\n",
    "    best_error = float(\"inf\")\n",
    "    \n",
    "    # Progress bar\n",
    "    with tqdm(desc=\"Optimizing Parameters\") as pbar:\n",
    "        while time.time() - start_time < max_duration_seconds:\n",
    "            # Generate a random solution within the bounds\n",
    "            current_solution = {\n",
    "                \"default_intersection_penalty\": random.randint(*param_bounds[\"default_intersection_penalty\"]),\n",
    "                \"traffic_signal_penalty\": random.randint(*param_bounds[\"traffic_signal_penalty\"]),\n",
    "                \"road_type_factors\": {k: random.uniform(*v) for k, v in param_bounds[\"road_type_factors\"].items()}\n",
    "            }\n",
    "            linkable_factor = random.uniform(*param_bounds[\"linkable_factor\"])\n",
    "\n",
    "            current_solution[\"road_type_factors\"] = gen_linkers(current_solution[\"road_type_factors\"], linkable_factor)\n",
    "            \n",
    "            # Set graph weights with the current solution\n",
    "            od.set_graph_weights_v2(**current_solution)\n",
    "            \n",
    "            # Calculate the error for the current solution\n",
    "            current_error, _ = calculate_error(od, benchmark_times)\n",
    "            \n",
    "            # Update best solution if the current one is better\n",
    "            if current_error < best_error:\n",
    "                best_solution = current_solution\n",
    "                best_linkable_factor = linkable_factor\n",
    "                best_error = current_error\n",
    "                tqdm.write(\n",
    "                    f\"    New best solution:\\n\"\n",
    "                    f\"        Default Intersection Penalty: {best_solution['default_intersection_penalty']}\\n\"\n",
    "                    f\"        Traffic Signal Penalty: {best_solution['traffic_signal_penalty']}\\n\"\n",
    "                    f\"        Linkable Factor: {best_linkable_factor}\\n\"\n",
    "                    f\"        Road Type Factors:\\n\"\n",
    "                    + \"\\n\".join([f\"            {k}: {v}\" for k, v in best_solution['road_type_factors'].items()]) +\n",
    "                    f\"\\n        Error: {best_error}\"\n",
    "                )\n",
    "            \n",
    "            # Update progress bar\n",
    "            pbar.update()\n",
    "\n",
    "            # early stop\n",
    "            if current_error == 0:\n",
    "                break\n",
    "    \n",
    "    return best_solution, best_error\n"
   ]
  },
  {
   "cell_type": "code",
   "execution_count": 10,
   "metadata": {},
   "outputs": [],
   "source": [
    "def fix_lat_lon(benchmark_times):\n",
    "    new_benchmark_times = {}\n",
    "\n",
    "    for ((start_lat, start_lon), (end_lat, end_lon)), benchmark in benchmark_times.items():\n",
    "        new_benchmark_times[((start_lon, start_lat), (end_lon, end_lat))] = benchmark\n",
    "\n",
    "    return new_benchmark_times"
   ]
  },
  {
   "cell_type": "markdown",
   "metadata": {},
   "source": [
    "# Main"
   ]
  },
  {
   "cell_type": "code",
   "execution_count": 11,
   "metadata": {},
   "outputs": [],
   "source": [
    "od = pathing.OriginDestination(\n",
    "    dataset_id=\"oslo\",\n",
    "    utm_epsg=f\"EPSG:326{33}\"\n",
    ")\n",
    "\n",
    "od.get_graph()\n",
    "\n",
    "central_depot_grid_id = 22620006649000\n",
    "central_depot_x, central_depot_y = utils.id_to_utm(central_depot_grid_id)\n",
    "od.node_validator = ox.distance.nearest_nodes(od.graph, central_depot_x, central_depot_y)\n"
   ]
  },
  {
   "cell_type": "code",
   "execution_count": 15,
   "metadata": {},
   "outputs": [],
   "source": [
    "# times from Google Maps (Sunday, start at 02:00)\n",
    "benchmark_times = {\n",
    "    ((59.9369806, 10.7343661), (59.6800045, 10.6572104)): (35, 45),\n",
    "    ((59.93596, 10.73244), (59.92629, 10.77570)): (4, 9),\n",
    "    ((59.90864, 10.73921), (59.93037, 10.77273)): (9, 16),\n",
    "    ((59.92727, 10.73174), (59.86305, 10.66617)): (50, 60),\n",
    "    ((59.82052, 10.47168), (59.95577, 11.04773)): (40, 50),\n",
    "    ((60.00352, 10.76216), (59.83905, 10.80742)): (28, 28),\n",
    "\n",
    "    ((60.31262, 11.14674), (60.11964, 11.47577)): (40, 40),\n",
    "    ((60.11964, 11.47577), (60.13423, 11.166858)): (22, 26),\n",
    "    ((60.13423, 11.166858), (59.879044, 11.561687)): (50, 50),\n",
    "    ((59.879044, 11.561687), (59.932076, 10.987775)): (40, 40),\n",
    "    ((59.932076, 10.987775), (60.042152, 10.880784)): (20, 22),\n",
    "    ((60.042152, 10.880784), (59.930733, 10.831094)): (20, 20),\n",
    "    ((59.930733, 10.831094), (59.917, 10.758744)): (9, 14),\n",
    "    ((59.917, 10.758744), (59.93917, 10.741926)): (7, 14),\n",
    "    ((59.93917, 10.741926), (59.71566, 10.853331)): (35, 35),\n",
    "    ((59.71566, 10.853331), (59.659687, 10.725881)): (18, 18),\n",
    "    ((59.659687, 10.725881), (59.833073, 10.806946)): (22, 22),\n",
    "    ((59.833073, 10.806946), (59.830055, 10.439887)): (30, 40),\n",
    "    ((59.830055, 10.439887), (59.89813, 10.509723)): (14, 14),\n",
    "    ((59.89813, 10.509723), (59.939663, 10.687367)): (16, 20),\n",
    "    ((59.939663, 10.687367), (59.893173, 10.806364)): (12, 16),\n",
    "    ((59.893173, 10.806364), (59.960304, 10.884091)): (12, 18),\n",
    "    ((59.960304, 10.884091), (59.997875, 11.03928)): (20, 20),\n",
    "    ((59.997875, 11.03928), (59.917873, 10.585751)): (28, 35),\n",
    "    ((59.917873, 10.585751), (60.31262, 11.14674)): (55, 65),\n",
    "}\n",
    "\n",
    "benchmark_times = fix_lat_lon(benchmark_times)\n"
   ]
  },
  {
   "cell_type": "code",
   "execution_count": 16,
   "metadata": {},
   "outputs": [
    {
     "name": "stderr",
     "output_type": "stream",
     "text": [
      "Optimizing Parameters: 0it [00:00, ?it/s]"
     ]
    },
    {
     "name": "stderr",
     "output_type": "stream",
     "text": [
      "Optimizing Parameters: 1it [00:10, 10.36s/it]"
     ]
    },
    {
     "name": "stdout",
     "output_type": "stream",
     "text": [
      "    New best solution:\n",
      "        Default Intersection Penalty: 14\n",
      "        Traffic Signal Penalty: 2\n",
      "        Linkable Factor: 0.8827425342942617\n",
      "        Road Type Factors:\n",
      "            motorway: 0.9301923340748466\n",
      "            trunk: 0.9278754271707412\n",
      "            primary: 0.7134005967671256\n",
      "            secondary: 0.7061657944818038\n",
      "            tertiary: 0.835539790384278\n",
      "            unclassified: 0.6167638947426751\n",
      "            residential: 0.698745246855365\n",
      "            living_street: 0.3498060314750464\n",
      "            motorway_link: 0.8211203383623247\n",
      "            trunk_link: 0.8190751060900708\n",
      "            primary_link: 0.6297490507572512\n",
      "            secondary_link: 0.6233625830527884\n",
      "            tertiary_link: 0.7375665120675138\n",
      "        Error: 12.508052191914619\n"
     ]
    },
    {
     "name": "stderr",
     "output_type": "stream",
     "text": [
      "Optimizing Parameters: 2it [00:19,  9.77s/it]"
     ]
    },
    {
     "name": "stdout",
     "output_type": "stream",
     "text": [
      "    New best solution:\n",
      "        Default Intersection Penalty: 11\n",
      "        Traffic Signal Penalty: 5\n",
      "        Linkable Factor: 0.8818405704433173\n",
      "        Road Type Factors:\n",
      "            motorway: 0.9722804896990507\n",
      "            trunk: 0.9820489683880131\n",
      "            primary: 0.7114713449372677\n",
      "            secondary: 0.8103050474834286\n",
      "            tertiary: 0.855243256658168\n",
      "            unclassified: 0.6174152737498894\n",
      "            residential: 0.6375312071114709\n",
      "            living_street: 0.4323558034783087\n",
      "            motorway_link: 0.8573963816671187\n",
      "            trunk_link: 0.8660106224865568\n",
      "            primary_link: 0.6274042966735544\n",
      "            secondary_link: 0.714559865305886\n",
      "            tertiary_link: 0.7541882013192394\n",
      "        Error: 7.661986585632746\n"
     ]
    },
    {
     "name": "stderr",
     "output_type": "stream",
     "text": [
      "Optimizing Parameters: 3it [00:29, 10.00s/it]"
     ]
    },
    {
     "name": "stdout",
     "output_type": "stream",
     "text": [
      "    New best solution:\n",
      "        Default Intersection Penalty: 15\n",
      "        Traffic Signal Penalty: 14\n",
      "        Linkable Factor: 0.8442560211695809\n",
      "        Road Type Factors:\n",
      "            motorway: 0.9434566637098643\n",
      "            trunk: 0.9861261364909369\n",
      "            primary: 0.8872718018061418\n",
      "            secondary: 0.7480744761671171\n",
      "            tertiary: 0.8455911497868438\n",
      "            unclassified: 0.6127125592159054\n",
      "            residential: 0.5611318121830774\n",
      "            living_street: 0.3418057681971558\n",
      "            motorway_link: 0.7965189690496173\n",
      "            trunk_link: 0.8325429283651694\n",
      "            primary_link: 0.7490845610888183\n",
      "            secondary_link: 0.6315663807873687\n",
      "            tertiary_link: 0.7138954196552518\n",
      "        Error: 7.6016684469397875\n"
     ]
    },
    {
     "name": "stderr",
     "output_type": "stream",
     "text": [
      "Optimizing Parameters: 4it [00:39,  9.71s/it]"
     ]
    },
    {
     "name": "stdout",
     "output_type": "stream",
     "text": [
      "    New best solution:\n",
      "        Default Intersection Penalty: 5\n",
      "        Traffic Signal Penalty: 1\n",
      "        Linkable Factor: 0.804872876985466\n",
      "        Road Type Factors:\n",
      "            motorway: 0.951649512975175\n",
      "            trunk: 0.90125667895785\n",
      "            primary: 0.8611261365763861\n",
      "            secondary: 0.8223765283926912\n",
      "            tertiary: 0.7539795640479043\n",
      "            unclassified: 0.7536717978165322\n",
      "            residential: 0.6082099805000802\n",
      "            living_street: 0.42399574335489365\n",
      "            motorway_link: 0.7659568813901466\n",
      "            trunk_link: 0.7253970560951711\n",
      "            primary_link: 0.6930970709936152\n",
      "            secondary_link: 0.6619085623727451\n",
      "            tertiary_link: 0.6068577009034841\n",
      "        Error: 2.5410404930533574\n"
     ]
    },
    {
     "name": "stderr",
     "output_type": "stream",
     "text": [
      "Optimizing Parameters: 9it [01:25,  9.30s/it]"
     ]
    },
    {
     "name": "stdout",
     "output_type": "stream",
     "text": [
      "    New best solution:\n",
      "        Default Intersection Penalty: 3\n",
      "        Traffic Signal Penalty: 1\n",
      "        Linkable Factor: 0.9855154207456551\n",
      "        Road Type Factors:\n",
      "            motorway: 0.9327207797555954\n",
      "            trunk: 0.9259678553986539\n",
      "            primary: 0.8875157525153954\n",
      "            secondary: 0.711943212083303\n",
      "            tertiary: 0.8173867270054711\n",
      "            unclassified: 0.7458364355173691\n",
      "            residential: 0.510779499523616\n",
      "            living_street: 0.37293074864443243\n",
      "            motorway_link: 0.9192107116990511\n",
      "            trunk_link: 0.9125556006101563\n",
      "            primary_link: 0.8746604602586066\n",
      "            secondary_link: 0.7016310142032895\n",
      "            tertiary_link: 0.8055472241767108\n",
      "        Error: 2.52404002819624\n"
     ]
    },
    {
     "name": "stderr",
     "output_type": "stream",
     "text": [
      "Optimizing Parameters: 49it [07:07,  8.51s/it]"
     ]
    },
    {
     "name": "stdout",
     "output_type": "stream",
     "text": [
      "    New best solution:\n",
      "        Default Intersection Penalty: 3\n",
      "        Traffic Signal Penalty: 4\n",
      "        Linkable Factor: 0.9787894434427313\n",
      "        Road Type Factors:\n",
      "            motorway: 0.9167401676465359\n",
      "            trunk: 0.9437469040196257\n",
      "            primary: 0.866306944398048\n",
      "            secondary: 0.7496113287819363\n",
      "            tertiary: 0.8407901229289014\n",
      "            unclassified: 0.7772850098737568\n",
      "            residential: 0.5752517073566178\n",
      "            living_street: 0.42241693448827583\n",
      "            motorway_link: 0.8972955984723491\n",
      "            trunk_link: 0.9237295069361702\n",
      "            primary_link: 0.8479320919579386\n",
      "            secondary_link: 0.7337116552968377\n",
      "            tertiary_link: 0.822956496473725\n",
      "        Error: 2.38758200830153\n"
     ]
    },
    {
     "name": "stderr",
     "output_type": "stream",
     "text": [
      "Optimizing Parameters: 225it [35:36,  9.97s/it]"
     ]
    },
    {
     "name": "stdout",
     "output_type": "stream",
     "text": [
      "    New best solution:\n",
      "        Default Intersection Penalty: 1\n",
      "        Traffic Signal Penalty: 13\n",
      "        Linkable Factor: 0.9305349521912171\n",
      "        Road Type Factors:\n",
      "            motorway: 0.90808953279013\n",
      "            trunk: 0.9116009140384848\n",
      "            primary: 0.8951746772307194\n",
      "            secondary: 0.7467467643227123\n",
      "            tertiary: 0.8777242673014545\n",
      "            unclassified: 0.7920955071050118\n",
      "            residential: 0.6772193631175226\n",
      "            living_street: 0.49522172629517\n",
      "            motorway_link: 0.8450090499802083\n",
      "            trunk_link: 0.8482765129622712\n",
      "            primary_link: 0.8329913254796757\n",
      "            secondary_link: 0.6948739646379811\n",
      "            tertiary_link: 0.81675310911043\n",
      "        Error: 2.3338765759483726\n"
     ]
    },
    {
     "name": "stderr",
     "output_type": "stream",
     "text": [
      "Optimizing Parameters: 592it [1:37:13, 10.24s/it]"
     ]
    },
    {
     "name": "stdout",
     "output_type": "stream",
     "text": [
      "    New best solution:\n",
      "        Default Intersection Penalty: 5\n",
      "        Traffic Signal Penalty: 10\n",
      "        Linkable Factor: 0.9691730349219384\n",
      "        Road Type Factors:\n",
      "            motorway: 0.909929122999399\n",
      "            trunk: 0.9390748120609305\n",
      "            primary: 0.883033346106477\n",
      "            secondary: 0.7830140756314792\n",
      "            tertiary: 0.8148987403747507\n",
      "            unclassified: 0.7509615074030107\n",
      "            residential: 0.6793610946888228\n",
      "            living_street: 0.3490201910855642\n",
      "            motorway_link: 0.8818787697011853\n",
      "            trunk_link: 0.910125985623841\n",
      "            primary_link: 0.8558121079832888\n",
      "            secondary_link: 0.7588761280663568\n",
      "            tertiary_link: 0.7897778853630619\n",
      "        Error: 2.3283050720178213\n"
     ]
    },
    {
     "name": "stderr",
     "output_type": "stream",
     "text": [
      "Optimizing Parameters: 611it [1:40:26,  9.79s/it]"
     ]
    },
    {
     "name": "stdout",
     "output_type": "stream",
     "text": [
      "    New best solution:\n",
      "        Default Intersection Penalty: 3\n",
      "        Traffic Signal Penalty: 9\n",
      "        Linkable Factor: 0.8852785159295735\n",
      "        Road Type Factors:\n",
      "            motorway: 0.9002939172528034\n",
      "            trunk: 0.908734898168141\n",
      "            primary: 0.8339970492490043\n",
      "            secondary: 0.896083563077741\n",
      "            tertiary: 0.8269732787830024\n",
      "            unclassified: 0.7768291076328838\n",
      "            residential: 0.558714278383741\n",
      "            living_street: 0.3167512865766974\n",
      "            motorway_link: 0.797010862965984\n",
      "            trunk_link: 0.804483482023704\n",
      "            primary_link: 0.738319670048802\n",
      "            secondary_link: 0.7932835268703469\n",
      "            tertiary_link: 0.7321016769544298\n",
      "        Error: 2.269080052208785\n"
     ]
    },
    {
     "name": "stderr",
     "output_type": "stream",
     "text": [
      "Optimizing Parameters: 758it [2:05:23, 10.06s/it]"
     ]
    },
    {
     "name": "stdout",
     "output_type": "stream",
     "text": [
      "    New best solution:\n",
      "        Default Intersection Penalty: 4\n",
      "        Traffic Signal Penalty: 9\n",
      "        Linkable Factor: 0.8521506076850045\n",
      "        Road Type Factors:\n",
      "            motorway: 0.9004725950459835\n",
      "            trunk: 0.9602555300158857\n",
      "            primary: 0.8957176686384549\n",
      "            secondary: 0.812242943390013\n",
      "            tertiary: 0.8779790728890131\n",
      "            unclassified: 0.7187557285185038\n",
      "            residential: 0.5840639670583821\n",
      "            living_street: 0.3375975835998158\n",
      "            motorway_link: 0.7673382690721279\n",
      "            trunk_link: 0.818282333435923\n",
      "            primary_link: 0.7632863556444549\n",
      "            secondary_link: 0.6921533177976563\n",
      "            tertiary_link: 0.7481704004970894\n",
      "        Error: 2.2271426282859084\n"
     ]
    },
    {
     "name": "stderr",
     "output_type": "stream",
     "text": [
      "Optimizing Parameters: 1313it [8:01:07, 21.99s/it]  \n"
     ]
    }
   ],
   "source": [
    "best_solution, best_error = optimize_parameters(\n",
    "    od,\n",
    "    benchmark_times,\n",
    "    max_duration_minutes=420\n",
    ")\n"
   ]
  },
  {
   "cell_type": "code",
   "execution_count": 17,
   "metadata": {},
   "outputs": [
    {
     "name": "stdout",
     "output_type": "stream",
     "text": [
      "Path ((10.7343661, 59.9369806), (10.6572104, 59.6800045)):\n",
      "  Benchmark Time: (35, 45) minutes\n",
      "  Calculated Time: 39.55585198503308 minutes\n",
      "  Difference: 0 minutes (0.00%)\n",
      "\n",
      "Path ((10.73244, 59.93596), (10.7757, 59.92629)):\n",
      "  Benchmark Time: (4, 9) minutes\n",
      "  Calculated Time: 6.859429199999245 minutes\n",
      "  Difference: 0 minutes (0.00%)\n",
      "\n",
      "Path ((10.73921, 59.90864), (10.77273, 59.93037)):\n",
      "  Benchmark Time: (9, 16) minutes\n",
      "  Calculated Time: 10.89508881102026 minutes\n",
      "  Difference: 0 minutes (0.00%)\n",
      "\n",
      "Path ((10.73174, 59.92727), (10.66617, 59.86305)):\n",
      "  Benchmark Time: (50, 60) minutes\n",
      "  Calculated Time: 53.296575198499426 minutes\n",
      "  Difference: 0 minutes (0.00%)\n",
      "\n",
      "Path ((10.47168, 59.82052), (11.04773, 59.95577)):\n",
      "  Benchmark Time: (40, 50) minutes\n",
      "  Calculated Time: 43.2345763703291 minutes\n",
      "  Difference: 0 minutes (0.00%)\n",
      "\n",
      "Path ((10.76216, 60.00352), (10.80742, 59.83905)):\n",
      "  Benchmark Time: (28, 28) minutes\n",
      "  Calculated Time: 30.46095427225396 minutes\n",
      "  Difference: 2.460954272253961 minutes (8.79%)\n",
      "\n",
      "Path ((11.14674, 60.31262), (11.47577, 60.11964)):\n",
      "  Benchmark Time: (40, 40) minutes\n",
      "  Calculated Time: 35.16866049092551 minutes\n",
      "  Difference: 4.831339509074489 minutes (12.08%)\n",
      "\n",
      "Path ((11.47577, 60.11964), (11.166858, 60.13423)):\n",
      "  Benchmark Time: (22, 26) minutes\n",
      "  Calculated Time: 22.6955529655648 minutes\n",
      "  Difference: 0 minutes (0.00%)\n",
      "\n",
      "Path ((11.166858, 60.13423), (11.561687, 59.879044)):\n",
      "  Benchmark Time: (50, 50) minutes\n",
      "  Calculated Time: 52.63438955172183 minutes\n",
      "  Difference: 2.6343895517218314 minutes (5.27%)\n",
      "\n",
      "Path ((11.561687, 59.879044), (10.987775, 59.932076)):\n",
      "  Benchmark Time: (40, 40) minutes\n",
      "  Calculated Time: 39.849726275474296 minutes\n",
      "  Difference: 0.15027372452570376 minutes (0.38%)\n",
      "\n",
      "Path ((10.987775, 59.932076), (10.880784, 60.042152)):\n",
      "  Benchmark Time: (20, 22) minutes\n",
      "  Calculated Time: 18.51992254121611 minutes\n",
      "  Difference: 1.4800774587838887 minutes (6.73%)\n",
      "\n",
      "Path ((10.880784, 60.042152), (10.831094, 59.930733)):\n",
      "  Benchmark Time: (20, 20) minutes\n",
      "  Calculated Time: 17.577540497800047 minutes\n",
      "  Difference: 2.4224595021999527 minutes (12.11%)\n",
      "\n",
      "Path ((10.831094, 59.930733), (10.758744, 59.917)):\n",
      "  Benchmark Time: (9, 14) minutes\n",
      "  Calculated Time: 9.144038846516159 minutes\n",
      "  Difference: 0 minutes (0.00%)\n",
      "\n",
      "Path ((10.758744, 59.917), (10.741926, 59.93917)):\n",
      "  Benchmark Time: (7, 14) minutes\n",
      "  Calculated Time: 7.291380629833757 minutes\n",
      "  Difference: 0 minutes (0.00%)\n",
      "\n",
      "Path ((10.741926, 59.93917), (10.853331, 59.71566)):\n",
      "  Benchmark Time: (35, 35) minutes\n",
      "  Calculated Time: 35.00716687838164 minutes\n",
      "  Difference: 0.007166878381639208 minutes (0.02%)\n",
      "\n",
      "Path ((10.853331, 59.71566), (10.725881, 59.659687)):\n",
      "  Benchmark Time: (18, 18) minutes\n",
      "  Calculated Time: 15.509493973839705 minutes\n",
      "  Difference: 2.490506026160295 minutes (13.84%)\n",
      "\n",
      "Path ((10.725881, 59.659687), (10.806946, 59.833073)):\n",
      "  Benchmark Time: (22, 22) minutes\n",
      "  Calculated Time: 22.69672449911835 minutes\n",
      "  Difference: 0.6967244991183499 minutes (3.17%)\n",
      "\n",
      "Path ((10.806946, 59.833073), (10.439887, 59.830055)):\n",
      "  Benchmark Time: (30, 40) minutes\n",
      "  Calculated Time: 38.501856501877775 minutes\n",
      "  Difference: 0 minutes (0.00%)\n",
      "\n",
      "Path ((10.439887, 59.830055), (10.509723, 59.89813)):\n",
      "  Benchmark Time: (14, 14) minutes\n",
      "  Calculated Time: 12.789389612991878 minutes\n",
      "  Difference: 1.2106103870081224 minutes (8.65%)\n",
      "\n",
      "Path ((10.509723, 59.89813), (10.687367, 59.939663)):\n",
      "  Benchmark Time: (16, 20) minutes\n",
      "  Calculated Time: 16.574945523675517 minutes\n",
      "  Difference: 0 minutes (0.00%)\n",
      "\n",
      "Path ((10.687367, 59.939663), (10.806364, 59.893173)):\n",
      "  Benchmark Time: (12, 16) minutes\n",
      "  Calculated Time: 14.419202346807703 minutes\n",
      "  Difference: 0 minutes (0.00%)\n",
      "\n",
      "Path ((10.806364, 59.893173), (10.884091, 59.960304)):\n",
      "  Benchmark Time: (12, 18) minutes\n",
      "  Calculated Time: 13.04417037907635 minutes\n",
      "  Difference: 0 minutes (0.00%)\n",
      "\n",
      "Path ((10.884091, 59.960304), (11.03928, 59.997875)):\n",
      "  Benchmark Time: (20, 20) minutes\n",
      "  Calculated Time: 18.237835327931748 minutes\n",
      "  Difference: 1.762164672068252 minutes (8.81%)\n",
      "\n",
      "Path ((11.03928, 59.997875), (10.585751, 59.917873)):\n",
      "  Benchmark Time: (28, 35) minutes\n",
      "  Calculated Time: 32.246070628003274 minutes\n",
      "  Difference: 0 minutes (0.00%)\n",
      "\n",
      "Path ((10.585751, 59.917873), (11.14674, 60.31262)):\n",
      "  Benchmark Time: (55, 65) minutes\n",
      "  Calculated Time: 58.7722421632715 minutes\n",
      "  Difference: 0 minutes (0.00%)\n",
      "\n",
      "Total Discrepancy: 20.146666481296485 minutes across all paths.\n",
      "Average Discrepancy Percentage: 3.19%\n"
     ]
    }
   ],
   "source": [
    "od.set_graph_weights_v2(**best_solution)\n",
    "\n",
    "_, calculated_times = calculate_error(od, benchmark_times)\n",
    "\n",
    "evaluate_travel_time_accuracy(benchmark_times, calculated_times)\n"
   ]
  }
 ],
 "metadata": {
  "kernelspec": {
   "display_name": ".venv",
   "language": "python",
   "name": "python3"
  },
  "language_info": {
   "codemirror_mode": {
    "name": "ipython",
    "version": 3
   },
   "file_extension": ".py",
   "mimetype": "text/x-python",
   "name": "python",
   "nbconvert_exporter": "python",
   "pygments_lexer": "ipython3",
   "version": "3.11.7"
  }
 },
 "nbformat": 4,
 "nbformat_minor": 2
}
