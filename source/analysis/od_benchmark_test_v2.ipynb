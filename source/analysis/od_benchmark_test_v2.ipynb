{
 "cells": [
  {
   "cell_type": "markdown",
   "metadata": {},
   "source": [
    "# Fix pathing"
   ]
  },
  {
   "cell_type": "code",
   "execution_count": 1,
   "metadata": {},
   "outputs": [],
   "source": [
    "import sys\n",
    "\n",
    "\n",
    "sys.path.append(\"..\")\n"
   ]
  },
  {
   "cell_type": "code",
   "execution_count": 2,
   "metadata": {},
   "outputs": [],
   "source": [
    "import constants\n",
    "\n",
    "import os\n",
    "\n",
    "\n",
    "constants.PROJECT_DIRECTORY_PATH = os.path.dirname(os.path.dirname(constants.PROJECT_DIRECTORY_PATH))\n"
   ]
  },
  {
   "cell_type": "markdown",
   "metadata": {},
   "source": [
    "# Imports"
   ]
  },
  {
   "cell_type": "code",
   "execution_count": 3,
   "metadata": {},
   "outputs": [],
   "source": [
    "import datahandler\n",
    "import utils\n",
    "import pathing\n",
    "\n",
    "import osmnx as ox\n",
    "import networkx\n",
    "import random\n",
    "import time\n",
    "from tqdm import tqdm\n"
   ]
  },
  {
   "cell_type": "markdown",
   "metadata": {},
   "source": [
    "# Constants"
   ]
  },
  {
   "cell_type": "code",
   "execution_count": 4,
   "metadata": {},
   "outputs": [
    {
     "name": "stderr",
     "output_type": "stream",
     "text": [
      "Cleaning dataset: 100%|██████████| 2/2 [00:00<?, ?it/s]\n",
      "Processing dataset: 100%|██████████| 2/2 [00:00<?, ?it/s]\n",
      "Enhancing dataset: 100%|██████████| 2/2 [00:00<?, ?it/s]\n"
     ]
    }
   ],
   "source": [
    "data_preprocessor = datahandler.DataPreprocessorOUS_V2()\n",
    "data_preprocessor.execute()\n",
    "\n",
    "data_loader = datahandler.DataLoader(datahandler.DataPreprocessorOUS_V2)\n",
    "data_loader.execute(clean=False, processed=False, enhanced=False)"
   ]
  },
  {
   "cell_type": "markdown",
   "metadata": {},
   "source": [
    "# Methods"
   ]
  },
  {
   "cell_type": "code",
   "execution_count": 5,
   "metadata": {},
   "outputs": [],
   "source": [
    "def get_node(od: pathing.OriginDestination, x, y):\n",
    "    if (x, y) in od.node_cache:\n",
    "        return od.node_cache[(x, y)]\n",
    "    \n",
    "    while True:\n",
    "        node = ox.distance.nearest_nodes(od.graph, x, y)\n",
    "        if networkx.has_path(od.graph, node, od.node_validator) and networkx.has_path(od.graph, od.node_validator, node):\n",
    "            od.node_cache[(x, y)] = node\n",
    "            return node\n",
    "        else:\n",
    "            od.graph.remove_node(node)\n"
   ]
  },
  {
   "cell_type": "code",
   "execution_count": 6,
   "metadata": {},
   "outputs": [],
   "source": [
    "def gen_linkers(road_type_factors, link_factor):\n",
    "    linkables = [\n",
    "        \"motorway\",\n",
    "        \"trunk\",\n",
    "        \"primary\",\n",
    "        \"secondary\",\n",
    "        \"tertiary\",\n",
    "    ]\n",
    "\n",
    "    for linkable in linkables:\n",
    "        if linkable in road_type_factors:\n",
    "            road_type_factors[linkable + \"_link\"] = road_type_factors[linkable] * link_factor\n",
    "    \n",
    "    return road_type_factors\n"
   ]
  },
  {
   "cell_type": "code",
   "execution_count": 7,
   "metadata": {},
   "outputs": [],
   "source": [
    "def evaluate_travel_time_accuracy(benchmark_times, calculated_times):\n",
    "    total_diff = 0\n",
    "    total_diff_percentage = 0\n",
    "\n",
    "    for path, acceptable_range in benchmark_times.items():\n",
    "        if path in calculated_times:\n",
    "\n",
    "            calculated_time = calculated_times[path]\n",
    "            lower_bound, upper_bound = acceptable_range\n",
    "\n",
    "            if lower_bound <= calculated_time <= upper_bound:\n",
    "                diff = 0\n",
    "                diff_percentage = 0\n",
    "            else:\n",
    "                diff = min(abs(calculated_time - lower_bound), abs(calculated_time - upper_bound))\n",
    "                diff_percentage = min((diff / lower_bound) * 100, (diff / upper_bound) * 100)\n",
    "\n",
    "            total_diff += diff\n",
    "            total_diff_percentage += diff_percentage\n",
    "\n",
    "            print(f\"Path {path}:\")\n",
    "            print(f\"  Benchmark Time: {acceptable_range} minutes\")\n",
    "            print(f\"  Calculated Time: {calculated_time} minutes\")\n",
    "            print(f\"  Difference: {diff} minutes ({diff_percentage:.2f}%)\")\n",
    "            print()\n",
    "        else:\n",
    "            print(f\"Path {path} not found in calculated times.\")\n",
    "\n",
    "    avg_diff_percentage = total_diff_percentage / len(benchmark_times)\n",
    "    print(f\"Total Discrepancy: {total_diff} minutes across all paths.\")\n",
    "    print(f\"Average Discrepancy Percentage: {avg_diff_percentage:.2f}%\")\n"
   ]
  },
  {
   "cell_type": "code",
   "execution_count": 8,
   "metadata": {},
   "outputs": [],
   "source": [
    "def calculate_error(od: pathing.OriginDestination, benchmark_times):\n",
    "    calculated_times = {}\n",
    "    \n",
    "    for ((start_lon, start_lat), (end_lon, end_lat)), _ in benchmark_times.items():\n",
    "        # convert geographic coordinates to UTM and get the corresponding node\n",
    "        start_x, start_y = utils.geographic_to_utm(start_lon, start_lat)\n",
    "        end_x, end_y = utils.geographic_to_utm(end_lon, end_lat)\n",
    "\n",
    "        start_node = get_node(od, start_x, start_y)\n",
    "        end_node = get_node(od, end_x, end_y)\n",
    "\n",
    "        # calculate the shortest path and total travel time\n",
    "        shortest_time_path = ox.shortest_path(\n",
    "            od.graph,\n",
    "            start_node,\n",
    "            end_node,\n",
    "            weight='time'\n",
    "        )\n",
    "        total_travel_time = sum(od.graph[u][v][0]['time'] for u, v in zip(shortest_time_path[:-1], shortest_time_path[1:]))\n",
    "\n",
    "        # store the calculated travel time\n",
    "        calculated_times[((start_lon, start_lat), (end_lon, end_lat))] = total_travel_time\n",
    "\n",
    "    # calculate MSE\n",
    "    errors = []\n",
    "\n",
    "    for path, acceptable_range in benchmark_times.items():\n",
    "        calculated_time = calculated_times[path]\n",
    "        lower_bound, upper_bound = acceptable_range\n",
    "\n",
    "        # Check if the calculated time falls within the acceptable range\n",
    "        if lower_bound <= calculated_time <= upper_bound:\n",
    "            error = 0\n",
    "        else:\n",
    "            # if outside the range, find the smallest absolute difference to the bounds\n",
    "            error = min(abs(calculated_time - lower_bound), abs(calculated_time - upper_bound))\n",
    "        \n",
    "        errors.append(error)\n",
    "\n",
    "    mse = sum(error ** 2 for error in errors) / len(errors)\n",
    "    \n",
    "    return mse, calculated_times\n"
   ]
  },
  {
   "cell_type": "code",
   "execution_count": 9,
   "metadata": {},
   "outputs": [],
   "source": [
    "def optimize_parameters(od: pathing.OriginDestination, benchmark_times, max_duration_minutes):\n",
    "    start_time = time.time()\n",
    "    max_duration_seconds = max_duration_minutes * 60\n",
    "    \n",
    "    # define parameter bounds\n",
    "    param_bounds = {\n",
    "        \"default_intersection_penalty\": (1, 15),\n",
    "        \"traffic_signal_penalty\": (1, 15),\n",
    "        \"linkable_factor\": (0.1, 1.0),\n",
    "        \"road_type_factors\": {\n",
    "            \"motorway\": (0.1, 1.0),\n",
    "            \"trunk\": (0.1, 1.0),\n",
    "            \"primary\": (0.1, 1.0),\n",
    "            \"secondary\": (0.1, 1.0),\n",
    "            \"tertiary\": (0.1, 1.0),\n",
    "            \"unclassified\": (0.1, 1.0),\n",
    "            \"residential\": (0.1, 1.0),\n",
    "            \"living_street\": (0.1, 1.0)\n",
    "        }\n",
    "    }\n",
    "    \n",
    "    # initialize the best solution\n",
    "    best_solution = None\n",
    "    best_error = float(\"inf\")\n",
    "    \n",
    "    with tqdm(desc=\"Optimizing Parameters\") as pbar:\n",
    "        while time.time() - start_time < max_duration_seconds:\n",
    "            # generate a random solution within the bounds\n",
    "            current_solution = {\n",
    "                \"default_intersection_penalty\": random.randint(*param_bounds[\"default_intersection_penalty\"]),\n",
    "                \"traffic_signal_penalty\": random.randint(*param_bounds[\"traffic_signal_penalty\"]),\n",
    "                \"road_type_factors\": {k: random.uniform(*v) for k, v in param_bounds[\"road_type_factors\"].items()}\n",
    "            }\n",
    "            linkable_factor = random.uniform(*param_bounds[\"linkable_factor\"])\n",
    "\n",
    "            current_solution[\"road_type_factors\"] = gen_linkers(current_solution[\"road_type_factors\"], linkable_factor)\n",
    "            \n",
    "            # set graph weights with the current solution\n",
    "            od.set_graph_weights_v2(**current_solution)\n",
    "            \n",
    "            # calculate the error for the current solution\n",
    "            current_error, _ = calculate_error(od, benchmark_times)\n",
    "            \n",
    "            # update best solution if the current one is better\n",
    "            if current_error < best_error:\n",
    "                best_solution = current_solution\n",
    "                best_linkable_factor = linkable_factor\n",
    "                best_error = current_error\n",
    "                tqdm.write(\n",
    "                    f\"    New best solution:\\n\"\n",
    "                    f\"        Default Intersection Penalty: {best_solution['default_intersection_penalty']}\\n\"\n",
    "                    f\"        Traffic Signal Penalty: {best_solution['traffic_signal_penalty']}\\n\"\n",
    "                    f\"        Linkable Factor: {best_linkable_factor}\\n\"\n",
    "                    f\"        Road Type Factors:\\n\"\n",
    "                    + \"\\n\".join([f\"            {k}: {v}\" for k, v in best_solution['road_type_factors'].items()]) +\n",
    "                    f\"\\n        Error: {best_error}\"\n",
    "                )\n",
    "            \n",
    "            pbar.update()\n",
    "\n",
    "            # early stop\n",
    "            if current_error == 0:\n",
    "                break\n",
    "    \n",
    "    return best_solution, best_error\n"
   ]
  },
  {
   "cell_type": "code",
   "execution_count": 10,
   "metadata": {},
   "outputs": [],
   "source": [
    "def fix_lat_lon(benchmark_times):\n",
    "    new_benchmark_times = {}\n",
    "\n",
    "    for ((start_lat, start_lon), (end_lat, end_lon)), benchmark in benchmark_times.items():\n",
    "        new_benchmark_times[((start_lon, start_lat), (end_lon, end_lat))] = benchmark\n",
    "\n",
    "    return new_benchmark_times"
   ]
  },
  {
   "cell_type": "markdown",
   "metadata": {},
   "source": [
    "# Main"
   ]
  },
  {
   "cell_type": "code",
   "execution_count": 11,
   "metadata": {},
   "outputs": [],
   "source": [
    "od = pathing.OriginDestination(\n",
    "    dataset_id=\"oslo\",\n",
    "    utm_epsg=f\"EPSG:326{33}\"\n",
    ")\n",
    "\n",
    "od.get_graph()\n",
    "\n",
    "central_depot_grid_id = 22620006649000\n",
    "central_depot_x, central_depot_y = utils.id_to_utm(central_depot_grid_id)\n",
    "od.node_validator = ox.distance.nearest_nodes(od.graph, central_depot_x, central_depot_y)\n"
   ]
  },
  {
   "cell_type": "code",
   "execution_count": 12,
   "metadata": {},
   "outputs": [],
   "source": [
    "# times from Google Maps (Sunday, start at 02:00)\n",
    "benchmark_times = {\n",
    "    ((59.9369806, 10.7343661), (59.6800045, 10.6572104)): (35, 45),\n",
    "    ((59.93596, 10.73244), (59.92629, 10.77570)): (4, 9),\n",
    "    ((59.90864, 10.73921), (59.93037, 10.77273)): (9, 16),\n",
    "    ((59.92727, 10.73174), (59.86305, 10.66617)): (50, 60),\n",
    "    ((59.82052, 10.47168), (59.95577, 11.04773)): (40, 50),\n",
    "    ((60.00352, 10.76216), (59.83905, 10.80742)): (28, 28),\n",
    "\n",
    "    ((60.31262, 11.14674), (60.11964, 11.47577)): (40, 40),\n",
    "    ((60.11964, 11.47577), (60.13423, 11.166858)): (22, 26),\n",
    "    ((60.13423, 11.166858), (59.879044, 11.561687)): (50, 50),\n",
    "    ((59.879044, 11.561687), (59.932076, 10.987775)): (40, 40),\n",
    "    ((59.932076, 10.987775), (60.042152, 10.880784)): (20, 22),\n",
    "    ((60.042152, 10.880784), (59.930733, 10.831094)): (20, 20),\n",
    "    ((59.930733, 10.831094), (59.917, 10.758744)): (9, 14),\n",
    "    ((59.917, 10.758744), (59.93917, 10.741926)): (7, 14),\n",
    "    ((59.93917, 10.741926), (59.71566, 10.853331)): (35, 35),\n",
    "    ((59.71566, 10.853331), (59.659687, 10.725881)): (18, 18),\n",
    "    ((59.659687, 10.725881), (59.833073, 10.806946)): (22, 22),\n",
    "    ((59.833073, 10.806946), (59.830055, 10.439887)): (30, 40),\n",
    "    ((59.830055, 10.439887), (59.89813, 10.509723)): (14, 14),\n",
    "    ((59.89813, 10.509723), (59.939663, 10.687367)): (16, 20),\n",
    "    ((59.939663, 10.687367), (59.893173, 10.806364)): (12, 16),\n",
    "    ((59.893173, 10.806364), (59.960304, 10.884091)): (12, 18),\n",
    "    ((59.960304, 10.884091), (59.997875, 11.03928)): (20, 20),\n",
    "    ((59.997875, 11.03928), (59.917873, 10.585751)): (28, 35),\n",
    "    ((59.917873, 10.585751), (60.31262, 11.14674)): (55, 65),\n",
    "}\n",
    "\n",
    "benchmark_times = fix_lat_lon(benchmark_times)\n"
   ]
  },
  {
   "cell_type": "code",
   "execution_count": 14,
   "metadata": {},
   "outputs": [
    {
     "name": "stderr",
     "output_type": "stream",
     "text": [
      "Optimizing Parameters: 1it [00:05,  5.27s/it]"
     ]
    },
    {
     "name": "stdout",
     "output_type": "stream",
     "text": [
      "    New best solution:\n",
      "        Default Intersection Penalty: 8\n",
      "        Traffic Signal Penalty: 3\n",
      "        Linkable Factor: 0.7609600604154423\n",
      "        Road Type Factors:\n",
      "            motorway: 0.24631683612922928\n",
      "            trunk: 0.4843809919684464\n",
      "            primary: 0.6597034903183263\n",
      "            secondary: 0.8708388224147655\n",
      "            tertiary: 0.6205587230516473\n",
      "            unclassified: 0.14743737090216003\n",
      "            residential: 0.15330424640853896\n",
      "            living_street: 0.19778772557242896\n",
      "            motorway_link: 0.1874372745022389\n",
      "            trunk_link: 0.3685945889124008\n",
      "            primary_link: 0.5020080078489118\n",
      "            secondary_link: 0.6626735629168525\n",
      "            tertiary_link: 0.4722204033847112\n",
      "        Error: 350.9347405865898\n"
     ]
    },
    {
     "name": "stderr",
     "output_type": "stream",
     "text": [
      "Optimizing Parameters: 3it [00:15,  5.05s/it]"
     ]
    },
    {
     "name": "stdout",
     "output_type": "stream",
     "text": [
      "    New best solution:\n",
      "        Default Intersection Penalty: 9\n",
      "        Traffic Signal Penalty: 6\n",
      "        Linkable Factor: 0.8280278271715367\n",
      "        Road Type Factors:\n",
      "            motorway: 0.4528499824881419\n",
      "            trunk: 0.5110197817800957\n",
      "            primary: 0.650874753778817\n",
      "            secondary: 0.6026768551940588\n",
      "            tertiary: 0.7525099544563536\n",
      "            unclassified: 0.14267547562046673\n",
      "            residential: 0.584050036077447\n",
      "            living_street: 0.6167267239814744\n",
      "            motorway_link: 0.37497238703432456\n",
      "            trunk_link: 0.4231385995490454\n",
      "            primary_link: 0.5389424081322828\n",
      "            secondary_link: 0.4990332068929113\n",
      "            tertiary_link: 0.6230991825134465\n",
      "        Error: 323.6201456995785\n"
     ]
    },
    {
     "name": "stderr",
     "output_type": "stream",
     "text": [
      "Optimizing Parameters: 8it [00:40,  5.00s/it]"
     ]
    },
    {
     "name": "stdout",
     "output_type": "stream",
     "text": [
      "    New best solution:\n",
      "        Default Intersection Penalty: 3\n",
      "        Traffic Signal Penalty: 2\n",
      "        Linkable Factor: 0.5275449790053287\n",
      "        Road Type Factors:\n",
      "            motorway: 0.49713394190219773\n",
      "            trunk: 0.6493136867165356\n",
      "            primary: 0.5204862878359318\n",
      "            secondary: 0.26450639927669506\n",
      "            tertiary: 0.821180645730846\n",
      "            unclassified: 0.4972367250332824\n",
      "            residential: 0.7857477468388621\n",
      "            living_street: 0.3326504766692788\n",
      "            motorway_link: 0.26226051494363123\n",
      "            trunk_link: 0.34254217522674735\n",
      "            primary_link: 0.2745799277889681\n",
      "            secondary_link: 0.1395390228531992\n",
      "            tertiary_link: 0.43320972651166145\n",
      "        Error: 260.6362164553257\n"
     ]
    },
    {
     "name": "stderr",
     "output_type": "stream",
     "text": [
      "Optimizing Parameters: 9it [00:46,  5.32s/it]"
     ]
    },
    {
     "name": "stdout",
     "output_type": "stream",
     "text": [
      "    New best solution:\n",
      "        Default Intersection Penalty: 4\n",
      "        Traffic Signal Penalty: 5\n",
      "        Linkable Factor: 0.6920340202632747\n",
      "        Road Type Factors:\n",
      "            motorway: 0.9239357753384438\n",
      "            trunk: 0.33316132928012665\n",
      "            primary: 0.623801972591596\n",
      "            secondary: 0.8714225466251568\n",
      "            tertiary: 0.8483021438016324\n",
      "            unclassified: 0.9945355956848106\n",
      "            residential: 0.11359382912205454\n",
      "            living_street: 0.7920572274056813\n",
      "            motorway_link: 0.639394989072529\n",
      "            trunk_link: 0.23055897409798268\n",
      "            primary_link: 0.43169218694072325\n",
      "            secondary_link: 0.6030540482890682\n",
      "            tertiary_link: 0.5870539429729982\n",
      "        Error: 165.84714159953185\n"
     ]
    },
    {
     "name": "stderr",
     "output_type": "stream",
     "text": [
      "Optimizing Parameters: 13it [01:04,  4.82s/it]"
     ]
    },
    {
     "name": "stdout",
     "output_type": "stream",
     "text": [
      "    New best solution:\n",
      "        Default Intersection Penalty: 3\n",
      "        Traffic Signal Penalty: 8\n",
      "        Linkable Factor: 0.19597584513273986\n",
      "        Road Type Factors:\n",
      "            motorway: 0.6130041079426344\n",
      "            trunk: 0.7941466524269513\n",
      "            primary: 0.6399320081236871\n",
      "            secondary: 0.5482083735289501\n",
      "            tertiary: 0.8886498914995469\n",
      "            unclassified: 0.1807250724765732\n",
      "            residential: 0.22108576340886332\n",
      "            living_street: 0.5165638521644205\n",
      "            motorway_link: 0.12013399812389906\n",
      "            trunk_link: 0.15563356136870798\n",
      "            primary_link: 0.12541121611953093\n",
      "            secondary_link: 0.10743559931118074\n",
      "            tertiary_link: 0.17415391351374127\n",
      "        Error: 127.08329075814041\n"
     ]
    },
    {
     "name": "stderr",
     "output_type": "stream",
     "text": [
      "Optimizing Parameters: 16it [01:21,  5.34s/it]"
     ]
    },
    {
     "name": "stdout",
     "output_type": "stream",
     "text": [
      "    New best solution:\n",
      "        Default Intersection Penalty: 12\n",
      "        Traffic Signal Penalty: 14\n",
      "        Linkable Factor: 0.9240656092247769\n",
      "        Road Type Factors:\n",
      "            motorway: 0.9907361359279612\n",
      "            trunk: 0.7907141098644579\n",
      "            primary: 0.6416928615041915\n",
      "            secondary: 0.8411548348467341\n",
      "            tertiary: 0.6094783441100929\n",
      "            unclassified: 0.39864199351842355\n",
      "            residential: 0.9411123450892582\n",
      "            living_street: 0.43572835204067084\n",
      "            motorway_link: 0.9155051910272728\n",
      "            trunk_link: 0.7306717156545275\n",
      "            primary_link: 0.5929663050010611\n",
      "            secondary_link: 0.777282254915014\n",
      "            tertiary_link: 0.5631979773594012\n",
      "        Error: 27.16195336782139\n"
     ]
    },
    {
     "name": "stderr",
     "output_type": "stream",
     "text": [
      "Optimizing Parameters: 69it [06:25,  5.15s/it]"
     ]
    },
    {
     "name": "stdout",
     "output_type": "stream",
     "text": [
      "    New best solution:\n",
      "        Default Intersection Penalty: 1\n",
      "        Traffic Signal Penalty: 2\n",
      "        Linkable Factor: 0.2759999377263906\n",
      "        Road Type Factors:\n",
      "            motorway: 0.9601465159848419\n",
      "            trunk: 0.9724723343969667\n",
      "            primary: 0.7473998054385347\n",
      "            secondary: 0.5667892065285083\n",
      "            tertiary: 0.9429040465593513\n",
      "            unclassified: 0.9890638762072544\n",
      "            residential: 0.2913941470996685\n",
      "            living_street: 0.4357780215075794\n",
      "            motorway_link: 0.26500037862002723\n",
      "            trunk_link: 0.2684023037342005\n",
      "            primary_link: 0.206282299757752\n",
      "            secondary_link: 0.1564337857058586\n",
      "            tertiary_link: 0.2602414581323427\n",
      "        Error: 8.76419021741893\n"
     ]
    },
    {
     "name": "stderr",
     "output_type": "stream",
     "text": [
      "Optimizing Parameters: 102it [09:22,  5.35s/it]"
     ]
    },
    {
     "name": "stdout",
     "output_type": "stream",
     "text": [
      "    New best solution:\n",
      "        Default Intersection Penalty: 4\n",
      "        Traffic Signal Penalty: 3\n",
      "        Linkable Factor: 0.5645044249485629\n",
      "        Road Type Factors:\n",
      "            motorway: 0.9396322884756202\n",
      "            trunk: 0.8621624455331938\n",
      "            primary: 0.923209418713176\n",
      "            secondary: 0.965321293921126\n",
      "            tertiary: 0.44277979792247424\n",
      "            unclassified: 0.691761205090562\n",
      "            residential: 0.8040707660782066\n",
      "            living_street: 0.7589327341981997\n",
      "            motorway_link: 0.5304265846690321\n",
      "            trunk_link: 0.4866945155279622\n",
      "            primary_link: 0.5211558020177784\n",
      "            secondary_link: 0.5449281419155478\n",
      "            tertiary_link: 0.2499511552050672\n",
      "        Error: 4.414926475898013\n"
     ]
    },
    {
     "name": "stderr",
     "output_type": "stream",
     "text": [
      "Optimizing Parameters: 137it [12:42,  5.73s/it]"
     ]
    },
    {
     "name": "stdout",
     "output_type": "stream",
     "text": [
      "    New best solution:\n",
      "        Default Intersection Penalty: 2\n",
      "        Traffic Signal Penalty: 5\n",
      "        Linkable Factor: 0.2630284973443693\n",
      "        Road Type Factors:\n",
      "            motorway: 0.9704026402720763\n",
      "            trunk: 0.9872728848094453\n",
      "            primary: 0.9434615680765118\n",
      "            secondary: 0.49062545330175955\n",
      "            tertiary: 0.9327873614166583\n",
      "            unclassified: 0.8502498894729571\n",
      "            residential: 0.7543590170147566\n",
      "            living_street: 0.8078248863334735\n",
      "            motorway_link: 0.25524354828977275\n",
      "            trunk_link: 0.259680903360269\n",
      "            primary_link: 0.24815727855332728\n",
      "            secondary_link: 0.12904847574086184\n",
      "            tertiary_link: 0.24534965801524275\n",
      "        Error: 1.385063884849518\n"
     ]
    },
    {
     "name": "stderr",
     "output_type": "stream",
     "text": [
      "Optimizing Parameters: 4908it [7:00:00,  5.13s/it]\n"
     ]
    }
   ],
   "source": [
    "best_solution, best_error = optimize_parameters(\n",
    "    od,\n",
    "    benchmark_times,\n",
    "    max_duration_minutes=420\n",
    ")\n"
   ]
  },
  {
   "cell_type": "code",
   "execution_count": 15,
   "metadata": {},
   "outputs": [
    {
     "name": "stdout",
     "output_type": "stream",
     "text": [
      "Path ((10.7343661, 59.9369806), (10.6572104, 59.6800045)):\n",
      "  Benchmark Time: (35, 45) minutes\n",
      "  Calculated Time: 37.89051763353399 minutes\n",
      "  Difference: 0 minutes (0.00%)\n",
      "\n",
      "Path ((10.73244, 59.93596), (10.7757, 59.92629)):\n",
      "  Benchmark Time: (4, 9) minutes\n",
      "  Calculated Time: 5.373738068070134 minutes\n",
      "  Difference: 0 minutes (0.00%)\n",
      "\n",
      "Path ((10.73921, 59.90864), (10.77273, 59.93037)):\n",
      "  Benchmark Time: (9, 16) minutes\n",
      "  Calculated Time: 8.732545058105803 minutes\n",
      "  Difference: 0.26745494189419716 minutes (1.67%)\n",
      "\n",
      "Path ((10.73174, 59.92727), (10.66617, 59.86305)):\n",
      "  Benchmark Time: (50, 60) minutes\n",
      "  Calculated Time: 52.471294431270884 minutes\n",
      "  Difference: 0 minutes (0.00%)\n",
      "\n",
      "Path ((10.47168, 59.82052), (11.04773, 59.95577)):\n",
      "  Benchmark Time: (40, 50) minutes\n",
      "  Calculated Time: 39.843186508386786 minutes\n",
      "  Difference: 0.15681349161321378 minutes (0.31%)\n",
      "\n",
      "Path ((10.76216, 60.00352), (10.80742, 59.83905)):\n",
      "  Benchmark Time: (28, 28) minutes\n",
      "  Calculated Time: 29.92681830724972 minutes\n",
      "  Difference: 1.9268183072497216 minutes (6.88%)\n",
      "\n",
      "Path ((11.14674, 60.31262), (11.47577, 60.11964)):\n",
      "  Benchmark Time: (40, 40) minutes\n",
      "  Calculated Time: 36.53304992554818 minutes\n",
      "  Difference: 3.466950074451823 minutes (8.67%)\n",
      "\n",
      "Path ((11.47577, 60.11964), (11.166858, 60.13423)):\n",
      "  Benchmark Time: (22, 26) minutes\n",
      "  Calculated Time: 23.804540338978786 minutes\n",
      "  Difference: 0 minutes (0.00%)\n",
      "\n",
      "Path ((11.166858, 60.13423), (11.561687, 59.879044)):\n",
      "  Benchmark Time: (50, 50) minutes\n",
      "  Calculated Time: 52.805340497745796 minutes\n",
      "  Difference: 2.805340497745796 minutes (5.61%)\n",
      "\n",
      "Path ((11.561687, 59.879044), (10.987775, 59.932076)):\n",
      "  Benchmark Time: (40, 40) minutes\n",
      "  Calculated Time: 39.69233368594333 minutes\n",
      "  Difference: 0.307666314056668 minutes (0.77%)\n",
      "\n",
      "Path ((10.987775, 59.932076), (10.880784, 60.042152)):\n",
      "  Benchmark Time: (20, 22) minutes\n",
      "  Calculated Time: 20.317408363508857 minutes\n",
      "  Difference: 0 minutes (0.00%)\n",
      "\n",
      "Path ((10.880784, 60.042152), (10.831094, 59.930733)):\n",
      "  Benchmark Time: (20, 20) minutes\n",
      "  Calculated Time: 19.045868631059975 minutes\n",
      "  Difference: 0.9541313689400255 minutes (4.77%)\n",
      "\n",
      "Path ((10.831094, 59.930733), (10.758744, 59.917)):\n",
      "  Benchmark Time: (9, 14) minutes\n",
      "  Calculated Time: 9.987532559931427 minutes\n",
      "  Difference: 0 minutes (0.00%)\n",
      "\n",
      "Path ((10.758744, 59.917), (10.741926, 59.93917)):\n",
      "  Benchmark Time: (7, 14) minutes\n",
      "  Calculated Time: 7.295694035788278 minutes\n",
      "  Difference: 0 minutes (0.00%)\n",
      "\n",
      "Path ((10.741926, 59.93917), (10.853331, 59.71566)):\n",
      "  Benchmark Time: (35, 35) minutes\n",
      "  Calculated Time: 35.34259396939546 minutes\n",
      "  Difference: 0.34259396939545894 minutes (0.98%)\n",
      "\n",
      "Path ((10.853331, 59.71566), (10.725881, 59.659687)):\n",
      "  Benchmark Time: (18, 18) minutes\n",
      "  Calculated Time: 15.257025041303441 minutes\n",
      "  Difference: 2.742974958696559 minutes (15.24%)\n",
      "\n",
      "Path ((10.725881, 59.659687), (10.806946, 59.833073)):\n",
      "  Benchmark Time: (22, 22) minutes\n",
      "  Calculated Time: 23.06322758315736 minutes\n",
      "  Difference: 1.06322758315736 minutes (4.83%)\n",
      "\n",
      "Path ((10.806946, 59.833073), (10.439887, 59.830055)):\n",
      "  Benchmark Time: (30, 40) minutes\n",
      "  Calculated Time: 37.224067797808644 minutes\n",
      "  Difference: 0 minutes (0.00%)\n",
      "\n",
      "Path ((10.439887, 59.830055), (10.509723, 59.89813)):\n",
      "  Benchmark Time: (14, 14) minutes\n",
      "  Calculated Time: 12.934229342347523 minutes\n",
      "  Difference: 1.065770657652477 minutes (7.61%)\n",
      "\n",
      "Path ((10.509723, 59.89813), (10.687367, 59.939663)):\n",
      "  Benchmark Time: (16, 20) minutes\n",
      "  Calculated Time: 16.317092814265365 minutes\n",
      "  Difference: 0 minutes (0.00%)\n",
      "\n",
      "Path ((10.687367, 59.939663), (10.806364, 59.893173)):\n",
      "  Benchmark Time: (12, 16) minutes\n",
      "  Calculated Time: 14.250163668335995 minutes\n",
      "  Difference: 0 minutes (0.00%)\n",
      "\n",
      "Path ((10.806364, 59.893173), (10.884091, 59.960304)):\n",
      "  Benchmark Time: (12, 18) minutes\n",
      "  Calculated Time: 14.494296819521649 minutes\n",
      "  Difference: 0 minutes (0.00%)\n",
      "\n",
      "Path ((10.884091, 59.960304), (11.03928, 59.997875)):\n",
      "  Benchmark Time: (20, 20) minutes\n",
      "  Calculated Time: 20.12466000863486 minutes\n",
      "  Difference: 0.1246600086348586 minutes (0.62%)\n",
      "\n",
      "Path ((11.03928, 59.997875), (10.585751, 59.917873)):\n",
      "  Benchmark Time: (28, 35) minutes\n",
      "  Calculated Time: 32.320582075518786 minutes\n",
      "  Difference: 0 minutes (0.00%)\n",
      "\n",
      "Path ((10.585751, 59.917873), (11.14674, 60.31262)):\n",
      "  Benchmark Time: (55, 65) minutes\n",
      "  Calculated Time: 57.02252863128984 minutes\n",
      "  Difference: 0 minutes (0.00%)\n",
      "\n",
      "Total Discrepancy: 15.224402173488158 minutes across all paths.\n",
      "Average Discrepancy Percentage: 2.32%\n"
     ]
    }
   ],
   "source": [
    "od.set_graph_weights_v2(**best_solution)\n",
    "\n",
    "_, calculated_times = calculate_error(od, benchmark_times)\n",
    "\n",
    "evaluate_travel_time_accuracy(benchmark_times, calculated_times)\n"
   ]
  }
 ],
 "metadata": {
  "kernelspec": {
   "display_name": ".venv",
   "language": "python",
   "name": "python3"
  },
  "language_info": {
   "codemirror_mode": {
    "name": "ipython",
    "version": 3
   },
   "file_extension": ".py",
   "mimetype": "text/x-python",
   "name": "python",
   "nbconvert_exporter": "python",
   "pygments_lexer": "ipython3",
   "version": "3.11.7"
  }
 },
 "nbformat": 4,
 "nbformat_minor": 2
}
