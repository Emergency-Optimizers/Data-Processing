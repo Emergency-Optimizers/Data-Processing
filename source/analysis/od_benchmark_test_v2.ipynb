{
 "cells": [
  {
   "cell_type": "markdown",
   "metadata": {},
   "source": [
    "# Fix pathing"
   ]
  },
  {
   "cell_type": "code",
   "execution_count": 1,
   "metadata": {},
   "outputs": [],
   "source": [
    "import sys\n",
    "\n",
    "\n",
    "sys.path.append(\"..\")\n"
   ]
  },
  {
   "cell_type": "code",
   "execution_count": 2,
   "metadata": {},
   "outputs": [],
   "source": [
    "import constants\n",
    "\n",
    "import os\n",
    "\n",
    "\n",
    "constants.PROJECT_DIRECTORY_PATH = os.path.dirname(os.path.dirname(constants.PROJECT_DIRECTORY_PATH))\n"
   ]
  },
  {
   "cell_type": "markdown",
   "metadata": {},
   "source": [
    "# Imports"
   ]
  },
  {
   "cell_type": "code",
   "execution_count": 3,
   "metadata": {},
   "outputs": [],
   "source": [
    "import datahandler\n",
    "import utils\n",
    "import pathing\n",
    "\n",
    "import osmnx as ox\n",
    "import networkx\n",
    "import random\n",
    "import time\n",
    "from tqdm import tqdm\n"
   ]
  },
  {
   "cell_type": "markdown",
   "metadata": {},
   "source": [
    "# Constants"
   ]
  },
  {
   "cell_type": "code",
   "execution_count": 4,
   "metadata": {},
   "outputs": [
    {
     "name": "stderr",
     "output_type": "stream",
     "text": [
      "Cleaning dataset: 100%|██████████| 2/2 [00:00<00:00, 2010.21it/s]\n",
      "Processing dataset: 100%|██████████| 2/2 [00:00<00:00, 2003.97it/s]\n",
      "Enhancing dataset: 100%|██████████| 2/2 [00:00<?, ?it/s]\n"
     ]
    }
   ],
   "source": [
    "data_preprocessor = datahandler.DataPreprocessorOUS_V2()\n",
    "data_preprocessor.execute()\n",
    "\n",
    "data_loader = datahandler.DataLoader(datahandler.DataPreprocessorOUS_V2)\n",
    "data_loader.execute(clean=False, processed=False, enhanced=False)"
   ]
  },
  {
   "cell_type": "markdown",
   "metadata": {},
   "source": [
    "# Methods"
   ]
  },
  {
   "cell_type": "code",
   "execution_count": 5,
   "metadata": {},
   "outputs": [],
   "source": [
    "def get_node(od: pathing.OriginDestination, x, y):\n",
    "    if (x, y) in od.node_cache:\n",
    "        return od.node_cache[(x, y)]\n",
    "    \n",
    "    while True:\n",
    "        node = ox.distance.nearest_nodes(od.graph, x, y)\n",
    "        if networkx.has_path(od.graph, node, od.node_validator) and networkx.has_path(od.graph, od.node_validator, node):\n",
    "            od.node_cache[(x, y)] = node\n",
    "            return node\n",
    "        else:\n",
    "            od.graph.remove_node(node)\n"
   ]
  },
  {
   "cell_type": "code",
   "execution_count": 6,
   "metadata": {},
   "outputs": [],
   "source": [
    "def evaluate_travel_time_accuracy(benchmark_times, calculated_times):\n",
    "    total_diff = 0\n",
    "    total_diff_percentage = 0\n",
    "\n",
    "    for destination, benchmark in benchmark_times.items():\n",
    "        if destination in calculated_times:\n",
    "            calculated = calculated_times[destination]\n",
    "            diff = abs(benchmark - calculated)\n",
    "            diff_percentage = (diff / benchmark) * 100\n",
    "\n",
    "            total_diff += diff\n",
    "            total_diff_percentage += diff_percentage\n",
    "\n",
    "            print(f\"Destination {destination}:\")\n",
    "            print(f\"  Benchmark Time: {benchmark} minutes\")\n",
    "            print(f\"  Calculated Time: {calculated} minutes\")\n",
    "            print(f\"  Difference: {diff} minutes ({diff_percentage:.2f}%)\")\n",
    "            print()\n",
    "        else:\n",
    "            print(f\"Destination {destination} not found in calculated times.\")\n",
    "\n",
    "    avg_diff_percentage = total_diff_percentage / len(benchmark_times)\n",
    "    print(f\"Total Discrepancy: {total_diff} minutes across all destinations.\")\n",
    "    print(f\"Average Discrepancy Percentage: {avg_diff_percentage:.2f}%\")\n"
   ]
  },
  {
   "cell_type": "code",
   "execution_count": 7,
   "metadata": {},
   "outputs": [],
   "source": [
    "def calculate_error(od: pathing.OriginDestination, benchmark_times, start_node):\n",
    "    calculated_times = {}\n",
    "    \n",
    "    # Assuming utils and get_node functions are defined and work as intended\n",
    "    for (lon, lat), _ in benchmark_times.items():\n",
    "        # Convert geographic coordinates to UTM and get the corresponding node\n",
    "        x, y = utils.geographic_to_utm(lon, lat)\n",
    "        destination_node = get_node(od, x, y)\n",
    "\n",
    "        # Calculate the shortest path and total travel time\n",
    "        shortest_time_path = ox.shortest_path(\n",
    "            od.graph,\n",
    "            start_node,\n",
    "            destination_node,\n",
    "            weight='time'\n",
    "        )\n",
    "        total_travel_time = sum(od.graph[u][v][0]['time'] for u, v in zip(shortest_time_path[:-1], shortest_time_path[1:]))\n",
    "\n",
    "        # Store the calculated travel time\n",
    "        calculated_times[(lon, lat)] = total_travel_time\n",
    "\n",
    "    # Calculate MSE\n",
    "    errors = [abs(benchmark_times[key] - calculated_times[key]) for key in benchmark_times]\n",
    "\n",
    "    mse = sum(error ** 2 for error in errors) / len(errors)\n",
    "    \n",
    "    return mse\n"
   ]
  },
  {
   "cell_type": "code",
   "execution_count": 8,
   "metadata": {},
   "outputs": [],
   "source": [
    "def gen_linkers(road_type_factors, link_factor):\n",
    "    linkables = [\n",
    "        \"motorway\",\n",
    "        \"trunk\",\n",
    "        \"primary\",\n",
    "        \"secondary\",\n",
    "        \"tertiary\",\n",
    "    ]\n",
    "\n",
    "    for linkable in linkables:\n",
    "        road_type_factors[linkable + \"_link\"] = road_type_factors[linkable] * link_factor\n",
    "    \n",
    "    return road_type_factors\n"
   ]
  },
  {
   "cell_type": "code",
   "execution_count": 18,
   "metadata": {},
   "outputs": [],
   "source": [
    "def optimize_parameters(od: pathing.OriginDestination, benchmark_times, start_node, max_duration_minutes):\n",
    "    start_time = time.time()\n",
    "    max_duration_seconds = max_duration_minutes * 60\n",
    "    \n",
    "    # Define parameter bounds\n",
    "    param_bounds = {\n",
    "        \"default_intersection_penalty\": (5, 20),\n",
    "        \"traffic_signal_penalty\": (5, 30),\n",
    "        \"linkable_factor\": (0.75, 1.0),\n",
    "        \"road_type_factors\": {\n",
    "            \"motorway\": (0.8, 1.0),\n",
    "            \"trunk\": (0.8, 1.0),\n",
    "            \"primary\": (0.7, 0.9),\n",
    "            \"secondary\": (0.7, 0.9),\n",
    "            \"tertiary\": (0.7, 0.9),\n",
    "            \"unclassified\": (0.6, 0.8),\n",
    "            \"residential\": (0.5, 0.7),\n",
    "            \"living_street\": (0.3, 0.5)\n",
    "        }\n",
    "    }\n",
    "    \n",
    "    # Initialize the best solution\n",
    "    best_solution = None\n",
    "    best_error = float(\"inf\")\n",
    "    \n",
    "    # Progress bar\n",
    "    with tqdm(desc=\"Optimizing Parameters\") as pbar:\n",
    "        while time.time() - start_time < max_duration_seconds:\n",
    "            # Generate a random solution within the bounds\n",
    "            current_solution = {\n",
    "                \"default_intersection_penalty\": random.randint(*param_bounds[\"default_intersection_penalty\"]),\n",
    "                \"traffic_signal_penalty\": random.randint(*param_bounds[\"traffic_signal_penalty\"]),\n",
    "                \"road_type_factors\": {k: random.uniform(*v) for k, v in param_bounds[\"road_type_factors\"].items()}\n",
    "            }\n",
    "            linkable_factor = random.uniform(*param_bounds[\"linkable_factor\"])\n",
    "\n",
    "            current_solution[\"road_type_factors\"] = gen_linkers(current_solution[\"road_type_factors\"], linkable_factor)\n",
    "            \n",
    "            # Set graph weights with the current solution\n",
    "            od.set_graph_weights_v2(**current_solution)\n",
    "            \n",
    "            # Calculate the error for the current solution\n",
    "            current_error = calculate_error(od, benchmark_times, start_node)\n",
    "            \n",
    "            # Update best solution if the current one is better\n",
    "            if current_error < best_error:\n",
    "                best_solution = current_solution\n",
    "                best_linkable_factor = linkable_factor\n",
    "                best_error = current_error\n",
    "                tqdm.write(\n",
    "                    f\"    New best solution:\\n\"\n",
    "                    f\"        Default Intersection Penalty: {best_solution['default_intersection_penalty']}\\n\"\n",
    "                    f\"        Traffic Signal Penalty: {best_solution['traffic_signal_penalty']}\\n\"\n",
    "                    f\"        Linkable Factor: {best_linkable_factor}\\n\"\n",
    "                    f\"        Road Type Factors:\\n\"\n",
    "                    + \"\\n\".join([f\"            {k}: {v}\" for k, v in best_solution['road_type_factors'].items()]) +\n",
    "                    f\"\\n        Error: {best_error}\"\n",
    "                )\n",
    "            \n",
    "            # Update progress bar\n",
    "            pbar.update()\n",
    "    \n",
    "    return best_solution, best_error\n"
   ]
  },
  {
   "cell_type": "markdown",
   "metadata": {},
   "source": [
    "# Main"
   ]
  },
  {
   "cell_type": "code",
   "execution_count": 10,
   "metadata": {},
   "outputs": [],
   "source": [
    "od = pathing.OriginDestination(\n",
    "    dataset_id=\"oslo\",\n",
    "    utm_epsg=f\"EPSG:326{33}\"\n",
    ")\n",
    "\n",
    "od.get_graph()\n",
    "\n",
    "central_depot_grid_id = 22620006649000\n",
    "central_depot_x, central_depot_y = utils.id_to_utm(central_depot_grid_id)\n",
    "od.node_validator = ox.distance.nearest_nodes(od.graph, central_depot_x, central_depot_y)\n"
   ]
  },
  {
   "cell_type": "code",
   "execution_count": 11,
   "metadata": {},
   "outputs": [],
   "source": [
    "x, y = utils.geographic_to_utm(10.7343661, 59.9369806)\n",
    "start_node = get_node(od, x, y)\n",
    "\n",
    "benchmark_times = {\n",
    "    (10.6572104, 59.6800045): 40,\n",
    "    (10.6661424, 59.8598299): 60,\n",
    "    (10.4852080, 59.8073283): 35,\n",
    "    (11.8086592, 60.2271721): 68,\n",
    "    (10.7193651, 60.1973847): 53,\n",
    "    (10.7622022, 60.0035569): 14\n",
    "}\n"
   ]
  },
  {
   "cell_type": "code",
   "execution_count": 19,
   "metadata": {},
   "outputs": [
    {
     "name": "stderr",
     "output_type": "stream",
     "text": [
      "Optimizing Parameters: 0it [00:00, ?it/s]"
     ]
    },
    {
     "name": "stderr",
     "output_type": "stream",
     "text": [
      "Optimizing Parameters: 1it [00:03,  3.09s/it]"
     ]
    },
    {
     "name": "stdout",
     "output_type": "stream",
     "text": [
      "    New best solution:\n",
      "        Default Intersection Penalty: 14\n",
      "        Traffic Signal Penalty: 10\n",
      "        Linkable Factor: 0.7828180563961024\n",
      "        Road Type Factors:\n",
      "            motorway: 0.9631405233226625\n",
      "            trunk: 0.9123215912448058\n",
      "            primary: 0.7256570752436865\n",
      "            secondary: 0.7297436395842564\n",
      "            tertiary: 0.798232035660831\n",
      "            unclassified: 0.7481793772088875\n",
      "            residential: 0.5248171368985575\n",
      "            living_street: 0.3495023411373888\n",
      "            motorway_link: 0.7539637925037715\n",
      "            trunk_link: 0.7141818148664583\n",
      "            primary_link: 0.5680574612523429\n",
      "            secondary_link: 0.5712564976067654\n",
      "            tertiary_link: 0.624870450709116\n",
      "        With error: 53.00167901988586\n"
     ]
    },
    {
     "name": "stderr",
     "output_type": "stream",
     "text": [
      "Optimizing Parameters: 3it [00:09,  3.17s/it]"
     ]
    },
    {
     "name": "stdout",
     "output_type": "stream",
     "text": [
      "    New best solution:\n",
      "        Default Intersection Penalty: 10\n",
      "        Traffic Signal Penalty: 20\n",
      "        Linkable Factor: 0.886599217114875\n",
      "        Road Type Factors:\n",
      "            motorway: 0.8518126330959961\n",
      "            trunk: 0.9822347695905322\n",
      "            primary: 0.8707746243853463\n",
      "            secondary: 0.792667278441288\n",
      "            tertiary: 0.7058460232625422\n",
      "            unclassified: 0.7488420854582375\n",
      "            residential: 0.5118301224394534\n",
      "            living_street: 0.33203758868203803\n",
      "            motorway_link: 0.7552164136314704\n",
      "            trunk_link: 0.8708485777419755\n",
      "            primary_link: 0.7720281002635473\n",
      "            secondary_link: 0.7027781884986246\n",
      "            tertiary_link: 0.6258025316282178\n",
      "        With error: 23.125947951786618\n"
     ]
    },
    {
     "name": "stderr",
     "output_type": "stream",
     "text": [
      "Optimizing Parameters: 15it [00:51,  3.48s/it]"
     ]
    },
    {
     "name": "stdout",
     "output_type": "stream",
     "text": [
      "    New best solution:\n",
      "        Default Intersection Penalty: 6\n",
      "        Traffic Signal Penalty: 23\n",
      "        Linkable Factor: 0.7660286948697904\n",
      "        Road Type Factors:\n",
      "            motorway: 0.9740723243407976\n",
      "            trunk: 0.9310420348151054\n",
      "            primary: 0.7863156210070729\n",
      "            secondary: 0.7953216480509373\n",
      "            tertiary: 0.7985849972557014\n",
      "            unclassified: 0.6639659572474099\n",
      "            residential: 0.6625617026621203\n",
      "            living_street: 0.36740327836043046\n",
      "            motorway_link: 0.7461673513235644\n",
      "            trunk_link: 0.7132049147983291\n",
      "            primary_link: 0.6023403289157768\n",
      "            secondary_link: 0.6092392040581502\n",
      "            tertiary_link: 0.6117390231903801\n",
      "        With error: 17.27556675187772\n"
     ]
    },
    {
     "name": "stderr",
     "output_type": "stream",
     "text": [
      "Optimizing Parameters: 74it [04:01,  3.06s/it]"
     ]
    },
    {
     "name": "stdout",
     "output_type": "stream",
     "text": [
      "    New best solution:\n",
      "        Default Intersection Penalty: 6\n",
      "        Traffic Signal Penalty: 29\n",
      "        Linkable Factor: 0.9053800621298579\n",
      "        Road Type Factors:\n",
      "            motorway: 0.9258123626584679\n",
      "            trunk: 0.9323258655070854\n",
      "            primary: 0.871823304768782\n",
      "            secondary: 0.8335886006340473\n",
      "            tertiary: 0.8406787026990048\n",
      "            unclassified: 0.782469986085907\n",
      "            residential: 0.6784030781520728\n",
      "            living_street: 0.3466075765066222\n",
      "            motorway_link: 0.8382120544243142\n",
      "            trunk_link: 0.8441092500380785\n",
      "            primary_link: 0.7893314378378179\n",
      "            secondary_link: 0.754714499032795\n",
      "            tertiary_link: 0.7611337360808733\n",
      "        With error: 17.049675884909224\n"
     ]
    },
    {
     "name": "stderr",
     "output_type": "stream",
     "text": [
      "Optimizing Parameters: 93it [05:02,  3.25s/it]"
     ]
    },
    {
     "name": "stdout",
     "output_type": "stream",
     "text": [
      "    New best solution:\n",
      "        Default Intersection Penalty: 7\n",
      "        Traffic Signal Penalty: 22\n",
      "        Linkable Factor: 0.8342989094156716\n",
      "        Road Type Factors:\n",
      "            motorway: 0.9316073724923927\n",
      "            trunk: 0.9699265632580953\n",
      "            primary: 0.8721456891098264\n",
      "            secondary: 0.7743084386462568\n",
      "            tertiary: 0.8408122082647067\n",
      "            unclassified: 0.7777146530071191\n",
      "            residential: 0.6142154053141573\n",
      "            living_street: 0.44117352214177397\n",
      "            motorway_link: 0.7772390148740026\n",
      "            trunk_link: 0.8092086739395193\n",
      "            primary_link: 0.7276301972759076\n",
      "            secondary_link: 0.6460046859139235\n",
      "            tertiary_link: 0.7014887083786274\n",
      "        With error: 13.943516996505636\n"
     ]
    },
    {
     "name": "stderr",
     "output_type": "stream",
     "text": [
      "Optimizing Parameters: 98it [05:20,  3.53s/it]"
     ]
    },
    {
     "name": "stdout",
     "output_type": "stream",
     "text": [
      "    New best solution:\n",
      "        Default Intersection Penalty: 7\n",
      "        Traffic Signal Penalty: 23\n",
      "        Linkable Factor: 0.9367932723284527\n",
      "        Road Type Factors:\n",
      "            motorway: 0.9829123702090651\n",
      "            trunk: 0.9890896028703644\n",
      "            primary: 0.8022311450894829\n",
      "            secondary: 0.8391160216994574\n",
      "            tertiary: 0.7814750888642189\n",
      "            unclassified: 0.610927540515509\n",
      "            residential: 0.6595426202076038\n",
      "            living_street: 0.34674379908080605\n",
      "            motorway_link: 0.9207856957002656\n",
      "            trunk_link: 0.9265724856989784\n",
      "            primary_link: 0.7515247395721784\n",
      "            secondary_link: 0.7860782438310676\n",
      "            tertiary_link: 0.73208060574028\n",
      "        With error: 12.296442323521227\n"
     ]
    },
    {
     "name": "stderr",
     "output_type": "stream",
     "text": [
      "Optimizing Parameters: 180it [10:03,  3.35s/it]\n"
     ]
    }
   ],
   "source": [
    "best_solution, best_error = optimize_parameters(\n",
    "    od,\n",
    "    benchmark_times,\n",
    "    start_node,\n",
    "    max_duration_minutes=10\n",
    ")\n"
   ]
  },
  {
   "cell_type": "code",
   "execution_count": 20,
   "metadata": {},
   "outputs": [
    {
     "name": "stdout",
     "output_type": "stream",
     "text": [
      "Destination (10.6572104, 59.6800045):\n",
      "  Benchmark Time: 40 minutes\n",
      "  Calculated Time: 40.3363019423618 minutes\n",
      "  Difference: 0.3363019423617999 minutes (0.84%)\n",
      "\n",
      "Destination (10.6661424, 59.8598299):\n",
      "  Benchmark Time: 60 minutes\n",
      "  Calculated Time: 58.64136638922261 minutes\n",
      "  Difference: 1.3586336107773889 minutes (2.26%)\n",
      "\n",
      "Destination (10.485208, 59.8073283):\n",
      "  Benchmark Time: 35 minutes\n",
      "  Calculated Time: 35.66103216792497 minutes\n",
      "  Difference: 0.6610321679249722 minutes (1.89%)\n",
      "\n",
      "Destination (11.8086592, 60.2271721):\n",
      "  Benchmark Time: 68 minutes\n",
      "  Calculated Time: 75.14389705743733 minutes\n",
      "  Difference: 7.143897057437329 minutes (10.51%)\n",
      "\n",
      "Destination (10.7193651, 60.1973847):\n",
      "  Benchmark Time: 53 minutes\n",
      "  Calculated Time: 48.49561208821867 minutes\n",
      "  Difference: 4.504387911781329 minutes (8.50%)\n",
      "\n",
      "Destination (10.7622022, 60.0035569):\n",
      "  Benchmark Time: 14 minutes\n",
      "  Calculated Time: 14.240687561502401 minutes\n",
      "  Difference: 0.24068756150240134 minutes (1.72%)\n",
      "\n",
      "Total Discrepancy: 14.24494025178522 minutes across all destinations.\n",
      "Average Discrepancy Percentage: 4.29%\n"
     ]
    }
   ],
   "source": [
    "od.set_graph_weights_v2(**best_solution)\n",
    "\n",
    "calculated_times = {}\n",
    "\n",
    "for lon, lat in benchmark_times.keys():\n",
    "    # gets destination node for UTM coordinates\n",
    "    x, y = utils.geographic_to_utm(lon, lat)\n",
    "    destination_node = get_node(od, x, y)\n",
    "\n",
    "    # get path of nodes from start node to destination node\n",
    "    shortest_time_path = ox.shortest_path(\n",
    "        od.graph,\n",
    "        start_node,\n",
    "        destination_node,\n",
    "        weight='time'\n",
    "    )\n",
    "\n",
    "    # caclulate travel time between start and destination node and cache the result\n",
    "    total_travel_time = sum(od.graph[u][v][0]['time'] for u, v in zip(shortest_time_path[:-1], shortest_time_path[1:]))\n",
    "    calculated_times[(lon, lat)] = total_travel_time\n",
    "    \n",
    "evaluate_travel_time_accuracy(benchmark_times, calculated_times)\n"
   ]
  }
 ],
 "metadata": {
  "kernelspec": {
   "display_name": ".venv",
   "language": "python",
   "name": "python3"
  },
  "language_info": {
   "codemirror_mode": {
    "name": "ipython",
    "version": 3
   },
   "file_extension": ".py",
   "mimetype": "text/x-python",
   "name": "python",
   "nbconvert_exporter": "python",
   "pygments_lexer": "ipython3",
   "version": "3.11.7"
  }
 },
 "nbformat": 4,
 "nbformat_minor": 2
}
