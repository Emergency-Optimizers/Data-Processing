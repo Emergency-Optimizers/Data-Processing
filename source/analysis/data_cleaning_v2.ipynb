{
 "cells": [
  {
   "cell_type": "markdown",
   "metadata": {},
   "source": [
    "# Fix pathing"
   ]
  },
  {
   "cell_type": "code",
   "execution_count": 1,
   "metadata": {},
   "outputs": [],
   "source": [
    "import sys\n",
    "\n",
    "\n",
    "sys.path.append(\"..\")\n"
   ]
  },
  {
   "cell_type": "code",
   "execution_count": 2,
   "metadata": {},
   "outputs": [],
   "source": [
    "import constants\n",
    "\n",
    "import os\n",
    "\n",
    "\n",
    "constants.PROJECT_DIRECTORY_PATH = os.path.dirname(os.path.dirname(constants.PROJECT_DIRECTORY_PATH))\n"
   ]
  },
  {
   "cell_type": "markdown",
   "metadata": {},
   "source": [
    "# Imports"
   ]
  },
  {
   "cell_type": "code",
   "execution_count": 3,
   "metadata": {},
   "outputs": [],
   "source": [
    "import utils\n",
    "\n",
    "import regex\n",
    "import pandas as pd\n",
    "import numpy as np\n",
    "import shapely.geometry\n"
   ]
  },
  {
   "cell_type": "markdown",
   "metadata": {},
   "source": [
    "# Constants"
   ]
  },
  {
   "cell_type": "code",
   "execution_count": 4,
   "metadata": {},
   "outputs": [],
   "source": [
    "DATASET_ID = \"oslo\"\n",
    "RAW_INCIDENTS_PATH = utils.get_raw_incidents_path(DATASET_ID)\n",
    "CLEAN_INCIDENTS_PATH = utils.get_clean_incidents_path(DATASET_ID)\n",
    "PROCESSED_INCIDENTS_PATH = utils.get_processed_incidents_path(DATASET_ID)\n"
   ]
  },
  {
   "cell_type": "markdown",
   "metadata": {},
   "source": [
    "# Methods"
   ]
  },
  {
   "cell_type": "code",
   "execution_count": 5,
   "metadata": {},
   "outputs": [],
   "source": [
    "def fix_csv_errors(source_filepath: str, target_filepath: str):\n",
    "    \"\"\"Fixes common errors in a CSV file and saves the corrected version.\n",
    "\n",
    "    Args:\n",
    "        source_filepath (str): The path to the source CSV file.\n",
    "        target_filepath (str): The path where the corrected CSV file will be saved.\n",
    "    \"\"\"\n",
    "    with open(source_filepath, \"r\", encoding=\"windows-1252\") as source_file, \\\n",
    "         open(target_filepath, \"w\", encoding=\"utf-8\") as target_file:\n",
    "        \n",
    "        # fix empty header\n",
    "        header = source_file.readline().replace('\"\"', '\"id\"')\n",
    "        target_file.write(header)\n",
    "        \n",
    "        # fix comma errors in the data lines\n",
    "        for line in source_file:\n",
    "            if regex.match(r\".*\\(.*,.*\\).*\", line):\n",
    "                line = regex.sub(r\"\\([^,()]+\\K,\", \"\\\\,\", line)\n",
    "\n",
    "            target_file.write(line)\n"
   ]
  },
  {
   "cell_type": "code",
   "execution_count": 6,
   "metadata": {},
   "outputs": [],
   "source": [
    "def split_geometry(dataframe: pd.DataFrame) -> pd.DataFrame:\n",
    "    \"\"\"\n",
    "    Splits the 'geometry' column of the DataFrame into two separate columns.\n",
    "\n",
    "    Args:\n",
    "        dataframe (pd.DataFrame): The DataFrame containing the 'geometry' column.\n",
    "\n",
    "    Returns:\n",
    "        pd.DataFrame: The DataFrame with the 'geometry' column split into 'geometry_x' and 'geometry_y'.\n",
    "    \"\"\"\n",
    "    # splitting the 'geometry' column into two new columns\n",
    "    geometry_split = dataframe[\"geometry\"].str.replace(\"c\\(|\\)\", \"\", regex=True).str.split(\", \", expand=True)\n",
    "    dataframe[[\"geometry_x\", \"geometry_y\"]] = geometry_split\n",
    "\n",
    "    # drop the problematic column\n",
    "    dataframe.drop([\"geometry\"], axis=1, inplace=True)\n",
    "\n",
    "    return dataframe\n"
   ]
  },
  {
   "cell_type": "code",
   "execution_count": 7,
   "metadata": {},
   "outputs": [],
   "source": [
    "def drop_unnecessary_raw_columns(dataframe: pd.DataFrame) -> pd.DataFrame:\n",
    "    columns_to_drop = [\n",
    "        \"utrykningstid\",\n",
    "        \"responstid\",\n",
    "        \"gml_id\",\n",
    "        \"lokalId\",\n",
    "        \"navnerom\",\n",
    "        \"versjonId\",\n",
    "        \"oppdateringsdato\",\n",
    "        \"datauttaksdato\",\n",
    "        \"opphav\",\n",
    "        \"rsize\",\n",
    "        \"col\",\n",
    "        \"row\",\n",
    "        \"statistikkÅr\"\n",
    "    ]\n",
    "    dataframe.drop(columns_to_drop, axis=1, inplace=True)\n",
    "\n",
    "    return dataframe\n"
   ]
  },
  {
   "cell_type": "code",
   "execution_count": 8,
   "metadata": {},
   "outputs": [],
   "source": [
    "def fix_raw_types(dataframe: pd.DataFrame) -> pd.DataFrame:\n",
    "    headers_types = {\n",
    "        \"id\": \"int64\",\n",
    "        \"hastegrad\": \"object\",\n",
    "        \"tidspunkt\": \"object\",\n",
    "        \"tiltak_opprettet\": \"object\",\n",
    "        \"ressurs_id\": \"object\",\n",
    "        \"tiltak_type\": \"object\",\n",
    "        \"varslet\": \"object\",\n",
    "        \"rykker_ut\": \"object\",\n",
    "        \"ank_hentested\": \"object\",\n",
    "        \"avg_hentested\": \"object\",\n",
    "        \"ank_levsted\": \"object\",\n",
    "        \"ledig\": \"object\",\n",
    "        \"ssbid1000M\": \"int64\",\n",
    "        \"xcoor\": \"int64\",\n",
    "        \"ycoor\": \"int64\",\n",
    "        \"popTot\": \"int64\",\n",
    "        \"popAve\": \"float64\",\n",
    "        \"popFem\": \"int64\",\n",
    "        \"popMal\": \"int64\",\n",
    "        \"geometry_x\": \"int64\",\n",
    "        \"geometry_y\": \"int64\"\n",
    "    }\n",
    "    \n",
    "    dataframe = dataframe.astype(headers_types)\n",
    "\n",
    "    date_columns = [\n",
    "        \"tidspunkt\",\n",
    "        \"tiltak_opprettet\",\n",
    "        \"varslet\",\n",
    "        \"rykker_ut\",\n",
    "        \"ank_hentested\",\n",
    "        \"avg_hentested\",\n",
    "        \"ank_levsted\",\n",
    "        \"ledig\"\n",
    "    ]\n",
    "\n",
    "    for col in date_columns:\n",
    "        dataframe[col] = pd.to_datetime(dataframe[col], format=\"%d.%m.%Y %H:%M:%S \", errors=\"coerce\")\n",
    "\n",
    "    return dataframe\n"
   ]
  },
  {
   "cell_type": "code",
   "execution_count": 9,
   "metadata": {},
   "outputs": [],
   "source": [
    "def save_dataframe(dataframe: pd.DataFrame, filepath: str):\n",
    "    dataframe.to_csv(filepath, index=False)\n"
   ]
  },
  {
   "cell_type": "code",
   "execution_count": 10,
   "metadata": {},
   "outputs": [],
   "source": [
    "def load_clean_incident_dataframe() -> pd.DataFrame:\n",
    "    column_types = {\n",
    "        \"id\": \"int64\",\n",
    "        \"hastegrad\": \"object\",\n",
    "        \"ressurs_id\": \"object\",\n",
    "        \"tiltak_type\": \"object\",\n",
    "        \"ssbid1000M\": \"int64\",\n",
    "        \"xcoor\": \"int64\",\n",
    "        \"ycoor\": \"int64\",\n",
    "        \"popTot\": \"int64\",\n",
    "        \"popAve\": \"float64\",\n",
    "        \"popFem\": \"int64\",\n",
    "        \"popMal\": \"int64\",\n",
    "        \"geometry_x\": \"int64\",\n",
    "        \"geometry_y\": \"int64\"\n",
    "    }\n",
    "    column_index_dates = [2, 3, 6, 7, 8, 9, 10, 11]\n",
    "\n",
    "    dataframe = pd.read_csv(CLEAN_INCIDENTS_PATH, dtype=column_types, na_values=[\"\"], parse_dates=column_index_dates)\n",
    "\n",
    "    return dataframe\n"
   ]
  },
  {
   "cell_type": "code",
   "execution_count": 11,
   "metadata": {},
   "outputs": [],
   "source": [
    "def clean_incident_dataset():\n",
    "    fix_csv_errors(RAW_INCIDENTS_PATH, CLEAN_INCIDENTS_PATH)\n",
    "    dataframe = pd.read_csv(CLEAN_INCIDENTS_PATH, escapechar=\"\\\\\", low_memory=False)\n",
    "    dataframe = split_geometry(dataframe)\n",
    "    dataframe = drop_unnecessary_raw_columns(dataframe)\n",
    "    dataframe = fix_raw_types(dataframe)\n",
    "    save_dataframe(dataframe, CLEAN_INCIDENTS_PATH)\n"
   ]
  },
  {
   "cell_type": "code",
   "execution_count": 12,
   "metadata": {},
   "outputs": [],
   "source": [
    "def add_geo_data(dataframe: pd.DataFrame) -> pd.DataFrame:\n",
    "    gdf_oslo_bounds = utils.get_bounds(file_paths=[os.path.join(constants.PROJECT_DIRECTORY_PATH, \"data\", \"ssb_2019_oslo_polygon_epsg4326.geojson\")])\n",
    "    gdf_akershus_bounds = utils.get_bounds(file_paths=[os.path.join(constants.PROJECT_DIRECTORY_PATH, \"data\", \"ssb_2019_akershus_polygon_epsg4326.geojson\")])\n",
    "    gdf_urban_settlement_bounds = utils.get_bounds(file_paths=[os.path.join(constants.PROJECT_DIRECTORY_PATH, \"data\", \"ssb_2021_urban_settlements_polygon_epsg4326.geojson\")])\n",
    "\n",
    "    cached_geo_data_point = {}\n",
    "    cached_geo_data_grid_id = {}\n",
    "\n",
    "    for index, _ in dataframe.iterrows():\n",
    "        grid_id = dataframe.at[index, \"grid_id\"]\n",
    "\n",
    "        if grid_id in cached_geo_data_grid_id:\n",
    "            longitude, latitude, region, urban_settlement = cached_geo_data_grid_id[grid_id]\n",
    "        else:\n",
    "            x = dataframe.at[index, \"x\"]\n",
    "            y = dataframe.at[index, \"y\"]\n",
    "\n",
    "            region_akershus_count = 0\n",
    "            region_oslo_count = 0\n",
    "            urban_settlement_count = 0\n",
    "\n",
    "            for longitude, latitude in utils.get_cell_corners(x, y):\n",
    "                if (longitude, latitude) in cached_geo_data_point:\n",
    "                    region, urban_settlement = cached_geo_data_point[(longitude, latitude)]\n",
    "                else:\n",
    "                    point = shapely.geometry.Point(longitude, latitude)\n",
    "\n",
    "                    region = None\n",
    "                    if gdf_akershus_bounds.contains(point).any():\n",
    "                        region = \"Akershus\"\n",
    "                    elif gdf_oslo_bounds.contains(point).any():\n",
    "                        region = \"Oslo\"\n",
    "\n",
    "                    urban_settlement = gdf_urban_settlement_bounds.contains(point).any()\n",
    "\n",
    "                    cached_geo_data_point[(longitude, latitude)] = (region, urban_settlement)\n",
    "\n",
    "                if region == \"Akershus\":\n",
    "                    region_akershus_count += 1\n",
    "                elif region == \"Oslo\":\n",
    "                    region_oslo_count += 1\n",
    "                    \n",
    "                urban_settlement_count += urban_settlement\n",
    "            \n",
    "            if (region_akershus_count + region_oslo_count) == 0:\n",
    "                region = None\n",
    "            elif region_oslo_count >= region_akershus_count:\n",
    "                region = \"Oslo\"\n",
    "            else:\n",
    "                region = \"Akershus\"\n",
    "            \n",
    "            urban_settlement = urban_settlement_count != 0\n",
    "\n",
    "            cached_geo_data_grid_id[grid_id] = (longitude, latitude, region, urban_settlement)\n",
    "        \n",
    "        dataframe.at[index, \"longitude\"] = longitude\n",
    "        dataframe.at[index, \"latitude\"] = latitude\n",
    "        dataframe.at[index, \"region\"] = region\n",
    "        dataframe.at[index, \"urban_settlement\"] = urban_settlement\n",
    "    \n",
    "    return dataframe\n"
   ]
  },
  {
   "cell_type": "code",
   "execution_count": 13,
   "metadata": {},
   "outputs": [],
   "source": [
    "def load_processed_incident_dataframe() -> pd.DataFrame:\n",
    "    column_types = {\n",
    "        \"id\": \"int64\",\n",
    "        \"triage_impression_during_call\": \"object\",\n",
    "        \"grid_id\": \"int64\",\n",
    "        \"x\": \"int64\",\n",
    "        \"y\": \"int64\",\n",
    "        \"x_accurate\": \"int64\",\n",
    "        \"y_accurate\": \"int64\",\n",
    "        \"longitude\": \"float64\",\n",
    "        \"latitude\": \"float64\",\n",
    "        \"region\": \"object\",\n",
    "        \"urban_settlement\": \"bool\"\n",
    "    }\n",
    "    column_index_dates = [2, 3, 4, 5, 6, 7, 8, 9]\n",
    "\n",
    "    dataframe = pd.read_csv(\n",
    "        PROCESSED_INCIDENTS_PATH,\n",
    "        dtype=column_types,\n",
    "        na_values=[\"\"],\n",
    "        parse_dates=column_index_dates\n",
    "    )\n",
    "\n",
    "    return dataframe\n"
   ]
  },
  {
   "cell_type": "code",
   "execution_count": 14,
   "metadata": {},
   "outputs": [],
   "source": [
    "def Initialize_processed_incidents_dataframe() -> pd.DataFrame:\n",
    "    dataframe_clean = load_clean_incident_dataframe()\n",
    "\n",
    "    dataframe = pd.DataFrame()\n",
    "    dataframe[\"id\"] = dataframe_clean[\"id\"]\n",
    "    dataframe[\"triage_impression_during_call\"] = dataframe_clean[\"hastegrad\"]\n",
    "    dataframe[\"time_call_received\"] = dataframe_clean[\"tidspunkt\"]\n",
    "    dataframe[\"time_call_answered\"] = dataframe_clean[\"tiltak_opprettet\"]\n",
    "    dataframe[\"time_ambulance_notified\"] = dataframe_clean[\"varslet\"]\n",
    "    dataframe[\"time_dispatch\"] = dataframe_clean[\"rykker_ut\"]\n",
    "    dataframe[\"time_arrival_scene\"] = dataframe_clean[\"ank_hentested\"]\n",
    "    dataframe[\"time_departure_scene\"] = dataframe_clean[\"avg_hentested\"]\n",
    "    dataframe[\"time_arrival_hospital\"] = dataframe_clean[\"ank_levsted\"]\n",
    "    dataframe[\"time_available\"] = dataframe_clean[\"ledig\"]\n",
    "    dataframe[\"grid_id\"] = dataframe_clean[\"ssbid1000M\"]\n",
    "    dataframe[\"x\"] = dataframe_clean[\"xcoor\"]\n",
    "    dataframe[\"y\"] = dataframe_clean[\"ycoor\"]\n",
    "    dataframe[\"x_accurate\"] = dataframe_clean[\"geometry_x\"]\n",
    "    dataframe[\"y_accurate\"] = dataframe_clean[\"geometry_y\"]\n",
    "    dataframe[\"longitude\"] = np.nan\n",
    "    dataframe[\"latitude\"] = np.nan\n",
    "    dataframe[\"region\"] = None\n",
    "    dataframe[\"urban_settlement\"] = False\n",
    "\n",
    "    return dataframe\n"
   ]
  },
  {
   "cell_type": "code",
   "execution_count": 15,
   "metadata": {},
   "outputs": [],
   "source": [
    "def process_incident_dataset():\n",
    "    dataframe = Initialize_processed_incidents_dataframe()\n",
    "    dataframe = add_geo_data(dataframe)\n",
    "\n",
    "    save_dataframe(dataframe, PROCESSED_INCIDENTS_PATH)\n"
   ]
  },
  {
   "cell_type": "markdown",
   "metadata": {},
   "source": [
    "# Main"
   ]
  },
  {
   "cell_type": "code",
   "execution_count": 16,
   "metadata": {},
   "outputs": [],
   "source": [
    "clean_incident_dataset()\n",
    "process_incident_dataset()\n"
   ]
  },
  {
   "cell_type": "code",
   "execution_count": 17,
   "metadata": {},
   "outputs": [
    {
     "name": "stdout",
     "output_type": "stream",
     "text": [
      "<class 'pandas.core.frame.DataFrame'>\n",
      "RangeIndex: 754811 entries, 0 to 754810\n",
      "Data columns (total 21 columns):\n",
      " #   Column            Non-Null Count   Dtype         \n",
      "---  ------            --------------   -----         \n",
      " 0   id                754811 non-null  int64         \n",
      " 1   hastegrad         754802 non-null  object        \n",
      " 2   tidspunkt         754811 non-null  datetime64[ns]\n",
      " 3   tiltak_opprettet  754811 non-null  datetime64[ns]\n",
      " 4   ressurs_id        754811 non-null  object        \n",
      " 5   tiltak_type       754811 non-null  object        \n",
      " 6   varslet           754333 non-null  datetime64[ns]\n",
      " 7   rykker_ut         731707 non-null  datetime64[ns]\n",
      " 8   ank_hentested     665649 non-null  datetime64[ns]\n",
      " 9   avg_hentested     560737 non-null  datetime64[ns]\n",
      " 10  ank_levsted       557995 non-null  datetime64[ns]\n",
      " 11  ledig             754747 non-null  datetime64[ns]\n",
      " 12  ssbid1000M        754811 non-null  int64         \n",
      " 13  xcoor             754811 non-null  int64         \n",
      " 14  ycoor             754811 non-null  int64         \n",
      " 15  popTot            754811 non-null  int64         \n",
      " 16  popAve            754811 non-null  float64       \n",
      " 17  popFem            754811 non-null  int64         \n",
      " 18  popMal            754811 non-null  int64         \n",
      " 19  geometry_x        754811 non-null  int64         \n",
      " 20  geometry_y        754811 non-null  int64         \n",
      "dtypes: datetime64[ns](8), float64(1), int64(9), object(3)\n",
      "memory usage: 120.9+ MB\n",
      "id                       0\n",
      "hastegrad                9\n",
      "tidspunkt                0\n",
      "tiltak_opprettet         0\n",
      "ressurs_id               0\n",
      "tiltak_type              0\n",
      "varslet                478\n",
      "rykker_ut            23104\n",
      "ank_hentested        89162\n",
      "avg_hentested       194074\n",
      "ank_levsted         196816\n",
      "ledig                   64\n",
      "ssbid1000M               0\n",
      "xcoor                    0\n",
      "ycoor                    0\n",
      "popTot                   0\n",
      "popAve                   0\n",
      "popFem                   0\n",
      "popMal                   0\n",
      "geometry_x               0\n",
      "geometry_y               0\n",
      "dtype: int64\n"
     ]
    }
   ],
   "source": [
    "dataframe_clean = load_clean_incident_dataframe()\n",
    "\n",
    "dataframe_clean.info()\n",
    "print(dataframe_clean.isnull().sum())"
   ]
  },
  {
   "cell_type": "code",
   "execution_count": 18,
   "metadata": {},
   "outputs": [
    {
     "name": "stdout",
     "output_type": "stream",
     "text": [
      "<class 'pandas.core.frame.DataFrame'>\n",
      "RangeIndex: 754811 entries, 0 to 754810\n",
      "Data columns (total 19 columns):\n",
      " #   Column                         Non-Null Count   Dtype         \n",
      "---  ------                         --------------   -----         \n",
      " 0   id                             754811 non-null  int64         \n",
      " 1   triage_impression_during_call  754802 non-null  object        \n",
      " 2   time_call_received             754811 non-null  datetime64[ns]\n",
      " 3   time_call_answered            754811 non-null  datetime64[ns]\n",
      " 4   time_ambulance_notified        754333 non-null  datetime64[ns]\n",
      " 5   time_dispatch                  731707 non-null  datetime64[ns]\n",
      " 6   time_arrival_scene             665649 non-null  datetime64[ns]\n",
      " 7   time_departure_scene           560737 non-null  datetime64[ns]\n",
      " 8   time_arrival_hospital          557995 non-null  datetime64[ns]\n",
      " 9   time_available                 754747 non-null  datetime64[ns]\n",
      " 10  grid_id                        754811 non-null  int64         \n",
      " 11  x                              754811 non-null  int64         \n",
      " 12  y                              754811 non-null  int64         \n",
      " 13  x_accurate                     754811 non-null  int64         \n",
      " 14  y_accurate                     754811 non-null  int64         \n",
      " 15  longitude                      754811 non-null  float64       \n",
      " 16  latitude                       754811 non-null  float64       \n",
      " 17  region                         585928 non-null  object        \n",
      " 18  urban_settlement               754811 non-null  bool          \n",
      "dtypes: bool(1), datetime64[ns](8), float64(2), int64(6), object(2)\n",
      "memory usage: 104.4+ MB\n",
      "id                                    0\n",
      "triage_impression_during_call         9\n",
      "time_call_received                    0\n",
      "time_call_answered                   0\n",
      "time_ambulance_notified             478\n",
      "time_dispatch                     23104\n",
      "time_arrival_scene                89162\n",
      "time_departure_scene             194074\n",
      "time_arrival_hospital            196816\n",
      "time_available                       64\n",
      "grid_id                               0\n",
      "x                                     0\n",
      "y                                     0\n",
      "x_accurate                            0\n",
      "y_accurate                            0\n",
      "longitude                             0\n",
      "latitude                              0\n",
      "region                           168883\n",
      "urban_settlement                      0\n",
      "dtype: int64\n"
     ]
    }
   ],
   "source": [
    "dataframe_processed = load_processed_incident_dataframe()\n",
    "\n",
    "dataframe_processed.info()\n",
    "print(dataframe_processed.isnull().sum())\n"
   ]
  }
 ],
 "metadata": {
  "kernelspec": {
   "display_name": ".venv",
   "language": "python",
   "name": "python3"
  },
  "language_info": {
   "codemirror_mode": {
    "name": "ipython",
    "version": 3
   },
   "file_extension": ".py",
   "mimetype": "text/x-python",
   "name": "python",
   "nbconvert_exporter": "python",
   "pygments_lexer": "ipython3",
   "version": "3.11.6"
  }
 },
 "nbformat": 4,
 "nbformat_minor": 2
}
