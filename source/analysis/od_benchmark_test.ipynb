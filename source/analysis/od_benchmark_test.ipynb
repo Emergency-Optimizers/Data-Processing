{
 "cells": [
  {
   "cell_type": "markdown",
   "metadata": {},
   "source": [
    "# Fix pathing"
   ]
  },
  {
   "cell_type": "code",
   "execution_count": 1,
   "metadata": {},
   "outputs": [],
   "source": [
    "import sys\n",
    "\n",
    "\n",
    "sys.path.append(\"..\")\n"
   ]
  },
  {
   "cell_type": "code",
   "execution_count": 2,
   "metadata": {},
   "outputs": [],
   "source": [
    "import constants\n",
    "\n",
    "import os\n",
    "\n",
    "\n",
    "constants.PROJECT_DIRECTORY_PATH = os.path.dirname(os.path.dirname(constants.PROJECT_DIRECTORY_PATH))\n"
   ]
  },
  {
   "cell_type": "markdown",
   "metadata": {},
   "source": [
    "# Imports"
   ]
  },
  {
   "cell_type": "code",
   "execution_count": 3,
   "metadata": {},
   "outputs": [],
   "source": [
    "import datahandler\n",
    "import plotter\n",
    "import utils\n",
    "import pathing\n",
    "\n",
    "import matplotlib\n",
    "import matplotlib.pyplot as plt\n",
    "import numpy as np\n",
    "import seaborn as sns\n",
    "import geopandas as gpd\n",
    "import pandas as pd\n",
    "\n",
    "import osmnx as ox\n",
    "import networkx as nx\n",
    "import geopandas as gpd\n",
    "import shapely\n",
    "import shapely.geometry\n",
    "import folium\n",
    "import scipy\n",
    "import networkx\n"
   ]
  },
  {
   "cell_type": "markdown",
   "metadata": {},
   "source": [
    "# Constants"
   ]
  },
  {
   "cell_type": "code",
   "execution_count": 4,
   "metadata": {},
   "outputs": [
    {
     "name": "stderr",
     "output_type": "stream",
     "text": [
      "Cleaning dataset: 100%|██████████| 2/2 [00:00<00:00, 2013.10it/s]\n",
      "Processing dataset: 100%|██████████| 2/2 [00:00<00:00, 2005.88it/s]\n",
      "Enhancing dataset: 100%|██████████| 2/2 [00:00<?, ?it/s]\n"
     ]
    }
   ],
   "source": [
    "data_preprocessor = datahandler.DataPreprocessorOUS_V2()\n",
    "data_preprocessor.execute()\n",
    "\n",
    "data_loader = datahandler.DataLoader(datahandler.DataPreprocessorOUS_V2)\n",
    "data_loader.execute(clean=False, processed=False, enhanced=False)"
   ]
  },
  {
   "cell_type": "markdown",
   "metadata": {},
   "source": [
    "# Main"
   ]
  },
  {
   "cell_type": "code",
   "execution_count": 5,
   "metadata": {},
   "outputs": [],
   "source": [
    "od = pathing.OriginDestination(\n",
    "    dataset_id=\"oslo\",\n",
    "    utm_epsg=f\"EPSG:326{33}\"\n",
    ")\n",
    "\n",
    "od.get_graph()"
   ]
  },
  {
   "cell_type": "code",
   "execution_count": 6,
   "metadata": {},
   "outputs": [],
   "source": [
    "central_depot_grid_id = 22620006649000\n",
    "central_depot_x, central_depot_y = utils.id_to_utm(central_depot_grid_id)\n",
    "od.node_validator = ox.distance.nearest_nodes(od.graph, central_depot_x, central_depot_y)"
   ]
  },
  {
   "cell_type": "code",
   "execution_count": 7,
   "metadata": {},
   "outputs": [],
   "source": [
    "def get_node(x, y):\n",
    "    while True:\n",
    "        node = ox.distance.nearest_nodes(od.graph, x, y)\n",
    "        if networkx.has_path(od.graph, node, od.node_validator) and networkx.has_path(od.graph, od.node_validator, node):\n",
    "            od.node_cache[(x, y)] = node\n",
    "            return node\n",
    "        else:\n",
    "            od.graph.remove_node(node)"
   ]
  },
  {
   "cell_type": "code",
   "execution_count": 48,
   "metadata": {},
   "outputs": [],
   "source": [
    "def evaluate_travel_time_accuracy(benchmark_times, calculated_times,verbose=False):\n",
    "    total_diff = 0\n",
    "    total_diff_percentage = 0\n",
    "\n",
    "    for destination, benchmark in benchmark_times.items():\n",
    "        if destination in calculated_times:\n",
    "            calculated = calculated_times[destination]\n",
    "            diff = abs(benchmark - calculated)\n",
    "            diff_percentage = (diff / benchmark) * 100\n",
    "\n",
    "            total_diff += diff\n",
    "            total_diff_percentage += diff_percentage\n",
    "            if verbose:\n",
    "                print(f\"Destination {destination}:\")\n",
    "                print(f\"  Benchmark Time: {benchmark} minutes\")\n",
    "                print(f\"  Calculated Time: {calculated} minutes\")\n",
    "                print(f\"  Difference: {diff} minutes ({diff_percentage:.2f}%)\")\n",
    "                print()\n",
    "        else:\n",
    "            if verbose:\n",
    "                print(f\"Destination {destination} not found in calculated times.\")\n",
    "\n",
    "    avg_diff_percentage = total_diff_percentage / len(benchmark_times)\n",
    "    if verbose:\n",
    "        print(f\"Total Discrepancy: {total_diff} minutes across all destinations.\")\n",
    "        print(f\"Average Discrepancy Percentage: {avg_diff_percentage:.2f}%\")\n",
    "    return total_diff, avg_diff_percentage"
   ]
  },
  {
   "cell_type": "code",
   "execution_count": 49,
   "metadata": {},
   "outputs": [],
   "source": [
    "intersection_penalty = 10\n",
    "secret_scary_factor = 1 # 0.65\n",
    "use_ambulance_speeds = False\n",
    "\n",
    "od.set_graph_weights(intersection_penalty, secret_scary_factor, use_ambulance_speeds)"
   ]
  },
  {
   "cell_type": "code",
   "execution_count": 57,
   "metadata": {},
   "outputs": [],
   "source": [
    "x, y = utils.geographic_to_utm(10.7343661,59.9369806)\n",
    "start_node = get_node(x, y)\n",
    "\n",
    "destinations = [(10.7740711,59.9276535), (10.7367191,59.9086137), (10.8131627,59.8967944)]\n",
    "\n",
    "benchmark_times = {(10.7740711,59.9276535):7, # 6-8 minutes\n",
    "                   (10.7367191,59.9086137):16, # 14-18 minutes\n",
    "                   (10.8131627,59.8967944):14} # 14 minutter"
   ]
  },
  {
   "cell_type": "code",
   "execution_count": 58,
   "metadata": {},
   "outputs": [
    {
     "name": "stdout",
     "output_type": "stream",
     "text": [
      "Destination (10.7740711, 59.9276535):\n",
      "  Benchmark Time: 7 minutes\n",
      "  Calculated Time: 5.549890533333333 minutes\n",
      "  Difference: 1.4501094666666674 minutes (20.72%)\n",
      "\n",
      "Destination (10.7367191, 59.9086137):\n",
      "  Benchmark Time: 16 minutes\n",
      "  Calculated Time: 8.781068666666668 minutes\n",
      "  Difference: 7.218931333333332 minutes (45.12%)\n",
      "\n",
      "Destination (10.8131627, 59.8967944):\n",
      "  Benchmark Time: 14 minutes\n",
      "  Calculated Time: 12.022520152380952 minutes\n",
      "  Difference: 1.9774798476190476 minutes (14.12%)\n",
      "\n",
      "Total Discrepancy: 10.646520647619047 minutes across all destinations.\n",
      "Average Discrepancy Percentage: 26.65%\n"
     ]
    },
    {
     "data": {
      "text/plain": [
       "(10.646520647619047, 26.653008803854878)"
      ]
     },
     "execution_count": 58,
     "metadata": {},
     "output_type": "execute_result"
    }
   ],
   "source": [
    "# intersection_penalty = 15 # 10\n",
    "# secret_scary_factor = 0.8 # 0.65\n",
    "#intersection_penalty = 10 # 10\n",
    "#secret_scary_factor = 0.65 # 0.65\n",
    "intersection_penalty = 2\n",
    "secret_scary_factor = 0.75\n",
    "use_ambulance_speeds = False\n",
    "\n",
    "od.set_graph_weights(intersection_penalty, secret_scary_factor, use_ambulance_speeds)\n",
    "\n",
    "calculated_times = {}\n",
    "\n",
    "for destination in destinations:\n",
    "    x, y = utils.geographic_to_utm(destination[0], destination[1])\n",
    "    destination_node = get_node(x, y)\n",
    "\n",
    "    shortest_time_path = ox.shortest_path(\n",
    "                    od.graph,\n",
    "                    start_node,\n",
    "                    destination_node,\n",
    "                    weight='time'\n",
    "                )\n",
    "\n",
    "    total_travel_time = sum(od.graph[u][v][0]['time'] for u, v in zip(shortest_time_path[:-1], shortest_time_path[1:]))\n",
    "    \n",
    "    calculated_times[destination] = total_travel_time\n",
    "    \n",
    "evaluate_travel_time_accuracy(benchmark_times, calculated_times, verbose=True)"
   ]
  },
  {
   "cell_type": "code",
   "execution_count": 53,
   "metadata": {},
   "outputs": [],
   "source": [
    "\n",
    "locations = [\n",
    "    (11.14674,60.31262),\n",
    "    (11.47577,60.11964),\n",
    "    (11.166858,60.13423),\n",
    "    (11.561687,59.879044),\n",
    "    (10.987775,59.932076),\n",
    "    (10.880784,60.042152),\n",
    "    (10.831094,59.930733),\n",
    "    (10.758744,59.917),\n",
    "    (10.741926,59.93917),\n",
    "    (10.853331,59.71566),\n",
    "    (10.725881,59.659687),\n",
    "    (10.806946,59.833073),\n",
    "    (10.439887,59.830055),\n",
    "    (10.509723,59.89813),\n",
    "    (10.687367,59.939663),\n",
    "    (10.806364,59.893173),\n",
    "    (10.884091,59.960304),\n",
    "    (11.03928,59.997875),\n",
    "    (10.585751,59.917873)\n",
    "]\n",
    "\n",
    "times = [\n",
    "    40, \n",
    "    24,\n",
    "    55,\n",
    "    45,\n",
    "    22,\n",
    "    20,\n",
    "    11.5, # 9-12\n",
    "    11, # 8-14\n",
    "    35,\n",
    "    18,\n",
    "    24,\n",
    "    35,\n",
    "    16,\n",
    "    18,\n",
    "    14, # 12-16\n",
    "    14, # 12-16\n",
    "    20, # 18-22\n",
    "    35,\n",
    "    60 # 55-65\n",
    "]\n",
    "\n",
    "benchmark_times = {(11.47577, 60.11964): 40,\n",
    "                   (11.166858, 60.13423): 24,\n",
    "                   (11.561687, 59.879044): 55,\n",
    "                   (10.987775, 59.932076): 45,\n",
    "                   (10.880784, 60.042152): 22,\n",
    "                   (10.831094, 59.930733): 20,\n",
    "                   (10.758744, 59.917): 11.5,\n",
    "                   (10.741926, 59.93917): 11,\n",
    "                   (10.853331, 59.71566): 35,\n",
    "                   (10.725881, 59.659687): 18,\n",
    "                   (10.806946, 59.833073): 24,\n",
    "                   (10.439887, 59.830055): 35,\n",
    "                   (10.509723, 59.89813): 16,\n",
    "                   (10.687367, 59.939663): 18,\n",
    "                   (10.806364, 59.893173): 14,\n",
    "                   (10.884091, 59.960304): 14,\n",
    "                   (11.03928, 59.997875): 20,\n",
    "                   (10.585751, 59.917873): 35,\n",
    "                   (11.14674, 60.31262): 60}"
   ]
  },
  {
   "cell_type": "code",
   "execution_count": 47,
   "metadata": {},
   "outputs": [],
   "source": [
    "def get_node(x, y):\n",
    "    if (x, y) in od.node_cache:\n",
    "        return od.node_cache[(x, y)]\n",
    "\n",
    "    while True:\n",
    "        node = ox.distance.nearest_nodes(od.graph, x, y)\n",
    "        if networkx.has_path(od.graph, node, od.node_validator) and networkx.has_path(od.graph, od.node_validator, node):\n",
    "            od.node_cache[(x, y)] = node\n",
    "            return node\n",
    "        else:\n",
    "            od.graph.remove_node(node)"
   ]
  },
  {
   "cell_type": "code",
   "execution_count": 55,
   "metadata": {},
   "outputs": [
    {
     "name": "stderr",
     "output_type": "stream",
     "text": [
      "Intersection Penalty Progress:   0%|          | 0/17 [00:00<?, ?it/s]"
     ]
    },
    {
     "name": "stdout",
     "output_type": "stream",
     "text": [
      "Current Settings: Intersection Penalty = 2.0, Secret Scary Factor = 0.25\n"
     ]
    },
    {
     "name": "stderr",
     "output_type": "stream",
     "text": []
    },
    {
     "name": "stdout",
     "output_type": "stream",
     "text": [
      "Current Settings: Intersection Penalty = 2.0, Secret Scary Factor = 0.30000000000000004\n"
     ]
    },
    {
     "name": "stderr",
     "output_type": "stream",
     "text": []
    },
    {
     "name": "stdout",
     "output_type": "stream",
     "text": [
      "Current Settings: Intersection Penalty = 2.0, Secret Scary Factor = 0.35000000000000003\n"
     ]
    },
    {
     "name": "stderr",
     "output_type": "stream",
     "text": []
    },
    {
     "name": "stdout",
     "output_type": "stream",
     "text": [
      "Current Settings: Intersection Penalty = 2.0, Secret Scary Factor = 0.4\n"
     ]
    },
    {
     "name": "stderr",
     "output_type": "stream",
     "text": []
    },
    {
     "name": "stdout",
     "output_type": "stream",
     "text": [
      "Current Settings: Intersection Penalty = 2.0, Secret Scary Factor = 0.45\n"
     ]
    },
    {
     "name": "stderr",
     "output_type": "stream",
     "text": []
    },
    {
     "name": "stdout",
     "output_type": "stream",
     "text": [
      "Current Settings: Intersection Penalty = 2.0, Secret Scary Factor = 0.5\n"
     ]
    },
    {
     "name": "stderr",
     "output_type": "stream",
     "text": []
    },
    {
     "name": "stdout",
     "output_type": "stream",
     "text": [
      "Current Settings: Intersection Penalty = 2.0, Secret Scary Factor = 0.55\n"
     ]
    },
    {
     "name": "stderr",
     "output_type": "stream",
     "text": []
    },
    {
     "name": "stdout",
     "output_type": "stream",
     "text": [
      "Current Settings: Intersection Penalty = 2.0, Secret Scary Factor = 0.6000000000000001\n"
     ]
    },
    {
     "name": "stderr",
     "output_type": "stream",
     "text": []
    },
    {
     "name": "stdout",
     "output_type": "stream",
     "text": [
      "Current Settings: Intersection Penalty = 2.0, Secret Scary Factor = 0.65\n"
     ]
    },
    {
     "name": "stderr",
     "output_type": "stream",
     "text": []
    },
    {
     "name": "stdout",
     "output_type": "stream",
     "text": [
      "Current Settings: Intersection Penalty = 2.0, Secret Scary Factor = 0.7000000000000001\n"
     ]
    },
    {
     "name": "stderr",
     "output_type": "stream",
     "text": []
    },
    {
     "name": "stdout",
     "output_type": "stream",
     "text": [
      "Current Settings: Intersection Penalty = 2.0, Secret Scary Factor = 0.75\n"
     ]
    },
    {
     "name": "stderr",
     "output_type": "stream",
     "text": [
      "Secret Scary Factor Progress: 100%|██████████| 11/11 [01:23<00:00,  7.63s/it]\n",
      "Intersection Penalty Progress:   6%|▌         | 1/17 [01:23<22:23, 83.97s/it]"
     ]
    },
    {
     "name": "stdout",
     "output_type": "stream",
     "text": [
      "Current Settings: Intersection Penalty = 2.5, Secret Scary Factor = 0.25\n"
     ]
    },
    {
     "name": "stderr",
     "output_type": "stream",
     "text": []
    },
    {
     "name": "stdout",
     "output_type": "stream",
     "text": [
      "Current Settings: Intersection Penalty = 2.5, Secret Scary Factor = 0.30000000000000004\n"
     ]
    },
    {
     "name": "stderr",
     "output_type": "stream",
     "text": []
    },
    {
     "name": "stdout",
     "output_type": "stream",
     "text": [
      "Current Settings: Intersection Penalty = 2.5, Secret Scary Factor = 0.35000000000000003\n"
     ]
    },
    {
     "name": "stderr",
     "output_type": "stream",
     "text": []
    },
    {
     "name": "stdout",
     "output_type": "stream",
     "text": [
      "Current Settings: Intersection Penalty = 2.5, Secret Scary Factor = 0.4\n"
     ]
    },
    {
     "name": "stderr",
     "output_type": "stream",
     "text": []
    },
    {
     "name": "stdout",
     "output_type": "stream",
     "text": [
      "Current Settings: Intersection Penalty = 2.5, Secret Scary Factor = 0.45\n"
     ]
    },
    {
     "name": "stderr",
     "output_type": "stream",
     "text": []
    },
    {
     "name": "stdout",
     "output_type": "stream",
     "text": [
      "Current Settings: Intersection Penalty = 2.5, Secret Scary Factor = 0.5\n"
     ]
    },
    {
     "name": "stderr",
     "output_type": "stream",
     "text": []
    },
    {
     "name": "stdout",
     "output_type": "stream",
     "text": [
      "Current Settings: Intersection Penalty = 2.5, Secret Scary Factor = 0.55\n"
     ]
    },
    {
     "name": "stderr",
     "output_type": "stream",
     "text": []
    },
    {
     "name": "stdout",
     "output_type": "stream",
     "text": [
      "Current Settings: Intersection Penalty = 2.5, Secret Scary Factor = 0.6000000000000001\n"
     ]
    },
    {
     "name": "stderr",
     "output_type": "stream",
     "text": []
    },
    {
     "name": "stdout",
     "output_type": "stream",
     "text": [
      "Current Settings: Intersection Penalty = 2.5, Secret Scary Factor = 0.65\n"
     ]
    },
    {
     "name": "stderr",
     "output_type": "stream",
     "text": []
    },
    {
     "name": "stdout",
     "output_type": "stream",
     "text": [
      "Current Settings: Intersection Penalty = 2.5, Secret Scary Factor = 0.7000000000000001\n"
     ]
    },
    {
     "name": "stderr",
     "output_type": "stream",
     "text": []
    },
    {
     "name": "stdout",
     "output_type": "stream",
     "text": [
      "Current Settings: Intersection Penalty = 2.5, Secret Scary Factor = 0.75\n"
     ]
    },
    {
     "name": "stderr",
     "output_type": "stream",
     "text": [
      "Secret Scary Factor Progress: 100%|██████████| 11/11 [01:14<00:00,  6.77s/it]\n",
      "Intersection Penalty Progress:  12%|█▏        | 2/17 [02:38<19:35, 78.36s/it]"
     ]
    },
    {
     "name": "stdout",
     "output_type": "stream",
     "text": [
      "Current Settings: Intersection Penalty = 3.0, Secret Scary Factor = 0.25\n"
     ]
    },
    {
     "name": "stderr",
     "output_type": "stream",
     "text": []
    },
    {
     "name": "stdout",
     "output_type": "stream",
     "text": [
      "Current Settings: Intersection Penalty = 3.0, Secret Scary Factor = 0.30000000000000004\n"
     ]
    },
    {
     "name": "stderr",
     "output_type": "stream",
     "text": []
    },
    {
     "name": "stdout",
     "output_type": "stream",
     "text": [
      "Current Settings: Intersection Penalty = 3.0, Secret Scary Factor = 0.35000000000000003\n"
     ]
    },
    {
     "name": "stderr",
     "output_type": "stream",
     "text": []
    },
    {
     "name": "stdout",
     "output_type": "stream",
     "text": [
      "Current Settings: Intersection Penalty = 3.0, Secret Scary Factor = 0.4\n"
     ]
    },
    {
     "name": "stderr",
     "output_type": "stream",
     "text": []
    },
    {
     "name": "stdout",
     "output_type": "stream",
     "text": [
      "Current Settings: Intersection Penalty = 3.0, Secret Scary Factor = 0.45\n"
     ]
    },
    {
     "name": "stderr",
     "output_type": "stream",
     "text": []
    },
    {
     "name": "stdout",
     "output_type": "stream",
     "text": [
      "Current Settings: Intersection Penalty = 3.0, Secret Scary Factor = 0.5\n"
     ]
    },
    {
     "name": "stderr",
     "output_type": "stream",
     "text": []
    },
    {
     "name": "stdout",
     "output_type": "stream",
     "text": [
      "Current Settings: Intersection Penalty = 3.0, Secret Scary Factor = 0.55\n"
     ]
    },
    {
     "name": "stderr",
     "output_type": "stream",
     "text": []
    },
    {
     "name": "stdout",
     "output_type": "stream",
     "text": [
      "Current Settings: Intersection Penalty = 3.0, Secret Scary Factor = 0.6000000000000001\n"
     ]
    },
    {
     "name": "stderr",
     "output_type": "stream",
     "text": []
    },
    {
     "name": "stdout",
     "output_type": "stream",
     "text": [
      "Current Settings: Intersection Penalty = 3.0, Secret Scary Factor = 0.65\n"
     ]
    },
    {
     "name": "stderr",
     "output_type": "stream",
     "text": []
    },
    {
     "name": "stdout",
     "output_type": "stream",
     "text": [
      "Current Settings: Intersection Penalty = 3.0, Secret Scary Factor = 0.7000000000000001\n"
     ]
    },
    {
     "name": "stderr",
     "output_type": "stream",
     "text": []
    },
    {
     "name": "stdout",
     "output_type": "stream",
     "text": [
      "Current Settings: Intersection Penalty = 3.0, Secret Scary Factor = 0.75\n"
     ]
    },
    {
     "name": "stderr",
     "output_type": "stream",
     "text": [
      "Secret Scary Factor Progress: 100%|██████████| 11/11 [01:25<00:00,  7.79s/it]\n",
      "Intersection Penalty Progress:  18%|█▊        | 3/17 [04:04<19:03, 81.71s/it]"
     ]
    },
    {
     "name": "stdout",
     "output_type": "stream",
     "text": [
      "Current Settings: Intersection Penalty = 3.5, Secret Scary Factor = 0.25\n"
     ]
    },
    {
     "name": "stderr",
     "output_type": "stream",
     "text": []
    },
    {
     "name": "stdout",
     "output_type": "stream",
     "text": [
      "Current Settings: Intersection Penalty = 3.5, Secret Scary Factor = 0.30000000000000004\n"
     ]
    },
    {
     "name": "stderr",
     "output_type": "stream",
     "text": []
    },
    {
     "name": "stdout",
     "output_type": "stream",
     "text": [
      "Current Settings: Intersection Penalty = 3.5, Secret Scary Factor = 0.35000000000000003\n"
     ]
    },
    {
     "name": "stderr",
     "output_type": "stream",
     "text": []
    },
    {
     "name": "stdout",
     "output_type": "stream",
     "text": [
      "Current Settings: Intersection Penalty = 3.5, Secret Scary Factor = 0.4\n"
     ]
    },
    {
     "name": "stderr",
     "output_type": "stream",
     "text": []
    },
    {
     "name": "stdout",
     "output_type": "stream",
     "text": [
      "Current Settings: Intersection Penalty = 3.5, Secret Scary Factor = 0.45\n"
     ]
    },
    {
     "name": "stderr",
     "output_type": "stream",
     "text": []
    },
    {
     "name": "stdout",
     "output_type": "stream",
     "text": [
      "Current Settings: Intersection Penalty = 3.5, Secret Scary Factor = 0.5\n"
     ]
    },
    {
     "name": "stderr",
     "output_type": "stream",
     "text": []
    },
    {
     "name": "stdout",
     "output_type": "stream",
     "text": [
      "Current Settings: Intersection Penalty = 3.5, Secret Scary Factor = 0.55\n"
     ]
    },
    {
     "name": "stderr",
     "output_type": "stream",
     "text": []
    },
    {
     "name": "stdout",
     "output_type": "stream",
     "text": [
      "Current Settings: Intersection Penalty = 3.5, Secret Scary Factor = 0.6000000000000001\n"
     ]
    },
    {
     "name": "stderr",
     "output_type": "stream",
     "text": []
    },
    {
     "name": "stdout",
     "output_type": "stream",
     "text": [
      "Current Settings: Intersection Penalty = 3.5, Secret Scary Factor = 0.65\n"
     ]
    },
    {
     "name": "stderr",
     "output_type": "stream",
     "text": []
    },
    {
     "name": "stdout",
     "output_type": "stream",
     "text": [
      "Current Settings: Intersection Penalty = 3.5, Secret Scary Factor = 0.7000000000000001\n"
     ]
    },
    {
     "name": "stderr",
     "output_type": "stream",
     "text": []
    },
    {
     "name": "stdout",
     "output_type": "stream",
     "text": [
      "Current Settings: Intersection Penalty = 3.5, Secret Scary Factor = 0.75\n"
     ]
    },
    {
     "name": "stderr",
     "output_type": "stream",
     "text": [
      "Secret Scary Factor Progress: 100%|██████████| 11/11 [01:33<00:00,  8.51s/it]\n",
      "Intersection Penalty Progress:  24%|██▎       | 4/17 [05:37<18:43, 86.39s/it]"
     ]
    },
    {
     "name": "stdout",
     "output_type": "stream",
     "text": [
      "Current Settings: Intersection Penalty = 4.0, Secret Scary Factor = 0.25\n"
     ]
    },
    {
     "name": "stderr",
     "output_type": "stream",
     "text": []
    },
    {
     "name": "stdout",
     "output_type": "stream",
     "text": [
      "Current Settings: Intersection Penalty = 4.0, Secret Scary Factor = 0.30000000000000004\n"
     ]
    },
    {
     "name": "stderr",
     "output_type": "stream",
     "text": []
    },
    {
     "name": "stdout",
     "output_type": "stream",
     "text": [
      "Current Settings: Intersection Penalty = 4.0, Secret Scary Factor = 0.35000000000000003\n"
     ]
    },
    {
     "name": "stderr",
     "output_type": "stream",
     "text": []
    },
    {
     "name": "stdout",
     "output_type": "stream",
     "text": [
      "Current Settings: Intersection Penalty = 4.0, Secret Scary Factor = 0.4\n"
     ]
    },
    {
     "name": "stderr",
     "output_type": "stream",
     "text": []
    },
    {
     "name": "stdout",
     "output_type": "stream",
     "text": [
      "Current Settings: Intersection Penalty = 4.0, Secret Scary Factor = 0.45\n"
     ]
    },
    {
     "name": "stderr",
     "output_type": "stream",
     "text": []
    },
    {
     "name": "stdout",
     "output_type": "stream",
     "text": [
      "Current Settings: Intersection Penalty = 4.0, Secret Scary Factor = 0.5\n"
     ]
    },
    {
     "name": "stderr",
     "output_type": "stream",
     "text": []
    },
    {
     "name": "stdout",
     "output_type": "stream",
     "text": [
      "Current Settings: Intersection Penalty = 4.0, Secret Scary Factor = 0.55\n"
     ]
    },
    {
     "name": "stderr",
     "output_type": "stream",
     "text": []
    },
    {
     "name": "stdout",
     "output_type": "stream",
     "text": [
      "Current Settings: Intersection Penalty = 4.0, Secret Scary Factor = 0.6000000000000001\n"
     ]
    },
    {
     "name": "stderr",
     "output_type": "stream",
     "text": []
    },
    {
     "name": "stdout",
     "output_type": "stream",
     "text": [
      "Current Settings: Intersection Penalty = 4.0, Secret Scary Factor = 0.65\n"
     ]
    },
    {
     "name": "stderr",
     "output_type": "stream",
     "text": []
    },
    {
     "name": "stdout",
     "output_type": "stream",
     "text": [
      "Current Settings: Intersection Penalty = 4.0, Secret Scary Factor = 0.7000000000000001\n"
     ]
    },
    {
     "name": "stderr",
     "output_type": "stream",
     "text": []
    },
    {
     "name": "stdout",
     "output_type": "stream",
     "text": [
      "Current Settings: Intersection Penalty = 4.0, Secret Scary Factor = 0.75\n"
     ]
    },
    {
     "name": "stderr",
     "output_type": "stream",
     "text": [
      "Secret Scary Factor Progress: 100%|██████████| 11/11 [01:37<00:00,  8.87s/it]\n",
      "Intersection Penalty Progress:  29%|██▉       | 5/17 [07:15<18:04, 90.41s/it]"
     ]
    },
    {
     "name": "stdout",
     "output_type": "stream",
     "text": [
      "Current Settings: Intersection Penalty = 4.5, Secret Scary Factor = 0.25\n"
     ]
    },
    {
     "name": "stderr",
     "output_type": "stream",
     "text": []
    },
    {
     "name": "stdout",
     "output_type": "stream",
     "text": [
      "Current Settings: Intersection Penalty = 4.5, Secret Scary Factor = 0.30000000000000004\n"
     ]
    },
    {
     "name": "stderr",
     "output_type": "stream",
     "text": []
    },
    {
     "name": "stdout",
     "output_type": "stream",
     "text": [
      "Current Settings: Intersection Penalty = 4.5, Secret Scary Factor = 0.35000000000000003\n"
     ]
    },
    {
     "name": "stderr",
     "output_type": "stream",
     "text": []
    },
    {
     "name": "stdout",
     "output_type": "stream",
     "text": [
      "Current Settings: Intersection Penalty = 4.5, Secret Scary Factor = 0.4\n"
     ]
    },
    {
     "name": "stderr",
     "output_type": "stream",
     "text": []
    },
    {
     "name": "stdout",
     "output_type": "stream",
     "text": [
      "Current Settings: Intersection Penalty = 4.5, Secret Scary Factor = 0.45\n"
     ]
    },
    {
     "name": "stderr",
     "output_type": "stream",
     "text": []
    },
    {
     "name": "stdout",
     "output_type": "stream",
     "text": [
      "Current Settings: Intersection Penalty = 4.5, Secret Scary Factor = 0.5\n"
     ]
    },
    {
     "name": "stderr",
     "output_type": "stream",
     "text": []
    },
    {
     "name": "stdout",
     "output_type": "stream",
     "text": [
      "Current Settings: Intersection Penalty = 4.5, Secret Scary Factor = 0.55\n"
     ]
    },
    {
     "name": "stderr",
     "output_type": "stream",
     "text": []
    },
    {
     "name": "stdout",
     "output_type": "stream",
     "text": [
      "Current Settings: Intersection Penalty = 4.5, Secret Scary Factor = 0.6000000000000001\n"
     ]
    },
    {
     "name": "stderr",
     "output_type": "stream",
     "text": []
    },
    {
     "name": "stdout",
     "output_type": "stream",
     "text": [
      "Current Settings: Intersection Penalty = 4.5, Secret Scary Factor = 0.65\n"
     ]
    },
    {
     "name": "stderr",
     "output_type": "stream",
     "text": []
    },
    {
     "name": "stdout",
     "output_type": "stream",
     "text": [
      "Current Settings: Intersection Penalty = 4.5, Secret Scary Factor = 0.7000000000000001\n"
     ]
    },
    {
     "name": "stderr",
     "output_type": "stream",
     "text": []
    },
    {
     "name": "stdout",
     "output_type": "stream",
     "text": [
      "Current Settings: Intersection Penalty = 4.5, Secret Scary Factor = 0.75\n"
     ]
    },
    {
     "name": "stderr",
     "output_type": "stream",
     "text": [
      "Secret Scary Factor Progress: 100%|██████████| 11/11 [01:23<00:00,  7.60s/it]\n",
      "Intersection Penalty Progress:  35%|███▌      | 6/17 [08:38<16:09, 88.11s/it]"
     ]
    },
    {
     "name": "stdout",
     "output_type": "stream",
     "text": [
      "Current Settings: Intersection Penalty = 5.0, Secret Scary Factor = 0.25\n"
     ]
    },
    {
     "name": "stderr",
     "output_type": "stream",
     "text": []
    },
    {
     "name": "stdout",
     "output_type": "stream",
     "text": [
      "Current Settings: Intersection Penalty = 5.0, Secret Scary Factor = 0.30000000000000004\n"
     ]
    },
    {
     "name": "stderr",
     "output_type": "stream",
     "text": []
    },
    {
     "name": "stdout",
     "output_type": "stream",
     "text": [
      "Current Settings: Intersection Penalty = 5.0, Secret Scary Factor = 0.35000000000000003\n"
     ]
    },
    {
     "name": "stderr",
     "output_type": "stream",
     "text": []
    },
    {
     "name": "stdout",
     "output_type": "stream",
     "text": [
      "Current Settings: Intersection Penalty = 5.0, Secret Scary Factor = 0.4\n"
     ]
    },
    {
     "name": "stderr",
     "output_type": "stream",
     "text": []
    },
    {
     "name": "stdout",
     "output_type": "stream",
     "text": [
      "Current Settings: Intersection Penalty = 5.0, Secret Scary Factor = 0.45\n"
     ]
    },
    {
     "name": "stderr",
     "output_type": "stream",
     "text": []
    },
    {
     "name": "stdout",
     "output_type": "stream",
     "text": [
      "Current Settings: Intersection Penalty = 5.0, Secret Scary Factor = 0.5\n"
     ]
    },
    {
     "name": "stderr",
     "output_type": "stream",
     "text": []
    },
    {
     "name": "stdout",
     "output_type": "stream",
     "text": [
      "Current Settings: Intersection Penalty = 5.0, Secret Scary Factor = 0.55\n"
     ]
    },
    {
     "name": "stderr",
     "output_type": "stream",
     "text": []
    },
    {
     "name": "stdout",
     "output_type": "stream",
     "text": [
      "Current Settings: Intersection Penalty = 5.0, Secret Scary Factor = 0.6000000000000001\n"
     ]
    },
    {
     "name": "stderr",
     "output_type": "stream",
     "text": []
    },
    {
     "name": "stdout",
     "output_type": "stream",
     "text": [
      "Current Settings: Intersection Penalty = 5.0, Secret Scary Factor = 0.65\n"
     ]
    },
    {
     "name": "stderr",
     "output_type": "stream",
     "text": []
    },
    {
     "name": "stdout",
     "output_type": "stream",
     "text": [
      "Current Settings: Intersection Penalty = 5.0, Secret Scary Factor = 0.7000000000000001\n"
     ]
    },
    {
     "name": "stderr",
     "output_type": "stream",
     "text": []
    },
    {
     "name": "stdout",
     "output_type": "stream",
     "text": [
      "Current Settings: Intersection Penalty = 5.0, Secret Scary Factor = 0.75\n"
     ]
    },
    {
     "name": "stderr",
     "output_type": "stream",
     "text": [
      "Secret Scary Factor Progress: 100%|██████████| 11/11 [01:34<00:00,  8.56s/it]\n",
      "Intersection Penalty Progress:  41%|████      | 7/17 [10:12<15:00, 90.07s/it]"
     ]
    },
    {
     "name": "stdout",
     "output_type": "stream",
     "text": [
      "Current Settings: Intersection Penalty = 5.5, Secret Scary Factor = 0.25\n"
     ]
    },
    {
     "name": "stderr",
     "output_type": "stream",
     "text": []
    },
    {
     "name": "stdout",
     "output_type": "stream",
     "text": [
      "Current Settings: Intersection Penalty = 5.5, Secret Scary Factor = 0.30000000000000004\n"
     ]
    },
    {
     "name": "stderr",
     "output_type": "stream",
     "text": []
    },
    {
     "name": "stdout",
     "output_type": "stream",
     "text": [
      "Current Settings: Intersection Penalty = 5.5, Secret Scary Factor = 0.35000000000000003\n"
     ]
    },
    {
     "name": "stderr",
     "output_type": "stream",
     "text": []
    },
    {
     "name": "stdout",
     "output_type": "stream",
     "text": [
      "Current Settings: Intersection Penalty = 5.5, Secret Scary Factor = 0.4\n"
     ]
    },
    {
     "name": "stderr",
     "output_type": "stream",
     "text": []
    },
    {
     "name": "stdout",
     "output_type": "stream",
     "text": [
      "Current Settings: Intersection Penalty = 5.5, Secret Scary Factor = 0.45\n"
     ]
    },
    {
     "name": "stderr",
     "output_type": "stream",
     "text": []
    },
    {
     "name": "stdout",
     "output_type": "stream",
     "text": [
      "Current Settings: Intersection Penalty = 5.5, Secret Scary Factor = 0.5\n"
     ]
    },
    {
     "name": "stderr",
     "output_type": "stream",
     "text": []
    },
    {
     "name": "stdout",
     "output_type": "stream",
     "text": [
      "Current Settings: Intersection Penalty = 5.5, Secret Scary Factor = 0.55\n"
     ]
    },
    {
     "name": "stderr",
     "output_type": "stream",
     "text": []
    },
    {
     "name": "stdout",
     "output_type": "stream",
     "text": [
      "Current Settings: Intersection Penalty = 5.5, Secret Scary Factor = 0.6000000000000001\n"
     ]
    },
    {
     "name": "stderr",
     "output_type": "stream",
     "text": []
    },
    {
     "name": "stdout",
     "output_type": "stream",
     "text": [
      "Current Settings: Intersection Penalty = 5.5, Secret Scary Factor = 0.65\n"
     ]
    },
    {
     "name": "stderr",
     "output_type": "stream",
     "text": []
    },
    {
     "name": "stdout",
     "output_type": "stream",
     "text": [
      "Current Settings: Intersection Penalty = 5.5, Secret Scary Factor = 0.7000000000000001\n"
     ]
    },
    {
     "name": "stderr",
     "output_type": "stream",
     "text": []
    },
    {
     "name": "stdout",
     "output_type": "stream",
     "text": [
      "Current Settings: Intersection Penalty = 5.5, Secret Scary Factor = 0.75\n"
     ]
    },
    {
     "name": "stderr",
     "output_type": "stream",
     "text": [
      "Secret Scary Factor Progress: 100%|██████████| 11/11 [01:35<00:00,  8.72s/it]\n",
      "Intersection Penalty Progress:  47%|████▋     | 8/17 [11:48<13:47, 91.93s/it]"
     ]
    },
    {
     "name": "stdout",
     "output_type": "stream",
     "text": [
      "Current Settings: Intersection Penalty = 6.0, Secret Scary Factor = 0.25\n"
     ]
    },
    {
     "name": "stderr",
     "output_type": "stream",
     "text": []
    },
    {
     "name": "stdout",
     "output_type": "stream",
     "text": [
      "Current Settings: Intersection Penalty = 6.0, Secret Scary Factor = 0.30000000000000004\n"
     ]
    },
    {
     "name": "stderr",
     "output_type": "stream",
     "text": []
    },
    {
     "name": "stdout",
     "output_type": "stream",
     "text": [
      "Current Settings: Intersection Penalty = 6.0, Secret Scary Factor = 0.35000000000000003\n"
     ]
    },
    {
     "name": "stderr",
     "output_type": "stream",
     "text": []
    },
    {
     "name": "stdout",
     "output_type": "stream",
     "text": [
      "Current Settings: Intersection Penalty = 6.0, Secret Scary Factor = 0.4\n"
     ]
    },
    {
     "name": "stderr",
     "output_type": "stream",
     "text": []
    },
    {
     "name": "stdout",
     "output_type": "stream",
     "text": [
      "Current Settings: Intersection Penalty = 6.0, Secret Scary Factor = 0.45\n"
     ]
    },
    {
     "name": "stderr",
     "output_type": "stream",
     "text": []
    },
    {
     "name": "stdout",
     "output_type": "stream",
     "text": [
      "Current Settings: Intersection Penalty = 6.0, Secret Scary Factor = 0.5\n"
     ]
    },
    {
     "name": "stderr",
     "output_type": "stream",
     "text": []
    },
    {
     "name": "stdout",
     "output_type": "stream",
     "text": [
      "Current Settings: Intersection Penalty = 6.0, Secret Scary Factor = 0.55\n"
     ]
    },
    {
     "name": "stderr",
     "output_type": "stream",
     "text": []
    },
    {
     "name": "stdout",
     "output_type": "stream",
     "text": [
      "Current Settings: Intersection Penalty = 6.0, Secret Scary Factor = 0.6000000000000001\n"
     ]
    },
    {
     "name": "stderr",
     "output_type": "stream",
     "text": []
    },
    {
     "name": "stdout",
     "output_type": "stream",
     "text": [
      "Current Settings: Intersection Penalty = 6.0, Secret Scary Factor = 0.65\n"
     ]
    },
    {
     "name": "stderr",
     "output_type": "stream",
     "text": []
    },
    {
     "name": "stdout",
     "output_type": "stream",
     "text": [
      "Current Settings: Intersection Penalty = 6.0, Secret Scary Factor = 0.7000000000000001\n"
     ]
    },
    {
     "name": "stderr",
     "output_type": "stream",
     "text": []
    },
    {
     "name": "stdout",
     "output_type": "stream",
     "text": [
      "Current Settings: Intersection Penalty = 6.0, Secret Scary Factor = 0.75\n"
     ]
    },
    {
     "name": "stderr",
     "output_type": "stream",
     "text": [
      "Secret Scary Factor Progress: 100%|██████████| 11/11 [02:01<00:00, 11.02s/it]\n",
      "Intersection Penalty Progress:  53%|█████▎    | 9/17 [13:50<13:28, 101.08s/it]"
     ]
    },
    {
     "name": "stdout",
     "output_type": "stream",
     "text": [
      "Current Settings: Intersection Penalty = 6.5, Secret Scary Factor = 0.25\n"
     ]
    },
    {
     "name": "stderr",
     "output_type": "stream",
     "text": []
    },
    {
     "name": "stdout",
     "output_type": "stream",
     "text": [
      "Current Settings: Intersection Penalty = 6.5, Secret Scary Factor = 0.30000000000000004\n"
     ]
    },
    {
     "name": "stderr",
     "output_type": "stream",
     "text": []
    },
    {
     "name": "stdout",
     "output_type": "stream",
     "text": [
      "Current Settings: Intersection Penalty = 6.5, Secret Scary Factor = 0.35000000000000003\n"
     ]
    },
    {
     "name": "stderr",
     "output_type": "stream",
     "text": []
    },
    {
     "name": "stdout",
     "output_type": "stream",
     "text": [
      "Current Settings: Intersection Penalty = 6.5, Secret Scary Factor = 0.4\n"
     ]
    },
    {
     "name": "stderr",
     "output_type": "stream",
     "text": []
    },
    {
     "name": "stdout",
     "output_type": "stream",
     "text": [
      "Current Settings: Intersection Penalty = 6.5, Secret Scary Factor = 0.45\n"
     ]
    },
    {
     "name": "stderr",
     "output_type": "stream",
     "text": []
    },
    {
     "name": "stdout",
     "output_type": "stream",
     "text": [
      "Current Settings: Intersection Penalty = 6.5, Secret Scary Factor = 0.5\n"
     ]
    },
    {
     "name": "stderr",
     "output_type": "stream",
     "text": []
    },
    {
     "name": "stdout",
     "output_type": "stream",
     "text": [
      "Current Settings: Intersection Penalty = 6.5, Secret Scary Factor = 0.55\n"
     ]
    },
    {
     "name": "stderr",
     "output_type": "stream",
     "text": []
    },
    {
     "name": "stdout",
     "output_type": "stream",
     "text": [
      "Current Settings: Intersection Penalty = 6.5, Secret Scary Factor = 0.6000000000000001\n"
     ]
    },
    {
     "name": "stderr",
     "output_type": "stream",
     "text": []
    },
    {
     "name": "stdout",
     "output_type": "stream",
     "text": [
      "Current Settings: Intersection Penalty = 6.5, Secret Scary Factor = 0.65\n"
     ]
    },
    {
     "name": "stderr",
     "output_type": "stream",
     "text": []
    },
    {
     "name": "stdout",
     "output_type": "stream",
     "text": [
      "Current Settings: Intersection Penalty = 6.5, Secret Scary Factor = 0.7000000000000001\n"
     ]
    },
    {
     "name": "stderr",
     "output_type": "stream",
     "text": []
    },
    {
     "name": "stdout",
     "output_type": "stream",
     "text": [
      "Current Settings: Intersection Penalty = 6.5, Secret Scary Factor = 0.75\n"
     ]
    },
    {
     "name": "stderr",
     "output_type": "stream",
     "text": [
      "Secret Scary Factor Progress: 100%|██████████| 11/11 [01:41<00:00,  9.18s/it]\n",
      "Intersection Penalty Progress:  59%|█████▉    | 10/17 [15:31<11:47, 101.06s/it]"
     ]
    },
    {
     "name": "stdout",
     "output_type": "stream",
     "text": [
      "Current Settings: Intersection Penalty = 7.0, Secret Scary Factor = 0.25\n"
     ]
    },
    {
     "name": "stderr",
     "output_type": "stream",
     "text": []
    },
    {
     "name": "stdout",
     "output_type": "stream",
     "text": [
      "Current Settings: Intersection Penalty = 7.0, Secret Scary Factor = 0.30000000000000004\n"
     ]
    },
    {
     "name": "stderr",
     "output_type": "stream",
     "text": []
    },
    {
     "name": "stdout",
     "output_type": "stream",
     "text": [
      "Current Settings: Intersection Penalty = 7.0, Secret Scary Factor = 0.35000000000000003\n"
     ]
    },
    {
     "name": "stderr",
     "output_type": "stream",
     "text": []
    },
    {
     "name": "stdout",
     "output_type": "stream",
     "text": [
      "Current Settings: Intersection Penalty = 7.0, Secret Scary Factor = 0.4\n"
     ]
    },
    {
     "name": "stderr",
     "output_type": "stream",
     "text": []
    },
    {
     "name": "stdout",
     "output_type": "stream",
     "text": [
      "Current Settings: Intersection Penalty = 7.0, Secret Scary Factor = 0.45\n"
     ]
    },
    {
     "name": "stderr",
     "output_type": "stream",
     "text": []
    },
    {
     "name": "stdout",
     "output_type": "stream",
     "text": [
      "Current Settings: Intersection Penalty = 7.0, Secret Scary Factor = 0.5\n"
     ]
    },
    {
     "name": "stderr",
     "output_type": "stream",
     "text": []
    },
    {
     "name": "stdout",
     "output_type": "stream",
     "text": [
      "Current Settings: Intersection Penalty = 7.0, Secret Scary Factor = 0.55\n"
     ]
    },
    {
     "name": "stderr",
     "output_type": "stream",
     "text": []
    },
    {
     "name": "stdout",
     "output_type": "stream",
     "text": [
      "Current Settings: Intersection Penalty = 7.0, Secret Scary Factor = 0.6000000000000001\n"
     ]
    },
    {
     "name": "stderr",
     "output_type": "stream",
     "text": []
    },
    {
     "name": "stdout",
     "output_type": "stream",
     "text": [
      "Current Settings: Intersection Penalty = 7.0, Secret Scary Factor = 0.65\n"
     ]
    },
    {
     "name": "stderr",
     "output_type": "stream",
     "text": []
    },
    {
     "name": "stdout",
     "output_type": "stream",
     "text": [
      "Current Settings: Intersection Penalty = 7.0, Secret Scary Factor = 0.7000000000000001\n"
     ]
    },
    {
     "name": "stderr",
     "output_type": "stream",
     "text": []
    },
    {
     "name": "stdout",
     "output_type": "stream",
     "text": [
      "Current Settings: Intersection Penalty = 7.0, Secret Scary Factor = 0.75\n"
     ]
    },
    {
     "name": "stderr",
     "output_type": "stream",
     "text": [
      "Secret Scary Factor Progress: 100%|██████████| 11/11 [01:12<00:00,  6.55s/it]\n",
      "Intersection Penalty Progress:  65%|██████▍   | 11/17 [16:43<09:12, 92.17s/it] "
     ]
    },
    {
     "name": "stdout",
     "output_type": "stream",
     "text": [
      "Current Settings: Intersection Penalty = 7.5, Secret Scary Factor = 0.25\n"
     ]
    },
    {
     "name": "stderr",
     "output_type": "stream",
     "text": []
    },
    {
     "name": "stdout",
     "output_type": "stream",
     "text": [
      "Current Settings: Intersection Penalty = 7.5, Secret Scary Factor = 0.30000000000000004\n"
     ]
    },
    {
     "name": "stderr",
     "output_type": "stream",
     "text": []
    },
    {
     "name": "stdout",
     "output_type": "stream",
     "text": [
      "Current Settings: Intersection Penalty = 7.5, Secret Scary Factor = 0.35000000000000003\n"
     ]
    },
    {
     "name": "stderr",
     "output_type": "stream",
     "text": []
    },
    {
     "name": "stdout",
     "output_type": "stream",
     "text": [
      "Current Settings: Intersection Penalty = 7.5, Secret Scary Factor = 0.4\n"
     ]
    },
    {
     "name": "stderr",
     "output_type": "stream",
     "text": []
    },
    {
     "name": "stdout",
     "output_type": "stream",
     "text": [
      "Current Settings: Intersection Penalty = 7.5, Secret Scary Factor = 0.45\n"
     ]
    },
    {
     "name": "stderr",
     "output_type": "stream",
     "text": []
    },
    {
     "name": "stdout",
     "output_type": "stream",
     "text": [
      "Current Settings: Intersection Penalty = 7.5, Secret Scary Factor = 0.5\n"
     ]
    },
    {
     "name": "stderr",
     "output_type": "stream",
     "text": []
    },
    {
     "name": "stdout",
     "output_type": "stream",
     "text": [
      "Current Settings: Intersection Penalty = 7.5, Secret Scary Factor = 0.55\n"
     ]
    },
    {
     "name": "stderr",
     "output_type": "stream",
     "text": []
    },
    {
     "name": "stdout",
     "output_type": "stream",
     "text": [
      "Current Settings: Intersection Penalty = 7.5, Secret Scary Factor = 0.6000000000000001\n"
     ]
    },
    {
     "name": "stderr",
     "output_type": "stream",
     "text": []
    },
    {
     "name": "stdout",
     "output_type": "stream",
     "text": [
      "Current Settings: Intersection Penalty = 7.5, Secret Scary Factor = 0.65\n"
     ]
    },
    {
     "name": "stderr",
     "output_type": "stream",
     "text": []
    },
    {
     "name": "stdout",
     "output_type": "stream",
     "text": [
      "Current Settings: Intersection Penalty = 7.5, Secret Scary Factor = 0.7000000000000001\n"
     ]
    },
    {
     "name": "stderr",
     "output_type": "stream",
     "text": []
    },
    {
     "name": "stdout",
     "output_type": "stream",
     "text": [
      "Current Settings: Intersection Penalty = 7.5, Secret Scary Factor = 0.75\n"
     ]
    },
    {
     "name": "stderr",
     "output_type": "stream",
     "text": [
      "Secret Scary Factor Progress: 100%|██████████| 11/11 [01:09<00:00,  6.32s/it]\n",
      "Intersection Penalty Progress:  71%|███████   | 12/17 [17:52<07:06, 85.29s/it]"
     ]
    },
    {
     "name": "stdout",
     "output_type": "stream",
     "text": [
      "Current Settings: Intersection Penalty = 8.0, Secret Scary Factor = 0.25\n"
     ]
    },
    {
     "name": "stderr",
     "output_type": "stream",
     "text": []
    },
    {
     "name": "stdout",
     "output_type": "stream",
     "text": [
      "Current Settings: Intersection Penalty = 8.0, Secret Scary Factor = 0.30000000000000004\n"
     ]
    },
    {
     "name": "stderr",
     "output_type": "stream",
     "text": []
    },
    {
     "name": "stdout",
     "output_type": "stream",
     "text": [
      "Current Settings: Intersection Penalty = 8.0, Secret Scary Factor = 0.35000000000000003\n"
     ]
    },
    {
     "name": "stderr",
     "output_type": "stream",
     "text": []
    },
    {
     "name": "stdout",
     "output_type": "stream",
     "text": [
      "Current Settings: Intersection Penalty = 8.0, Secret Scary Factor = 0.4\n"
     ]
    },
    {
     "name": "stderr",
     "output_type": "stream",
     "text": []
    },
    {
     "name": "stdout",
     "output_type": "stream",
     "text": [
      "Current Settings: Intersection Penalty = 8.0, Secret Scary Factor = 0.45\n"
     ]
    },
    {
     "name": "stderr",
     "output_type": "stream",
     "text": []
    },
    {
     "name": "stdout",
     "output_type": "stream",
     "text": [
      "Current Settings: Intersection Penalty = 8.0, Secret Scary Factor = 0.5\n"
     ]
    },
    {
     "name": "stderr",
     "output_type": "stream",
     "text": []
    },
    {
     "name": "stdout",
     "output_type": "stream",
     "text": [
      "Current Settings: Intersection Penalty = 8.0, Secret Scary Factor = 0.55\n"
     ]
    },
    {
     "name": "stderr",
     "output_type": "stream",
     "text": []
    },
    {
     "name": "stdout",
     "output_type": "stream",
     "text": [
      "Current Settings: Intersection Penalty = 8.0, Secret Scary Factor = 0.6000000000000001\n"
     ]
    },
    {
     "name": "stderr",
     "output_type": "stream",
     "text": []
    },
    {
     "name": "stdout",
     "output_type": "stream",
     "text": [
      "Current Settings: Intersection Penalty = 8.0, Secret Scary Factor = 0.65\n"
     ]
    },
    {
     "name": "stderr",
     "output_type": "stream",
     "text": []
    },
    {
     "name": "stdout",
     "output_type": "stream",
     "text": [
      "Current Settings: Intersection Penalty = 8.0, Secret Scary Factor = 0.7000000000000001\n"
     ]
    },
    {
     "name": "stderr",
     "output_type": "stream",
     "text": []
    },
    {
     "name": "stdout",
     "output_type": "stream",
     "text": [
      "Current Settings: Intersection Penalty = 8.0, Secret Scary Factor = 0.75\n"
     ]
    },
    {
     "name": "stderr",
     "output_type": "stream",
     "text": [
      "Secret Scary Factor Progress: 100%|██████████| 11/11 [01:09<00:00,  6.33s/it]\n",
      "Intersection Penalty Progress:  76%|███████▋  | 13/17 [19:02<05:22, 80.54s/it]"
     ]
    },
    {
     "name": "stdout",
     "output_type": "stream",
     "text": [
      "Current Settings: Intersection Penalty = 8.5, Secret Scary Factor = 0.25\n"
     ]
    },
    {
     "name": "stderr",
     "output_type": "stream",
     "text": []
    },
    {
     "name": "stdout",
     "output_type": "stream",
     "text": [
      "Current Settings: Intersection Penalty = 8.5, Secret Scary Factor = 0.30000000000000004\n"
     ]
    },
    {
     "name": "stderr",
     "output_type": "stream",
     "text": []
    },
    {
     "name": "stdout",
     "output_type": "stream",
     "text": [
      "Current Settings: Intersection Penalty = 8.5, Secret Scary Factor = 0.35000000000000003\n"
     ]
    },
    {
     "name": "stderr",
     "output_type": "stream",
     "text": []
    },
    {
     "name": "stdout",
     "output_type": "stream",
     "text": [
      "Current Settings: Intersection Penalty = 8.5, Secret Scary Factor = 0.4\n"
     ]
    },
    {
     "name": "stderr",
     "output_type": "stream",
     "text": []
    },
    {
     "name": "stdout",
     "output_type": "stream",
     "text": [
      "Current Settings: Intersection Penalty = 8.5, Secret Scary Factor = 0.45\n"
     ]
    },
    {
     "name": "stderr",
     "output_type": "stream",
     "text": []
    },
    {
     "name": "stdout",
     "output_type": "stream",
     "text": [
      "Current Settings: Intersection Penalty = 8.5, Secret Scary Factor = 0.5\n"
     ]
    },
    {
     "name": "stderr",
     "output_type": "stream",
     "text": []
    },
    {
     "name": "stdout",
     "output_type": "stream",
     "text": [
      "Current Settings: Intersection Penalty = 8.5, Secret Scary Factor = 0.55\n"
     ]
    },
    {
     "name": "stderr",
     "output_type": "stream",
     "text": []
    },
    {
     "name": "stdout",
     "output_type": "stream",
     "text": [
      "Current Settings: Intersection Penalty = 8.5, Secret Scary Factor = 0.6000000000000001\n"
     ]
    },
    {
     "name": "stderr",
     "output_type": "stream",
     "text": []
    },
    {
     "name": "stdout",
     "output_type": "stream",
     "text": [
      "Current Settings: Intersection Penalty = 8.5, Secret Scary Factor = 0.65\n"
     ]
    },
    {
     "name": "stderr",
     "output_type": "stream",
     "text": []
    },
    {
     "name": "stdout",
     "output_type": "stream",
     "text": [
      "Current Settings: Intersection Penalty = 8.5, Secret Scary Factor = 0.7000000000000001\n"
     ]
    },
    {
     "name": "stderr",
     "output_type": "stream",
     "text": []
    },
    {
     "name": "stdout",
     "output_type": "stream",
     "text": [
      "Current Settings: Intersection Penalty = 8.5, Secret Scary Factor = 0.75\n"
     ]
    },
    {
     "name": "stderr",
     "output_type": "stream",
     "text": [
      "Secret Scary Factor Progress: 100%|██████████| 11/11 [01:10<00:00,  6.38s/it]\n",
      "Intersection Penalty Progress:  82%|████████▏ | 14/17 [20:12<03:52, 77.42s/it]"
     ]
    },
    {
     "name": "stdout",
     "output_type": "stream",
     "text": [
      "Current Settings: Intersection Penalty = 9.0, Secret Scary Factor = 0.25\n"
     ]
    },
    {
     "name": "stderr",
     "output_type": "stream",
     "text": []
    },
    {
     "name": "stdout",
     "output_type": "stream",
     "text": [
      "Current Settings: Intersection Penalty = 9.0, Secret Scary Factor = 0.30000000000000004\n"
     ]
    },
    {
     "name": "stderr",
     "output_type": "stream",
     "text": []
    },
    {
     "name": "stdout",
     "output_type": "stream",
     "text": [
      "Current Settings: Intersection Penalty = 9.0, Secret Scary Factor = 0.35000000000000003\n"
     ]
    },
    {
     "name": "stderr",
     "output_type": "stream",
     "text": []
    },
    {
     "name": "stdout",
     "output_type": "stream",
     "text": [
      "Current Settings: Intersection Penalty = 9.0, Secret Scary Factor = 0.4\n"
     ]
    },
    {
     "name": "stderr",
     "output_type": "stream",
     "text": []
    },
    {
     "name": "stdout",
     "output_type": "stream",
     "text": [
      "Current Settings: Intersection Penalty = 9.0, Secret Scary Factor = 0.45\n"
     ]
    },
    {
     "name": "stderr",
     "output_type": "stream",
     "text": []
    },
    {
     "name": "stdout",
     "output_type": "stream",
     "text": [
      "Current Settings: Intersection Penalty = 9.0, Secret Scary Factor = 0.5\n"
     ]
    },
    {
     "name": "stderr",
     "output_type": "stream",
     "text": []
    },
    {
     "name": "stdout",
     "output_type": "stream",
     "text": [
      "Current Settings: Intersection Penalty = 9.0, Secret Scary Factor = 0.55\n"
     ]
    },
    {
     "name": "stderr",
     "output_type": "stream",
     "text": []
    },
    {
     "name": "stdout",
     "output_type": "stream",
     "text": [
      "Current Settings: Intersection Penalty = 9.0, Secret Scary Factor = 0.6000000000000001\n"
     ]
    },
    {
     "name": "stderr",
     "output_type": "stream",
     "text": []
    },
    {
     "name": "stdout",
     "output_type": "stream",
     "text": [
      "Current Settings: Intersection Penalty = 9.0, Secret Scary Factor = 0.65\n"
     ]
    },
    {
     "name": "stderr",
     "output_type": "stream",
     "text": []
    },
    {
     "name": "stdout",
     "output_type": "stream",
     "text": [
      "Current Settings: Intersection Penalty = 9.0, Secret Scary Factor = 0.7000000000000001\n"
     ]
    },
    {
     "name": "stderr",
     "output_type": "stream",
     "text": []
    },
    {
     "name": "stdout",
     "output_type": "stream",
     "text": [
      "Current Settings: Intersection Penalty = 9.0, Secret Scary Factor = 0.75\n"
     ]
    },
    {
     "name": "stderr",
     "output_type": "stream",
     "text": [
      "Secret Scary Factor Progress: 100%|██████████| 11/11 [01:08<00:00,  6.25s/it]\n",
      "Intersection Penalty Progress:  88%|████████▊ | 15/17 [21:21<02:29, 74.81s/it]"
     ]
    },
    {
     "name": "stdout",
     "output_type": "stream",
     "text": [
      "Current Settings: Intersection Penalty = 9.5, Secret Scary Factor = 0.25\n"
     ]
    },
    {
     "name": "stderr",
     "output_type": "stream",
     "text": []
    },
    {
     "name": "stdout",
     "output_type": "stream",
     "text": [
      "Current Settings: Intersection Penalty = 9.5, Secret Scary Factor = 0.30000000000000004\n"
     ]
    },
    {
     "name": "stderr",
     "output_type": "stream",
     "text": []
    },
    {
     "name": "stdout",
     "output_type": "stream",
     "text": [
      "Current Settings: Intersection Penalty = 9.5, Secret Scary Factor = 0.35000000000000003\n"
     ]
    },
    {
     "name": "stderr",
     "output_type": "stream",
     "text": []
    },
    {
     "name": "stdout",
     "output_type": "stream",
     "text": [
      "Current Settings: Intersection Penalty = 9.5, Secret Scary Factor = 0.4\n"
     ]
    },
    {
     "name": "stderr",
     "output_type": "stream",
     "text": []
    },
    {
     "name": "stdout",
     "output_type": "stream",
     "text": [
      "Current Settings: Intersection Penalty = 9.5, Secret Scary Factor = 0.45\n"
     ]
    },
    {
     "name": "stderr",
     "output_type": "stream",
     "text": []
    },
    {
     "name": "stdout",
     "output_type": "stream",
     "text": [
      "Current Settings: Intersection Penalty = 9.5, Secret Scary Factor = 0.5\n"
     ]
    },
    {
     "name": "stderr",
     "output_type": "stream",
     "text": []
    },
    {
     "name": "stdout",
     "output_type": "stream",
     "text": [
      "Current Settings: Intersection Penalty = 9.5, Secret Scary Factor = 0.55\n"
     ]
    },
    {
     "name": "stderr",
     "output_type": "stream",
     "text": []
    },
    {
     "name": "stdout",
     "output_type": "stream",
     "text": [
      "Current Settings: Intersection Penalty = 9.5, Secret Scary Factor = 0.6000000000000001\n"
     ]
    },
    {
     "name": "stderr",
     "output_type": "stream",
     "text": []
    },
    {
     "name": "stdout",
     "output_type": "stream",
     "text": [
      "Current Settings: Intersection Penalty = 9.5, Secret Scary Factor = 0.65\n"
     ]
    },
    {
     "name": "stderr",
     "output_type": "stream",
     "text": []
    },
    {
     "name": "stdout",
     "output_type": "stream",
     "text": [
      "Current Settings: Intersection Penalty = 9.5, Secret Scary Factor = 0.7000000000000001\n"
     ]
    },
    {
     "name": "stderr",
     "output_type": "stream",
     "text": []
    },
    {
     "name": "stdout",
     "output_type": "stream",
     "text": [
      "Current Settings: Intersection Penalty = 9.5, Secret Scary Factor = 0.75\n"
     ]
    },
    {
     "name": "stderr",
     "output_type": "stream",
     "text": [
      "Secret Scary Factor Progress: 100%|██████████| 11/11 [01:08<00:00,  6.19s/it]\n",
      "Intersection Penalty Progress:  94%|█████████▍| 16/17 [22:29<01:12, 72.79s/it]"
     ]
    },
    {
     "name": "stdout",
     "output_type": "stream",
     "text": [
      "Current Settings: Intersection Penalty = 10.0, Secret Scary Factor = 0.25\n"
     ]
    },
    {
     "name": "stderr",
     "output_type": "stream",
     "text": []
    },
    {
     "name": "stdout",
     "output_type": "stream",
     "text": [
      "Current Settings: Intersection Penalty = 10.0, Secret Scary Factor = 0.30000000000000004\n"
     ]
    },
    {
     "name": "stderr",
     "output_type": "stream",
     "text": []
    },
    {
     "name": "stdout",
     "output_type": "stream",
     "text": [
      "Current Settings: Intersection Penalty = 10.0, Secret Scary Factor = 0.35000000000000003\n"
     ]
    },
    {
     "name": "stderr",
     "output_type": "stream",
     "text": []
    },
    {
     "name": "stdout",
     "output_type": "stream",
     "text": [
      "Current Settings: Intersection Penalty = 10.0, Secret Scary Factor = 0.4\n"
     ]
    },
    {
     "name": "stderr",
     "output_type": "stream",
     "text": []
    },
    {
     "name": "stdout",
     "output_type": "stream",
     "text": [
      "Current Settings: Intersection Penalty = 10.0, Secret Scary Factor = 0.45\n"
     ]
    },
    {
     "name": "stderr",
     "output_type": "stream",
     "text": []
    },
    {
     "name": "stdout",
     "output_type": "stream",
     "text": [
      "Current Settings: Intersection Penalty = 10.0, Secret Scary Factor = 0.5\n"
     ]
    },
    {
     "name": "stderr",
     "output_type": "stream",
     "text": []
    },
    {
     "name": "stdout",
     "output_type": "stream",
     "text": [
      "Current Settings: Intersection Penalty = 10.0, Secret Scary Factor = 0.55\n"
     ]
    },
    {
     "name": "stderr",
     "output_type": "stream",
     "text": []
    },
    {
     "name": "stdout",
     "output_type": "stream",
     "text": [
      "Current Settings: Intersection Penalty = 10.0, Secret Scary Factor = 0.6000000000000001\n"
     ]
    },
    {
     "name": "stderr",
     "output_type": "stream",
     "text": []
    },
    {
     "name": "stdout",
     "output_type": "stream",
     "text": [
      "Current Settings: Intersection Penalty = 10.0, Secret Scary Factor = 0.65\n"
     ]
    },
    {
     "name": "stderr",
     "output_type": "stream",
     "text": []
    },
    {
     "name": "stdout",
     "output_type": "stream",
     "text": [
      "Current Settings: Intersection Penalty = 10.0, Secret Scary Factor = 0.7000000000000001\n"
     ]
    },
    {
     "name": "stderr",
     "output_type": "stream",
     "text": []
    },
    {
     "name": "stdout",
     "output_type": "stream",
     "text": [
      "Current Settings: Intersection Penalty = 10.0, Secret Scary Factor = 0.75\n"
     ]
    },
    {
     "name": "stderr",
     "output_type": "stream",
     "text": [
      "Secret Scary Factor Progress: 100%|██████████| 11/11 [01:08<00:00,  6.20s/it]\n",
      "Intersection Penalty Progress: 100%|██████████| 17/17 [23:37<00:00, 83.39s/it]"
     ]
    },
    {
     "name": "stdout",
     "output_type": "stream",
     "text": [
      "Optimal settings found: Intersection Penalty = 2.0, Secret Scary Factor = 0.75\n",
      "With a total discrepancy of: 38.2072466631744 minutes\n"
     ]
    },
    {
     "name": "stderr",
     "output_type": "stream",
     "text": [
      "\n"
     ]
    }
   ],
   "source": [
    "from tqdm import tqdm  # Import tqdm\n",
    "\n",
    "def find_optimal_parameters(locations, benchmark_times):\n",
    "    optimal_diff = float('inf')\n",
    "    optimal_settings = (None, None)\n",
    "\n",
    "    # Wrap the outer loop with tqdm for a progress bar\n",
    "    for intersection_penalty in tqdm([x * 0.5 for x in range(1, 31)], desc='Intersection Penalty Progress'):  # From 8 to 11 inclusive\n",
    "        # Wrap the inner loop with tqdm as well, but you might want to remove or keep it silent to avoid clutter\n",
    "        for secret_scary_factor in tqdm([x * 0.05 for x in range(1, 41)], desc='Secret Scary Factor Progress', leave=True):  # From 1.0 to 2.0 in 0.1 steps\n",
    "            print(f\"Current Settings: Intersection Penalty = {intersection_penalty}, Secret Scary Factor = {secret_scary_factor}\")  # Print current parameter combination\n",
    "            \n",
    "            # Assuming a function to set simulation parameters exists\n",
    "            calculated_times = calculate_times_for_all_locations(locations, intersection_penalty, secret_scary_factor)  # Pass current parameters to the function\n",
    "\n",
    "            # Assuming a function to calculate times for all locations exists\n",
    "            total_diff, avg_diff_percentage = evaluate_travel_time_accuracy(benchmark_times, calculated_times)\n",
    "\n",
    "            if total_diff < optimal_diff:\n",
    "                optimal_diff = total_diff\n",
    "                optimal_settings = (intersection_penalty, secret_scary_factor)\n",
    "\n",
    "    print(f\"Optimal settings found: Intersection Penalty = {optimal_settings[0]}, Secret Scary Factor = {optimal_settings[1]}\")\n",
    "    print(f\"With a total discrepancy of: {optimal_diff} minutes\")\n",
    "\n",
    "def calculate_times_for_all_locations(locations, intersection_penalty, secret_scary_factor):\n",
    "    calculated_times = {}\n",
    "\n",
    "    # It seems there's a mistake here; you should set the weights outside this function or pass them differently.\n",
    "    # od.set_graph_weights(intersection_penalty, secret_scary_factor, use_ambulance_speeds)\n",
    "\n",
    "    for end_point, _ in benchmark_times.items():\n",
    "        start_index = (locations.index(end_point) - 1) % len(locations)  # Ensuring the index wraps correctly\n",
    "        start_point = locations[start_index]\n",
    "        \n",
    "        start_x, start_y = utils.geographic_to_utm(start_point[0], start_point[1])\n",
    "        end_x, end_y = utils.geographic_to_utm(end_point[0], end_point[1])\n",
    "        \n",
    "        start_node = get_node(start_x, start_y)\n",
    "        end_node = get_node(end_x, end_y)\n",
    "\n",
    "        od.set_graph_weights(intersection_penalty, secret_scary_factor, use_ambulance_speeds=False)\n",
    "\n",
    "        shortest_time_path = ox.shortest_path(\n",
    "            od.graph,\n",
    "            start_node,\n",
    "            end_node, \n",
    "            weight='time')\n",
    "        total_travel_time = sum(od.graph[u][v][0]['time'] for u, v in zip(shortest_time_path[:-1], shortest_time_path[1:]))\n",
    "\n",
    "        calculated_times[end_point] = total_travel_time\n",
    "    return calculated_times\n",
    "\n",
    "# You would call find_optimal_parameters like this, with your locations and benchmark_times\n",
    "find_optimal_parameters(locations, benchmark_times)\n"
   ]
  }
 ],
 "metadata": {
  "kernelspec": {
   "display_name": ".venv",
   "language": "python",
   "name": "python3"
  },
  "language_info": {
   "codemirror_mode": {
    "name": "ipython",
    "version": 3
   },
   "file_extension": ".py",
   "mimetype": "text/x-python",
   "name": "python",
   "nbconvert_exporter": "python",
   "pygments_lexer": "ipython3",
   "version": "3.11.7"
  }
 },
 "nbformat": 4,
 "nbformat_minor": 2
}
