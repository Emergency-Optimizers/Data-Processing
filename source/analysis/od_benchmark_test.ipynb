{
 "cells": [
  {
   "cell_type": "markdown",
   "metadata": {},
   "source": [
    "# Fix pathing"
   ]
  },
  {
   "cell_type": "code",
   "execution_count": 1,
   "metadata": {},
   "outputs": [],
   "source": [
    "import sys\n",
    "\n",
    "\n",
    "sys.path.append(\"..\")\n"
   ]
  },
  {
   "cell_type": "code",
   "execution_count": 2,
   "metadata": {},
   "outputs": [],
   "source": [
    "import constants\n",
    "\n",
    "import os\n",
    "\n",
    "\n",
    "constants.PROJECT_DIRECTORY_PATH = os.path.dirname(os.path.dirname(constants.PROJECT_DIRECTORY_PATH))\n"
   ]
  },
  {
   "cell_type": "markdown",
   "metadata": {},
   "source": [
    "# Imports"
   ]
  },
  {
   "cell_type": "code",
   "execution_count": 3,
   "metadata": {},
   "outputs": [],
   "source": [
    "import datahandler\n",
    "import plotter\n",
    "import utils\n",
    "import pathing\n",
    "\n",
    "import matplotlib\n",
    "import matplotlib.pyplot as plt\n",
    "import numpy as np\n",
    "import seaborn as sns\n",
    "import geopandas as gpd\n",
    "import pandas as pd\n",
    "\n",
    "import osmnx as ox\n",
    "import networkx as nx\n",
    "import geopandas as gpd\n",
    "import shapely\n",
    "import shapely.geometry\n",
    "import folium\n",
    "import scipy\n",
    "import networkx\n"
   ]
  },
  {
   "cell_type": "markdown",
   "metadata": {},
   "source": [
    "# Constants"
   ]
  },
  {
   "cell_type": "code",
   "execution_count": 4,
   "metadata": {},
   "outputs": [
    {
     "name": "stderr",
     "output_type": "stream",
     "text": [
      "Cleaning dataset: 100%|██████████| 2/2 [00:00<00:00, 2013.10it/s]\n",
      "Processing dataset: 100%|██████████| 2/2 [00:00<00:00, 2005.88it/s]\n",
      "Enhancing dataset: 100%|██████████| 2/2 [00:00<?, ?it/s]\n"
     ]
    }
   ],
   "source": [
    "data_preprocessor = datahandler.DataPreprocessorOUS_V2()\n",
    "data_preprocessor.execute()\n",
    "\n",
    "data_loader = datahandler.DataLoader(datahandler.DataPreprocessorOUS_V2)\n",
    "data_loader.execute(clean=False, processed=False, enhanced=False)"
   ]
  },
  {
   "cell_type": "markdown",
   "metadata": {},
   "source": [
    "# Main"
   ]
  },
  {
   "cell_type": "code",
   "execution_count": 5,
   "metadata": {},
   "outputs": [],
   "source": [
    "od = pathing.OriginDestination(\n",
    "    dataset_id=\"oslo\",\n",
    "    utm_epsg=f\"EPSG:326{33}\"\n",
    ")\n",
    "\n",
    "od.get_graph()"
   ]
  },
  {
   "cell_type": "code",
   "execution_count": 6,
   "metadata": {},
   "outputs": [],
   "source": [
    "central_depot_grid_id = 22620006649000\n",
    "central_depot_x, central_depot_y = utils.id_to_utm(central_depot_grid_id)\n",
    "od.node_validator = ox.distance.nearest_nodes(od.graph, central_depot_x, central_depot_y)"
   ]
  },
  {
   "cell_type": "code",
   "execution_count": 7,
   "metadata": {},
   "outputs": [],
   "source": [
    "def get_node(x, y):\n",
    "    while True:\n",
    "        node = ox.distance.nearest_nodes(od.graph, x, y)\n",
    "        if networkx.has_path(od.graph, node, od.node_validator) and networkx.has_path(od.graph, od.node_validator, node):\n",
    "            od.node_cache[(x, y)] = node\n",
    "            return node\n",
    "        else:\n",
    "            od.graph.remove_node(node)"
   ]
  },
  {
   "cell_type": "code",
   "execution_count": 48,
   "metadata": {},
   "outputs": [],
   "source": [
    "def evaluate_travel_time_accuracy(benchmark_times, calculated_times,verbose=False):\n",
    "    total_diff = 0\n",
    "    total_diff_percentage = 0\n",
    "\n",
    "    for destination, benchmark in benchmark_times.items():\n",
    "        if destination in calculated_times:\n",
    "            calculated = calculated_times[destination]\n",
    "            diff = abs(benchmark - calculated)\n",
    "            diff_percentage = (diff / benchmark) * 100\n",
    "\n",
    "            total_diff += diff\n",
    "            total_diff_percentage += diff_percentage\n",
    "            if verbose:\n",
    "                print(f\"Destination {destination}:\")\n",
    "                print(f\"  Benchmark Time: {benchmark} minutes\")\n",
    "                print(f\"  Calculated Time: {calculated} minutes\")\n",
    "                print(f\"  Difference: {diff} minutes ({diff_percentage:.2f}%)\")\n",
    "                print()\n",
    "        else:\n",
    "            if verbose:\n",
    "                print(f\"Destination {destination} not found in calculated times.\")\n",
    "\n",
    "    avg_diff_percentage = total_diff_percentage / len(benchmark_times)\n",
    "    if verbose:\n",
    "        print(f\"Total Discrepancy: {total_diff} minutes across all destinations.\")\n",
    "        print(f\"Average Discrepancy Percentage: {avg_diff_percentage:.2f}%\")\n",
    "    return total_diff, avg_diff_percentage"
   ]
  },
  {
   "cell_type": "code",
   "execution_count": 49,
   "metadata": {},
   "outputs": [],
   "source": [
    "intersection_penalty = 10\n",
    "secret_scary_factor = 1 # 0.65\n",
    "use_ambulance_speeds = False\n",
    "\n",
    "od.set_graph_weights(intersection_penalty, secret_scary_factor, use_ambulance_speeds)"
   ]
  },
  {
   "cell_type": "code",
   "execution_count": 57,
   "metadata": {},
   "outputs": [],
   "source": [
    "x, y = utils.geographic_to_utm(10.7343661,59.9369806)\n",
    "start_node = get_node(x, y)\n",
    "\n",
    "destinations = [(10.7740711,59.9276535), (10.7367191,59.9086137), (10.8131627,59.8967944)]\n",
    "\n",
    "benchmark_times = {(10.7740711,59.9276535):7, # 6-8 minutes\n",
    "                   (10.7367191,59.9086137):16, # 14-18 minutes\n",
    "                   (10.8131627,59.8967944):14} # 14 minutter"
   ]
  },
  {
   "cell_type": "code",
   "execution_count": 58,
   "metadata": {},
   "outputs": [
    {
     "name": "stdout",
     "output_type": "stream",
     "text": [
      "Destination (10.7740711, 59.9276535):\n",
      "  Benchmark Time: 7 minutes\n",
      "  Calculated Time: 5.549890533333333 minutes\n",
      "  Difference: 1.4501094666666674 minutes (20.72%)\n",
      "\n",
      "Destination (10.7367191, 59.9086137):\n",
      "  Benchmark Time: 16 minutes\n",
      "  Calculated Time: 8.781068666666668 minutes\n",
      "  Difference: 7.218931333333332 minutes (45.12%)\n",
      "\n",
      "Destination (10.8131627, 59.8967944):\n",
      "  Benchmark Time: 14 minutes\n",
      "  Calculated Time: 12.022520152380952 minutes\n",
      "  Difference: 1.9774798476190476 minutes (14.12%)\n",
      "\n",
      "Total Discrepancy: 10.646520647619047 minutes across all destinations.\n",
      "Average Discrepancy Percentage: 26.65%\n"
     ]
    },
    {
     "data": {
      "text/plain": [
       "(10.646520647619047, 26.653008803854878)"
      ]
     },
     "execution_count": 58,
     "metadata": {},
     "output_type": "execute_result"
    }
   ],
   "source": [
    "# intersection_penalty = 15 # 10\n",
    "# secret_scary_factor = 0.8 # 0.65\n",
    "#intersection_penalty = 10 # 10\n",
    "#secret_scary_factor = 0.65 # 0.65\n",
    "intersection_penalty = 2\n",
    "secret_scary_factor = 0.75\n",
    "use_ambulance_speeds = False\n",
    "\n",
    "od.set_graph_weights(intersection_penalty, secret_scary_factor, use_ambulance_speeds)\n",
    "\n",
    "calculated_times = {}\n",
    "\n",
    "for destination in destinations:\n",
    "    x, y = utils.geographic_to_utm(destination[0], destination[1])\n",
    "    destination_node = get_node(x, y)\n",
    "\n",
    "    shortest_time_path = ox.shortest_path(\n",
    "                    od.graph,\n",
    "                    start_node,\n",
    "                    destination_node,\n",
    "                    weight='time'\n",
    "                )\n",
    "\n",
    "    total_travel_time = sum(od.graph[u][v][0]['time'] for u, v in zip(shortest_time_path[:-1], shortest_time_path[1:]))\n",
    "    \n",
    "    calculated_times[destination] = total_travel_time\n",
    "    \n",
    "evaluate_travel_time_accuracy(benchmark_times, calculated_times, verbose=True)"
   ]
  },
  {
   "cell_type": "code",
   "execution_count": 60,
   "metadata": {},
   "outputs": [],
   "source": [
    "\n",
    "locations = [\n",
    "    (11.14674,60.31262),\n",
    "    (11.47577,60.11964),\n",
    "    (11.166858,60.13423),\n",
    "    (11.561687,59.879044),\n",
    "    (10.987775,59.932076),\n",
    "    (10.880784,60.042152),\n",
    "    (10.831094,59.930733),\n",
    "    (10.758744,59.917),\n",
    "    (10.741926,59.93917),\n",
    "    (10.853331,59.71566),\n",
    "    (10.725881,59.659687),\n",
    "    (10.806946,59.833073),\n",
    "    (10.439887,59.830055),\n",
    "    (10.509723,59.89813),\n",
    "    (10.687367,59.939663),\n",
    "    (10.806364,59.893173),\n",
    "    (10.884091,59.960304),\n",
    "    (11.03928,59.997875),\n",
    "    (10.585751,59.917873)\n",
    "]\n",
    "\n",
    "times = [\n",
    "    40, \n",
    "    24,\n",
    "    55,\n",
    "    45,\n",
    "    22,\n",
    "    20,\n",
    "    11.5, # 9-12\n",
    "    11, # 8-14\n",
    "    35,\n",
    "    18,\n",
    "    24,\n",
    "    35,\n",
    "    16,\n",
    "    18,\n",
    "    14, # 12-16\n",
    "    14, # 12-16\n",
    "    20, # 18-22\n",
    "    35,\n",
    "    60 # 55-65\n",
    "]\n",
    "\n",
    "benchmark_times = {(11.47577, 60.11964): 40,\n",
    "                   (11.166858, 60.13423): 24,\n",
    "                   (11.561687, 59.879044): 55,\n",
    "                   (10.987775, 59.932076): 45,\n",
    "                   (10.880784, 60.042152): 22,\n",
    "                   (10.831094, 59.930733): 20,\n",
    "                   (10.758744, 59.917): 11.5,\n",
    "                   (10.741926, 59.93917): 11,\n",
    "                   (10.853331, 59.71566): 35,\n",
    "                   (10.725881, 59.659687): 18,\n",
    "                   (10.806946, 59.833073): 24,\n",
    "                   (10.439887, 59.830055): 35,\n",
    "                   (10.509723, 59.89813): 16,\n",
    "                   (10.687367, 59.939663): 18,\n",
    "                   (10.806364, 59.893173): 14,\n",
    "                   (10.884091, 59.960304): 14,\n",
    "                   (11.03928, 59.997875): 20,\n",
    "                   (10.585751, 59.917873): 35,\n",
    "                   (11.14674, 60.31262): 60}"
   ]
  },
  {
   "cell_type": "code",
   "execution_count": 61,
   "metadata": {},
   "outputs": [],
   "source": [
    "def get_node(x, y):\n",
    "    if (x, y) in od.node_cache:\n",
    "        return od.node_cache[(x, y)]\n",
    "\n",
    "    while True:\n",
    "        node = ox.distance.nearest_nodes(od.graph, x, y)\n",
    "        if networkx.has_path(od.graph, node, od.node_validator) and networkx.has_path(od.graph, od.node_validator, node):\n",
    "            od.node_cache[(x, y)] = node\n",
    "            return node\n",
    "        else:\n",
    "            od.graph.remove_node(node)"
   ]
  },
  {
   "cell_type": "code",
   "execution_count": 62,
   "metadata": {},
   "outputs": [
    {
     "name": "stderr",
     "output_type": "stream",
     "text": [
      "Intersection Penalty Progress:   0%|          | 0/30 [00:00<?, ?it/s]"
     ]
    },
    {
     "name": "stdout",
     "output_type": "stream",
     "text": [
      "Current Settings: Intersection Penalty = 0.5, Secret Scary Factor = 0.05\n"
     ]
    },
    {
     "name": "stderr",
     "output_type": "stream",
     "text": []
    },
    {
     "name": "stdout",
     "output_type": "stream",
     "text": [
      "Current Settings: Intersection Penalty = 0.5, Secret Scary Factor = 0.1\n"
     ]
    },
    {
     "name": "stderr",
     "output_type": "stream",
     "text": []
    },
    {
     "name": "stdout",
     "output_type": "stream",
     "text": [
      "Current Settings: Intersection Penalty = 0.5, Secret Scary Factor = 0.15000000000000002\n"
     ]
    },
    {
     "name": "stderr",
     "output_type": "stream",
     "text": []
    },
    {
     "name": "stdout",
     "output_type": "stream",
     "text": [
      "Current Settings: Intersection Penalty = 0.5, Secret Scary Factor = 0.2\n"
     ]
    },
    {
     "name": "stderr",
     "output_type": "stream",
     "text": []
    },
    {
     "name": "stdout",
     "output_type": "stream",
     "text": [
      "Current Settings: Intersection Penalty = 0.5, Secret Scary Factor = 0.25\n"
     ]
    },
    {
     "name": "stderr",
     "output_type": "stream",
     "text": []
    },
    {
     "name": "stdout",
     "output_type": "stream",
     "text": [
      "Current Settings: Intersection Penalty = 0.5, Secret Scary Factor = 0.30000000000000004\n"
     ]
    },
    {
     "name": "stderr",
     "output_type": "stream",
     "text": []
    },
    {
     "name": "stdout",
     "output_type": "stream",
     "text": [
      "Current Settings: Intersection Penalty = 0.5, Secret Scary Factor = 0.35000000000000003\n"
     ]
    },
    {
     "name": "stderr",
     "output_type": "stream",
     "text": []
    },
    {
     "name": "stdout",
     "output_type": "stream",
     "text": [
      "Current Settings: Intersection Penalty = 0.5, Secret Scary Factor = 0.4\n"
     ]
    },
    {
     "name": "stderr",
     "output_type": "stream",
     "text": []
    },
    {
     "name": "stdout",
     "output_type": "stream",
     "text": [
      "Current Settings: Intersection Penalty = 0.5, Secret Scary Factor = 0.45\n"
     ]
    },
    {
     "name": "stderr",
     "output_type": "stream",
     "text": []
    },
    {
     "name": "stdout",
     "output_type": "stream",
     "text": [
      "Current Settings: Intersection Penalty = 0.5, Secret Scary Factor = 0.5\n"
     ]
    },
    {
     "name": "stderr",
     "output_type": "stream",
     "text": []
    },
    {
     "name": "stdout",
     "output_type": "stream",
     "text": [
      "Current Settings: Intersection Penalty = 0.5, Secret Scary Factor = 0.55\n"
     ]
    },
    {
     "name": "stderr",
     "output_type": "stream",
     "text": []
    },
    {
     "name": "stdout",
     "output_type": "stream",
     "text": [
      "Current Settings: Intersection Penalty = 0.5, Secret Scary Factor = 0.6000000000000001\n"
     ]
    },
    {
     "name": "stderr",
     "output_type": "stream",
     "text": []
    },
    {
     "name": "stdout",
     "output_type": "stream",
     "text": [
      "Current Settings: Intersection Penalty = 0.5, Secret Scary Factor = 0.65\n"
     ]
    },
    {
     "name": "stderr",
     "output_type": "stream",
     "text": []
    },
    {
     "name": "stdout",
     "output_type": "stream",
     "text": [
      "Current Settings: Intersection Penalty = 0.5, Secret Scary Factor = 0.7000000000000001\n"
     ]
    },
    {
     "name": "stderr",
     "output_type": "stream",
     "text": []
    },
    {
     "name": "stdout",
     "output_type": "stream",
     "text": [
      "Current Settings: Intersection Penalty = 0.5, Secret Scary Factor = 0.75\n"
     ]
    },
    {
     "name": "stderr",
     "output_type": "stream",
     "text": []
    },
    {
     "name": "stdout",
     "output_type": "stream",
     "text": [
      "Current Settings: Intersection Penalty = 0.5, Secret Scary Factor = 0.8\n"
     ]
    },
    {
     "name": "stderr",
     "output_type": "stream",
     "text": []
    },
    {
     "name": "stdout",
     "output_type": "stream",
     "text": [
      "Current Settings: Intersection Penalty = 0.5, Secret Scary Factor = 0.8500000000000001\n"
     ]
    },
    {
     "name": "stderr",
     "output_type": "stream",
     "text": []
    },
    {
     "name": "stdout",
     "output_type": "stream",
     "text": [
      "Current Settings: Intersection Penalty = 0.5, Secret Scary Factor = 0.9\n"
     ]
    },
    {
     "name": "stderr",
     "output_type": "stream",
     "text": []
    },
    {
     "name": "stdout",
     "output_type": "stream",
     "text": [
      "Current Settings: Intersection Penalty = 0.5, Secret Scary Factor = 0.9500000000000001\n"
     ]
    },
    {
     "name": "stderr",
     "output_type": "stream",
     "text": []
    },
    {
     "name": "stdout",
     "output_type": "stream",
     "text": [
      "Current Settings: Intersection Penalty = 0.5, Secret Scary Factor = 1.0\n"
     ]
    },
    {
     "name": "stderr",
     "output_type": "stream",
     "text": []
    },
    {
     "name": "stdout",
     "output_type": "stream",
     "text": [
      "Current Settings: Intersection Penalty = 0.5, Secret Scary Factor = 1.05\n"
     ]
    },
    {
     "name": "stderr",
     "output_type": "stream",
     "text": []
    },
    {
     "name": "stdout",
     "output_type": "stream",
     "text": [
      "Current Settings: Intersection Penalty = 0.5, Secret Scary Factor = 1.1\n"
     ]
    },
    {
     "name": "stderr",
     "output_type": "stream",
     "text": []
    },
    {
     "name": "stdout",
     "output_type": "stream",
     "text": [
      "Current Settings: Intersection Penalty = 0.5, Secret Scary Factor = 1.1500000000000001\n"
     ]
    },
    {
     "name": "stderr",
     "output_type": "stream",
     "text": []
    },
    {
     "name": "stdout",
     "output_type": "stream",
     "text": [
      "Current Settings: Intersection Penalty = 0.5, Secret Scary Factor = 1.2000000000000002\n"
     ]
    },
    {
     "name": "stderr",
     "output_type": "stream",
     "text": []
    },
    {
     "name": "stdout",
     "output_type": "stream",
     "text": [
      "Current Settings: Intersection Penalty = 0.5, Secret Scary Factor = 1.25\n"
     ]
    },
    {
     "name": "stderr",
     "output_type": "stream",
     "text": []
    },
    {
     "name": "stdout",
     "output_type": "stream",
     "text": [
      "Current Settings: Intersection Penalty = 0.5, Secret Scary Factor = 1.3\n"
     ]
    },
    {
     "name": "stderr",
     "output_type": "stream",
     "text": []
    },
    {
     "name": "stdout",
     "output_type": "stream",
     "text": [
      "Current Settings: Intersection Penalty = 0.5, Secret Scary Factor = 1.35\n"
     ]
    },
    {
     "name": "stderr",
     "output_type": "stream",
     "text": []
    },
    {
     "name": "stdout",
     "output_type": "stream",
     "text": [
      "Current Settings: Intersection Penalty = 0.5, Secret Scary Factor = 1.4000000000000001\n"
     ]
    },
    {
     "name": "stderr",
     "output_type": "stream",
     "text": []
    },
    {
     "name": "stdout",
     "output_type": "stream",
     "text": [
      "Current Settings: Intersection Penalty = 0.5, Secret Scary Factor = 1.4500000000000002\n"
     ]
    },
    {
     "name": "stderr",
     "output_type": "stream",
     "text": []
    },
    {
     "name": "stdout",
     "output_type": "stream",
     "text": [
      "Current Settings: Intersection Penalty = 0.5, Secret Scary Factor = 1.5\n"
     ]
    },
    {
     "name": "stderr",
     "output_type": "stream",
     "text": []
    },
    {
     "name": "stdout",
     "output_type": "stream",
     "text": [
      "Current Settings: Intersection Penalty = 0.5, Secret Scary Factor = 1.55\n"
     ]
    },
    {
     "name": "stderr",
     "output_type": "stream",
     "text": []
    },
    {
     "name": "stdout",
     "output_type": "stream",
     "text": [
      "Current Settings: Intersection Penalty = 0.5, Secret Scary Factor = 1.6\n"
     ]
    },
    {
     "name": "stderr",
     "output_type": "stream",
     "text": []
    },
    {
     "name": "stdout",
     "output_type": "stream",
     "text": [
      "Current Settings: Intersection Penalty = 0.5, Secret Scary Factor = 1.6500000000000001\n"
     ]
    },
    {
     "name": "stderr",
     "output_type": "stream",
     "text": []
    },
    {
     "name": "stdout",
     "output_type": "stream",
     "text": [
      "Current Settings: Intersection Penalty = 0.5, Secret Scary Factor = 1.7000000000000002\n"
     ]
    },
    {
     "name": "stderr",
     "output_type": "stream",
     "text": []
    },
    {
     "name": "stdout",
     "output_type": "stream",
     "text": [
      "Current Settings: Intersection Penalty = 0.5, Secret Scary Factor = 1.75\n"
     ]
    },
    {
     "name": "stderr",
     "output_type": "stream",
     "text": []
    },
    {
     "name": "stdout",
     "output_type": "stream",
     "text": [
      "Current Settings: Intersection Penalty = 0.5, Secret Scary Factor = 1.8\n"
     ]
    },
    {
     "name": "stderr",
     "output_type": "stream",
     "text": []
    },
    {
     "name": "stdout",
     "output_type": "stream",
     "text": [
      "Current Settings: Intersection Penalty = 0.5, Secret Scary Factor = 1.85\n"
     ]
    },
    {
     "name": "stderr",
     "output_type": "stream",
     "text": []
    },
    {
     "name": "stdout",
     "output_type": "stream",
     "text": [
      "Current Settings: Intersection Penalty = 0.5, Secret Scary Factor = 1.9000000000000001\n"
     ]
    },
    {
     "name": "stderr",
     "output_type": "stream",
     "text": []
    },
    {
     "name": "stdout",
     "output_type": "stream",
     "text": [
      "Current Settings: Intersection Penalty = 0.5, Secret Scary Factor = 1.9500000000000002\n"
     ]
    },
    {
     "name": "stderr",
     "output_type": "stream",
     "text": []
    },
    {
     "name": "stdout",
     "output_type": "stream",
     "text": [
      "Current Settings: Intersection Penalty = 0.5, Secret Scary Factor = 2.0\n"
     ]
    },
    {
     "name": "stderr",
     "output_type": "stream",
     "text": [
      "Secret Scary Factor Progress: 100%|██████████| 40/40 [05:24<00:00,  8.10s/it]\n",
      "Intersection Penalty Progress:   3%|▎         | 1/30 [05:24<2:36:39, 324.12s/it]"
     ]
    },
    {
     "name": "stdout",
     "output_type": "stream",
     "text": [
      "Current Settings: Intersection Penalty = 1.0, Secret Scary Factor = 0.05\n"
     ]
    },
    {
     "name": "stderr",
     "output_type": "stream",
     "text": []
    },
    {
     "name": "stdout",
     "output_type": "stream",
     "text": [
      "Current Settings: Intersection Penalty = 1.0, Secret Scary Factor = 0.1\n"
     ]
    },
    {
     "name": "stderr",
     "output_type": "stream",
     "text": []
    },
    {
     "name": "stdout",
     "output_type": "stream",
     "text": [
      "Current Settings: Intersection Penalty = 1.0, Secret Scary Factor = 0.15000000000000002\n"
     ]
    },
    {
     "name": "stderr",
     "output_type": "stream",
     "text": []
    },
    {
     "name": "stdout",
     "output_type": "stream",
     "text": [
      "Current Settings: Intersection Penalty = 1.0, Secret Scary Factor = 0.2\n"
     ]
    },
    {
     "name": "stderr",
     "output_type": "stream",
     "text": []
    },
    {
     "name": "stdout",
     "output_type": "stream",
     "text": [
      "Current Settings: Intersection Penalty = 1.0, Secret Scary Factor = 0.25\n"
     ]
    },
    {
     "name": "stderr",
     "output_type": "stream",
     "text": []
    },
    {
     "name": "stdout",
     "output_type": "stream",
     "text": [
      "Current Settings: Intersection Penalty = 1.0, Secret Scary Factor = 0.30000000000000004\n"
     ]
    },
    {
     "name": "stderr",
     "output_type": "stream",
     "text": []
    },
    {
     "name": "stdout",
     "output_type": "stream",
     "text": [
      "Current Settings: Intersection Penalty = 1.0, Secret Scary Factor = 0.35000000000000003\n"
     ]
    },
    {
     "name": "stderr",
     "output_type": "stream",
     "text": []
    },
    {
     "name": "stdout",
     "output_type": "stream",
     "text": [
      "Current Settings: Intersection Penalty = 1.0, Secret Scary Factor = 0.4\n"
     ]
    },
    {
     "name": "stderr",
     "output_type": "stream",
     "text": []
    },
    {
     "name": "stdout",
     "output_type": "stream",
     "text": [
      "Current Settings: Intersection Penalty = 1.0, Secret Scary Factor = 0.45\n"
     ]
    },
    {
     "name": "stderr",
     "output_type": "stream",
     "text": []
    },
    {
     "name": "stdout",
     "output_type": "stream",
     "text": [
      "Current Settings: Intersection Penalty = 1.0, Secret Scary Factor = 0.5\n"
     ]
    },
    {
     "name": "stderr",
     "output_type": "stream",
     "text": []
    },
    {
     "name": "stdout",
     "output_type": "stream",
     "text": [
      "Current Settings: Intersection Penalty = 1.0, Secret Scary Factor = 0.55\n"
     ]
    },
    {
     "name": "stderr",
     "output_type": "stream",
     "text": []
    },
    {
     "name": "stdout",
     "output_type": "stream",
     "text": [
      "Current Settings: Intersection Penalty = 1.0, Secret Scary Factor = 0.6000000000000001\n"
     ]
    },
    {
     "name": "stderr",
     "output_type": "stream",
     "text": []
    },
    {
     "name": "stdout",
     "output_type": "stream",
     "text": [
      "Current Settings: Intersection Penalty = 1.0, Secret Scary Factor = 0.65\n"
     ]
    },
    {
     "name": "stderr",
     "output_type": "stream",
     "text": []
    },
    {
     "name": "stdout",
     "output_type": "stream",
     "text": [
      "Current Settings: Intersection Penalty = 1.0, Secret Scary Factor = 0.7000000000000001\n"
     ]
    },
    {
     "name": "stderr",
     "output_type": "stream",
     "text": []
    },
    {
     "name": "stdout",
     "output_type": "stream",
     "text": [
      "Current Settings: Intersection Penalty = 1.0, Secret Scary Factor = 0.75\n"
     ]
    },
    {
     "name": "stderr",
     "output_type": "stream",
     "text": []
    },
    {
     "name": "stdout",
     "output_type": "stream",
     "text": [
      "Current Settings: Intersection Penalty = 1.0, Secret Scary Factor = 0.8\n"
     ]
    },
    {
     "name": "stderr",
     "output_type": "stream",
     "text": []
    },
    {
     "name": "stdout",
     "output_type": "stream",
     "text": [
      "Current Settings: Intersection Penalty = 1.0, Secret Scary Factor = 0.8500000000000001\n"
     ]
    },
    {
     "name": "stderr",
     "output_type": "stream",
     "text": []
    },
    {
     "name": "stdout",
     "output_type": "stream",
     "text": [
      "Current Settings: Intersection Penalty = 1.0, Secret Scary Factor = 0.9\n"
     ]
    },
    {
     "name": "stderr",
     "output_type": "stream",
     "text": []
    },
    {
     "name": "stdout",
     "output_type": "stream",
     "text": [
      "Current Settings: Intersection Penalty = 1.0, Secret Scary Factor = 0.9500000000000001\n"
     ]
    },
    {
     "name": "stderr",
     "output_type": "stream",
     "text": []
    },
    {
     "name": "stdout",
     "output_type": "stream",
     "text": [
      "Current Settings: Intersection Penalty = 1.0, Secret Scary Factor = 1.0\n"
     ]
    },
    {
     "name": "stderr",
     "output_type": "stream",
     "text": []
    },
    {
     "name": "stdout",
     "output_type": "stream",
     "text": [
      "Current Settings: Intersection Penalty = 1.0, Secret Scary Factor = 1.05\n"
     ]
    },
    {
     "name": "stderr",
     "output_type": "stream",
     "text": []
    },
    {
     "name": "stdout",
     "output_type": "stream",
     "text": [
      "Current Settings: Intersection Penalty = 1.0, Secret Scary Factor = 1.1\n"
     ]
    },
    {
     "name": "stderr",
     "output_type": "stream",
     "text": []
    },
    {
     "name": "stdout",
     "output_type": "stream",
     "text": [
      "Current Settings: Intersection Penalty = 1.0, Secret Scary Factor = 1.1500000000000001\n"
     ]
    },
    {
     "name": "stderr",
     "output_type": "stream",
     "text": []
    },
    {
     "name": "stdout",
     "output_type": "stream",
     "text": [
      "Current Settings: Intersection Penalty = 1.0, Secret Scary Factor = 1.2000000000000002\n"
     ]
    },
    {
     "name": "stderr",
     "output_type": "stream",
     "text": []
    },
    {
     "name": "stdout",
     "output_type": "stream",
     "text": [
      "Current Settings: Intersection Penalty = 1.0, Secret Scary Factor = 1.25\n"
     ]
    },
    {
     "name": "stderr",
     "output_type": "stream",
     "text": []
    },
    {
     "name": "stdout",
     "output_type": "stream",
     "text": [
      "Current Settings: Intersection Penalty = 1.0, Secret Scary Factor = 1.3\n"
     ]
    },
    {
     "name": "stderr",
     "output_type": "stream",
     "text": []
    },
    {
     "name": "stdout",
     "output_type": "stream",
     "text": [
      "Current Settings: Intersection Penalty = 1.0, Secret Scary Factor = 1.35\n"
     ]
    },
    {
     "name": "stderr",
     "output_type": "stream",
     "text": []
    },
    {
     "name": "stdout",
     "output_type": "stream",
     "text": [
      "Current Settings: Intersection Penalty = 1.0, Secret Scary Factor = 1.4000000000000001\n"
     ]
    },
    {
     "name": "stderr",
     "output_type": "stream",
     "text": []
    },
    {
     "name": "stdout",
     "output_type": "stream",
     "text": [
      "Current Settings: Intersection Penalty = 1.0, Secret Scary Factor = 1.4500000000000002\n"
     ]
    },
    {
     "name": "stderr",
     "output_type": "stream",
     "text": []
    },
    {
     "name": "stdout",
     "output_type": "stream",
     "text": [
      "Current Settings: Intersection Penalty = 1.0, Secret Scary Factor = 1.5\n"
     ]
    },
    {
     "name": "stderr",
     "output_type": "stream",
     "text": []
    },
    {
     "name": "stdout",
     "output_type": "stream",
     "text": [
      "Current Settings: Intersection Penalty = 1.0, Secret Scary Factor = 1.55\n"
     ]
    },
    {
     "name": "stderr",
     "output_type": "stream",
     "text": []
    },
    {
     "name": "stdout",
     "output_type": "stream",
     "text": [
      "Current Settings: Intersection Penalty = 1.0, Secret Scary Factor = 1.6\n"
     ]
    },
    {
     "name": "stderr",
     "output_type": "stream",
     "text": []
    },
    {
     "name": "stdout",
     "output_type": "stream",
     "text": [
      "Current Settings: Intersection Penalty = 1.0, Secret Scary Factor = 1.6500000000000001\n"
     ]
    },
    {
     "name": "stderr",
     "output_type": "stream",
     "text": []
    },
    {
     "name": "stdout",
     "output_type": "stream",
     "text": [
      "Current Settings: Intersection Penalty = 1.0, Secret Scary Factor = 1.7000000000000002\n"
     ]
    },
    {
     "name": "stderr",
     "output_type": "stream",
     "text": []
    },
    {
     "name": "stdout",
     "output_type": "stream",
     "text": [
      "Current Settings: Intersection Penalty = 1.0, Secret Scary Factor = 1.75\n"
     ]
    },
    {
     "name": "stderr",
     "output_type": "stream",
     "text": []
    },
    {
     "name": "stdout",
     "output_type": "stream",
     "text": [
      "Current Settings: Intersection Penalty = 1.0, Secret Scary Factor = 1.8\n"
     ]
    },
    {
     "name": "stderr",
     "output_type": "stream",
     "text": []
    },
    {
     "name": "stdout",
     "output_type": "stream",
     "text": [
      "Current Settings: Intersection Penalty = 1.0, Secret Scary Factor = 1.85\n"
     ]
    },
    {
     "name": "stderr",
     "output_type": "stream",
     "text": []
    },
    {
     "name": "stdout",
     "output_type": "stream",
     "text": [
      "Current Settings: Intersection Penalty = 1.0, Secret Scary Factor = 1.9000000000000001\n"
     ]
    },
    {
     "name": "stderr",
     "output_type": "stream",
     "text": []
    },
    {
     "name": "stdout",
     "output_type": "stream",
     "text": [
      "Current Settings: Intersection Penalty = 1.0, Secret Scary Factor = 1.9500000000000002\n"
     ]
    },
    {
     "name": "stderr",
     "output_type": "stream",
     "text": []
    },
    {
     "name": "stdout",
     "output_type": "stream",
     "text": [
      "Current Settings: Intersection Penalty = 1.0, Secret Scary Factor = 2.0\n"
     ]
    },
    {
     "name": "stderr",
     "output_type": "stream",
     "text": [
      "Secret Scary Factor Progress: 100%|██████████| 40/40 [04:56<00:00,  7.41s/it]\n",
      "Intersection Penalty Progress:   7%|▋         | 2/30 [10:20<2:23:35, 307.71s/it]"
     ]
    },
    {
     "name": "stdout",
     "output_type": "stream",
     "text": [
      "Current Settings: Intersection Penalty = 1.5, Secret Scary Factor = 0.05\n"
     ]
    },
    {
     "name": "stderr",
     "output_type": "stream",
     "text": []
    },
    {
     "name": "stdout",
     "output_type": "stream",
     "text": [
      "Current Settings: Intersection Penalty = 1.5, Secret Scary Factor = 0.1\n"
     ]
    },
    {
     "name": "stderr",
     "output_type": "stream",
     "text": []
    },
    {
     "name": "stdout",
     "output_type": "stream",
     "text": [
      "Current Settings: Intersection Penalty = 1.5, Secret Scary Factor = 0.15000000000000002\n"
     ]
    },
    {
     "name": "stderr",
     "output_type": "stream",
     "text": []
    },
    {
     "name": "stdout",
     "output_type": "stream",
     "text": [
      "Current Settings: Intersection Penalty = 1.5, Secret Scary Factor = 0.2\n"
     ]
    },
    {
     "name": "stderr",
     "output_type": "stream",
     "text": []
    },
    {
     "name": "stdout",
     "output_type": "stream",
     "text": [
      "Current Settings: Intersection Penalty = 1.5, Secret Scary Factor = 0.25\n"
     ]
    },
    {
     "name": "stderr",
     "output_type": "stream",
     "text": []
    },
    {
     "name": "stdout",
     "output_type": "stream",
     "text": [
      "Current Settings: Intersection Penalty = 1.5, Secret Scary Factor = 0.30000000000000004\n"
     ]
    },
    {
     "name": "stderr",
     "output_type": "stream",
     "text": []
    },
    {
     "name": "stdout",
     "output_type": "stream",
     "text": [
      "Current Settings: Intersection Penalty = 1.5, Secret Scary Factor = 0.35000000000000003\n"
     ]
    },
    {
     "name": "stderr",
     "output_type": "stream",
     "text": []
    },
    {
     "name": "stdout",
     "output_type": "stream",
     "text": [
      "Current Settings: Intersection Penalty = 1.5, Secret Scary Factor = 0.4\n"
     ]
    },
    {
     "name": "stderr",
     "output_type": "stream",
     "text": []
    },
    {
     "name": "stdout",
     "output_type": "stream",
     "text": [
      "Current Settings: Intersection Penalty = 1.5, Secret Scary Factor = 0.45\n"
     ]
    },
    {
     "name": "stderr",
     "output_type": "stream",
     "text": []
    },
    {
     "name": "stdout",
     "output_type": "stream",
     "text": [
      "Current Settings: Intersection Penalty = 1.5, Secret Scary Factor = 0.5\n"
     ]
    },
    {
     "name": "stderr",
     "output_type": "stream",
     "text": []
    },
    {
     "name": "stdout",
     "output_type": "stream",
     "text": [
      "Current Settings: Intersection Penalty = 1.5, Secret Scary Factor = 0.55\n"
     ]
    },
    {
     "name": "stderr",
     "output_type": "stream",
     "text": []
    },
    {
     "name": "stdout",
     "output_type": "stream",
     "text": [
      "Current Settings: Intersection Penalty = 1.5, Secret Scary Factor = 0.6000000000000001\n"
     ]
    },
    {
     "name": "stderr",
     "output_type": "stream",
     "text": []
    },
    {
     "name": "stdout",
     "output_type": "stream",
     "text": [
      "Current Settings: Intersection Penalty = 1.5, Secret Scary Factor = 0.65\n"
     ]
    },
    {
     "name": "stderr",
     "output_type": "stream",
     "text": []
    },
    {
     "name": "stdout",
     "output_type": "stream",
     "text": [
      "Current Settings: Intersection Penalty = 1.5, Secret Scary Factor = 0.7000000000000001\n"
     ]
    },
    {
     "name": "stderr",
     "output_type": "stream",
     "text": []
    },
    {
     "name": "stdout",
     "output_type": "stream",
     "text": [
      "Current Settings: Intersection Penalty = 1.5, Secret Scary Factor = 0.75\n"
     ]
    },
    {
     "name": "stderr",
     "output_type": "stream",
     "text": []
    },
    {
     "name": "stdout",
     "output_type": "stream",
     "text": [
      "Current Settings: Intersection Penalty = 1.5, Secret Scary Factor = 0.8\n"
     ]
    },
    {
     "name": "stderr",
     "output_type": "stream",
     "text": []
    },
    {
     "name": "stdout",
     "output_type": "stream",
     "text": [
      "Current Settings: Intersection Penalty = 1.5, Secret Scary Factor = 0.8500000000000001\n"
     ]
    },
    {
     "name": "stderr",
     "output_type": "stream",
     "text": []
    },
    {
     "name": "stdout",
     "output_type": "stream",
     "text": [
      "Current Settings: Intersection Penalty = 1.5, Secret Scary Factor = 0.9\n"
     ]
    },
    {
     "name": "stderr",
     "output_type": "stream",
     "text": []
    },
    {
     "name": "stdout",
     "output_type": "stream",
     "text": [
      "Current Settings: Intersection Penalty = 1.5, Secret Scary Factor = 0.9500000000000001\n"
     ]
    },
    {
     "name": "stderr",
     "output_type": "stream",
     "text": []
    },
    {
     "name": "stdout",
     "output_type": "stream",
     "text": [
      "Current Settings: Intersection Penalty = 1.5, Secret Scary Factor = 1.0\n"
     ]
    },
    {
     "name": "stderr",
     "output_type": "stream",
     "text": []
    },
    {
     "name": "stdout",
     "output_type": "stream",
     "text": [
      "Current Settings: Intersection Penalty = 1.5, Secret Scary Factor = 1.05\n"
     ]
    },
    {
     "name": "stderr",
     "output_type": "stream",
     "text": []
    },
    {
     "name": "stdout",
     "output_type": "stream",
     "text": [
      "Current Settings: Intersection Penalty = 1.5, Secret Scary Factor = 1.1\n"
     ]
    },
    {
     "name": "stderr",
     "output_type": "stream",
     "text": []
    },
    {
     "name": "stdout",
     "output_type": "stream",
     "text": [
      "Current Settings: Intersection Penalty = 1.5, Secret Scary Factor = 1.1500000000000001\n"
     ]
    },
    {
     "name": "stderr",
     "output_type": "stream",
     "text": []
    },
    {
     "name": "stdout",
     "output_type": "stream",
     "text": [
      "Current Settings: Intersection Penalty = 1.5, Secret Scary Factor = 1.2000000000000002\n"
     ]
    },
    {
     "name": "stderr",
     "output_type": "stream",
     "text": []
    },
    {
     "name": "stdout",
     "output_type": "stream",
     "text": [
      "Current Settings: Intersection Penalty = 1.5, Secret Scary Factor = 1.25\n"
     ]
    },
    {
     "name": "stderr",
     "output_type": "stream",
     "text": []
    },
    {
     "name": "stdout",
     "output_type": "stream",
     "text": [
      "Current Settings: Intersection Penalty = 1.5, Secret Scary Factor = 1.3\n"
     ]
    },
    {
     "name": "stderr",
     "output_type": "stream",
     "text": []
    },
    {
     "name": "stdout",
     "output_type": "stream",
     "text": [
      "Current Settings: Intersection Penalty = 1.5, Secret Scary Factor = 1.35\n"
     ]
    },
    {
     "name": "stderr",
     "output_type": "stream",
     "text": []
    },
    {
     "name": "stdout",
     "output_type": "stream",
     "text": [
      "Current Settings: Intersection Penalty = 1.5, Secret Scary Factor = 1.4000000000000001\n"
     ]
    },
    {
     "name": "stderr",
     "output_type": "stream",
     "text": []
    },
    {
     "name": "stdout",
     "output_type": "stream",
     "text": [
      "Current Settings: Intersection Penalty = 1.5, Secret Scary Factor = 1.4500000000000002\n"
     ]
    },
    {
     "name": "stderr",
     "output_type": "stream",
     "text": []
    },
    {
     "name": "stdout",
     "output_type": "stream",
     "text": [
      "Current Settings: Intersection Penalty = 1.5, Secret Scary Factor = 1.5\n"
     ]
    },
    {
     "name": "stderr",
     "output_type": "stream",
     "text": []
    },
    {
     "name": "stdout",
     "output_type": "stream",
     "text": [
      "Current Settings: Intersection Penalty = 1.5, Secret Scary Factor = 1.55\n"
     ]
    },
    {
     "name": "stderr",
     "output_type": "stream",
     "text": []
    },
    {
     "name": "stdout",
     "output_type": "stream",
     "text": [
      "Current Settings: Intersection Penalty = 1.5, Secret Scary Factor = 1.6\n"
     ]
    },
    {
     "name": "stderr",
     "output_type": "stream",
     "text": []
    },
    {
     "name": "stdout",
     "output_type": "stream",
     "text": [
      "Current Settings: Intersection Penalty = 1.5, Secret Scary Factor = 1.6500000000000001\n"
     ]
    },
    {
     "name": "stderr",
     "output_type": "stream",
     "text": []
    },
    {
     "name": "stdout",
     "output_type": "stream",
     "text": [
      "Current Settings: Intersection Penalty = 1.5, Secret Scary Factor = 1.7000000000000002\n"
     ]
    },
    {
     "name": "stderr",
     "output_type": "stream",
     "text": []
    },
    {
     "name": "stdout",
     "output_type": "stream",
     "text": [
      "Current Settings: Intersection Penalty = 1.5, Secret Scary Factor = 1.75\n"
     ]
    },
    {
     "name": "stderr",
     "output_type": "stream",
     "text": []
    },
    {
     "name": "stdout",
     "output_type": "stream",
     "text": [
      "Current Settings: Intersection Penalty = 1.5, Secret Scary Factor = 1.8\n"
     ]
    },
    {
     "name": "stderr",
     "output_type": "stream",
     "text": []
    },
    {
     "name": "stdout",
     "output_type": "stream",
     "text": [
      "Current Settings: Intersection Penalty = 1.5, Secret Scary Factor = 1.85\n"
     ]
    },
    {
     "name": "stderr",
     "output_type": "stream",
     "text": []
    },
    {
     "name": "stdout",
     "output_type": "stream",
     "text": [
      "Current Settings: Intersection Penalty = 1.5, Secret Scary Factor = 1.9000000000000001\n"
     ]
    },
    {
     "name": "stderr",
     "output_type": "stream",
     "text": []
    },
    {
     "name": "stdout",
     "output_type": "stream",
     "text": [
      "Current Settings: Intersection Penalty = 1.5, Secret Scary Factor = 1.9500000000000002\n"
     ]
    },
    {
     "name": "stderr",
     "output_type": "stream",
     "text": []
    },
    {
     "name": "stdout",
     "output_type": "stream",
     "text": [
      "Current Settings: Intersection Penalty = 1.5, Secret Scary Factor = 2.0\n"
     ]
    },
    {
     "name": "stderr",
     "output_type": "stream",
     "text": [
      "Secret Scary Factor Progress: 100%|██████████| 40/40 [04:54<00:00,  7.37s/it]\n",
      "Intersection Penalty Progress:  10%|█         | 3/30 [15:15<2:15:48, 301.79s/it]"
     ]
    },
    {
     "name": "stdout",
     "output_type": "stream",
     "text": [
      "Current Settings: Intersection Penalty = 2.0, Secret Scary Factor = 0.05\n"
     ]
    },
    {
     "name": "stderr",
     "output_type": "stream",
     "text": []
    },
    {
     "name": "stdout",
     "output_type": "stream",
     "text": [
      "Current Settings: Intersection Penalty = 2.0, Secret Scary Factor = 0.1\n"
     ]
    },
    {
     "name": "stderr",
     "output_type": "stream",
     "text": []
    },
    {
     "name": "stdout",
     "output_type": "stream",
     "text": [
      "Current Settings: Intersection Penalty = 2.0, Secret Scary Factor = 0.15000000000000002\n"
     ]
    },
    {
     "name": "stderr",
     "output_type": "stream",
     "text": []
    },
    {
     "name": "stdout",
     "output_type": "stream",
     "text": [
      "Current Settings: Intersection Penalty = 2.0, Secret Scary Factor = 0.2\n"
     ]
    },
    {
     "name": "stderr",
     "output_type": "stream",
     "text": []
    },
    {
     "name": "stdout",
     "output_type": "stream",
     "text": [
      "Current Settings: Intersection Penalty = 2.0, Secret Scary Factor = 0.25\n"
     ]
    },
    {
     "name": "stderr",
     "output_type": "stream",
     "text": []
    },
    {
     "name": "stdout",
     "output_type": "stream",
     "text": [
      "Current Settings: Intersection Penalty = 2.0, Secret Scary Factor = 0.30000000000000004\n"
     ]
    },
    {
     "name": "stderr",
     "output_type": "stream",
     "text": []
    },
    {
     "name": "stdout",
     "output_type": "stream",
     "text": [
      "Current Settings: Intersection Penalty = 2.0, Secret Scary Factor = 0.35000000000000003\n"
     ]
    },
    {
     "name": "stderr",
     "output_type": "stream",
     "text": []
    },
    {
     "name": "stdout",
     "output_type": "stream",
     "text": [
      "Current Settings: Intersection Penalty = 2.0, Secret Scary Factor = 0.4\n"
     ]
    },
    {
     "name": "stderr",
     "output_type": "stream",
     "text": []
    },
    {
     "name": "stdout",
     "output_type": "stream",
     "text": [
      "Current Settings: Intersection Penalty = 2.0, Secret Scary Factor = 0.45\n"
     ]
    },
    {
     "name": "stderr",
     "output_type": "stream",
     "text": []
    },
    {
     "name": "stdout",
     "output_type": "stream",
     "text": [
      "Current Settings: Intersection Penalty = 2.0, Secret Scary Factor = 0.5\n"
     ]
    },
    {
     "name": "stderr",
     "output_type": "stream",
     "text": []
    },
    {
     "name": "stdout",
     "output_type": "stream",
     "text": [
      "Current Settings: Intersection Penalty = 2.0, Secret Scary Factor = 0.55\n"
     ]
    },
    {
     "name": "stderr",
     "output_type": "stream",
     "text": []
    },
    {
     "name": "stdout",
     "output_type": "stream",
     "text": [
      "Current Settings: Intersection Penalty = 2.0, Secret Scary Factor = 0.6000000000000001\n"
     ]
    },
    {
     "name": "stderr",
     "output_type": "stream",
     "text": []
    },
    {
     "name": "stdout",
     "output_type": "stream",
     "text": [
      "Current Settings: Intersection Penalty = 2.0, Secret Scary Factor = 0.65\n"
     ]
    },
    {
     "name": "stderr",
     "output_type": "stream",
     "text": []
    },
    {
     "name": "stdout",
     "output_type": "stream",
     "text": [
      "Current Settings: Intersection Penalty = 2.0, Secret Scary Factor = 0.7000000000000001\n"
     ]
    },
    {
     "name": "stderr",
     "output_type": "stream",
     "text": []
    },
    {
     "name": "stdout",
     "output_type": "stream",
     "text": [
      "Current Settings: Intersection Penalty = 2.0, Secret Scary Factor = 0.75\n"
     ]
    },
    {
     "name": "stderr",
     "output_type": "stream",
     "text": []
    },
    {
     "name": "stdout",
     "output_type": "stream",
     "text": [
      "Current Settings: Intersection Penalty = 2.0, Secret Scary Factor = 0.8\n"
     ]
    },
    {
     "name": "stderr",
     "output_type": "stream",
     "text": []
    },
    {
     "name": "stdout",
     "output_type": "stream",
     "text": [
      "Current Settings: Intersection Penalty = 2.0, Secret Scary Factor = 0.8500000000000001\n"
     ]
    },
    {
     "name": "stderr",
     "output_type": "stream",
     "text": []
    },
    {
     "name": "stdout",
     "output_type": "stream",
     "text": [
      "Current Settings: Intersection Penalty = 2.0, Secret Scary Factor = 0.9\n"
     ]
    },
    {
     "name": "stderr",
     "output_type": "stream",
     "text": []
    },
    {
     "name": "stdout",
     "output_type": "stream",
     "text": [
      "Current Settings: Intersection Penalty = 2.0, Secret Scary Factor = 0.9500000000000001\n"
     ]
    },
    {
     "name": "stderr",
     "output_type": "stream",
     "text": []
    },
    {
     "name": "stdout",
     "output_type": "stream",
     "text": [
      "Current Settings: Intersection Penalty = 2.0, Secret Scary Factor = 1.0\n"
     ]
    },
    {
     "name": "stderr",
     "output_type": "stream",
     "text": []
    },
    {
     "name": "stdout",
     "output_type": "stream",
     "text": [
      "Current Settings: Intersection Penalty = 2.0, Secret Scary Factor = 1.05\n"
     ]
    },
    {
     "name": "stderr",
     "output_type": "stream",
     "text": []
    },
    {
     "name": "stdout",
     "output_type": "stream",
     "text": [
      "Current Settings: Intersection Penalty = 2.0, Secret Scary Factor = 1.1\n"
     ]
    },
    {
     "name": "stderr",
     "output_type": "stream",
     "text": []
    },
    {
     "name": "stdout",
     "output_type": "stream",
     "text": [
      "Current Settings: Intersection Penalty = 2.0, Secret Scary Factor = 1.1500000000000001\n"
     ]
    },
    {
     "name": "stderr",
     "output_type": "stream",
     "text": []
    },
    {
     "name": "stdout",
     "output_type": "stream",
     "text": [
      "Current Settings: Intersection Penalty = 2.0, Secret Scary Factor = 1.2000000000000002\n"
     ]
    },
    {
     "name": "stderr",
     "output_type": "stream",
     "text": []
    },
    {
     "name": "stdout",
     "output_type": "stream",
     "text": [
      "Current Settings: Intersection Penalty = 2.0, Secret Scary Factor = 1.25\n"
     ]
    },
    {
     "name": "stderr",
     "output_type": "stream",
     "text": []
    },
    {
     "name": "stdout",
     "output_type": "stream",
     "text": [
      "Current Settings: Intersection Penalty = 2.0, Secret Scary Factor = 1.3\n"
     ]
    },
    {
     "name": "stderr",
     "output_type": "stream",
     "text": []
    },
    {
     "name": "stdout",
     "output_type": "stream",
     "text": [
      "Current Settings: Intersection Penalty = 2.0, Secret Scary Factor = 1.35\n"
     ]
    },
    {
     "name": "stderr",
     "output_type": "stream",
     "text": []
    },
    {
     "name": "stdout",
     "output_type": "stream",
     "text": [
      "Current Settings: Intersection Penalty = 2.0, Secret Scary Factor = 1.4000000000000001\n"
     ]
    },
    {
     "name": "stderr",
     "output_type": "stream",
     "text": []
    },
    {
     "name": "stdout",
     "output_type": "stream",
     "text": [
      "Current Settings: Intersection Penalty = 2.0, Secret Scary Factor = 1.4500000000000002\n"
     ]
    },
    {
     "name": "stderr",
     "output_type": "stream",
     "text": []
    },
    {
     "name": "stdout",
     "output_type": "stream",
     "text": [
      "Current Settings: Intersection Penalty = 2.0, Secret Scary Factor = 1.5\n"
     ]
    },
    {
     "name": "stderr",
     "output_type": "stream",
     "text": []
    },
    {
     "name": "stdout",
     "output_type": "stream",
     "text": [
      "Current Settings: Intersection Penalty = 2.0, Secret Scary Factor = 1.55\n"
     ]
    },
    {
     "name": "stderr",
     "output_type": "stream",
     "text": []
    },
    {
     "name": "stdout",
     "output_type": "stream",
     "text": [
      "Current Settings: Intersection Penalty = 2.0, Secret Scary Factor = 1.6\n"
     ]
    },
    {
     "name": "stderr",
     "output_type": "stream",
     "text": []
    },
    {
     "name": "stdout",
     "output_type": "stream",
     "text": [
      "Current Settings: Intersection Penalty = 2.0, Secret Scary Factor = 1.6500000000000001\n"
     ]
    },
    {
     "name": "stderr",
     "output_type": "stream",
     "text": []
    },
    {
     "name": "stdout",
     "output_type": "stream",
     "text": [
      "Current Settings: Intersection Penalty = 2.0, Secret Scary Factor = 1.7000000000000002\n"
     ]
    },
    {
     "name": "stderr",
     "output_type": "stream",
     "text": []
    },
    {
     "name": "stdout",
     "output_type": "stream",
     "text": [
      "Current Settings: Intersection Penalty = 2.0, Secret Scary Factor = 1.75\n"
     ]
    },
    {
     "name": "stderr",
     "output_type": "stream",
     "text": []
    },
    {
     "name": "stdout",
     "output_type": "stream",
     "text": [
      "Current Settings: Intersection Penalty = 2.0, Secret Scary Factor = 1.8\n"
     ]
    },
    {
     "name": "stderr",
     "output_type": "stream",
     "text": []
    },
    {
     "name": "stdout",
     "output_type": "stream",
     "text": [
      "Current Settings: Intersection Penalty = 2.0, Secret Scary Factor = 1.85\n"
     ]
    },
    {
     "name": "stderr",
     "output_type": "stream",
     "text": []
    },
    {
     "name": "stdout",
     "output_type": "stream",
     "text": [
      "Current Settings: Intersection Penalty = 2.0, Secret Scary Factor = 1.9000000000000001\n"
     ]
    },
    {
     "name": "stderr",
     "output_type": "stream",
     "text": []
    },
    {
     "name": "stdout",
     "output_type": "stream",
     "text": [
      "Current Settings: Intersection Penalty = 2.0, Secret Scary Factor = 1.9500000000000002\n"
     ]
    },
    {
     "name": "stderr",
     "output_type": "stream",
     "text": []
    },
    {
     "name": "stdout",
     "output_type": "stream",
     "text": [
      "Current Settings: Intersection Penalty = 2.0, Secret Scary Factor = 2.0\n"
     ]
    },
    {
     "name": "stderr",
     "output_type": "stream",
     "text": [
      "Secret Scary Factor Progress: 100%|██████████| 40/40 [05:01<00:00,  7.54s/it]\n",
      "Intersection Penalty Progress:  13%|█▎        | 4/30 [20:16<2:10:45, 301.75s/it]"
     ]
    },
    {
     "name": "stdout",
     "output_type": "stream",
     "text": [
      "Current Settings: Intersection Penalty = 2.5, Secret Scary Factor = 0.05\n"
     ]
    },
    {
     "name": "stderr",
     "output_type": "stream",
     "text": []
    },
    {
     "name": "stdout",
     "output_type": "stream",
     "text": [
      "Current Settings: Intersection Penalty = 2.5, Secret Scary Factor = 0.1\n"
     ]
    },
    {
     "name": "stderr",
     "output_type": "stream",
     "text": []
    },
    {
     "name": "stdout",
     "output_type": "stream",
     "text": [
      "Current Settings: Intersection Penalty = 2.5, Secret Scary Factor = 0.15000000000000002\n"
     ]
    },
    {
     "name": "stderr",
     "output_type": "stream",
     "text": []
    },
    {
     "name": "stdout",
     "output_type": "stream",
     "text": [
      "Current Settings: Intersection Penalty = 2.5, Secret Scary Factor = 0.2\n"
     ]
    },
    {
     "name": "stderr",
     "output_type": "stream",
     "text": []
    },
    {
     "name": "stdout",
     "output_type": "stream",
     "text": [
      "Current Settings: Intersection Penalty = 2.5, Secret Scary Factor = 0.25\n"
     ]
    },
    {
     "name": "stderr",
     "output_type": "stream",
     "text": []
    },
    {
     "name": "stdout",
     "output_type": "stream",
     "text": [
      "Current Settings: Intersection Penalty = 2.5, Secret Scary Factor = 0.30000000000000004\n"
     ]
    },
    {
     "name": "stderr",
     "output_type": "stream",
     "text": []
    },
    {
     "name": "stdout",
     "output_type": "stream",
     "text": [
      "Current Settings: Intersection Penalty = 2.5, Secret Scary Factor = 0.35000000000000003\n"
     ]
    },
    {
     "name": "stderr",
     "output_type": "stream",
     "text": []
    },
    {
     "name": "stdout",
     "output_type": "stream",
     "text": [
      "Current Settings: Intersection Penalty = 2.5, Secret Scary Factor = 0.4\n"
     ]
    },
    {
     "name": "stderr",
     "output_type": "stream",
     "text": []
    },
    {
     "name": "stdout",
     "output_type": "stream",
     "text": [
      "Current Settings: Intersection Penalty = 2.5, Secret Scary Factor = 0.45\n"
     ]
    },
    {
     "name": "stderr",
     "output_type": "stream",
     "text": []
    },
    {
     "name": "stdout",
     "output_type": "stream",
     "text": [
      "Current Settings: Intersection Penalty = 2.5, Secret Scary Factor = 0.5\n"
     ]
    },
    {
     "name": "stderr",
     "output_type": "stream",
     "text": []
    },
    {
     "name": "stdout",
     "output_type": "stream",
     "text": [
      "Current Settings: Intersection Penalty = 2.5, Secret Scary Factor = 0.55\n"
     ]
    },
    {
     "name": "stderr",
     "output_type": "stream",
     "text": []
    },
    {
     "name": "stdout",
     "output_type": "stream",
     "text": [
      "Current Settings: Intersection Penalty = 2.5, Secret Scary Factor = 0.6000000000000001\n"
     ]
    },
    {
     "name": "stderr",
     "output_type": "stream",
     "text": []
    },
    {
     "name": "stdout",
     "output_type": "stream",
     "text": [
      "Current Settings: Intersection Penalty = 2.5, Secret Scary Factor = 0.65\n"
     ]
    },
    {
     "name": "stderr",
     "output_type": "stream",
     "text": []
    },
    {
     "name": "stdout",
     "output_type": "stream",
     "text": [
      "Current Settings: Intersection Penalty = 2.5, Secret Scary Factor = 0.7000000000000001\n"
     ]
    },
    {
     "name": "stderr",
     "output_type": "stream",
     "text": []
    },
    {
     "name": "stdout",
     "output_type": "stream",
     "text": [
      "Current Settings: Intersection Penalty = 2.5, Secret Scary Factor = 0.75\n"
     ]
    },
    {
     "name": "stderr",
     "output_type": "stream",
     "text": []
    },
    {
     "name": "stdout",
     "output_type": "stream",
     "text": [
      "Current Settings: Intersection Penalty = 2.5, Secret Scary Factor = 0.8\n"
     ]
    },
    {
     "name": "stderr",
     "output_type": "stream",
     "text": []
    },
    {
     "name": "stdout",
     "output_type": "stream",
     "text": [
      "Current Settings: Intersection Penalty = 2.5, Secret Scary Factor = 0.8500000000000001\n"
     ]
    },
    {
     "name": "stderr",
     "output_type": "stream",
     "text": []
    },
    {
     "name": "stdout",
     "output_type": "stream",
     "text": [
      "Current Settings: Intersection Penalty = 2.5, Secret Scary Factor = 0.9\n"
     ]
    },
    {
     "name": "stderr",
     "output_type": "stream",
     "text": []
    },
    {
     "name": "stdout",
     "output_type": "stream",
     "text": [
      "Current Settings: Intersection Penalty = 2.5, Secret Scary Factor = 0.9500000000000001\n"
     ]
    },
    {
     "name": "stderr",
     "output_type": "stream",
     "text": []
    },
    {
     "name": "stdout",
     "output_type": "stream",
     "text": [
      "Current Settings: Intersection Penalty = 2.5, Secret Scary Factor = 1.0\n"
     ]
    },
    {
     "name": "stderr",
     "output_type": "stream",
     "text": []
    },
    {
     "name": "stdout",
     "output_type": "stream",
     "text": [
      "Current Settings: Intersection Penalty = 2.5, Secret Scary Factor = 1.05\n"
     ]
    },
    {
     "name": "stderr",
     "output_type": "stream",
     "text": []
    },
    {
     "name": "stdout",
     "output_type": "stream",
     "text": [
      "Current Settings: Intersection Penalty = 2.5, Secret Scary Factor = 1.1\n"
     ]
    },
    {
     "name": "stderr",
     "output_type": "stream",
     "text": []
    },
    {
     "name": "stdout",
     "output_type": "stream",
     "text": [
      "Current Settings: Intersection Penalty = 2.5, Secret Scary Factor = 1.1500000000000001\n"
     ]
    },
    {
     "name": "stderr",
     "output_type": "stream",
     "text": []
    },
    {
     "name": "stdout",
     "output_type": "stream",
     "text": [
      "Current Settings: Intersection Penalty = 2.5, Secret Scary Factor = 1.2000000000000002\n"
     ]
    },
    {
     "name": "stderr",
     "output_type": "stream",
     "text": []
    },
    {
     "name": "stdout",
     "output_type": "stream",
     "text": [
      "Current Settings: Intersection Penalty = 2.5, Secret Scary Factor = 1.25\n"
     ]
    },
    {
     "name": "stderr",
     "output_type": "stream",
     "text": []
    },
    {
     "name": "stdout",
     "output_type": "stream",
     "text": [
      "Current Settings: Intersection Penalty = 2.5, Secret Scary Factor = 1.3\n"
     ]
    },
    {
     "name": "stderr",
     "output_type": "stream",
     "text": []
    },
    {
     "name": "stdout",
     "output_type": "stream",
     "text": [
      "Current Settings: Intersection Penalty = 2.5, Secret Scary Factor = 1.35\n"
     ]
    },
    {
     "name": "stderr",
     "output_type": "stream",
     "text": []
    },
    {
     "name": "stdout",
     "output_type": "stream",
     "text": [
      "Current Settings: Intersection Penalty = 2.5, Secret Scary Factor = 1.4000000000000001\n"
     ]
    },
    {
     "name": "stderr",
     "output_type": "stream",
     "text": []
    },
    {
     "name": "stdout",
     "output_type": "stream",
     "text": [
      "Current Settings: Intersection Penalty = 2.5, Secret Scary Factor = 1.4500000000000002\n"
     ]
    },
    {
     "name": "stderr",
     "output_type": "stream",
     "text": []
    },
    {
     "name": "stdout",
     "output_type": "stream",
     "text": [
      "Current Settings: Intersection Penalty = 2.5, Secret Scary Factor = 1.5\n"
     ]
    },
    {
     "name": "stderr",
     "output_type": "stream",
     "text": []
    },
    {
     "name": "stdout",
     "output_type": "stream",
     "text": [
      "Current Settings: Intersection Penalty = 2.5, Secret Scary Factor = 1.55\n"
     ]
    },
    {
     "name": "stderr",
     "output_type": "stream",
     "text": []
    },
    {
     "name": "stdout",
     "output_type": "stream",
     "text": [
      "Current Settings: Intersection Penalty = 2.5, Secret Scary Factor = 1.6\n"
     ]
    },
    {
     "name": "stderr",
     "output_type": "stream",
     "text": []
    },
    {
     "name": "stdout",
     "output_type": "stream",
     "text": [
      "Current Settings: Intersection Penalty = 2.5, Secret Scary Factor = 1.6500000000000001\n"
     ]
    },
    {
     "name": "stderr",
     "output_type": "stream",
     "text": []
    },
    {
     "name": "stdout",
     "output_type": "stream",
     "text": [
      "Current Settings: Intersection Penalty = 2.5, Secret Scary Factor = 1.7000000000000002\n"
     ]
    },
    {
     "name": "stderr",
     "output_type": "stream",
     "text": []
    },
    {
     "name": "stdout",
     "output_type": "stream",
     "text": [
      "Current Settings: Intersection Penalty = 2.5, Secret Scary Factor = 1.75\n"
     ]
    },
    {
     "name": "stderr",
     "output_type": "stream",
     "text": []
    },
    {
     "name": "stdout",
     "output_type": "stream",
     "text": [
      "Current Settings: Intersection Penalty = 2.5, Secret Scary Factor = 1.8\n"
     ]
    },
    {
     "name": "stderr",
     "output_type": "stream",
     "text": []
    },
    {
     "name": "stdout",
     "output_type": "stream",
     "text": [
      "Current Settings: Intersection Penalty = 2.5, Secret Scary Factor = 1.85\n"
     ]
    },
    {
     "name": "stderr",
     "output_type": "stream",
     "text": []
    },
    {
     "name": "stdout",
     "output_type": "stream",
     "text": [
      "Current Settings: Intersection Penalty = 2.5, Secret Scary Factor = 1.9000000000000001\n"
     ]
    },
    {
     "name": "stderr",
     "output_type": "stream",
     "text": []
    },
    {
     "name": "stdout",
     "output_type": "stream",
     "text": [
      "Current Settings: Intersection Penalty = 2.5, Secret Scary Factor = 1.9500000000000002\n"
     ]
    },
    {
     "name": "stderr",
     "output_type": "stream",
     "text": []
    },
    {
     "name": "stdout",
     "output_type": "stream",
     "text": [
      "Current Settings: Intersection Penalty = 2.5, Secret Scary Factor = 2.0\n"
     ]
    },
    {
     "name": "stderr",
     "output_type": "stream",
     "text": [
      "Secret Scary Factor Progress: 100%|██████████| 40/40 [05:01<00:00,  7.53s/it]\n",
      "Intersection Penalty Progress:  17%|█▋        | 5/30 [25:17<2:05:38, 301.53s/it]"
     ]
    },
    {
     "name": "stdout",
     "output_type": "stream",
     "text": [
      "Current Settings: Intersection Penalty = 3.0, Secret Scary Factor = 0.05\n"
     ]
    },
    {
     "name": "stderr",
     "output_type": "stream",
     "text": []
    },
    {
     "name": "stdout",
     "output_type": "stream",
     "text": [
      "Current Settings: Intersection Penalty = 3.0, Secret Scary Factor = 0.1\n"
     ]
    },
    {
     "name": "stderr",
     "output_type": "stream",
     "text": []
    },
    {
     "name": "stdout",
     "output_type": "stream",
     "text": [
      "Current Settings: Intersection Penalty = 3.0, Secret Scary Factor = 0.15000000000000002\n"
     ]
    },
    {
     "name": "stderr",
     "output_type": "stream",
     "text": []
    },
    {
     "name": "stdout",
     "output_type": "stream",
     "text": [
      "Current Settings: Intersection Penalty = 3.0, Secret Scary Factor = 0.2\n"
     ]
    },
    {
     "name": "stderr",
     "output_type": "stream",
     "text": []
    },
    {
     "name": "stdout",
     "output_type": "stream",
     "text": [
      "Current Settings: Intersection Penalty = 3.0, Secret Scary Factor = 0.25\n"
     ]
    },
    {
     "name": "stderr",
     "output_type": "stream",
     "text": []
    },
    {
     "name": "stdout",
     "output_type": "stream",
     "text": [
      "Current Settings: Intersection Penalty = 3.0, Secret Scary Factor = 0.30000000000000004\n"
     ]
    },
    {
     "name": "stderr",
     "output_type": "stream",
     "text": []
    },
    {
     "name": "stdout",
     "output_type": "stream",
     "text": [
      "Current Settings: Intersection Penalty = 3.0, Secret Scary Factor = 0.35000000000000003\n"
     ]
    },
    {
     "name": "stderr",
     "output_type": "stream",
     "text": []
    },
    {
     "name": "stdout",
     "output_type": "stream",
     "text": [
      "Current Settings: Intersection Penalty = 3.0, Secret Scary Factor = 0.4\n"
     ]
    },
    {
     "name": "stderr",
     "output_type": "stream",
     "text": []
    },
    {
     "name": "stdout",
     "output_type": "stream",
     "text": [
      "Current Settings: Intersection Penalty = 3.0, Secret Scary Factor = 0.45\n"
     ]
    },
    {
     "name": "stderr",
     "output_type": "stream",
     "text": []
    },
    {
     "name": "stdout",
     "output_type": "stream",
     "text": [
      "Current Settings: Intersection Penalty = 3.0, Secret Scary Factor = 0.5\n"
     ]
    },
    {
     "name": "stderr",
     "output_type": "stream",
     "text": []
    },
    {
     "name": "stdout",
     "output_type": "stream",
     "text": [
      "Current Settings: Intersection Penalty = 3.0, Secret Scary Factor = 0.55\n"
     ]
    },
    {
     "name": "stderr",
     "output_type": "stream",
     "text": []
    },
    {
     "name": "stdout",
     "output_type": "stream",
     "text": [
      "Current Settings: Intersection Penalty = 3.0, Secret Scary Factor = 0.6000000000000001\n"
     ]
    },
    {
     "name": "stderr",
     "output_type": "stream",
     "text": []
    },
    {
     "name": "stdout",
     "output_type": "stream",
     "text": [
      "Current Settings: Intersection Penalty = 3.0, Secret Scary Factor = 0.65\n"
     ]
    },
    {
     "name": "stderr",
     "output_type": "stream",
     "text": []
    },
    {
     "name": "stdout",
     "output_type": "stream",
     "text": [
      "Current Settings: Intersection Penalty = 3.0, Secret Scary Factor = 0.7000000000000001\n"
     ]
    },
    {
     "name": "stderr",
     "output_type": "stream",
     "text": []
    },
    {
     "name": "stdout",
     "output_type": "stream",
     "text": [
      "Current Settings: Intersection Penalty = 3.0, Secret Scary Factor = 0.75\n"
     ]
    },
    {
     "name": "stderr",
     "output_type": "stream",
     "text": []
    },
    {
     "name": "stdout",
     "output_type": "stream",
     "text": [
      "Current Settings: Intersection Penalty = 3.0, Secret Scary Factor = 0.8\n"
     ]
    },
    {
     "name": "stderr",
     "output_type": "stream",
     "text": []
    },
    {
     "name": "stdout",
     "output_type": "stream",
     "text": [
      "Current Settings: Intersection Penalty = 3.0, Secret Scary Factor = 0.8500000000000001\n"
     ]
    },
    {
     "name": "stderr",
     "output_type": "stream",
     "text": []
    },
    {
     "name": "stdout",
     "output_type": "stream",
     "text": [
      "Current Settings: Intersection Penalty = 3.0, Secret Scary Factor = 0.9\n"
     ]
    },
    {
     "name": "stderr",
     "output_type": "stream",
     "text": []
    },
    {
     "name": "stdout",
     "output_type": "stream",
     "text": [
      "Current Settings: Intersection Penalty = 3.0, Secret Scary Factor = 0.9500000000000001\n"
     ]
    },
    {
     "name": "stderr",
     "output_type": "stream",
     "text": []
    },
    {
     "name": "stdout",
     "output_type": "stream",
     "text": [
      "Current Settings: Intersection Penalty = 3.0, Secret Scary Factor = 1.0\n"
     ]
    },
    {
     "name": "stderr",
     "output_type": "stream",
     "text": []
    },
    {
     "name": "stdout",
     "output_type": "stream",
     "text": [
      "Current Settings: Intersection Penalty = 3.0, Secret Scary Factor = 1.05\n"
     ]
    },
    {
     "name": "stderr",
     "output_type": "stream",
     "text": []
    },
    {
     "name": "stdout",
     "output_type": "stream",
     "text": [
      "Current Settings: Intersection Penalty = 3.0, Secret Scary Factor = 1.1\n"
     ]
    },
    {
     "name": "stderr",
     "output_type": "stream",
     "text": []
    },
    {
     "name": "stdout",
     "output_type": "stream",
     "text": [
      "Current Settings: Intersection Penalty = 3.0, Secret Scary Factor = 1.1500000000000001\n"
     ]
    },
    {
     "name": "stderr",
     "output_type": "stream",
     "text": []
    },
    {
     "name": "stdout",
     "output_type": "stream",
     "text": [
      "Current Settings: Intersection Penalty = 3.0, Secret Scary Factor = 1.2000000000000002\n"
     ]
    },
    {
     "name": "stderr",
     "output_type": "stream",
     "text": []
    },
    {
     "name": "stdout",
     "output_type": "stream",
     "text": [
      "Current Settings: Intersection Penalty = 3.0, Secret Scary Factor = 1.25\n"
     ]
    },
    {
     "name": "stderr",
     "output_type": "stream",
     "text": []
    },
    {
     "name": "stdout",
     "output_type": "stream",
     "text": [
      "Current Settings: Intersection Penalty = 3.0, Secret Scary Factor = 1.3\n"
     ]
    },
    {
     "name": "stderr",
     "output_type": "stream",
     "text": []
    },
    {
     "name": "stdout",
     "output_type": "stream",
     "text": [
      "Current Settings: Intersection Penalty = 3.0, Secret Scary Factor = 1.35\n"
     ]
    },
    {
     "name": "stderr",
     "output_type": "stream",
     "text": []
    },
    {
     "name": "stdout",
     "output_type": "stream",
     "text": [
      "Current Settings: Intersection Penalty = 3.0, Secret Scary Factor = 1.4000000000000001\n"
     ]
    },
    {
     "name": "stderr",
     "output_type": "stream",
     "text": []
    },
    {
     "name": "stdout",
     "output_type": "stream",
     "text": [
      "Current Settings: Intersection Penalty = 3.0, Secret Scary Factor = 1.4500000000000002\n"
     ]
    },
    {
     "name": "stderr",
     "output_type": "stream",
     "text": []
    },
    {
     "name": "stdout",
     "output_type": "stream",
     "text": [
      "Current Settings: Intersection Penalty = 3.0, Secret Scary Factor = 1.5\n"
     ]
    },
    {
     "name": "stderr",
     "output_type": "stream",
     "text": []
    },
    {
     "name": "stdout",
     "output_type": "stream",
     "text": [
      "Current Settings: Intersection Penalty = 3.0, Secret Scary Factor = 1.55\n"
     ]
    },
    {
     "name": "stderr",
     "output_type": "stream",
     "text": []
    },
    {
     "name": "stdout",
     "output_type": "stream",
     "text": [
      "Current Settings: Intersection Penalty = 3.0, Secret Scary Factor = 1.6\n"
     ]
    },
    {
     "name": "stderr",
     "output_type": "stream",
     "text": []
    },
    {
     "name": "stdout",
     "output_type": "stream",
     "text": [
      "Current Settings: Intersection Penalty = 3.0, Secret Scary Factor = 1.6500000000000001\n"
     ]
    },
    {
     "name": "stderr",
     "output_type": "stream",
     "text": []
    },
    {
     "name": "stdout",
     "output_type": "stream",
     "text": [
      "Current Settings: Intersection Penalty = 3.0, Secret Scary Factor = 1.7000000000000002\n"
     ]
    },
    {
     "name": "stderr",
     "output_type": "stream",
     "text": []
    },
    {
     "name": "stdout",
     "output_type": "stream",
     "text": [
      "Current Settings: Intersection Penalty = 3.0, Secret Scary Factor = 1.75\n"
     ]
    },
    {
     "name": "stderr",
     "output_type": "stream",
     "text": []
    },
    {
     "name": "stdout",
     "output_type": "stream",
     "text": [
      "Current Settings: Intersection Penalty = 3.0, Secret Scary Factor = 1.8\n"
     ]
    },
    {
     "name": "stderr",
     "output_type": "stream",
     "text": []
    },
    {
     "name": "stdout",
     "output_type": "stream",
     "text": [
      "Current Settings: Intersection Penalty = 3.0, Secret Scary Factor = 1.85\n"
     ]
    },
    {
     "name": "stderr",
     "output_type": "stream",
     "text": []
    },
    {
     "name": "stdout",
     "output_type": "stream",
     "text": [
      "Current Settings: Intersection Penalty = 3.0, Secret Scary Factor = 1.9000000000000001\n"
     ]
    },
    {
     "name": "stderr",
     "output_type": "stream",
     "text": []
    },
    {
     "name": "stdout",
     "output_type": "stream",
     "text": [
      "Current Settings: Intersection Penalty = 3.0, Secret Scary Factor = 1.9500000000000002\n"
     ]
    },
    {
     "name": "stderr",
     "output_type": "stream",
     "text": []
    },
    {
     "name": "stdout",
     "output_type": "stream",
     "text": [
      "Current Settings: Intersection Penalty = 3.0, Secret Scary Factor = 2.0\n"
     ]
    },
    {
     "name": "stderr",
     "output_type": "stream",
     "text": [
      "Secret Scary Factor Progress: 100%|██████████| 40/40 [05:03<00:00,  7.58s/it]\n",
      "Intersection Penalty Progress:  20%|██        | 6/30 [30:21<2:00:50, 302.10s/it]"
     ]
    },
    {
     "name": "stdout",
     "output_type": "stream",
     "text": [
      "Current Settings: Intersection Penalty = 3.5, Secret Scary Factor = 0.05\n"
     ]
    },
    {
     "name": "stderr",
     "output_type": "stream",
     "text": []
    },
    {
     "name": "stdout",
     "output_type": "stream",
     "text": [
      "Current Settings: Intersection Penalty = 3.5, Secret Scary Factor = 0.1\n"
     ]
    },
    {
     "name": "stderr",
     "output_type": "stream",
     "text": []
    },
    {
     "name": "stdout",
     "output_type": "stream",
     "text": [
      "Current Settings: Intersection Penalty = 3.5, Secret Scary Factor = 0.15000000000000002\n"
     ]
    },
    {
     "name": "stderr",
     "output_type": "stream",
     "text": []
    },
    {
     "name": "stdout",
     "output_type": "stream",
     "text": [
      "Current Settings: Intersection Penalty = 3.5, Secret Scary Factor = 0.2\n"
     ]
    },
    {
     "name": "stderr",
     "output_type": "stream",
     "text": []
    },
    {
     "name": "stdout",
     "output_type": "stream",
     "text": [
      "Current Settings: Intersection Penalty = 3.5, Secret Scary Factor = 0.25\n"
     ]
    },
    {
     "name": "stderr",
     "output_type": "stream",
     "text": []
    },
    {
     "name": "stdout",
     "output_type": "stream",
     "text": [
      "Current Settings: Intersection Penalty = 3.5, Secret Scary Factor = 0.30000000000000004\n"
     ]
    },
    {
     "name": "stderr",
     "output_type": "stream",
     "text": []
    },
    {
     "name": "stdout",
     "output_type": "stream",
     "text": [
      "Current Settings: Intersection Penalty = 3.5, Secret Scary Factor = 0.35000000000000003\n"
     ]
    },
    {
     "name": "stderr",
     "output_type": "stream",
     "text": []
    },
    {
     "name": "stdout",
     "output_type": "stream",
     "text": [
      "Current Settings: Intersection Penalty = 3.5, Secret Scary Factor = 0.4\n"
     ]
    },
    {
     "name": "stderr",
     "output_type": "stream",
     "text": []
    },
    {
     "name": "stdout",
     "output_type": "stream",
     "text": [
      "Current Settings: Intersection Penalty = 3.5, Secret Scary Factor = 0.45\n"
     ]
    },
    {
     "name": "stderr",
     "output_type": "stream",
     "text": []
    },
    {
     "name": "stdout",
     "output_type": "stream",
     "text": [
      "Current Settings: Intersection Penalty = 3.5, Secret Scary Factor = 0.5\n"
     ]
    },
    {
     "name": "stderr",
     "output_type": "stream",
     "text": []
    },
    {
     "name": "stdout",
     "output_type": "stream",
     "text": [
      "Current Settings: Intersection Penalty = 3.5, Secret Scary Factor = 0.55\n"
     ]
    },
    {
     "name": "stderr",
     "output_type": "stream",
     "text": []
    },
    {
     "name": "stdout",
     "output_type": "stream",
     "text": [
      "Current Settings: Intersection Penalty = 3.5, Secret Scary Factor = 0.6000000000000001\n"
     ]
    },
    {
     "name": "stderr",
     "output_type": "stream",
     "text": []
    },
    {
     "name": "stdout",
     "output_type": "stream",
     "text": [
      "Current Settings: Intersection Penalty = 3.5, Secret Scary Factor = 0.65\n"
     ]
    },
    {
     "name": "stderr",
     "output_type": "stream",
     "text": []
    },
    {
     "name": "stdout",
     "output_type": "stream",
     "text": [
      "Current Settings: Intersection Penalty = 3.5, Secret Scary Factor = 0.7000000000000001\n"
     ]
    },
    {
     "name": "stderr",
     "output_type": "stream",
     "text": []
    },
    {
     "name": "stdout",
     "output_type": "stream",
     "text": [
      "Current Settings: Intersection Penalty = 3.5, Secret Scary Factor = 0.75\n"
     ]
    },
    {
     "name": "stderr",
     "output_type": "stream",
     "text": []
    },
    {
     "name": "stdout",
     "output_type": "stream",
     "text": [
      "Current Settings: Intersection Penalty = 3.5, Secret Scary Factor = 0.8\n"
     ]
    },
    {
     "name": "stderr",
     "output_type": "stream",
     "text": []
    },
    {
     "name": "stdout",
     "output_type": "stream",
     "text": [
      "Current Settings: Intersection Penalty = 3.5, Secret Scary Factor = 0.8500000000000001\n"
     ]
    },
    {
     "name": "stderr",
     "output_type": "stream",
     "text": []
    },
    {
     "name": "stdout",
     "output_type": "stream",
     "text": [
      "Current Settings: Intersection Penalty = 3.5, Secret Scary Factor = 0.9\n"
     ]
    },
    {
     "name": "stderr",
     "output_type": "stream",
     "text": []
    },
    {
     "name": "stdout",
     "output_type": "stream",
     "text": [
      "Current Settings: Intersection Penalty = 3.5, Secret Scary Factor = 0.9500000000000001\n"
     ]
    },
    {
     "name": "stderr",
     "output_type": "stream",
     "text": []
    },
    {
     "name": "stdout",
     "output_type": "stream",
     "text": [
      "Current Settings: Intersection Penalty = 3.5, Secret Scary Factor = 1.0\n"
     ]
    },
    {
     "name": "stderr",
     "output_type": "stream",
     "text": []
    },
    {
     "name": "stdout",
     "output_type": "stream",
     "text": [
      "Current Settings: Intersection Penalty = 3.5, Secret Scary Factor = 1.05\n"
     ]
    },
    {
     "name": "stderr",
     "output_type": "stream",
     "text": []
    },
    {
     "name": "stdout",
     "output_type": "stream",
     "text": [
      "Current Settings: Intersection Penalty = 3.5, Secret Scary Factor = 1.1\n"
     ]
    },
    {
     "name": "stderr",
     "output_type": "stream",
     "text": []
    },
    {
     "name": "stdout",
     "output_type": "stream",
     "text": [
      "Current Settings: Intersection Penalty = 3.5, Secret Scary Factor = 1.1500000000000001\n"
     ]
    },
    {
     "name": "stderr",
     "output_type": "stream",
     "text": []
    },
    {
     "name": "stdout",
     "output_type": "stream",
     "text": [
      "Current Settings: Intersection Penalty = 3.5, Secret Scary Factor = 1.2000000000000002\n"
     ]
    },
    {
     "name": "stderr",
     "output_type": "stream",
     "text": []
    },
    {
     "name": "stdout",
     "output_type": "stream",
     "text": [
      "Current Settings: Intersection Penalty = 3.5, Secret Scary Factor = 1.25\n"
     ]
    },
    {
     "name": "stderr",
     "output_type": "stream",
     "text": []
    },
    {
     "name": "stdout",
     "output_type": "stream",
     "text": [
      "Current Settings: Intersection Penalty = 3.5, Secret Scary Factor = 1.3\n"
     ]
    },
    {
     "name": "stderr",
     "output_type": "stream",
     "text": []
    },
    {
     "name": "stdout",
     "output_type": "stream",
     "text": [
      "Current Settings: Intersection Penalty = 3.5, Secret Scary Factor = 1.35\n"
     ]
    },
    {
     "name": "stderr",
     "output_type": "stream",
     "text": []
    },
    {
     "name": "stdout",
     "output_type": "stream",
     "text": [
      "Current Settings: Intersection Penalty = 3.5, Secret Scary Factor = 1.4000000000000001\n"
     ]
    },
    {
     "name": "stderr",
     "output_type": "stream",
     "text": []
    },
    {
     "name": "stdout",
     "output_type": "stream",
     "text": [
      "Current Settings: Intersection Penalty = 3.5, Secret Scary Factor = 1.4500000000000002\n"
     ]
    },
    {
     "name": "stderr",
     "output_type": "stream",
     "text": []
    },
    {
     "name": "stdout",
     "output_type": "stream",
     "text": [
      "Current Settings: Intersection Penalty = 3.5, Secret Scary Factor = 1.5\n"
     ]
    },
    {
     "name": "stderr",
     "output_type": "stream",
     "text": []
    },
    {
     "name": "stdout",
     "output_type": "stream",
     "text": [
      "Current Settings: Intersection Penalty = 3.5, Secret Scary Factor = 1.55\n"
     ]
    },
    {
     "name": "stderr",
     "output_type": "stream",
     "text": []
    },
    {
     "name": "stdout",
     "output_type": "stream",
     "text": [
      "Current Settings: Intersection Penalty = 3.5, Secret Scary Factor = 1.6\n"
     ]
    },
    {
     "name": "stderr",
     "output_type": "stream",
     "text": []
    },
    {
     "name": "stdout",
     "output_type": "stream",
     "text": [
      "Current Settings: Intersection Penalty = 3.5, Secret Scary Factor = 1.6500000000000001\n"
     ]
    },
    {
     "name": "stderr",
     "output_type": "stream",
     "text": []
    },
    {
     "name": "stdout",
     "output_type": "stream",
     "text": [
      "Current Settings: Intersection Penalty = 3.5, Secret Scary Factor = 1.7000000000000002\n"
     ]
    },
    {
     "name": "stderr",
     "output_type": "stream",
     "text": []
    },
    {
     "name": "stdout",
     "output_type": "stream",
     "text": [
      "Current Settings: Intersection Penalty = 3.5, Secret Scary Factor = 1.75\n"
     ]
    },
    {
     "name": "stderr",
     "output_type": "stream",
     "text": []
    },
    {
     "name": "stdout",
     "output_type": "stream",
     "text": [
      "Current Settings: Intersection Penalty = 3.5, Secret Scary Factor = 1.8\n"
     ]
    },
    {
     "name": "stderr",
     "output_type": "stream",
     "text": []
    },
    {
     "name": "stdout",
     "output_type": "stream",
     "text": [
      "Current Settings: Intersection Penalty = 3.5, Secret Scary Factor = 1.85\n"
     ]
    },
    {
     "name": "stderr",
     "output_type": "stream",
     "text": []
    },
    {
     "name": "stdout",
     "output_type": "stream",
     "text": [
      "Current Settings: Intersection Penalty = 3.5, Secret Scary Factor = 1.9000000000000001\n"
     ]
    },
    {
     "name": "stderr",
     "output_type": "stream",
     "text": []
    },
    {
     "name": "stdout",
     "output_type": "stream",
     "text": [
      "Current Settings: Intersection Penalty = 3.5, Secret Scary Factor = 1.9500000000000002\n"
     ]
    },
    {
     "name": "stderr",
     "output_type": "stream",
     "text": []
    },
    {
     "name": "stdout",
     "output_type": "stream",
     "text": [
      "Current Settings: Intersection Penalty = 3.5, Secret Scary Factor = 2.0\n"
     ]
    },
    {
     "name": "stderr",
     "output_type": "stream",
     "text": [
      "Secret Scary Factor Progress: 100%|██████████| 40/40 [04:54<00:00,  7.36s/it]\n",
      "Intersection Penalty Progress:  23%|██▎       | 7/30 [35:15<1:54:50, 299.60s/it]"
     ]
    },
    {
     "name": "stdout",
     "output_type": "stream",
     "text": [
      "Current Settings: Intersection Penalty = 4.0, Secret Scary Factor = 0.05\n"
     ]
    },
    {
     "name": "stderr",
     "output_type": "stream",
     "text": []
    },
    {
     "name": "stdout",
     "output_type": "stream",
     "text": [
      "Current Settings: Intersection Penalty = 4.0, Secret Scary Factor = 0.1\n"
     ]
    },
    {
     "name": "stderr",
     "output_type": "stream",
     "text": []
    },
    {
     "name": "stdout",
     "output_type": "stream",
     "text": [
      "Current Settings: Intersection Penalty = 4.0, Secret Scary Factor = 0.15000000000000002\n"
     ]
    },
    {
     "name": "stderr",
     "output_type": "stream",
     "text": []
    },
    {
     "name": "stdout",
     "output_type": "stream",
     "text": [
      "Current Settings: Intersection Penalty = 4.0, Secret Scary Factor = 0.2\n"
     ]
    },
    {
     "name": "stderr",
     "output_type": "stream",
     "text": []
    },
    {
     "name": "stdout",
     "output_type": "stream",
     "text": [
      "Current Settings: Intersection Penalty = 4.0, Secret Scary Factor = 0.25\n"
     ]
    },
    {
     "name": "stderr",
     "output_type": "stream",
     "text": []
    },
    {
     "name": "stdout",
     "output_type": "stream",
     "text": [
      "Current Settings: Intersection Penalty = 4.0, Secret Scary Factor = 0.30000000000000004\n"
     ]
    },
    {
     "name": "stderr",
     "output_type": "stream",
     "text": []
    },
    {
     "name": "stdout",
     "output_type": "stream",
     "text": [
      "Current Settings: Intersection Penalty = 4.0, Secret Scary Factor = 0.35000000000000003\n"
     ]
    },
    {
     "name": "stderr",
     "output_type": "stream",
     "text": []
    },
    {
     "name": "stdout",
     "output_type": "stream",
     "text": [
      "Current Settings: Intersection Penalty = 4.0, Secret Scary Factor = 0.4\n"
     ]
    },
    {
     "name": "stderr",
     "output_type": "stream",
     "text": []
    },
    {
     "name": "stdout",
     "output_type": "stream",
     "text": [
      "Current Settings: Intersection Penalty = 4.0, Secret Scary Factor = 0.45\n"
     ]
    },
    {
     "name": "stderr",
     "output_type": "stream",
     "text": []
    },
    {
     "name": "stdout",
     "output_type": "stream",
     "text": [
      "Current Settings: Intersection Penalty = 4.0, Secret Scary Factor = 0.5\n"
     ]
    },
    {
     "name": "stderr",
     "output_type": "stream",
     "text": []
    },
    {
     "name": "stdout",
     "output_type": "stream",
     "text": [
      "Current Settings: Intersection Penalty = 4.0, Secret Scary Factor = 0.55\n"
     ]
    },
    {
     "name": "stderr",
     "output_type": "stream",
     "text": []
    },
    {
     "name": "stdout",
     "output_type": "stream",
     "text": [
      "Current Settings: Intersection Penalty = 4.0, Secret Scary Factor = 0.6000000000000001\n"
     ]
    },
    {
     "name": "stderr",
     "output_type": "stream",
     "text": []
    },
    {
     "name": "stdout",
     "output_type": "stream",
     "text": [
      "Current Settings: Intersection Penalty = 4.0, Secret Scary Factor = 0.65\n"
     ]
    },
    {
     "name": "stderr",
     "output_type": "stream",
     "text": []
    },
    {
     "name": "stdout",
     "output_type": "stream",
     "text": [
      "Current Settings: Intersection Penalty = 4.0, Secret Scary Factor = 0.7000000000000001\n"
     ]
    },
    {
     "name": "stderr",
     "output_type": "stream",
     "text": []
    },
    {
     "name": "stdout",
     "output_type": "stream",
     "text": [
      "Current Settings: Intersection Penalty = 4.0, Secret Scary Factor = 0.75\n"
     ]
    },
    {
     "name": "stderr",
     "output_type": "stream",
     "text": []
    },
    {
     "name": "stdout",
     "output_type": "stream",
     "text": [
      "Current Settings: Intersection Penalty = 4.0, Secret Scary Factor = 0.8\n"
     ]
    },
    {
     "name": "stderr",
     "output_type": "stream",
     "text": []
    },
    {
     "name": "stdout",
     "output_type": "stream",
     "text": [
      "Current Settings: Intersection Penalty = 4.0, Secret Scary Factor = 0.8500000000000001\n"
     ]
    },
    {
     "name": "stderr",
     "output_type": "stream",
     "text": []
    },
    {
     "name": "stdout",
     "output_type": "stream",
     "text": [
      "Current Settings: Intersection Penalty = 4.0, Secret Scary Factor = 0.9\n"
     ]
    },
    {
     "name": "stderr",
     "output_type": "stream",
     "text": []
    },
    {
     "name": "stdout",
     "output_type": "stream",
     "text": [
      "Current Settings: Intersection Penalty = 4.0, Secret Scary Factor = 0.9500000000000001\n"
     ]
    },
    {
     "name": "stderr",
     "output_type": "stream",
     "text": []
    },
    {
     "name": "stdout",
     "output_type": "stream",
     "text": [
      "Current Settings: Intersection Penalty = 4.0, Secret Scary Factor = 1.0\n"
     ]
    },
    {
     "name": "stderr",
     "output_type": "stream",
     "text": []
    },
    {
     "name": "stdout",
     "output_type": "stream",
     "text": [
      "Current Settings: Intersection Penalty = 4.0, Secret Scary Factor = 1.05\n"
     ]
    },
    {
     "name": "stderr",
     "output_type": "stream",
     "text": []
    },
    {
     "name": "stdout",
     "output_type": "stream",
     "text": [
      "Current Settings: Intersection Penalty = 4.0, Secret Scary Factor = 1.1\n"
     ]
    },
    {
     "name": "stderr",
     "output_type": "stream",
     "text": []
    },
    {
     "name": "stdout",
     "output_type": "stream",
     "text": [
      "Current Settings: Intersection Penalty = 4.0, Secret Scary Factor = 1.1500000000000001\n"
     ]
    },
    {
     "name": "stderr",
     "output_type": "stream",
     "text": []
    },
    {
     "name": "stdout",
     "output_type": "stream",
     "text": [
      "Current Settings: Intersection Penalty = 4.0, Secret Scary Factor = 1.2000000000000002\n"
     ]
    },
    {
     "name": "stderr",
     "output_type": "stream",
     "text": []
    },
    {
     "name": "stdout",
     "output_type": "stream",
     "text": [
      "Current Settings: Intersection Penalty = 4.0, Secret Scary Factor = 1.25\n"
     ]
    },
    {
     "name": "stderr",
     "output_type": "stream",
     "text": []
    },
    {
     "name": "stdout",
     "output_type": "stream",
     "text": [
      "Current Settings: Intersection Penalty = 4.0, Secret Scary Factor = 1.3\n"
     ]
    },
    {
     "name": "stderr",
     "output_type": "stream",
     "text": []
    },
    {
     "name": "stdout",
     "output_type": "stream",
     "text": [
      "Current Settings: Intersection Penalty = 4.0, Secret Scary Factor = 1.35\n"
     ]
    },
    {
     "name": "stderr",
     "output_type": "stream",
     "text": []
    },
    {
     "name": "stdout",
     "output_type": "stream",
     "text": [
      "Current Settings: Intersection Penalty = 4.0, Secret Scary Factor = 1.4000000000000001\n"
     ]
    },
    {
     "name": "stderr",
     "output_type": "stream",
     "text": []
    },
    {
     "name": "stdout",
     "output_type": "stream",
     "text": [
      "Current Settings: Intersection Penalty = 4.0, Secret Scary Factor = 1.4500000000000002\n"
     ]
    },
    {
     "name": "stderr",
     "output_type": "stream",
     "text": []
    },
    {
     "name": "stdout",
     "output_type": "stream",
     "text": [
      "Current Settings: Intersection Penalty = 4.0, Secret Scary Factor = 1.5\n"
     ]
    },
    {
     "name": "stderr",
     "output_type": "stream",
     "text": []
    },
    {
     "name": "stdout",
     "output_type": "stream",
     "text": [
      "Current Settings: Intersection Penalty = 4.0, Secret Scary Factor = 1.55\n"
     ]
    },
    {
     "name": "stderr",
     "output_type": "stream",
     "text": []
    },
    {
     "name": "stdout",
     "output_type": "stream",
     "text": [
      "Current Settings: Intersection Penalty = 4.0, Secret Scary Factor = 1.6\n"
     ]
    },
    {
     "name": "stderr",
     "output_type": "stream",
     "text": []
    },
    {
     "name": "stdout",
     "output_type": "stream",
     "text": [
      "Current Settings: Intersection Penalty = 4.0, Secret Scary Factor = 1.6500000000000001\n"
     ]
    },
    {
     "name": "stderr",
     "output_type": "stream",
     "text": []
    },
    {
     "name": "stdout",
     "output_type": "stream",
     "text": [
      "Current Settings: Intersection Penalty = 4.0, Secret Scary Factor = 1.7000000000000002\n"
     ]
    },
    {
     "name": "stderr",
     "output_type": "stream",
     "text": []
    },
    {
     "name": "stdout",
     "output_type": "stream",
     "text": [
      "Current Settings: Intersection Penalty = 4.0, Secret Scary Factor = 1.75\n"
     ]
    },
    {
     "name": "stderr",
     "output_type": "stream",
     "text": []
    },
    {
     "name": "stdout",
     "output_type": "stream",
     "text": [
      "Current Settings: Intersection Penalty = 4.0, Secret Scary Factor = 1.8\n"
     ]
    },
    {
     "name": "stderr",
     "output_type": "stream",
     "text": []
    },
    {
     "name": "stdout",
     "output_type": "stream",
     "text": [
      "Current Settings: Intersection Penalty = 4.0, Secret Scary Factor = 1.85\n"
     ]
    },
    {
     "name": "stderr",
     "output_type": "stream",
     "text": []
    },
    {
     "name": "stdout",
     "output_type": "stream",
     "text": [
      "Current Settings: Intersection Penalty = 4.0, Secret Scary Factor = 1.9000000000000001\n"
     ]
    },
    {
     "name": "stderr",
     "output_type": "stream",
     "text": []
    },
    {
     "name": "stdout",
     "output_type": "stream",
     "text": [
      "Current Settings: Intersection Penalty = 4.0, Secret Scary Factor = 1.9500000000000002\n"
     ]
    },
    {
     "name": "stderr",
     "output_type": "stream",
     "text": []
    },
    {
     "name": "stdout",
     "output_type": "stream",
     "text": [
      "Current Settings: Intersection Penalty = 4.0, Secret Scary Factor = 2.0\n"
     ]
    },
    {
     "name": "stderr",
     "output_type": "stream",
     "text": [
      "Secret Scary Factor Progress: 100%|██████████| 40/40 [04:55<00:00,  7.39s/it]\n",
      "Intersection Penalty Progress:  27%|██▋       | 8/30 [40:11<1:49:23, 298.35s/it]"
     ]
    },
    {
     "name": "stdout",
     "output_type": "stream",
     "text": [
      "Current Settings: Intersection Penalty = 4.5, Secret Scary Factor = 0.05\n"
     ]
    },
    {
     "name": "stderr",
     "output_type": "stream",
     "text": []
    },
    {
     "name": "stdout",
     "output_type": "stream",
     "text": [
      "Current Settings: Intersection Penalty = 4.5, Secret Scary Factor = 0.1\n"
     ]
    },
    {
     "name": "stderr",
     "output_type": "stream",
     "text": []
    },
    {
     "name": "stdout",
     "output_type": "stream",
     "text": [
      "Current Settings: Intersection Penalty = 4.5, Secret Scary Factor = 0.15000000000000002\n"
     ]
    },
    {
     "name": "stderr",
     "output_type": "stream",
     "text": []
    },
    {
     "name": "stdout",
     "output_type": "stream",
     "text": [
      "Current Settings: Intersection Penalty = 4.5, Secret Scary Factor = 0.2\n"
     ]
    },
    {
     "name": "stderr",
     "output_type": "stream",
     "text": []
    },
    {
     "name": "stdout",
     "output_type": "stream",
     "text": [
      "Current Settings: Intersection Penalty = 4.5, Secret Scary Factor = 0.25\n"
     ]
    },
    {
     "name": "stderr",
     "output_type": "stream",
     "text": []
    },
    {
     "name": "stdout",
     "output_type": "stream",
     "text": [
      "Current Settings: Intersection Penalty = 4.5, Secret Scary Factor = 0.30000000000000004\n"
     ]
    },
    {
     "name": "stderr",
     "output_type": "stream",
     "text": []
    },
    {
     "name": "stdout",
     "output_type": "stream",
     "text": [
      "Current Settings: Intersection Penalty = 4.5, Secret Scary Factor = 0.35000000000000003\n"
     ]
    },
    {
     "name": "stderr",
     "output_type": "stream",
     "text": []
    },
    {
     "name": "stdout",
     "output_type": "stream",
     "text": [
      "Current Settings: Intersection Penalty = 4.5, Secret Scary Factor = 0.4\n"
     ]
    },
    {
     "name": "stderr",
     "output_type": "stream",
     "text": []
    },
    {
     "name": "stdout",
     "output_type": "stream",
     "text": [
      "Current Settings: Intersection Penalty = 4.5, Secret Scary Factor = 0.45\n"
     ]
    },
    {
     "name": "stderr",
     "output_type": "stream",
     "text": []
    },
    {
     "name": "stdout",
     "output_type": "stream",
     "text": [
      "Current Settings: Intersection Penalty = 4.5, Secret Scary Factor = 0.5\n"
     ]
    },
    {
     "name": "stderr",
     "output_type": "stream",
     "text": []
    },
    {
     "name": "stdout",
     "output_type": "stream",
     "text": [
      "Current Settings: Intersection Penalty = 4.5, Secret Scary Factor = 0.55\n"
     ]
    },
    {
     "name": "stderr",
     "output_type": "stream",
     "text": []
    },
    {
     "name": "stdout",
     "output_type": "stream",
     "text": [
      "Current Settings: Intersection Penalty = 4.5, Secret Scary Factor = 0.6000000000000001\n"
     ]
    },
    {
     "name": "stderr",
     "output_type": "stream",
     "text": []
    },
    {
     "name": "stdout",
     "output_type": "stream",
     "text": [
      "Current Settings: Intersection Penalty = 4.5, Secret Scary Factor = 0.65\n"
     ]
    },
    {
     "name": "stderr",
     "output_type": "stream",
     "text": []
    },
    {
     "name": "stdout",
     "output_type": "stream",
     "text": [
      "Current Settings: Intersection Penalty = 4.5, Secret Scary Factor = 0.7000000000000001\n"
     ]
    },
    {
     "name": "stderr",
     "output_type": "stream",
     "text": []
    },
    {
     "name": "stdout",
     "output_type": "stream",
     "text": [
      "Current Settings: Intersection Penalty = 4.5, Secret Scary Factor = 0.75\n"
     ]
    },
    {
     "name": "stderr",
     "output_type": "stream",
     "text": []
    },
    {
     "name": "stdout",
     "output_type": "stream",
     "text": [
      "Current Settings: Intersection Penalty = 4.5, Secret Scary Factor = 0.8\n"
     ]
    },
    {
     "name": "stderr",
     "output_type": "stream",
     "text": []
    },
    {
     "name": "stdout",
     "output_type": "stream",
     "text": [
      "Current Settings: Intersection Penalty = 4.5, Secret Scary Factor = 0.8500000000000001\n"
     ]
    },
    {
     "name": "stderr",
     "output_type": "stream",
     "text": []
    },
    {
     "name": "stdout",
     "output_type": "stream",
     "text": [
      "Current Settings: Intersection Penalty = 4.5, Secret Scary Factor = 0.9\n"
     ]
    },
    {
     "name": "stderr",
     "output_type": "stream",
     "text": []
    },
    {
     "name": "stdout",
     "output_type": "stream",
     "text": [
      "Current Settings: Intersection Penalty = 4.5, Secret Scary Factor = 0.9500000000000001\n"
     ]
    },
    {
     "name": "stderr",
     "output_type": "stream",
     "text": []
    },
    {
     "name": "stdout",
     "output_type": "stream",
     "text": [
      "Current Settings: Intersection Penalty = 4.5, Secret Scary Factor = 1.0\n"
     ]
    },
    {
     "name": "stderr",
     "output_type": "stream",
     "text": []
    },
    {
     "name": "stdout",
     "output_type": "stream",
     "text": [
      "Current Settings: Intersection Penalty = 4.5, Secret Scary Factor = 1.05\n"
     ]
    },
    {
     "name": "stderr",
     "output_type": "stream",
     "text": []
    },
    {
     "name": "stdout",
     "output_type": "stream",
     "text": [
      "Current Settings: Intersection Penalty = 4.5, Secret Scary Factor = 1.1\n"
     ]
    },
    {
     "name": "stderr",
     "output_type": "stream",
     "text": []
    },
    {
     "name": "stdout",
     "output_type": "stream",
     "text": [
      "Current Settings: Intersection Penalty = 4.5, Secret Scary Factor = 1.1500000000000001\n"
     ]
    },
    {
     "name": "stderr",
     "output_type": "stream",
     "text": []
    },
    {
     "name": "stdout",
     "output_type": "stream",
     "text": [
      "Current Settings: Intersection Penalty = 4.5, Secret Scary Factor = 1.2000000000000002\n"
     ]
    },
    {
     "name": "stderr",
     "output_type": "stream",
     "text": []
    },
    {
     "name": "stdout",
     "output_type": "stream",
     "text": [
      "Current Settings: Intersection Penalty = 4.5, Secret Scary Factor = 1.25\n"
     ]
    },
    {
     "name": "stderr",
     "output_type": "stream",
     "text": []
    },
    {
     "name": "stdout",
     "output_type": "stream",
     "text": [
      "Current Settings: Intersection Penalty = 4.5, Secret Scary Factor = 1.3\n"
     ]
    },
    {
     "name": "stderr",
     "output_type": "stream",
     "text": []
    },
    {
     "name": "stdout",
     "output_type": "stream",
     "text": [
      "Current Settings: Intersection Penalty = 4.5, Secret Scary Factor = 1.35\n"
     ]
    },
    {
     "name": "stderr",
     "output_type": "stream",
     "text": []
    },
    {
     "name": "stdout",
     "output_type": "stream",
     "text": [
      "Current Settings: Intersection Penalty = 4.5, Secret Scary Factor = 1.4000000000000001\n"
     ]
    },
    {
     "name": "stderr",
     "output_type": "stream",
     "text": []
    },
    {
     "name": "stdout",
     "output_type": "stream",
     "text": [
      "Current Settings: Intersection Penalty = 4.5, Secret Scary Factor = 1.4500000000000002\n"
     ]
    },
    {
     "name": "stderr",
     "output_type": "stream",
     "text": []
    },
    {
     "name": "stdout",
     "output_type": "stream",
     "text": [
      "Current Settings: Intersection Penalty = 4.5, Secret Scary Factor = 1.5\n"
     ]
    },
    {
     "name": "stderr",
     "output_type": "stream",
     "text": []
    },
    {
     "name": "stdout",
     "output_type": "stream",
     "text": [
      "Current Settings: Intersection Penalty = 4.5, Secret Scary Factor = 1.55\n"
     ]
    },
    {
     "name": "stderr",
     "output_type": "stream",
     "text": []
    },
    {
     "name": "stdout",
     "output_type": "stream",
     "text": [
      "Current Settings: Intersection Penalty = 4.5, Secret Scary Factor = 1.6\n"
     ]
    },
    {
     "name": "stderr",
     "output_type": "stream",
     "text": []
    },
    {
     "name": "stdout",
     "output_type": "stream",
     "text": [
      "Current Settings: Intersection Penalty = 4.5, Secret Scary Factor = 1.6500000000000001\n"
     ]
    },
    {
     "name": "stderr",
     "output_type": "stream",
     "text": []
    },
    {
     "name": "stdout",
     "output_type": "stream",
     "text": [
      "Current Settings: Intersection Penalty = 4.5, Secret Scary Factor = 1.7000000000000002\n"
     ]
    },
    {
     "name": "stderr",
     "output_type": "stream",
     "text": []
    },
    {
     "name": "stdout",
     "output_type": "stream",
     "text": [
      "Current Settings: Intersection Penalty = 4.5, Secret Scary Factor = 1.75\n"
     ]
    },
    {
     "name": "stderr",
     "output_type": "stream",
     "text": []
    },
    {
     "name": "stdout",
     "output_type": "stream",
     "text": [
      "Current Settings: Intersection Penalty = 4.5, Secret Scary Factor = 1.8\n"
     ]
    },
    {
     "name": "stderr",
     "output_type": "stream",
     "text": []
    },
    {
     "name": "stdout",
     "output_type": "stream",
     "text": [
      "Current Settings: Intersection Penalty = 4.5, Secret Scary Factor = 1.85\n"
     ]
    },
    {
     "name": "stderr",
     "output_type": "stream",
     "text": []
    },
    {
     "name": "stdout",
     "output_type": "stream",
     "text": [
      "Current Settings: Intersection Penalty = 4.5, Secret Scary Factor = 1.9000000000000001\n"
     ]
    },
    {
     "name": "stderr",
     "output_type": "stream",
     "text": []
    },
    {
     "name": "stdout",
     "output_type": "stream",
     "text": [
      "Current Settings: Intersection Penalty = 4.5, Secret Scary Factor = 1.9500000000000002\n"
     ]
    },
    {
     "name": "stderr",
     "output_type": "stream",
     "text": []
    },
    {
     "name": "stdout",
     "output_type": "stream",
     "text": [
      "Current Settings: Intersection Penalty = 4.5, Secret Scary Factor = 2.0\n"
     ]
    },
    {
     "name": "stderr",
     "output_type": "stream",
     "text": [
      "Secret Scary Factor Progress: 100%|██████████| 40/40 [04:37<00:00,  6.94s/it]\n",
      "Intersection Penalty Progress:  30%|███       | 9/30 [44:48<1:42:09, 291.89s/it]"
     ]
    },
    {
     "name": "stdout",
     "output_type": "stream",
     "text": [
      "Current Settings: Intersection Penalty = 5.0, Secret Scary Factor = 0.05\n"
     ]
    },
    {
     "name": "stderr",
     "output_type": "stream",
     "text": []
    },
    {
     "name": "stdout",
     "output_type": "stream",
     "text": [
      "Current Settings: Intersection Penalty = 5.0, Secret Scary Factor = 0.1\n"
     ]
    },
    {
     "name": "stderr",
     "output_type": "stream",
     "text": []
    },
    {
     "name": "stdout",
     "output_type": "stream",
     "text": [
      "Current Settings: Intersection Penalty = 5.0, Secret Scary Factor = 0.15000000000000002\n"
     ]
    },
    {
     "name": "stderr",
     "output_type": "stream",
     "text": []
    },
    {
     "name": "stdout",
     "output_type": "stream",
     "text": [
      "Current Settings: Intersection Penalty = 5.0, Secret Scary Factor = 0.2\n"
     ]
    },
    {
     "name": "stderr",
     "output_type": "stream",
     "text": []
    },
    {
     "name": "stdout",
     "output_type": "stream",
     "text": [
      "Current Settings: Intersection Penalty = 5.0, Secret Scary Factor = 0.25\n"
     ]
    },
    {
     "name": "stderr",
     "output_type": "stream",
     "text": []
    },
    {
     "name": "stdout",
     "output_type": "stream",
     "text": [
      "Current Settings: Intersection Penalty = 5.0, Secret Scary Factor = 0.30000000000000004\n"
     ]
    },
    {
     "name": "stderr",
     "output_type": "stream",
     "text": []
    },
    {
     "name": "stdout",
     "output_type": "stream",
     "text": [
      "Current Settings: Intersection Penalty = 5.0, Secret Scary Factor = 0.35000000000000003\n"
     ]
    },
    {
     "name": "stderr",
     "output_type": "stream",
     "text": []
    },
    {
     "name": "stdout",
     "output_type": "stream",
     "text": [
      "Current Settings: Intersection Penalty = 5.0, Secret Scary Factor = 0.4\n"
     ]
    },
    {
     "name": "stderr",
     "output_type": "stream",
     "text": []
    },
    {
     "name": "stdout",
     "output_type": "stream",
     "text": [
      "Current Settings: Intersection Penalty = 5.0, Secret Scary Factor = 0.45\n"
     ]
    },
    {
     "name": "stderr",
     "output_type": "stream",
     "text": []
    },
    {
     "name": "stdout",
     "output_type": "stream",
     "text": [
      "Current Settings: Intersection Penalty = 5.0, Secret Scary Factor = 0.5\n"
     ]
    },
    {
     "name": "stderr",
     "output_type": "stream",
     "text": []
    },
    {
     "name": "stdout",
     "output_type": "stream",
     "text": [
      "Current Settings: Intersection Penalty = 5.0, Secret Scary Factor = 0.55\n"
     ]
    },
    {
     "name": "stderr",
     "output_type": "stream",
     "text": []
    },
    {
     "name": "stdout",
     "output_type": "stream",
     "text": [
      "Current Settings: Intersection Penalty = 5.0, Secret Scary Factor = 0.6000000000000001\n"
     ]
    },
    {
     "name": "stderr",
     "output_type": "stream",
     "text": []
    },
    {
     "name": "stdout",
     "output_type": "stream",
     "text": [
      "Current Settings: Intersection Penalty = 5.0, Secret Scary Factor = 0.65\n"
     ]
    },
    {
     "name": "stderr",
     "output_type": "stream",
     "text": []
    },
    {
     "name": "stdout",
     "output_type": "stream",
     "text": [
      "Current Settings: Intersection Penalty = 5.0, Secret Scary Factor = 0.7000000000000001\n"
     ]
    },
    {
     "name": "stderr",
     "output_type": "stream",
     "text": []
    },
    {
     "name": "stdout",
     "output_type": "stream",
     "text": [
      "Current Settings: Intersection Penalty = 5.0, Secret Scary Factor = 0.75\n"
     ]
    },
    {
     "name": "stderr",
     "output_type": "stream",
     "text": []
    },
    {
     "name": "stdout",
     "output_type": "stream",
     "text": [
      "Current Settings: Intersection Penalty = 5.0, Secret Scary Factor = 0.8\n"
     ]
    },
    {
     "name": "stderr",
     "output_type": "stream",
     "text": []
    },
    {
     "name": "stdout",
     "output_type": "stream",
     "text": [
      "Current Settings: Intersection Penalty = 5.0, Secret Scary Factor = 0.8500000000000001\n"
     ]
    },
    {
     "name": "stderr",
     "output_type": "stream",
     "text": []
    },
    {
     "name": "stdout",
     "output_type": "stream",
     "text": [
      "Current Settings: Intersection Penalty = 5.0, Secret Scary Factor = 0.9\n"
     ]
    },
    {
     "name": "stderr",
     "output_type": "stream",
     "text": []
    },
    {
     "name": "stdout",
     "output_type": "stream",
     "text": [
      "Current Settings: Intersection Penalty = 5.0, Secret Scary Factor = 0.9500000000000001\n"
     ]
    },
    {
     "name": "stderr",
     "output_type": "stream",
     "text": []
    },
    {
     "name": "stdout",
     "output_type": "stream",
     "text": [
      "Current Settings: Intersection Penalty = 5.0, Secret Scary Factor = 1.0\n"
     ]
    },
    {
     "name": "stderr",
     "output_type": "stream",
     "text": []
    },
    {
     "name": "stdout",
     "output_type": "stream",
     "text": [
      "Current Settings: Intersection Penalty = 5.0, Secret Scary Factor = 1.05\n"
     ]
    },
    {
     "name": "stderr",
     "output_type": "stream",
     "text": []
    },
    {
     "name": "stdout",
     "output_type": "stream",
     "text": [
      "Current Settings: Intersection Penalty = 5.0, Secret Scary Factor = 1.1\n"
     ]
    },
    {
     "name": "stderr",
     "output_type": "stream",
     "text": []
    },
    {
     "name": "stdout",
     "output_type": "stream",
     "text": [
      "Current Settings: Intersection Penalty = 5.0, Secret Scary Factor = 1.1500000000000001\n"
     ]
    },
    {
     "name": "stderr",
     "output_type": "stream",
     "text": []
    },
    {
     "name": "stdout",
     "output_type": "stream",
     "text": [
      "Current Settings: Intersection Penalty = 5.0, Secret Scary Factor = 1.2000000000000002\n"
     ]
    },
    {
     "name": "stderr",
     "output_type": "stream",
     "text": []
    },
    {
     "name": "stdout",
     "output_type": "stream",
     "text": [
      "Current Settings: Intersection Penalty = 5.0, Secret Scary Factor = 1.25\n"
     ]
    },
    {
     "name": "stderr",
     "output_type": "stream",
     "text": []
    },
    {
     "name": "stdout",
     "output_type": "stream",
     "text": [
      "Current Settings: Intersection Penalty = 5.0, Secret Scary Factor = 1.3\n"
     ]
    },
    {
     "name": "stderr",
     "output_type": "stream",
     "text": []
    },
    {
     "name": "stdout",
     "output_type": "stream",
     "text": [
      "Current Settings: Intersection Penalty = 5.0, Secret Scary Factor = 1.35\n"
     ]
    },
    {
     "name": "stderr",
     "output_type": "stream",
     "text": []
    },
    {
     "name": "stdout",
     "output_type": "stream",
     "text": [
      "Current Settings: Intersection Penalty = 5.0, Secret Scary Factor = 1.4000000000000001\n"
     ]
    },
    {
     "name": "stderr",
     "output_type": "stream",
     "text": []
    },
    {
     "name": "stdout",
     "output_type": "stream",
     "text": [
      "Current Settings: Intersection Penalty = 5.0, Secret Scary Factor = 1.4500000000000002\n"
     ]
    },
    {
     "name": "stderr",
     "output_type": "stream",
     "text": []
    },
    {
     "name": "stdout",
     "output_type": "stream",
     "text": [
      "Current Settings: Intersection Penalty = 5.0, Secret Scary Factor = 1.5\n"
     ]
    },
    {
     "name": "stderr",
     "output_type": "stream",
     "text": []
    },
    {
     "name": "stdout",
     "output_type": "stream",
     "text": [
      "Current Settings: Intersection Penalty = 5.0, Secret Scary Factor = 1.55\n"
     ]
    },
    {
     "name": "stderr",
     "output_type": "stream",
     "text": []
    },
    {
     "name": "stdout",
     "output_type": "stream",
     "text": [
      "Current Settings: Intersection Penalty = 5.0, Secret Scary Factor = 1.6\n"
     ]
    },
    {
     "name": "stderr",
     "output_type": "stream",
     "text": []
    },
    {
     "name": "stdout",
     "output_type": "stream",
     "text": [
      "Current Settings: Intersection Penalty = 5.0, Secret Scary Factor = 1.6500000000000001\n"
     ]
    },
    {
     "name": "stderr",
     "output_type": "stream",
     "text": []
    },
    {
     "name": "stdout",
     "output_type": "stream",
     "text": [
      "Current Settings: Intersection Penalty = 5.0, Secret Scary Factor = 1.7000000000000002\n"
     ]
    },
    {
     "name": "stderr",
     "output_type": "stream",
     "text": []
    },
    {
     "name": "stdout",
     "output_type": "stream",
     "text": [
      "Current Settings: Intersection Penalty = 5.0, Secret Scary Factor = 1.75\n"
     ]
    },
    {
     "name": "stderr",
     "output_type": "stream",
     "text": []
    },
    {
     "name": "stdout",
     "output_type": "stream",
     "text": [
      "Current Settings: Intersection Penalty = 5.0, Secret Scary Factor = 1.8\n"
     ]
    },
    {
     "name": "stderr",
     "output_type": "stream",
     "text": []
    },
    {
     "name": "stdout",
     "output_type": "stream",
     "text": [
      "Current Settings: Intersection Penalty = 5.0, Secret Scary Factor = 1.85\n"
     ]
    },
    {
     "name": "stderr",
     "output_type": "stream",
     "text": []
    },
    {
     "name": "stdout",
     "output_type": "stream",
     "text": [
      "Current Settings: Intersection Penalty = 5.0, Secret Scary Factor = 1.9000000000000001\n"
     ]
    },
    {
     "name": "stderr",
     "output_type": "stream",
     "text": []
    },
    {
     "name": "stdout",
     "output_type": "stream",
     "text": [
      "Current Settings: Intersection Penalty = 5.0, Secret Scary Factor = 1.9500000000000002\n"
     ]
    },
    {
     "name": "stderr",
     "output_type": "stream",
     "text": []
    },
    {
     "name": "stdout",
     "output_type": "stream",
     "text": [
      "Current Settings: Intersection Penalty = 5.0, Secret Scary Factor = 2.0\n"
     ]
    },
    {
     "name": "stderr",
     "output_type": "stream",
     "text": [
      "Secret Scary Factor Progress: 100%|██████████| 40/40 [04:15<00:00,  6.39s/it]\n",
      "Intersection Penalty Progress:  33%|███▎      | 10/30 [49:04<1:33:33, 280.68s/it]"
     ]
    },
    {
     "name": "stdout",
     "output_type": "stream",
     "text": [
      "Current Settings: Intersection Penalty = 5.5, Secret Scary Factor = 0.05\n"
     ]
    },
    {
     "name": "stderr",
     "output_type": "stream",
     "text": []
    },
    {
     "name": "stdout",
     "output_type": "stream",
     "text": [
      "Current Settings: Intersection Penalty = 5.5, Secret Scary Factor = 0.1\n"
     ]
    },
    {
     "name": "stderr",
     "output_type": "stream",
     "text": []
    },
    {
     "name": "stdout",
     "output_type": "stream",
     "text": [
      "Current Settings: Intersection Penalty = 5.5, Secret Scary Factor = 0.15000000000000002\n"
     ]
    },
    {
     "name": "stderr",
     "output_type": "stream",
     "text": []
    },
    {
     "name": "stdout",
     "output_type": "stream",
     "text": [
      "Current Settings: Intersection Penalty = 5.5, Secret Scary Factor = 0.2\n"
     ]
    },
    {
     "name": "stderr",
     "output_type": "stream",
     "text": []
    },
    {
     "name": "stdout",
     "output_type": "stream",
     "text": [
      "Current Settings: Intersection Penalty = 5.5, Secret Scary Factor = 0.25\n"
     ]
    },
    {
     "name": "stderr",
     "output_type": "stream",
     "text": []
    },
    {
     "name": "stdout",
     "output_type": "stream",
     "text": [
      "Current Settings: Intersection Penalty = 5.5, Secret Scary Factor = 0.30000000000000004\n"
     ]
    },
    {
     "name": "stderr",
     "output_type": "stream",
     "text": []
    },
    {
     "name": "stdout",
     "output_type": "stream",
     "text": [
      "Current Settings: Intersection Penalty = 5.5, Secret Scary Factor = 0.35000000000000003\n"
     ]
    },
    {
     "name": "stderr",
     "output_type": "stream",
     "text": []
    },
    {
     "name": "stdout",
     "output_type": "stream",
     "text": [
      "Current Settings: Intersection Penalty = 5.5, Secret Scary Factor = 0.4\n"
     ]
    },
    {
     "name": "stderr",
     "output_type": "stream",
     "text": []
    },
    {
     "name": "stdout",
     "output_type": "stream",
     "text": [
      "Current Settings: Intersection Penalty = 5.5, Secret Scary Factor = 0.45\n"
     ]
    },
    {
     "name": "stderr",
     "output_type": "stream",
     "text": []
    },
    {
     "name": "stdout",
     "output_type": "stream",
     "text": [
      "Current Settings: Intersection Penalty = 5.5, Secret Scary Factor = 0.5\n"
     ]
    },
    {
     "name": "stderr",
     "output_type": "stream",
     "text": []
    },
    {
     "name": "stdout",
     "output_type": "stream",
     "text": [
      "Current Settings: Intersection Penalty = 5.5, Secret Scary Factor = 0.55\n"
     ]
    },
    {
     "name": "stderr",
     "output_type": "stream",
     "text": []
    },
    {
     "name": "stdout",
     "output_type": "stream",
     "text": [
      "Current Settings: Intersection Penalty = 5.5, Secret Scary Factor = 0.6000000000000001\n"
     ]
    },
    {
     "name": "stderr",
     "output_type": "stream",
     "text": []
    },
    {
     "name": "stdout",
     "output_type": "stream",
     "text": [
      "Current Settings: Intersection Penalty = 5.5, Secret Scary Factor = 0.65\n"
     ]
    },
    {
     "name": "stderr",
     "output_type": "stream",
     "text": []
    },
    {
     "name": "stdout",
     "output_type": "stream",
     "text": [
      "Current Settings: Intersection Penalty = 5.5, Secret Scary Factor = 0.7000000000000001\n"
     ]
    },
    {
     "name": "stderr",
     "output_type": "stream",
     "text": []
    },
    {
     "name": "stdout",
     "output_type": "stream",
     "text": [
      "Current Settings: Intersection Penalty = 5.5, Secret Scary Factor = 0.75\n"
     ]
    },
    {
     "name": "stderr",
     "output_type": "stream",
     "text": []
    },
    {
     "name": "stdout",
     "output_type": "stream",
     "text": [
      "Current Settings: Intersection Penalty = 5.5, Secret Scary Factor = 0.8\n"
     ]
    },
    {
     "name": "stderr",
     "output_type": "stream",
     "text": []
    },
    {
     "name": "stdout",
     "output_type": "stream",
     "text": [
      "Current Settings: Intersection Penalty = 5.5, Secret Scary Factor = 0.8500000000000001\n"
     ]
    },
    {
     "name": "stderr",
     "output_type": "stream",
     "text": []
    },
    {
     "name": "stdout",
     "output_type": "stream",
     "text": [
      "Current Settings: Intersection Penalty = 5.5, Secret Scary Factor = 0.9\n"
     ]
    },
    {
     "name": "stderr",
     "output_type": "stream",
     "text": []
    },
    {
     "name": "stdout",
     "output_type": "stream",
     "text": [
      "Current Settings: Intersection Penalty = 5.5, Secret Scary Factor = 0.9500000000000001\n"
     ]
    },
    {
     "name": "stderr",
     "output_type": "stream",
     "text": []
    },
    {
     "name": "stdout",
     "output_type": "stream",
     "text": [
      "Current Settings: Intersection Penalty = 5.5, Secret Scary Factor = 1.0\n"
     ]
    },
    {
     "name": "stderr",
     "output_type": "stream",
     "text": []
    },
    {
     "name": "stdout",
     "output_type": "stream",
     "text": [
      "Current Settings: Intersection Penalty = 5.5, Secret Scary Factor = 1.05\n"
     ]
    },
    {
     "name": "stderr",
     "output_type": "stream",
     "text": []
    },
    {
     "name": "stdout",
     "output_type": "stream",
     "text": [
      "Current Settings: Intersection Penalty = 5.5, Secret Scary Factor = 1.1\n"
     ]
    },
    {
     "name": "stderr",
     "output_type": "stream",
     "text": []
    },
    {
     "name": "stdout",
     "output_type": "stream",
     "text": [
      "Current Settings: Intersection Penalty = 5.5, Secret Scary Factor = 1.1500000000000001\n"
     ]
    },
    {
     "name": "stderr",
     "output_type": "stream",
     "text": []
    },
    {
     "name": "stdout",
     "output_type": "stream",
     "text": [
      "Current Settings: Intersection Penalty = 5.5, Secret Scary Factor = 1.2000000000000002\n"
     ]
    },
    {
     "name": "stderr",
     "output_type": "stream",
     "text": []
    },
    {
     "name": "stdout",
     "output_type": "stream",
     "text": [
      "Current Settings: Intersection Penalty = 5.5, Secret Scary Factor = 1.25\n"
     ]
    },
    {
     "name": "stderr",
     "output_type": "stream",
     "text": []
    },
    {
     "name": "stdout",
     "output_type": "stream",
     "text": [
      "Current Settings: Intersection Penalty = 5.5, Secret Scary Factor = 1.3\n"
     ]
    },
    {
     "name": "stderr",
     "output_type": "stream",
     "text": []
    },
    {
     "name": "stdout",
     "output_type": "stream",
     "text": [
      "Current Settings: Intersection Penalty = 5.5, Secret Scary Factor = 1.35\n"
     ]
    },
    {
     "name": "stderr",
     "output_type": "stream",
     "text": []
    },
    {
     "name": "stdout",
     "output_type": "stream",
     "text": [
      "Current Settings: Intersection Penalty = 5.5, Secret Scary Factor = 1.4000000000000001\n"
     ]
    },
    {
     "name": "stderr",
     "output_type": "stream",
     "text": []
    },
    {
     "name": "stdout",
     "output_type": "stream",
     "text": [
      "Current Settings: Intersection Penalty = 5.5, Secret Scary Factor = 1.4500000000000002\n"
     ]
    },
    {
     "name": "stderr",
     "output_type": "stream",
     "text": []
    },
    {
     "name": "stdout",
     "output_type": "stream",
     "text": [
      "Current Settings: Intersection Penalty = 5.5, Secret Scary Factor = 1.5\n"
     ]
    },
    {
     "name": "stderr",
     "output_type": "stream",
     "text": []
    },
    {
     "name": "stdout",
     "output_type": "stream",
     "text": [
      "Current Settings: Intersection Penalty = 5.5, Secret Scary Factor = 1.55\n"
     ]
    },
    {
     "name": "stderr",
     "output_type": "stream",
     "text": []
    },
    {
     "name": "stdout",
     "output_type": "stream",
     "text": [
      "Current Settings: Intersection Penalty = 5.5, Secret Scary Factor = 1.6\n"
     ]
    },
    {
     "name": "stderr",
     "output_type": "stream",
     "text": []
    },
    {
     "name": "stdout",
     "output_type": "stream",
     "text": [
      "Current Settings: Intersection Penalty = 5.5, Secret Scary Factor = 1.6500000000000001\n"
     ]
    },
    {
     "name": "stderr",
     "output_type": "stream",
     "text": []
    },
    {
     "name": "stdout",
     "output_type": "stream",
     "text": [
      "Current Settings: Intersection Penalty = 5.5, Secret Scary Factor = 1.7000000000000002\n"
     ]
    },
    {
     "name": "stderr",
     "output_type": "stream",
     "text": []
    },
    {
     "name": "stdout",
     "output_type": "stream",
     "text": [
      "Current Settings: Intersection Penalty = 5.5, Secret Scary Factor = 1.75\n"
     ]
    },
    {
     "name": "stderr",
     "output_type": "stream",
     "text": []
    },
    {
     "name": "stdout",
     "output_type": "stream",
     "text": [
      "Current Settings: Intersection Penalty = 5.5, Secret Scary Factor = 1.8\n"
     ]
    },
    {
     "name": "stderr",
     "output_type": "stream",
     "text": []
    },
    {
     "name": "stdout",
     "output_type": "stream",
     "text": [
      "Current Settings: Intersection Penalty = 5.5, Secret Scary Factor = 1.85\n"
     ]
    },
    {
     "name": "stderr",
     "output_type": "stream",
     "text": []
    },
    {
     "name": "stdout",
     "output_type": "stream",
     "text": [
      "Current Settings: Intersection Penalty = 5.5, Secret Scary Factor = 1.9000000000000001\n"
     ]
    },
    {
     "name": "stderr",
     "output_type": "stream",
     "text": []
    },
    {
     "name": "stdout",
     "output_type": "stream",
     "text": [
      "Current Settings: Intersection Penalty = 5.5, Secret Scary Factor = 1.9500000000000002\n"
     ]
    },
    {
     "name": "stderr",
     "output_type": "stream",
     "text": []
    },
    {
     "name": "stdout",
     "output_type": "stream",
     "text": [
      "Current Settings: Intersection Penalty = 5.5, Secret Scary Factor = 2.0\n"
     ]
    },
    {
     "name": "stderr",
     "output_type": "stream",
     "text": [
      "Secret Scary Factor Progress: 100%|██████████| 40/40 [04:11<00:00,  6.29s/it]\n",
      "Intersection Penalty Progress:  37%|███▋      | 11/30 [53:16<1:26:03, 271.75s/it]"
     ]
    },
    {
     "name": "stdout",
     "output_type": "stream",
     "text": [
      "Current Settings: Intersection Penalty = 6.0, Secret Scary Factor = 0.05\n"
     ]
    },
    {
     "name": "stderr",
     "output_type": "stream",
     "text": []
    },
    {
     "name": "stdout",
     "output_type": "stream",
     "text": [
      "Current Settings: Intersection Penalty = 6.0, Secret Scary Factor = 0.1\n"
     ]
    },
    {
     "name": "stderr",
     "output_type": "stream",
     "text": []
    },
    {
     "name": "stdout",
     "output_type": "stream",
     "text": [
      "Current Settings: Intersection Penalty = 6.0, Secret Scary Factor = 0.15000000000000002\n"
     ]
    },
    {
     "name": "stderr",
     "output_type": "stream",
     "text": []
    },
    {
     "name": "stdout",
     "output_type": "stream",
     "text": [
      "Current Settings: Intersection Penalty = 6.0, Secret Scary Factor = 0.2\n"
     ]
    },
    {
     "name": "stderr",
     "output_type": "stream",
     "text": []
    },
    {
     "name": "stdout",
     "output_type": "stream",
     "text": [
      "Current Settings: Intersection Penalty = 6.0, Secret Scary Factor = 0.25\n"
     ]
    },
    {
     "name": "stderr",
     "output_type": "stream",
     "text": []
    },
    {
     "name": "stdout",
     "output_type": "stream",
     "text": [
      "Current Settings: Intersection Penalty = 6.0, Secret Scary Factor = 0.30000000000000004\n"
     ]
    },
    {
     "name": "stderr",
     "output_type": "stream",
     "text": []
    },
    {
     "name": "stdout",
     "output_type": "stream",
     "text": [
      "Current Settings: Intersection Penalty = 6.0, Secret Scary Factor = 0.35000000000000003\n"
     ]
    },
    {
     "name": "stderr",
     "output_type": "stream",
     "text": []
    },
    {
     "name": "stdout",
     "output_type": "stream",
     "text": [
      "Current Settings: Intersection Penalty = 6.0, Secret Scary Factor = 0.4\n"
     ]
    },
    {
     "name": "stderr",
     "output_type": "stream",
     "text": []
    },
    {
     "name": "stdout",
     "output_type": "stream",
     "text": [
      "Current Settings: Intersection Penalty = 6.0, Secret Scary Factor = 0.45\n"
     ]
    },
    {
     "name": "stderr",
     "output_type": "stream",
     "text": []
    },
    {
     "name": "stdout",
     "output_type": "stream",
     "text": [
      "Current Settings: Intersection Penalty = 6.0, Secret Scary Factor = 0.5\n"
     ]
    },
    {
     "name": "stderr",
     "output_type": "stream",
     "text": []
    },
    {
     "name": "stdout",
     "output_type": "stream",
     "text": [
      "Current Settings: Intersection Penalty = 6.0, Secret Scary Factor = 0.55\n"
     ]
    },
    {
     "name": "stderr",
     "output_type": "stream",
     "text": []
    },
    {
     "name": "stdout",
     "output_type": "stream",
     "text": [
      "Current Settings: Intersection Penalty = 6.0, Secret Scary Factor = 0.6000000000000001\n"
     ]
    },
    {
     "name": "stderr",
     "output_type": "stream",
     "text": []
    },
    {
     "name": "stdout",
     "output_type": "stream",
     "text": [
      "Current Settings: Intersection Penalty = 6.0, Secret Scary Factor = 0.65\n"
     ]
    },
    {
     "name": "stderr",
     "output_type": "stream",
     "text": []
    },
    {
     "name": "stdout",
     "output_type": "stream",
     "text": [
      "Current Settings: Intersection Penalty = 6.0, Secret Scary Factor = 0.7000000000000001\n"
     ]
    },
    {
     "name": "stderr",
     "output_type": "stream",
     "text": []
    },
    {
     "name": "stdout",
     "output_type": "stream",
     "text": [
      "Current Settings: Intersection Penalty = 6.0, Secret Scary Factor = 0.75\n"
     ]
    },
    {
     "name": "stderr",
     "output_type": "stream",
     "text": []
    },
    {
     "name": "stdout",
     "output_type": "stream",
     "text": [
      "Current Settings: Intersection Penalty = 6.0, Secret Scary Factor = 0.8\n"
     ]
    },
    {
     "name": "stderr",
     "output_type": "stream",
     "text": []
    },
    {
     "name": "stdout",
     "output_type": "stream",
     "text": [
      "Current Settings: Intersection Penalty = 6.0, Secret Scary Factor = 0.8500000000000001\n"
     ]
    },
    {
     "name": "stderr",
     "output_type": "stream",
     "text": []
    },
    {
     "name": "stdout",
     "output_type": "stream",
     "text": [
      "Current Settings: Intersection Penalty = 6.0, Secret Scary Factor = 0.9\n"
     ]
    },
    {
     "name": "stderr",
     "output_type": "stream",
     "text": []
    },
    {
     "name": "stdout",
     "output_type": "stream",
     "text": [
      "Current Settings: Intersection Penalty = 6.0, Secret Scary Factor = 0.9500000000000001\n"
     ]
    },
    {
     "name": "stderr",
     "output_type": "stream",
     "text": []
    },
    {
     "name": "stdout",
     "output_type": "stream",
     "text": [
      "Current Settings: Intersection Penalty = 6.0, Secret Scary Factor = 1.0\n"
     ]
    },
    {
     "name": "stderr",
     "output_type": "stream",
     "text": []
    },
    {
     "name": "stdout",
     "output_type": "stream",
     "text": [
      "Current Settings: Intersection Penalty = 6.0, Secret Scary Factor = 1.05\n"
     ]
    },
    {
     "name": "stderr",
     "output_type": "stream",
     "text": []
    },
    {
     "name": "stdout",
     "output_type": "stream",
     "text": [
      "Current Settings: Intersection Penalty = 6.0, Secret Scary Factor = 1.1\n"
     ]
    },
    {
     "name": "stderr",
     "output_type": "stream",
     "text": []
    },
    {
     "name": "stdout",
     "output_type": "stream",
     "text": [
      "Current Settings: Intersection Penalty = 6.0, Secret Scary Factor = 1.1500000000000001\n"
     ]
    },
    {
     "name": "stderr",
     "output_type": "stream",
     "text": []
    },
    {
     "name": "stdout",
     "output_type": "stream",
     "text": [
      "Current Settings: Intersection Penalty = 6.0, Secret Scary Factor = 1.2000000000000002\n"
     ]
    },
    {
     "name": "stderr",
     "output_type": "stream",
     "text": []
    },
    {
     "name": "stdout",
     "output_type": "stream",
     "text": [
      "Current Settings: Intersection Penalty = 6.0, Secret Scary Factor = 1.25\n"
     ]
    },
    {
     "name": "stderr",
     "output_type": "stream",
     "text": []
    },
    {
     "name": "stdout",
     "output_type": "stream",
     "text": [
      "Current Settings: Intersection Penalty = 6.0, Secret Scary Factor = 1.3\n"
     ]
    },
    {
     "name": "stderr",
     "output_type": "stream",
     "text": []
    },
    {
     "name": "stdout",
     "output_type": "stream",
     "text": [
      "Current Settings: Intersection Penalty = 6.0, Secret Scary Factor = 1.35\n"
     ]
    },
    {
     "name": "stderr",
     "output_type": "stream",
     "text": []
    },
    {
     "name": "stdout",
     "output_type": "stream",
     "text": [
      "Current Settings: Intersection Penalty = 6.0, Secret Scary Factor = 1.4000000000000001\n"
     ]
    },
    {
     "name": "stderr",
     "output_type": "stream",
     "text": []
    },
    {
     "name": "stdout",
     "output_type": "stream",
     "text": [
      "Current Settings: Intersection Penalty = 6.0, Secret Scary Factor = 1.4500000000000002\n"
     ]
    },
    {
     "name": "stderr",
     "output_type": "stream",
     "text": []
    },
    {
     "name": "stdout",
     "output_type": "stream",
     "text": [
      "Current Settings: Intersection Penalty = 6.0, Secret Scary Factor = 1.5\n"
     ]
    },
    {
     "name": "stderr",
     "output_type": "stream",
     "text": []
    },
    {
     "name": "stdout",
     "output_type": "stream",
     "text": [
      "Current Settings: Intersection Penalty = 6.0, Secret Scary Factor = 1.55\n"
     ]
    },
    {
     "name": "stderr",
     "output_type": "stream",
     "text": []
    },
    {
     "name": "stdout",
     "output_type": "stream",
     "text": [
      "Current Settings: Intersection Penalty = 6.0, Secret Scary Factor = 1.6\n"
     ]
    },
    {
     "name": "stderr",
     "output_type": "stream",
     "text": []
    },
    {
     "name": "stdout",
     "output_type": "stream",
     "text": [
      "Current Settings: Intersection Penalty = 6.0, Secret Scary Factor = 1.6500000000000001\n"
     ]
    },
    {
     "name": "stderr",
     "output_type": "stream",
     "text": []
    },
    {
     "name": "stdout",
     "output_type": "stream",
     "text": [
      "Current Settings: Intersection Penalty = 6.0, Secret Scary Factor = 1.7000000000000002\n"
     ]
    },
    {
     "name": "stderr",
     "output_type": "stream",
     "text": []
    },
    {
     "name": "stdout",
     "output_type": "stream",
     "text": [
      "Current Settings: Intersection Penalty = 6.0, Secret Scary Factor = 1.75\n"
     ]
    },
    {
     "name": "stderr",
     "output_type": "stream",
     "text": []
    },
    {
     "name": "stdout",
     "output_type": "stream",
     "text": [
      "Current Settings: Intersection Penalty = 6.0, Secret Scary Factor = 1.8\n"
     ]
    },
    {
     "name": "stderr",
     "output_type": "stream",
     "text": []
    },
    {
     "name": "stdout",
     "output_type": "stream",
     "text": [
      "Current Settings: Intersection Penalty = 6.0, Secret Scary Factor = 1.85\n"
     ]
    },
    {
     "name": "stderr",
     "output_type": "stream",
     "text": []
    },
    {
     "name": "stdout",
     "output_type": "stream",
     "text": [
      "Current Settings: Intersection Penalty = 6.0, Secret Scary Factor = 1.9000000000000001\n"
     ]
    },
    {
     "name": "stderr",
     "output_type": "stream",
     "text": []
    },
    {
     "name": "stdout",
     "output_type": "stream",
     "text": [
      "Current Settings: Intersection Penalty = 6.0, Secret Scary Factor = 1.9500000000000002\n"
     ]
    },
    {
     "name": "stderr",
     "output_type": "stream",
     "text": []
    },
    {
     "name": "stdout",
     "output_type": "stream",
     "text": [
      "Current Settings: Intersection Penalty = 6.0, Secret Scary Factor = 2.0\n"
     ]
    },
    {
     "name": "stderr",
     "output_type": "stream",
     "text": [
      "Secret Scary Factor Progress: 100%|██████████| 40/40 [04:14<00:00,  6.35s/it]\n",
      "Intersection Penalty Progress:  40%|████      | 12/30 [57:30<1:19:55, 266.41s/it]"
     ]
    },
    {
     "name": "stdout",
     "output_type": "stream",
     "text": [
      "Current Settings: Intersection Penalty = 6.5, Secret Scary Factor = 0.05\n"
     ]
    },
    {
     "name": "stderr",
     "output_type": "stream",
     "text": []
    },
    {
     "name": "stdout",
     "output_type": "stream",
     "text": [
      "Current Settings: Intersection Penalty = 6.5, Secret Scary Factor = 0.1\n"
     ]
    },
    {
     "name": "stderr",
     "output_type": "stream",
     "text": []
    },
    {
     "name": "stdout",
     "output_type": "stream",
     "text": [
      "Current Settings: Intersection Penalty = 6.5, Secret Scary Factor = 0.15000000000000002\n"
     ]
    },
    {
     "name": "stderr",
     "output_type": "stream",
     "text": []
    },
    {
     "name": "stdout",
     "output_type": "stream",
     "text": [
      "Current Settings: Intersection Penalty = 6.5, Secret Scary Factor = 0.2\n"
     ]
    },
    {
     "name": "stderr",
     "output_type": "stream",
     "text": []
    },
    {
     "name": "stdout",
     "output_type": "stream",
     "text": [
      "Current Settings: Intersection Penalty = 6.5, Secret Scary Factor = 0.25\n"
     ]
    },
    {
     "name": "stderr",
     "output_type": "stream",
     "text": []
    },
    {
     "name": "stdout",
     "output_type": "stream",
     "text": [
      "Current Settings: Intersection Penalty = 6.5, Secret Scary Factor = 0.30000000000000004\n"
     ]
    },
    {
     "name": "stderr",
     "output_type": "stream",
     "text": []
    },
    {
     "name": "stdout",
     "output_type": "stream",
     "text": [
      "Current Settings: Intersection Penalty = 6.5, Secret Scary Factor = 0.35000000000000003\n"
     ]
    },
    {
     "name": "stderr",
     "output_type": "stream",
     "text": []
    },
    {
     "name": "stdout",
     "output_type": "stream",
     "text": [
      "Current Settings: Intersection Penalty = 6.5, Secret Scary Factor = 0.4\n"
     ]
    },
    {
     "name": "stderr",
     "output_type": "stream",
     "text": []
    },
    {
     "name": "stdout",
     "output_type": "stream",
     "text": [
      "Current Settings: Intersection Penalty = 6.5, Secret Scary Factor = 0.45\n"
     ]
    },
    {
     "name": "stderr",
     "output_type": "stream",
     "text": []
    },
    {
     "name": "stdout",
     "output_type": "stream",
     "text": [
      "Current Settings: Intersection Penalty = 6.5, Secret Scary Factor = 0.5\n"
     ]
    },
    {
     "name": "stderr",
     "output_type": "stream",
     "text": []
    },
    {
     "name": "stdout",
     "output_type": "stream",
     "text": [
      "Current Settings: Intersection Penalty = 6.5, Secret Scary Factor = 0.55\n"
     ]
    },
    {
     "name": "stderr",
     "output_type": "stream",
     "text": []
    },
    {
     "name": "stdout",
     "output_type": "stream",
     "text": [
      "Current Settings: Intersection Penalty = 6.5, Secret Scary Factor = 0.6000000000000001\n"
     ]
    },
    {
     "name": "stderr",
     "output_type": "stream",
     "text": []
    },
    {
     "name": "stdout",
     "output_type": "stream",
     "text": [
      "Current Settings: Intersection Penalty = 6.5, Secret Scary Factor = 0.65\n"
     ]
    },
    {
     "name": "stderr",
     "output_type": "stream",
     "text": []
    },
    {
     "name": "stdout",
     "output_type": "stream",
     "text": [
      "Current Settings: Intersection Penalty = 6.5, Secret Scary Factor = 0.7000000000000001\n"
     ]
    },
    {
     "name": "stderr",
     "output_type": "stream",
     "text": []
    },
    {
     "name": "stdout",
     "output_type": "stream",
     "text": [
      "Current Settings: Intersection Penalty = 6.5, Secret Scary Factor = 0.75\n"
     ]
    },
    {
     "name": "stderr",
     "output_type": "stream",
     "text": []
    },
    {
     "name": "stdout",
     "output_type": "stream",
     "text": [
      "Current Settings: Intersection Penalty = 6.5, Secret Scary Factor = 0.8\n"
     ]
    },
    {
     "name": "stderr",
     "output_type": "stream",
     "text": []
    },
    {
     "name": "stdout",
     "output_type": "stream",
     "text": [
      "Current Settings: Intersection Penalty = 6.5, Secret Scary Factor = 0.8500000000000001\n"
     ]
    },
    {
     "name": "stderr",
     "output_type": "stream",
     "text": []
    },
    {
     "name": "stdout",
     "output_type": "stream",
     "text": [
      "Current Settings: Intersection Penalty = 6.5, Secret Scary Factor = 0.9\n"
     ]
    },
    {
     "name": "stderr",
     "output_type": "stream",
     "text": []
    },
    {
     "name": "stdout",
     "output_type": "stream",
     "text": [
      "Current Settings: Intersection Penalty = 6.5, Secret Scary Factor = 0.9500000000000001\n"
     ]
    },
    {
     "name": "stderr",
     "output_type": "stream",
     "text": []
    },
    {
     "name": "stdout",
     "output_type": "stream",
     "text": [
      "Current Settings: Intersection Penalty = 6.5, Secret Scary Factor = 1.0\n"
     ]
    },
    {
     "name": "stderr",
     "output_type": "stream",
     "text": []
    },
    {
     "name": "stdout",
     "output_type": "stream",
     "text": [
      "Current Settings: Intersection Penalty = 6.5, Secret Scary Factor = 1.05\n"
     ]
    },
    {
     "name": "stderr",
     "output_type": "stream",
     "text": []
    },
    {
     "name": "stdout",
     "output_type": "stream",
     "text": [
      "Current Settings: Intersection Penalty = 6.5, Secret Scary Factor = 1.1\n"
     ]
    },
    {
     "name": "stderr",
     "output_type": "stream",
     "text": []
    },
    {
     "name": "stdout",
     "output_type": "stream",
     "text": [
      "Current Settings: Intersection Penalty = 6.5, Secret Scary Factor = 1.1500000000000001\n"
     ]
    },
    {
     "name": "stderr",
     "output_type": "stream",
     "text": []
    },
    {
     "name": "stdout",
     "output_type": "stream",
     "text": [
      "Current Settings: Intersection Penalty = 6.5, Secret Scary Factor = 1.2000000000000002\n"
     ]
    },
    {
     "name": "stderr",
     "output_type": "stream",
     "text": []
    },
    {
     "name": "stdout",
     "output_type": "stream",
     "text": [
      "Current Settings: Intersection Penalty = 6.5, Secret Scary Factor = 1.25\n"
     ]
    },
    {
     "name": "stderr",
     "output_type": "stream",
     "text": []
    },
    {
     "name": "stdout",
     "output_type": "stream",
     "text": [
      "Current Settings: Intersection Penalty = 6.5, Secret Scary Factor = 1.3\n"
     ]
    },
    {
     "name": "stderr",
     "output_type": "stream",
     "text": []
    },
    {
     "name": "stdout",
     "output_type": "stream",
     "text": [
      "Current Settings: Intersection Penalty = 6.5, Secret Scary Factor = 1.35\n"
     ]
    },
    {
     "name": "stderr",
     "output_type": "stream",
     "text": []
    },
    {
     "name": "stdout",
     "output_type": "stream",
     "text": [
      "Current Settings: Intersection Penalty = 6.5, Secret Scary Factor = 1.4000000000000001\n"
     ]
    },
    {
     "name": "stderr",
     "output_type": "stream",
     "text": []
    },
    {
     "name": "stdout",
     "output_type": "stream",
     "text": [
      "Current Settings: Intersection Penalty = 6.5, Secret Scary Factor = 1.4500000000000002\n"
     ]
    },
    {
     "name": "stderr",
     "output_type": "stream",
     "text": []
    },
    {
     "name": "stdout",
     "output_type": "stream",
     "text": [
      "Current Settings: Intersection Penalty = 6.5, Secret Scary Factor = 1.5\n"
     ]
    },
    {
     "name": "stderr",
     "output_type": "stream",
     "text": []
    },
    {
     "name": "stdout",
     "output_type": "stream",
     "text": [
      "Current Settings: Intersection Penalty = 6.5, Secret Scary Factor = 1.55\n"
     ]
    },
    {
     "name": "stderr",
     "output_type": "stream",
     "text": []
    },
    {
     "name": "stdout",
     "output_type": "stream",
     "text": [
      "Current Settings: Intersection Penalty = 6.5, Secret Scary Factor = 1.6\n"
     ]
    },
    {
     "name": "stderr",
     "output_type": "stream",
     "text": []
    },
    {
     "name": "stdout",
     "output_type": "stream",
     "text": [
      "Current Settings: Intersection Penalty = 6.5, Secret Scary Factor = 1.6500000000000001\n"
     ]
    },
    {
     "name": "stderr",
     "output_type": "stream",
     "text": []
    },
    {
     "name": "stdout",
     "output_type": "stream",
     "text": [
      "Current Settings: Intersection Penalty = 6.5, Secret Scary Factor = 1.7000000000000002\n"
     ]
    },
    {
     "name": "stderr",
     "output_type": "stream",
     "text": []
    },
    {
     "name": "stdout",
     "output_type": "stream",
     "text": [
      "Current Settings: Intersection Penalty = 6.5, Secret Scary Factor = 1.75\n"
     ]
    },
    {
     "name": "stderr",
     "output_type": "stream",
     "text": []
    },
    {
     "name": "stdout",
     "output_type": "stream",
     "text": [
      "Current Settings: Intersection Penalty = 6.5, Secret Scary Factor = 1.8\n"
     ]
    },
    {
     "name": "stderr",
     "output_type": "stream",
     "text": []
    },
    {
     "name": "stdout",
     "output_type": "stream",
     "text": [
      "Current Settings: Intersection Penalty = 6.5, Secret Scary Factor = 1.85\n"
     ]
    },
    {
     "name": "stderr",
     "output_type": "stream",
     "text": []
    },
    {
     "name": "stdout",
     "output_type": "stream",
     "text": [
      "Current Settings: Intersection Penalty = 6.5, Secret Scary Factor = 1.9000000000000001\n"
     ]
    },
    {
     "name": "stderr",
     "output_type": "stream",
     "text": []
    },
    {
     "name": "stdout",
     "output_type": "stream",
     "text": [
      "Current Settings: Intersection Penalty = 6.5, Secret Scary Factor = 1.9500000000000002\n"
     ]
    },
    {
     "name": "stderr",
     "output_type": "stream",
     "text": []
    },
    {
     "name": "stdout",
     "output_type": "stream",
     "text": [
      "Current Settings: Intersection Penalty = 6.5, Secret Scary Factor = 2.0\n"
     ]
    },
    {
     "name": "stderr",
     "output_type": "stream",
     "text": [
      "Secret Scary Factor Progress: 100%|██████████| 40/40 [04:23<00:00,  6.60s/it]\n",
      "Intersection Penalty Progress:  43%|████▎     | 13/30 [1:01:54<1:15:16, 265.67s/it]"
     ]
    },
    {
     "name": "stdout",
     "output_type": "stream",
     "text": [
      "Current Settings: Intersection Penalty = 7.0, Secret Scary Factor = 0.05\n"
     ]
    },
    {
     "name": "stderr",
     "output_type": "stream",
     "text": []
    },
    {
     "name": "stdout",
     "output_type": "stream",
     "text": [
      "Current Settings: Intersection Penalty = 7.0, Secret Scary Factor = 0.1\n"
     ]
    },
    {
     "name": "stderr",
     "output_type": "stream",
     "text": []
    },
    {
     "name": "stdout",
     "output_type": "stream",
     "text": [
      "Current Settings: Intersection Penalty = 7.0, Secret Scary Factor = 0.15000000000000002\n"
     ]
    },
    {
     "name": "stderr",
     "output_type": "stream",
     "text": []
    },
    {
     "name": "stdout",
     "output_type": "stream",
     "text": [
      "Current Settings: Intersection Penalty = 7.0, Secret Scary Factor = 0.2\n"
     ]
    },
    {
     "name": "stderr",
     "output_type": "stream",
     "text": []
    },
    {
     "name": "stdout",
     "output_type": "stream",
     "text": [
      "Current Settings: Intersection Penalty = 7.0, Secret Scary Factor = 0.25\n"
     ]
    },
    {
     "name": "stderr",
     "output_type": "stream",
     "text": []
    },
    {
     "name": "stdout",
     "output_type": "stream",
     "text": [
      "Current Settings: Intersection Penalty = 7.0, Secret Scary Factor = 0.30000000000000004\n"
     ]
    },
    {
     "name": "stderr",
     "output_type": "stream",
     "text": []
    },
    {
     "name": "stdout",
     "output_type": "stream",
     "text": [
      "Current Settings: Intersection Penalty = 7.0, Secret Scary Factor = 0.35000000000000003\n"
     ]
    },
    {
     "name": "stderr",
     "output_type": "stream",
     "text": []
    },
    {
     "name": "stdout",
     "output_type": "stream",
     "text": [
      "Current Settings: Intersection Penalty = 7.0, Secret Scary Factor = 0.4\n"
     ]
    },
    {
     "name": "stderr",
     "output_type": "stream",
     "text": []
    },
    {
     "name": "stdout",
     "output_type": "stream",
     "text": [
      "Current Settings: Intersection Penalty = 7.0, Secret Scary Factor = 0.45\n"
     ]
    },
    {
     "name": "stderr",
     "output_type": "stream",
     "text": []
    },
    {
     "name": "stdout",
     "output_type": "stream",
     "text": [
      "Current Settings: Intersection Penalty = 7.0, Secret Scary Factor = 0.5\n"
     ]
    },
    {
     "name": "stderr",
     "output_type": "stream",
     "text": []
    },
    {
     "name": "stdout",
     "output_type": "stream",
     "text": [
      "Current Settings: Intersection Penalty = 7.0, Secret Scary Factor = 0.55\n"
     ]
    },
    {
     "name": "stderr",
     "output_type": "stream",
     "text": []
    },
    {
     "name": "stdout",
     "output_type": "stream",
     "text": [
      "Current Settings: Intersection Penalty = 7.0, Secret Scary Factor = 0.6000000000000001\n"
     ]
    },
    {
     "name": "stderr",
     "output_type": "stream",
     "text": []
    },
    {
     "name": "stdout",
     "output_type": "stream",
     "text": [
      "Current Settings: Intersection Penalty = 7.0, Secret Scary Factor = 0.65\n"
     ]
    },
    {
     "name": "stderr",
     "output_type": "stream",
     "text": []
    },
    {
     "name": "stdout",
     "output_type": "stream",
     "text": [
      "Current Settings: Intersection Penalty = 7.0, Secret Scary Factor = 0.7000000000000001\n"
     ]
    },
    {
     "name": "stderr",
     "output_type": "stream",
     "text": []
    },
    {
     "name": "stdout",
     "output_type": "stream",
     "text": [
      "Current Settings: Intersection Penalty = 7.0, Secret Scary Factor = 0.75\n"
     ]
    },
    {
     "name": "stderr",
     "output_type": "stream",
     "text": []
    },
    {
     "name": "stdout",
     "output_type": "stream",
     "text": [
      "Current Settings: Intersection Penalty = 7.0, Secret Scary Factor = 0.8\n"
     ]
    },
    {
     "name": "stderr",
     "output_type": "stream",
     "text": []
    },
    {
     "name": "stdout",
     "output_type": "stream",
     "text": [
      "Current Settings: Intersection Penalty = 7.0, Secret Scary Factor = 0.8500000000000001\n"
     ]
    },
    {
     "name": "stderr",
     "output_type": "stream",
     "text": []
    },
    {
     "name": "stdout",
     "output_type": "stream",
     "text": [
      "Current Settings: Intersection Penalty = 7.0, Secret Scary Factor = 0.9\n"
     ]
    },
    {
     "name": "stderr",
     "output_type": "stream",
     "text": []
    },
    {
     "name": "stdout",
     "output_type": "stream",
     "text": [
      "Current Settings: Intersection Penalty = 7.0, Secret Scary Factor = 0.9500000000000001\n"
     ]
    },
    {
     "name": "stderr",
     "output_type": "stream",
     "text": []
    },
    {
     "name": "stdout",
     "output_type": "stream",
     "text": [
      "Current Settings: Intersection Penalty = 7.0, Secret Scary Factor = 1.0\n"
     ]
    },
    {
     "name": "stderr",
     "output_type": "stream",
     "text": []
    },
    {
     "name": "stdout",
     "output_type": "stream",
     "text": [
      "Current Settings: Intersection Penalty = 7.0, Secret Scary Factor = 1.05\n"
     ]
    },
    {
     "name": "stderr",
     "output_type": "stream",
     "text": []
    },
    {
     "name": "stdout",
     "output_type": "stream",
     "text": [
      "Current Settings: Intersection Penalty = 7.0, Secret Scary Factor = 1.1\n"
     ]
    },
    {
     "name": "stderr",
     "output_type": "stream",
     "text": []
    },
    {
     "name": "stdout",
     "output_type": "stream",
     "text": [
      "Current Settings: Intersection Penalty = 7.0, Secret Scary Factor = 1.1500000000000001\n"
     ]
    },
    {
     "name": "stderr",
     "output_type": "stream",
     "text": []
    },
    {
     "name": "stdout",
     "output_type": "stream",
     "text": [
      "Current Settings: Intersection Penalty = 7.0, Secret Scary Factor = 1.2000000000000002\n"
     ]
    },
    {
     "name": "stderr",
     "output_type": "stream",
     "text": []
    },
    {
     "name": "stdout",
     "output_type": "stream",
     "text": [
      "Current Settings: Intersection Penalty = 7.0, Secret Scary Factor = 1.25\n"
     ]
    },
    {
     "name": "stderr",
     "output_type": "stream",
     "text": []
    },
    {
     "name": "stdout",
     "output_type": "stream",
     "text": [
      "Current Settings: Intersection Penalty = 7.0, Secret Scary Factor = 1.3\n"
     ]
    },
    {
     "name": "stderr",
     "output_type": "stream",
     "text": []
    },
    {
     "name": "stdout",
     "output_type": "stream",
     "text": [
      "Current Settings: Intersection Penalty = 7.0, Secret Scary Factor = 1.35\n"
     ]
    },
    {
     "name": "stderr",
     "output_type": "stream",
     "text": []
    },
    {
     "name": "stdout",
     "output_type": "stream",
     "text": [
      "Current Settings: Intersection Penalty = 7.0, Secret Scary Factor = 1.4000000000000001\n"
     ]
    },
    {
     "name": "stderr",
     "output_type": "stream",
     "text": []
    },
    {
     "name": "stdout",
     "output_type": "stream",
     "text": [
      "Current Settings: Intersection Penalty = 7.0, Secret Scary Factor = 1.4500000000000002\n"
     ]
    },
    {
     "name": "stderr",
     "output_type": "stream",
     "text": []
    },
    {
     "name": "stdout",
     "output_type": "stream",
     "text": [
      "Current Settings: Intersection Penalty = 7.0, Secret Scary Factor = 1.5\n"
     ]
    },
    {
     "name": "stderr",
     "output_type": "stream",
     "text": []
    },
    {
     "name": "stdout",
     "output_type": "stream",
     "text": [
      "Current Settings: Intersection Penalty = 7.0, Secret Scary Factor = 1.55\n"
     ]
    },
    {
     "name": "stderr",
     "output_type": "stream",
     "text": []
    },
    {
     "name": "stdout",
     "output_type": "stream",
     "text": [
      "Current Settings: Intersection Penalty = 7.0, Secret Scary Factor = 1.6\n"
     ]
    },
    {
     "name": "stderr",
     "output_type": "stream",
     "text": []
    },
    {
     "name": "stdout",
     "output_type": "stream",
     "text": [
      "Current Settings: Intersection Penalty = 7.0, Secret Scary Factor = 1.6500000000000001\n"
     ]
    },
    {
     "name": "stderr",
     "output_type": "stream",
     "text": []
    },
    {
     "name": "stdout",
     "output_type": "stream",
     "text": [
      "Current Settings: Intersection Penalty = 7.0, Secret Scary Factor = 1.7000000000000002\n"
     ]
    },
    {
     "name": "stderr",
     "output_type": "stream",
     "text": []
    },
    {
     "name": "stdout",
     "output_type": "stream",
     "text": [
      "Current Settings: Intersection Penalty = 7.0, Secret Scary Factor = 1.75\n"
     ]
    },
    {
     "name": "stderr",
     "output_type": "stream",
     "text": []
    },
    {
     "name": "stdout",
     "output_type": "stream",
     "text": [
      "Current Settings: Intersection Penalty = 7.0, Secret Scary Factor = 1.8\n"
     ]
    },
    {
     "name": "stderr",
     "output_type": "stream",
     "text": []
    },
    {
     "name": "stdout",
     "output_type": "stream",
     "text": [
      "Current Settings: Intersection Penalty = 7.0, Secret Scary Factor = 1.85\n"
     ]
    },
    {
     "name": "stderr",
     "output_type": "stream",
     "text": []
    },
    {
     "name": "stdout",
     "output_type": "stream",
     "text": [
      "Current Settings: Intersection Penalty = 7.0, Secret Scary Factor = 1.9000000000000001\n"
     ]
    },
    {
     "name": "stderr",
     "output_type": "stream",
     "text": []
    },
    {
     "name": "stdout",
     "output_type": "stream",
     "text": [
      "Current Settings: Intersection Penalty = 7.0, Secret Scary Factor = 1.9500000000000002\n"
     ]
    },
    {
     "name": "stderr",
     "output_type": "stream",
     "text": []
    },
    {
     "name": "stdout",
     "output_type": "stream",
     "text": [
      "Current Settings: Intersection Penalty = 7.0, Secret Scary Factor = 2.0\n"
     ]
    },
    {
     "name": "stderr",
     "output_type": "stream",
     "text": [
      "Secret Scary Factor Progress: 100%|██████████| 40/40 [05:11<00:00,  7.80s/it]\n",
      "Intersection Penalty Progress:  47%|████▋     | 14/30 [1:07:06<1:14:34, 279.64s/it]"
     ]
    },
    {
     "name": "stdout",
     "output_type": "stream",
     "text": [
      "Current Settings: Intersection Penalty = 7.5, Secret Scary Factor = 0.05\n"
     ]
    },
    {
     "name": "stderr",
     "output_type": "stream",
     "text": []
    },
    {
     "name": "stdout",
     "output_type": "stream",
     "text": [
      "Current Settings: Intersection Penalty = 7.5, Secret Scary Factor = 0.1\n"
     ]
    },
    {
     "name": "stderr",
     "output_type": "stream",
     "text": []
    },
    {
     "name": "stdout",
     "output_type": "stream",
     "text": [
      "Current Settings: Intersection Penalty = 7.5, Secret Scary Factor = 0.15000000000000002\n"
     ]
    },
    {
     "name": "stderr",
     "output_type": "stream",
     "text": []
    },
    {
     "name": "stdout",
     "output_type": "stream",
     "text": [
      "Current Settings: Intersection Penalty = 7.5, Secret Scary Factor = 0.2\n"
     ]
    },
    {
     "name": "stderr",
     "output_type": "stream",
     "text": []
    },
    {
     "name": "stdout",
     "output_type": "stream",
     "text": [
      "Current Settings: Intersection Penalty = 7.5, Secret Scary Factor = 0.25\n"
     ]
    },
    {
     "name": "stderr",
     "output_type": "stream",
     "text": []
    },
    {
     "name": "stdout",
     "output_type": "stream",
     "text": [
      "Current Settings: Intersection Penalty = 7.5, Secret Scary Factor = 0.30000000000000004\n"
     ]
    },
    {
     "name": "stderr",
     "output_type": "stream",
     "text": []
    },
    {
     "name": "stdout",
     "output_type": "stream",
     "text": [
      "Current Settings: Intersection Penalty = 7.5, Secret Scary Factor = 0.35000000000000003\n"
     ]
    },
    {
     "name": "stderr",
     "output_type": "stream",
     "text": []
    },
    {
     "name": "stdout",
     "output_type": "stream",
     "text": [
      "Current Settings: Intersection Penalty = 7.5, Secret Scary Factor = 0.4\n"
     ]
    },
    {
     "name": "stderr",
     "output_type": "stream",
     "text": []
    },
    {
     "name": "stdout",
     "output_type": "stream",
     "text": [
      "Current Settings: Intersection Penalty = 7.5, Secret Scary Factor = 0.45\n"
     ]
    },
    {
     "name": "stderr",
     "output_type": "stream",
     "text": []
    },
    {
     "name": "stdout",
     "output_type": "stream",
     "text": [
      "Current Settings: Intersection Penalty = 7.5, Secret Scary Factor = 0.5\n"
     ]
    },
    {
     "name": "stderr",
     "output_type": "stream",
     "text": []
    },
    {
     "name": "stdout",
     "output_type": "stream",
     "text": [
      "Current Settings: Intersection Penalty = 7.5, Secret Scary Factor = 0.55\n"
     ]
    },
    {
     "name": "stderr",
     "output_type": "stream",
     "text": []
    },
    {
     "name": "stdout",
     "output_type": "stream",
     "text": [
      "Current Settings: Intersection Penalty = 7.5, Secret Scary Factor = 0.6000000000000001\n"
     ]
    },
    {
     "name": "stderr",
     "output_type": "stream",
     "text": []
    },
    {
     "name": "stdout",
     "output_type": "stream",
     "text": [
      "Current Settings: Intersection Penalty = 7.5, Secret Scary Factor = 0.65\n"
     ]
    },
    {
     "name": "stderr",
     "output_type": "stream",
     "text": []
    },
    {
     "name": "stdout",
     "output_type": "stream",
     "text": [
      "Current Settings: Intersection Penalty = 7.5, Secret Scary Factor = 0.7000000000000001\n"
     ]
    },
    {
     "name": "stderr",
     "output_type": "stream",
     "text": []
    },
    {
     "name": "stdout",
     "output_type": "stream",
     "text": [
      "Current Settings: Intersection Penalty = 7.5, Secret Scary Factor = 0.75\n"
     ]
    },
    {
     "name": "stderr",
     "output_type": "stream",
     "text": []
    },
    {
     "name": "stdout",
     "output_type": "stream",
     "text": [
      "Current Settings: Intersection Penalty = 7.5, Secret Scary Factor = 0.8\n"
     ]
    },
    {
     "name": "stderr",
     "output_type": "stream",
     "text": []
    },
    {
     "name": "stdout",
     "output_type": "stream",
     "text": [
      "Current Settings: Intersection Penalty = 7.5, Secret Scary Factor = 0.8500000000000001\n"
     ]
    },
    {
     "name": "stderr",
     "output_type": "stream",
     "text": []
    },
    {
     "name": "stdout",
     "output_type": "stream",
     "text": [
      "Current Settings: Intersection Penalty = 7.5, Secret Scary Factor = 0.9\n"
     ]
    },
    {
     "name": "stderr",
     "output_type": "stream",
     "text": []
    },
    {
     "name": "stdout",
     "output_type": "stream",
     "text": [
      "Current Settings: Intersection Penalty = 7.5, Secret Scary Factor = 0.9500000000000001\n"
     ]
    },
    {
     "name": "stderr",
     "output_type": "stream",
     "text": []
    },
    {
     "name": "stdout",
     "output_type": "stream",
     "text": [
      "Current Settings: Intersection Penalty = 7.5, Secret Scary Factor = 1.0\n"
     ]
    },
    {
     "name": "stderr",
     "output_type": "stream",
     "text": []
    },
    {
     "name": "stdout",
     "output_type": "stream",
     "text": [
      "Current Settings: Intersection Penalty = 7.5, Secret Scary Factor = 1.05\n"
     ]
    },
    {
     "name": "stderr",
     "output_type": "stream",
     "text": []
    },
    {
     "name": "stdout",
     "output_type": "stream",
     "text": [
      "Current Settings: Intersection Penalty = 7.5, Secret Scary Factor = 1.1\n"
     ]
    },
    {
     "name": "stderr",
     "output_type": "stream",
     "text": []
    },
    {
     "name": "stdout",
     "output_type": "stream",
     "text": [
      "Current Settings: Intersection Penalty = 7.5, Secret Scary Factor = 1.1500000000000001\n"
     ]
    },
    {
     "name": "stderr",
     "output_type": "stream",
     "text": []
    },
    {
     "name": "stdout",
     "output_type": "stream",
     "text": [
      "Current Settings: Intersection Penalty = 7.5, Secret Scary Factor = 1.2000000000000002\n"
     ]
    },
    {
     "name": "stderr",
     "output_type": "stream",
     "text": []
    },
    {
     "name": "stdout",
     "output_type": "stream",
     "text": [
      "Current Settings: Intersection Penalty = 7.5, Secret Scary Factor = 1.25\n"
     ]
    },
    {
     "name": "stderr",
     "output_type": "stream",
     "text": []
    },
    {
     "name": "stdout",
     "output_type": "stream",
     "text": [
      "Current Settings: Intersection Penalty = 7.5, Secret Scary Factor = 1.3\n"
     ]
    },
    {
     "name": "stderr",
     "output_type": "stream",
     "text": []
    },
    {
     "name": "stdout",
     "output_type": "stream",
     "text": [
      "Current Settings: Intersection Penalty = 7.5, Secret Scary Factor = 1.35\n"
     ]
    },
    {
     "name": "stderr",
     "output_type": "stream",
     "text": []
    },
    {
     "name": "stdout",
     "output_type": "stream",
     "text": [
      "Current Settings: Intersection Penalty = 7.5, Secret Scary Factor = 1.4000000000000001\n"
     ]
    },
    {
     "name": "stderr",
     "output_type": "stream",
     "text": []
    },
    {
     "name": "stdout",
     "output_type": "stream",
     "text": [
      "Current Settings: Intersection Penalty = 7.5, Secret Scary Factor = 1.4500000000000002\n"
     ]
    },
    {
     "name": "stderr",
     "output_type": "stream",
     "text": []
    },
    {
     "name": "stdout",
     "output_type": "stream",
     "text": [
      "Current Settings: Intersection Penalty = 7.5, Secret Scary Factor = 1.5\n"
     ]
    },
    {
     "name": "stderr",
     "output_type": "stream",
     "text": []
    },
    {
     "name": "stdout",
     "output_type": "stream",
     "text": [
      "Current Settings: Intersection Penalty = 7.5, Secret Scary Factor = 1.55\n"
     ]
    },
    {
     "name": "stderr",
     "output_type": "stream",
     "text": []
    },
    {
     "name": "stdout",
     "output_type": "stream",
     "text": [
      "Current Settings: Intersection Penalty = 7.5, Secret Scary Factor = 1.6\n"
     ]
    },
    {
     "name": "stderr",
     "output_type": "stream",
     "text": []
    },
    {
     "name": "stdout",
     "output_type": "stream",
     "text": [
      "Current Settings: Intersection Penalty = 7.5, Secret Scary Factor = 1.6500000000000001\n"
     ]
    },
    {
     "name": "stderr",
     "output_type": "stream",
     "text": []
    },
    {
     "name": "stdout",
     "output_type": "stream",
     "text": [
      "Current Settings: Intersection Penalty = 7.5, Secret Scary Factor = 1.7000000000000002\n"
     ]
    },
    {
     "name": "stderr",
     "output_type": "stream",
     "text": []
    },
    {
     "name": "stdout",
     "output_type": "stream",
     "text": [
      "Current Settings: Intersection Penalty = 7.5, Secret Scary Factor = 1.75\n"
     ]
    },
    {
     "name": "stderr",
     "output_type": "stream",
     "text": []
    },
    {
     "name": "stdout",
     "output_type": "stream",
     "text": [
      "Current Settings: Intersection Penalty = 7.5, Secret Scary Factor = 1.8\n"
     ]
    },
    {
     "name": "stderr",
     "output_type": "stream",
     "text": []
    },
    {
     "name": "stdout",
     "output_type": "stream",
     "text": [
      "Current Settings: Intersection Penalty = 7.5, Secret Scary Factor = 1.85\n"
     ]
    },
    {
     "name": "stderr",
     "output_type": "stream",
     "text": []
    },
    {
     "name": "stdout",
     "output_type": "stream",
     "text": [
      "Current Settings: Intersection Penalty = 7.5, Secret Scary Factor = 1.9000000000000001\n"
     ]
    },
    {
     "name": "stderr",
     "output_type": "stream",
     "text": []
    },
    {
     "name": "stdout",
     "output_type": "stream",
     "text": [
      "Current Settings: Intersection Penalty = 7.5, Secret Scary Factor = 1.9500000000000002\n"
     ]
    },
    {
     "name": "stderr",
     "output_type": "stream",
     "text": []
    },
    {
     "name": "stdout",
     "output_type": "stream",
     "text": [
      "Current Settings: Intersection Penalty = 7.5, Secret Scary Factor = 2.0\n"
     ]
    },
    {
     "name": "stderr",
     "output_type": "stream",
     "text": [
      "Secret Scary Factor Progress: 100%|██████████| 40/40 [05:54<00:00,  8.86s/it]\n",
      "Intersection Penalty Progress:  50%|█████     | 15/30 [1:13:00<1:15:33, 302.21s/it]"
     ]
    },
    {
     "name": "stdout",
     "output_type": "stream",
     "text": [
      "Current Settings: Intersection Penalty = 8.0, Secret Scary Factor = 0.05\n"
     ]
    },
    {
     "name": "stderr",
     "output_type": "stream",
     "text": []
    },
    {
     "name": "stdout",
     "output_type": "stream",
     "text": [
      "Current Settings: Intersection Penalty = 8.0, Secret Scary Factor = 0.1\n"
     ]
    },
    {
     "name": "stderr",
     "output_type": "stream",
     "text": []
    },
    {
     "name": "stdout",
     "output_type": "stream",
     "text": [
      "Current Settings: Intersection Penalty = 8.0, Secret Scary Factor = 0.15000000000000002\n"
     ]
    },
    {
     "name": "stderr",
     "output_type": "stream",
     "text": []
    },
    {
     "name": "stdout",
     "output_type": "stream",
     "text": [
      "Current Settings: Intersection Penalty = 8.0, Secret Scary Factor = 0.2\n"
     ]
    },
    {
     "name": "stderr",
     "output_type": "stream",
     "text": []
    },
    {
     "name": "stdout",
     "output_type": "stream",
     "text": [
      "Current Settings: Intersection Penalty = 8.0, Secret Scary Factor = 0.25\n"
     ]
    },
    {
     "name": "stderr",
     "output_type": "stream",
     "text": []
    },
    {
     "name": "stdout",
     "output_type": "stream",
     "text": [
      "Current Settings: Intersection Penalty = 8.0, Secret Scary Factor = 0.30000000000000004\n"
     ]
    },
    {
     "name": "stderr",
     "output_type": "stream",
     "text": []
    },
    {
     "name": "stdout",
     "output_type": "stream",
     "text": [
      "Current Settings: Intersection Penalty = 8.0, Secret Scary Factor = 0.35000000000000003\n"
     ]
    },
    {
     "name": "stderr",
     "output_type": "stream",
     "text": []
    },
    {
     "name": "stdout",
     "output_type": "stream",
     "text": [
      "Current Settings: Intersection Penalty = 8.0, Secret Scary Factor = 0.4\n"
     ]
    },
    {
     "name": "stderr",
     "output_type": "stream",
     "text": []
    },
    {
     "name": "stdout",
     "output_type": "stream",
     "text": [
      "Current Settings: Intersection Penalty = 8.0, Secret Scary Factor = 0.45\n"
     ]
    },
    {
     "name": "stderr",
     "output_type": "stream",
     "text": []
    },
    {
     "name": "stdout",
     "output_type": "stream",
     "text": [
      "Current Settings: Intersection Penalty = 8.0, Secret Scary Factor = 0.5\n"
     ]
    },
    {
     "name": "stderr",
     "output_type": "stream",
     "text": []
    },
    {
     "name": "stdout",
     "output_type": "stream",
     "text": [
      "Current Settings: Intersection Penalty = 8.0, Secret Scary Factor = 0.55\n"
     ]
    },
    {
     "name": "stderr",
     "output_type": "stream",
     "text": []
    },
    {
     "name": "stdout",
     "output_type": "stream",
     "text": [
      "Current Settings: Intersection Penalty = 8.0, Secret Scary Factor = 0.6000000000000001\n"
     ]
    },
    {
     "name": "stderr",
     "output_type": "stream",
     "text": []
    },
    {
     "name": "stdout",
     "output_type": "stream",
     "text": [
      "Current Settings: Intersection Penalty = 8.0, Secret Scary Factor = 0.65\n"
     ]
    },
    {
     "name": "stderr",
     "output_type": "stream",
     "text": []
    },
    {
     "name": "stdout",
     "output_type": "stream",
     "text": [
      "Current Settings: Intersection Penalty = 8.0, Secret Scary Factor = 0.7000000000000001\n"
     ]
    },
    {
     "name": "stderr",
     "output_type": "stream",
     "text": []
    },
    {
     "name": "stdout",
     "output_type": "stream",
     "text": [
      "Current Settings: Intersection Penalty = 8.0, Secret Scary Factor = 0.75\n"
     ]
    },
    {
     "name": "stderr",
     "output_type": "stream",
     "text": []
    },
    {
     "name": "stdout",
     "output_type": "stream",
     "text": [
      "Current Settings: Intersection Penalty = 8.0, Secret Scary Factor = 0.8\n"
     ]
    },
    {
     "name": "stderr",
     "output_type": "stream",
     "text": []
    },
    {
     "name": "stdout",
     "output_type": "stream",
     "text": [
      "Current Settings: Intersection Penalty = 8.0, Secret Scary Factor = 0.8500000000000001\n"
     ]
    },
    {
     "name": "stderr",
     "output_type": "stream",
     "text": []
    },
    {
     "name": "stdout",
     "output_type": "stream",
     "text": [
      "Current Settings: Intersection Penalty = 8.0, Secret Scary Factor = 0.9\n"
     ]
    },
    {
     "name": "stderr",
     "output_type": "stream",
     "text": []
    },
    {
     "name": "stdout",
     "output_type": "stream",
     "text": [
      "Current Settings: Intersection Penalty = 8.0, Secret Scary Factor = 0.9500000000000001\n"
     ]
    },
    {
     "name": "stderr",
     "output_type": "stream",
     "text": []
    },
    {
     "name": "stdout",
     "output_type": "stream",
     "text": [
      "Current Settings: Intersection Penalty = 8.0, Secret Scary Factor = 1.0\n"
     ]
    },
    {
     "name": "stderr",
     "output_type": "stream",
     "text": []
    },
    {
     "name": "stdout",
     "output_type": "stream",
     "text": [
      "Current Settings: Intersection Penalty = 8.0, Secret Scary Factor = 1.05\n"
     ]
    },
    {
     "name": "stderr",
     "output_type": "stream",
     "text": []
    },
    {
     "name": "stdout",
     "output_type": "stream",
     "text": [
      "Current Settings: Intersection Penalty = 8.0, Secret Scary Factor = 1.1\n"
     ]
    },
    {
     "name": "stderr",
     "output_type": "stream",
     "text": []
    },
    {
     "name": "stdout",
     "output_type": "stream",
     "text": [
      "Current Settings: Intersection Penalty = 8.0, Secret Scary Factor = 1.1500000000000001\n"
     ]
    },
    {
     "name": "stderr",
     "output_type": "stream",
     "text": []
    },
    {
     "name": "stdout",
     "output_type": "stream",
     "text": [
      "Current Settings: Intersection Penalty = 8.0, Secret Scary Factor = 1.2000000000000002\n"
     ]
    },
    {
     "name": "stderr",
     "output_type": "stream",
     "text": []
    },
    {
     "name": "stdout",
     "output_type": "stream",
     "text": [
      "Current Settings: Intersection Penalty = 8.0, Secret Scary Factor = 1.25\n"
     ]
    },
    {
     "name": "stderr",
     "output_type": "stream",
     "text": []
    },
    {
     "name": "stdout",
     "output_type": "stream",
     "text": [
      "Current Settings: Intersection Penalty = 8.0, Secret Scary Factor = 1.3\n"
     ]
    },
    {
     "name": "stderr",
     "output_type": "stream",
     "text": []
    },
    {
     "name": "stdout",
     "output_type": "stream",
     "text": [
      "Current Settings: Intersection Penalty = 8.0, Secret Scary Factor = 1.35\n"
     ]
    },
    {
     "name": "stderr",
     "output_type": "stream",
     "text": []
    },
    {
     "name": "stdout",
     "output_type": "stream",
     "text": [
      "Current Settings: Intersection Penalty = 8.0, Secret Scary Factor = 1.4000000000000001\n"
     ]
    },
    {
     "name": "stderr",
     "output_type": "stream",
     "text": []
    },
    {
     "name": "stdout",
     "output_type": "stream",
     "text": [
      "Current Settings: Intersection Penalty = 8.0, Secret Scary Factor = 1.4500000000000002\n"
     ]
    },
    {
     "name": "stderr",
     "output_type": "stream",
     "text": []
    },
    {
     "name": "stdout",
     "output_type": "stream",
     "text": [
      "Current Settings: Intersection Penalty = 8.0, Secret Scary Factor = 1.5\n"
     ]
    },
    {
     "name": "stderr",
     "output_type": "stream",
     "text": []
    },
    {
     "name": "stdout",
     "output_type": "stream",
     "text": [
      "Current Settings: Intersection Penalty = 8.0, Secret Scary Factor = 1.55\n"
     ]
    },
    {
     "name": "stderr",
     "output_type": "stream",
     "text": []
    },
    {
     "name": "stdout",
     "output_type": "stream",
     "text": [
      "Current Settings: Intersection Penalty = 8.0, Secret Scary Factor = 1.6\n"
     ]
    },
    {
     "name": "stderr",
     "output_type": "stream",
     "text": []
    },
    {
     "name": "stdout",
     "output_type": "stream",
     "text": [
      "Current Settings: Intersection Penalty = 8.0, Secret Scary Factor = 1.6500000000000001\n"
     ]
    },
    {
     "name": "stderr",
     "output_type": "stream",
     "text": []
    },
    {
     "name": "stdout",
     "output_type": "stream",
     "text": [
      "Current Settings: Intersection Penalty = 8.0, Secret Scary Factor = 1.7000000000000002\n"
     ]
    },
    {
     "name": "stderr",
     "output_type": "stream",
     "text": []
    },
    {
     "name": "stdout",
     "output_type": "stream",
     "text": [
      "Current Settings: Intersection Penalty = 8.0, Secret Scary Factor = 1.75\n"
     ]
    },
    {
     "name": "stderr",
     "output_type": "stream",
     "text": []
    },
    {
     "name": "stdout",
     "output_type": "stream",
     "text": [
      "Current Settings: Intersection Penalty = 8.0, Secret Scary Factor = 1.8\n"
     ]
    },
    {
     "name": "stderr",
     "output_type": "stream",
     "text": []
    },
    {
     "name": "stdout",
     "output_type": "stream",
     "text": [
      "Current Settings: Intersection Penalty = 8.0, Secret Scary Factor = 1.85\n"
     ]
    },
    {
     "name": "stderr",
     "output_type": "stream",
     "text": []
    },
    {
     "name": "stdout",
     "output_type": "stream",
     "text": [
      "Current Settings: Intersection Penalty = 8.0, Secret Scary Factor = 1.9000000000000001\n"
     ]
    },
    {
     "name": "stderr",
     "output_type": "stream",
     "text": []
    },
    {
     "name": "stdout",
     "output_type": "stream",
     "text": [
      "Current Settings: Intersection Penalty = 8.0, Secret Scary Factor = 1.9500000000000002\n"
     ]
    },
    {
     "name": "stderr",
     "output_type": "stream",
     "text": []
    },
    {
     "name": "stdout",
     "output_type": "stream",
     "text": [
      "Current Settings: Intersection Penalty = 8.0, Secret Scary Factor = 2.0\n"
     ]
    },
    {
     "name": "stderr",
     "output_type": "stream",
     "text": [
      "Secret Scary Factor Progress: 100%|██████████| 40/40 [05:51<00:00,  8.80s/it]\n",
      "Intersection Penalty Progress:  53%|█████▎    | 16/30 [1:18:52<1:14:00, 317.15s/it]"
     ]
    },
    {
     "name": "stdout",
     "output_type": "stream",
     "text": [
      "Current Settings: Intersection Penalty = 8.5, Secret Scary Factor = 0.05\n"
     ]
    },
    {
     "name": "stderr",
     "output_type": "stream",
     "text": []
    },
    {
     "name": "stdout",
     "output_type": "stream",
     "text": [
      "Current Settings: Intersection Penalty = 8.5, Secret Scary Factor = 0.1\n"
     ]
    },
    {
     "name": "stderr",
     "output_type": "stream",
     "text": []
    },
    {
     "name": "stdout",
     "output_type": "stream",
     "text": [
      "Current Settings: Intersection Penalty = 8.5, Secret Scary Factor = 0.15000000000000002\n"
     ]
    },
    {
     "name": "stderr",
     "output_type": "stream",
     "text": []
    },
    {
     "name": "stdout",
     "output_type": "stream",
     "text": [
      "Current Settings: Intersection Penalty = 8.5, Secret Scary Factor = 0.2\n"
     ]
    },
    {
     "name": "stderr",
     "output_type": "stream",
     "text": []
    },
    {
     "name": "stdout",
     "output_type": "stream",
     "text": [
      "Current Settings: Intersection Penalty = 8.5, Secret Scary Factor = 0.25\n"
     ]
    },
    {
     "name": "stderr",
     "output_type": "stream",
     "text": []
    },
    {
     "name": "stdout",
     "output_type": "stream",
     "text": [
      "Current Settings: Intersection Penalty = 8.5, Secret Scary Factor = 0.30000000000000004\n"
     ]
    },
    {
     "name": "stderr",
     "output_type": "stream",
     "text": []
    },
    {
     "name": "stdout",
     "output_type": "stream",
     "text": [
      "Current Settings: Intersection Penalty = 8.5, Secret Scary Factor = 0.35000000000000003\n"
     ]
    },
    {
     "name": "stderr",
     "output_type": "stream",
     "text": []
    },
    {
     "name": "stdout",
     "output_type": "stream",
     "text": [
      "Current Settings: Intersection Penalty = 8.5, Secret Scary Factor = 0.4\n"
     ]
    },
    {
     "name": "stderr",
     "output_type": "stream",
     "text": []
    },
    {
     "name": "stdout",
     "output_type": "stream",
     "text": [
      "Current Settings: Intersection Penalty = 8.5, Secret Scary Factor = 0.45\n"
     ]
    },
    {
     "name": "stderr",
     "output_type": "stream",
     "text": []
    },
    {
     "name": "stdout",
     "output_type": "stream",
     "text": [
      "Current Settings: Intersection Penalty = 8.5, Secret Scary Factor = 0.5\n"
     ]
    },
    {
     "name": "stderr",
     "output_type": "stream",
     "text": []
    },
    {
     "name": "stdout",
     "output_type": "stream",
     "text": [
      "Current Settings: Intersection Penalty = 8.5, Secret Scary Factor = 0.55\n"
     ]
    },
    {
     "name": "stderr",
     "output_type": "stream",
     "text": []
    },
    {
     "name": "stdout",
     "output_type": "stream",
     "text": [
      "Current Settings: Intersection Penalty = 8.5, Secret Scary Factor = 0.6000000000000001\n"
     ]
    },
    {
     "name": "stderr",
     "output_type": "stream",
     "text": []
    },
    {
     "name": "stdout",
     "output_type": "stream",
     "text": [
      "Current Settings: Intersection Penalty = 8.5, Secret Scary Factor = 0.65\n"
     ]
    },
    {
     "name": "stderr",
     "output_type": "stream",
     "text": []
    },
    {
     "name": "stdout",
     "output_type": "stream",
     "text": [
      "Current Settings: Intersection Penalty = 8.5, Secret Scary Factor = 0.7000000000000001\n"
     ]
    },
    {
     "name": "stderr",
     "output_type": "stream",
     "text": []
    },
    {
     "name": "stdout",
     "output_type": "stream",
     "text": [
      "Current Settings: Intersection Penalty = 8.5, Secret Scary Factor = 0.75\n"
     ]
    },
    {
     "name": "stderr",
     "output_type": "stream",
     "text": []
    },
    {
     "name": "stdout",
     "output_type": "stream",
     "text": [
      "Current Settings: Intersection Penalty = 8.5, Secret Scary Factor = 0.8\n"
     ]
    },
    {
     "name": "stderr",
     "output_type": "stream",
     "text": []
    },
    {
     "name": "stdout",
     "output_type": "stream",
     "text": [
      "Current Settings: Intersection Penalty = 8.5, Secret Scary Factor = 0.8500000000000001\n"
     ]
    },
    {
     "name": "stderr",
     "output_type": "stream",
     "text": []
    },
    {
     "name": "stdout",
     "output_type": "stream",
     "text": [
      "Current Settings: Intersection Penalty = 8.5, Secret Scary Factor = 0.9\n"
     ]
    },
    {
     "name": "stderr",
     "output_type": "stream",
     "text": []
    },
    {
     "name": "stdout",
     "output_type": "stream",
     "text": [
      "Current Settings: Intersection Penalty = 8.5, Secret Scary Factor = 0.9500000000000001\n"
     ]
    },
    {
     "name": "stderr",
     "output_type": "stream",
     "text": []
    },
    {
     "name": "stdout",
     "output_type": "stream",
     "text": [
      "Current Settings: Intersection Penalty = 8.5, Secret Scary Factor = 1.0\n"
     ]
    },
    {
     "name": "stderr",
     "output_type": "stream",
     "text": []
    },
    {
     "name": "stdout",
     "output_type": "stream",
     "text": [
      "Current Settings: Intersection Penalty = 8.5, Secret Scary Factor = 1.05\n"
     ]
    },
    {
     "name": "stderr",
     "output_type": "stream",
     "text": []
    },
    {
     "name": "stdout",
     "output_type": "stream",
     "text": [
      "Current Settings: Intersection Penalty = 8.5, Secret Scary Factor = 1.1\n"
     ]
    },
    {
     "name": "stderr",
     "output_type": "stream",
     "text": []
    },
    {
     "name": "stdout",
     "output_type": "stream",
     "text": [
      "Current Settings: Intersection Penalty = 8.5, Secret Scary Factor = 1.1500000000000001\n"
     ]
    },
    {
     "name": "stderr",
     "output_type": "stream",
     "text": []
    },
    {
     "name": "stdout",
     "output_type": "stream",
     "text": [
      "Current Settings: Intersection Penalty = 8.5, Secret Scary Factor = 1.2000000000000002\n"
     ]
    },
    {
     "name": "stderr",
     "output_type": "stream",
     "text": []
    },
    {
     "name": "stdout",
     "output_type": "stream",
     "text": [
      "Current Settings: Intersection Penalty = 8.5, Secret Scary Factor = 1.25\n"
     ]
    },
    {
     "name": "stderr",
     "output_type": "stream",
     "text": []
    },
    {
     "name": "stdout",
     "output_type": "stream",
     "text": [
      "Current Settings: Intersection Penalty = 8.5, Secret Scary Factor = 1.3\n"
     ]
    },
    {
     "name": "stderr",
     "output_type": "stream",
     "text": []
    },
    {
     "name": "stdout",
     "output_type": "stream",
     "text": [
      "Current Settings: Intersection Penalty = 8.5, Secret Scary Factor = 1.35\n"
     ]
    },
    {
     "name": "stderr",
     "output_type": "stream",
     "text": []
    },
    {
     "name": "stdout",
     "output_type": "stream",
     "text": [
      "Current Settings: Intersection Penalty = 8.5, Secret Scary Factor = 1.4000000000000001\n"
     ]
    },
    {
     "name": "stderr",
     "output_type": "stream",
     "text": []
    },
    {
     "name": "stdout",
     "output_type": "stream",
     "text": [
      "Current Settings: Intersection Penalty = 8.5, Secret Scary Factor = 1.4500000000000002\n"
     ]
    },
    {
     "name": "stderr",
     "output_type": "stream",
     "text": []
    },
    {
     "name": "stdout",
     "output_type": "stream",
     "text": [
      "Current Settings: Intersection Penalty = 8.5, Secret Scary Factor = 1.5\n"
     ]
    },
    {
     "name": "stderr",
     "output_type": "stream",
     "text": []
    },
    {
     "name": "stdout",
     "output_type": "stream",
     "text": [
      "Current Settings: Intersection Penalty = 8.5, Secret Scary Factor = 1.55\n"
     ]
    },
    {
     "name": "stderr",
     "output_type": "stream",
     "text": []
    },
    {
     "name": "stdout",
     "output_type": "stream",
     "text": [
      "Current Settings: Intersection Penalty = 8.5, Secret Scary Factor = 1.6\n"
     ]
    },
    {
     "name": "stderr",
     "output_type": "stream",
     "text": []
    },
    {
     "name": "stdout",
     "output_type": "stream",
     "text": [
      "Current Settings: Intersection Penalty = 8.5, Secret Scary Factor = 1.6500000000000001\n"
     ]
    },
    {
     "name": "stderr",
     "output_type": "stream",
     "text": []
    },
    {
     "name": "stdout",
     "output_type": "stream",
     "text": [
      "Current Settings: Intersection Penalty = 8.5, Secret Scary Factor = 1.7000000000000002\n"
     ]
    },
    {
     "name": "stderr",
     "output_type": "stream",
     "text": []
    },
    {
     "name": "stdout",
     "output_type": "stream",
     "text": [
      "Current Settings: Intersection Penalty = 8.5, Secret Scary Factor = 1.75\n"
     ]
    },
    {
     "name": "stderr",
     "output_type": "stream",
     "text": []
    },
    {
     "name": "stdout",
     "output_type": "stream",
     "text": [
      "Current Settings: Intersection Penalty = 8.5, Secret Scary Factor = 1.8\n"
     ]
    },
    {
     "name": "stderr",
     "output_type": "stream",
     "text": []
    },
    {
     "name": "stdout",
     "output_type": "stream",
     "text": [
      "Current Settings: Intersection Penalty = 8.5, Secret Scary Factor = 1.85\n"
     ]
    },
    {
     "name": "stderr",
     "output_type": "stream",
     "text": []
    },
    {
     "name": "stdout",
     "output_type": "stream",
     "text": [
      "Current Settings: Intersection Penalty = 8.5, Secret Scary Factor = 1.9000000000000001\n"
     ]
    },
    {
     "name": "stderr",
     "output_type": "stream",
     "text": []
    },
    {
     "name": "stdout",
     "output_type": "stream",
     "text": [
      "Current Settings: Intersection Penalty = 8.5, Secret Scary Factor = 1.9500000000000002\n"
     ]
    },
    {
     "name": "stderr",
     "output_type": "stream",
     "text": []
    },
    {
     "name": "stdout",
     "output_type": "stream",
     "text": [
      "Current Settings: Intersection Penalty = 8.5, Secret Scary Factor = 2.0\n"
     ]
    },
    {
     "name": "stderr",
     "output_type": "stream",
     "text": [
      "Secret Scary Factor Progress: 100%|██████████| 40/40 [05:44<00:00,  8.62s/it]\n",
      "Intersection Penalty Progress:  57%|█████▋    | 17/30 [1:24:37<1:10:31, 325.46s/it]"
     ]
    },
    {
     "name": "stdout",
     "output_type": "stream",
     "text": [
      "Current Settings: Intersection Penalty = 9.0, Secret Scary Factor = 0.05\n"
     ]
    },
    {
     "name": "stderr",
     "output_type": "stream",
     "text": []
    },
    {
     "name": "stdout",
     "output_type": "stream",
     "text": [
      "Current Settings: Intersection Penalty = 9.0, Secret Scary Factor = 0.1\n"
     ]
    },
    {
     "name": "stderr",
     "output_type": "stream",
     "text": []
    },
    {
     "name": "stdout",
     "output_type": "stream",
     "text": [
      "Current Settings: Intersection Penalty = 9.0, Secret Scary Factor = 0.15000000000000002\n"
     ]
    },
    {
     "name": "stderr",
     "output_type": "stream",
     "text": []
    },
    {
     "name": "stdout",
     "output_type": "stream",
     "text": [
      "Current Settings: Intersection Penalty = 9.0, Secret Scary Factor = 0.2\n"
     ]
    },
    {
     "name": "stderr",
     "output_type": "stream",
     "text": []
    },
    {
     "name": "stdout",
     "output_type": "stream",
     "text": [
      "Current Settings: Intersection Penalty = 9.0, Secret Scary Factor = 0.25\n"
     ]
    },
    {
     "name": "stderr",
     "output_type": "stream",
     "text": []
    },
    {
     "name": "stdout",
     "output_type": "stream",
     "text": [
      "Current Settings: Intersection Penalty = 9.0, Secret Scary Factor = 0.30000000000000004\n"
     ]
    },
    {
     "name": "stderr",
     "output_type": "stream",
     "text": []
    },
    {
     "name": "stdout",
     "output_type": "stream",
     "text": [
      "Current Settings: Intersection Penalty = 9.0, Secret Scary Factor = 0.35000000000000003\n"
     ]
    },
    {
     "name": "stderr",
     "output_type": "stream",
     "text": []
    },
    {
     "name": "stdout",
     "output_type": "stream",
     "text": [
      "Current Settings: Intersection Penalty = 9.0, Secret Scary Factor = 0.4\n"
     ]
    },
    {
     "name": "stderr",
     "output_type": "stream",
     "text": []
    },
    {
     "name": "stdout",
     "output_type": "stream",
     "text": [
      "Current Settings: Intersection Penalty = 9.0, Secret Scary Factor = 0.45\n"
     ]
    },
    {
     "name": "stderr",
     "output_type": "stream",
     "text": []
    },
    {
     "name": "stdout",
     "output_type": "stream",
     "text": [
      "Current Settings: Intersection Penalty = 9.0, Secret Scary Factor = 0.5\n"
     ]
    },
    {
     "name": "stderr",
     "output_type": "stream",
     "text": []
    },
    {
     "name": "stdout",
     "output_type": "stream",
     "text": [
      "Current Settings: Intersection Penalty = 9.0, Secret Scary Factor = 0.55\n"
     ]
    },
    {
     "name": "stderr",
     "output_type": "stream",
     "text": []
    },
    {
     "name": "stdout",
     "output_type": "stream",
     "text": [
      "Current Settings: Intersection Penalty = 9.0, Secret Scary Factor = 0.6000000000000001\n"
     ]
    },
    {
     "name": "stderr",
     "output_type": "stream",
     "text": []
    },
    {
     "name": "stdout",
     "output_type": "stream",
     "text": [
      "Current Settings: Intersection Penalty = 9.0, Secret Scary Factor = 0.65\n"
     ]
    },
    {
     "name": "stderr",
     "output_type": "stream",
     "text": []
    },
    {
     "name": "stdout",
     "output_type": "stream",
     "text": [
      "Current Settings: Intersection Penalty = 9.0, Secret Scary Factor = 0.7000000000000001\n"
     ]
    },
    {
     "name": "stderr",
     "output_type": "stream",
     "text": []
    },
    {
     "name": "stdout",
     "output_type": "stream",
     "text": [
      "Current Settings: Intersection Penalty = 9.0, Secret Scary Factor = 0.75\n"
     ]
    },
    {
     "name": "stderr",
     "output_type": "stream",
     "text": []
    },
    {
     "name": "stdout",
     "output_type": "stream",
     "text": [
      "Current Settings: Intersection Penalty = 9.0, Secret Scary Factor = 0.8\n"
     ]
    },
    {
     "name": "stderr",
     "output_type": "stream",
     "text": []
    },
    {
     "name": "stdout",
     "output_type": "stream",
     "text": [
      "Current Settings: Intersection Penalty = 9.0, Secret Scary Factor = 0.8500000000000001\n"
     ]
    },
    {
     "name": "stderr",
     "output_type": "stream",
     "text": []
    },
    {
     "name": "stdout",
     "output_type": "stream",
     "text": [
      "Current Settings: Intersection Penalty = 9.0, Secret Scary Factor = 0.9\n"
     ]
    },
    {
     "name": "stderr",
     "output_type": "stream",
     "text": [
      "Secret Scary Factor Progress:  42%|████▎     | 17/40 [02:39<03:35,  9.37s/it]\n",
      "Intersection Penalty Progress:  57%|█████▋    | 17/30 [1:27:16<1:06:44, 308.03s/it]\n"
     ]
    },
    {
     "ename": "KeyboardInterrupt",
     "evalue": "",
     "output_type": "error",
     "traceback": [
      "\u001b[1;31m---------------------------------------------------------------------------\u001b[0m",
      "\u001b[1;31mKeyboardInterrupt\u001b[0m                         Traceback (most recent call last)",
      "Cell \u001b[1;32mIn[62], line 55\u001b[0m\n\u001b[0;32m     52\u001b[0m     \u001b[38;5;28;01mreturn\u001b[39;00m calculated_times\n\u001b[0;32m     54\u001b[0m \u001b[38;5;66;03m# You would call find_optimal_parameters like this, with your locations and benchmark_times\u001b[39;00m\n\u001b[1;32m---> 55\u001b[0m \u001b[43mfind_optimal_parameters\u001b[49m\u001b[43m(\u001b[49m\u001b[43mlocations\u001b[49m\u001b[43m,\u001b[49m\u001b[43m \u001b[49m\u001b[43mbenchmark_times\u001b[49m\u001b[43m)\u001b[49m\n",
      "Cell \u001b[1;32mIn[62], line 14\u001b[0m, in \u001b[0;36mfind_optimal_parameters\u001b[1;34m(locations, benchmark_times)\u001b[0m\n\u001b[0;32m     11\u001b[0m \u001b[38;5;28mprint\u001b[39m(\u001b[38;5;124mf\u001b[39m\u001b[38;5;124m\"\u001b[39m\u001b[38;5;124mCurrent Settings: Intersection Penalty = \u001b[39m\u001b[38;5;132;01m{\u001b[39;00mintersection_penalty\u001b[38;5;132;01m}\u001b[39;00m\u001b[38;5;124m, Secret Scary Factor = \u001b[39m\u001b[38;5;132;01m{\u001b[39;00msecret_scary_factor\u001b[38;5;132;01m}\u001b[39;00m\u001b[38;5;124m\"\u001b[39m)  \u001b[38;5;66;03m# Print current parameter combination\u001b[39;00m\n\u001b[0;32m     13\u001b[0m \u001b[38;5;66;03m# Assuming a function to set simulation parameters exists\u001b[39;00m\n\u001b[1;32m---> 14\u001b[0m calculated_times \u001b[38;5;241m=\u001b[39m \u001b[43mcalculate_times_for_all_locations\u001b[49m\u001b[43m(\u001b[49m\u001b[43mlocations\u001b[49m\u001b[43m,\u001b[49m\u001b[43m \u001b[49m\u001b[43mintersection_penalty\u001b[49m\u001b[43m,\u001b[49m\u001b[43m \u001b[49m\u001b[43msecret_scary_factor\u001b[49m\u001b[43m)\u001b[49m  \u001b[38;5;66;03m# Pass current parameters to the function\u001b[39;00m\n\u001b[0;32m     16\u001b[0m \u001b[38;5;66;03m# Assuming a function to calculate times for all locations exists\u001b[39;00m\n\u001b[0;32m     17\u001b[0m total_diff, avg_diff_percentage \u001b[38;5;241m=\u001b[39m evaluate_travel_time_accuracy(benchmark_times, calculated_times)\n",
      "Cell \u001b[1;32mIn[62], line 44\u001b[0m, in \u001b[0;36mcalculate_times_for_all_locations\u001b[1;34m(locations, intersection_penalty, secret_scary_factor)\u001b[0m\n\u001b[0;32m     40\u001b[0m end_node \u001b[38;5;241m=\u001b[39m get_node(end_x, end_y)\n\u001b[0;32m     42\u001b[0m od\u001b[38;5;241m.\u001b[39mset_graph_weights(intersection_penalty, secret_scary_factor, use_ambulance_speeds\u001b[38;5;241m=\u001b[39m\u001b[38;5;28;01mFalse\u001b[39;00m)\n\u001b[1;32m---> 44\u001b[0m shortest_time_path \u001b[38;5;241m=\u001b[39m \u001b[43mox\u001b[49m\u001b[38;5;241;43m.\u001b[39;49m\u001b[43mshortest_path\u001b[49m\u001b[43m(\u001b[49m\n\u001b[0;32m     45\u001b[0m \u001b[43m    \u001b[49m\u001b[43mod\u001b[49m\u001b[38;5;241;43m.\u001b[39;49m\u001b[43mgraph\u001b[49m\u001b[43m,\u001b[49m\n\u001b[0;32m     46\u001b[0m \u001b[43m    \u001b[49m\u001b[43mstart_node\u001b[49m\u001b[43m,\u001b[49m\n\u001b[0;32m     47\u001b[0m \u001b[43m    \u001b[49m\u001b[43mend_node\u001b[49m\u001b[43m,\u001b[49m\u001b[43m \u001b[49m\n\u001b[0;32m     48\u001b[0m \u001b[43m    \u001b[49m\u001b[43mweight\u001b[49m\u001b[38;5;241;43m=\u001b[39;49m\u001b[38;5;124;43m'\u001b[39;49m\u001b[38;5;124;43mtime\u001b[39;49m\u001b[38;5;124;43m'\u001b[39;49m\u001b[43m)\u001b[49m\n\u001b[0;32m     49\u001b[0m total_travel_time \u001b[38;5;241m=\u001b[39m \u001b[38;5;28msum\u001b[39m(od\u001b[38;5;241m.\u001b[39mgraph[u][v][\u001b[38;5;241m0\u001b[39m][\u001b[38;5;124m'\u001b[39m\u001b[38;5;124mtime\u001b[39m\u001b[38;5;124m'\u001b[39m] \u001b[38;5;28;01mfor\u001b[39;00m u, v \u001b[38;5;129;01min\u001b[39;00m \u001b[38;5;28mzip\u001b[39m(shortest_time_path[:\u001b[38;5;241m-\u001b[39m\u001b[38;5;241m1\u001b[39m], shortest_time_path[\u001b[38;5;241m1\u001b[39m:]))\n\u001b[0;32m     51\u001b[0m calculated_times[end_point] \u001b[38;5;241m=\u001b[39m total_travel_time\n",
      "File \u001b[1;32mc:\\Programming\\GitHub\\Data-Processing\\.venv\\Lib\\site-packages\\osmnx\\routing.py:49\u001b[0m, in \u001b[0;36mshortest_path\u001b[1;34m(G, orig, dest, weight, cpus)\u001b[0m\n\u001b[0;32m     14\u001b[0m \u001b[38;5;28;01mdef\u001b[39;00m \u001b[38;5;21mshortest_path\u001b[39m(G, orig, dest, weight\u001b[38;5;241m=\u001b[39m\u001b[38;5;124m\"\u001b[39m\u001b[38;5;124mlength\u001b[39m\u001b[38;5;124m\"\u001b[39m, cpus\u001b[38;5;241m=\u001b[39m\u001b[38;5;241m1\u001b[39m):\n\u001b[0;32m     15\u001b[0m \u001b[38;5;250m    \u001b[39m\u001b[38;5;124;03m\"\"\"\u001b[39;00m\n\u001b[0;32m     16\u001b[0m \u001b[38;5;124;03m    Solve shortest path from origin node(s) to destination node(s).\u001b[39;00m\n\u001b[0;32m     17\u001b[0m \n\u001b[1;32m   (...)\u001b[0m\n\u001b[0;32m     47\u001b[0m \u001b[38;5;124;03m        are lists, then a list of path lists\u001b[39;00m\n\u001b[0;32m     48\u001b[0m \u001b[38;5;124;03m    \"\"\"\u001b[39;00m\n\u001b[1;32m---> 49\u001b[0m     \u001b[43m_verify_edge_attribute\u001b[49m\u001b[43m(\u001b[49m\u001b[43mG\u001b[49m\u001b[43m,\u001b[49m\u001b[43m \u001b[49m\u001b[43mweight\u001b[49m\u001b[43m)\u001b[49m\n\u001b[0;32m     51\u001b[0m     \u001b[38;5;66;03m# if neither orig nor dest is iterable, just return the shortest path\u001b[39;00m\n\u001b[0;32m     52\u001b[0m     \u001b[38;5;28;01mif\u001b[39;00m \u001b[38;5;129;01mnot\u001b[39;00m (\u001b[38;5;28mhasattr\u001b[39m(orig, \u001b[38;5;124m\"\u001b[39m\u001b[38;5;124m__iter__\u001b[39m\u001b[38;5;124m\"\u001b[39m) \u001b[38;5;129;01mor\u001b[39;00m \u001b[38;5;28mhasattr\u001b[39m(dest, \u001b[38;5;124m\"\u001b[39m\u001b[38;5;124m__iter__\u001b[39m\u001b[38;5;124m\"\u001b[39m)):\n",
      "File \u001b[1;32mc:\\Programming\\GitHub\\Data-Processing\\.venv\\Lib\\site-packages\\osmnx\\routing.py:168\u001b[0m, in \u001b[0;36m_verify_edge_attribute\u001b[1;34m(G, attr)\u001b[0m\n\u001b[0;32m    150\u001b[0m \u001b[38;5;250m\u001b[39m\u001b[38;5;124;03m\"\"\"\u001b[39;00m\n\u001b[0;32m    151\u001b[0m \u001b[38;5;124;03mVerify attribute values are numeric and non-null across graph edges.\u001b[39;00m\n\u001b[0;32m    152\u001b[0m \n\u001b[1;32m   (...)\u001b[0m\n\u001b[0;32m    165\u001b[0m \u001b[38;5;124;03mNone\u001b[39;00m\n\u001b[0;32m    166\u001b[0m \u001b[38;5;124;03m\"\"\"\u001b[39;00m\n\u001b[0;32m    167\u001b[0m \u001b[38;5;28;01mtry\u001b[39;00m:\n\u001b[1;32m--> 168\u001b[0m     values \u001b[38;5;241m=\u001b[39m np\u001b[38;5;241m.\u001b[39marray(\u001b[38;5;28mtuple\u001b[39m(G\u001b[38;5;241m.\u001b[39medges(data\u001b[38;5;241m=\u001b[39mattr)))[:, \u001b[38;5;241m2\u001b[39m]\n\u001b[0;32m    169\u001b[0m     values_float \u001b[38;5;241m=\u001b[39m values\u001b[38;5;241m.\u001b[39mastype(\u001b[38;5;28mfloat\u001b[39m)\n\u001b[0;32m    170\u001b[0m     \u001b[38;5;28;01mif\u001b[39;00m np\u001b[38;5;241m.\u001b[39misnan(values_float)\u001b[38;5;241m.\u001b[39many():\n",
      "File \u001b[1;32mc:\\Programming\\GitHub\\Data-Processing\\.venv\\Lib\\site-packages\\networkx\\classes\\reportviews.py:944\u001b[0m, in \u001b[0;36mOutMultiEdgeDataView.__len__\u001b[1;34m(self)\u001b[0m\n\u001b[0;32m    943\u001b[0m \u001b[38;5;28;01mdef\u001b[39;00m \u001b[38;5;21m__len__\u001b[39m(\u001b[38;5;28mself\u001b[39m):\n\u001b[1;32m--> 944\u001b[0m     \u001b[38;5;28;01mreturn\u001b[39;00m \u001b[38;5;28msum\u001b[39m(\u001b[38;5;241m1\u001b[39m \u001b[38;5;28;01mfor\u001b[39;00m e \u001b[38;5;129;01min\u001b[39;00m \u001b[38;5;28mself\u001b[39m)\n",
      "File \u001b[1;32mc:\\Programming\\GitHub\\Data-Processing\\.venv\\Lib\\site-packages\\networkx\\classes\\reportviews.py:944\u001b[0m, in \u001b[0;36m<genexpr>\u001b[1;34m(.0)\u001b[0m\n\u001b[0;32m    943\u001b[0m \u001b[38;5;28;01mdef\u001b[39;00m \u001b[38;5;21m__len__\u001b[39m(\u001b[38;5;28mself\u001b[39m):\n\u001b[1;32m--> 944\u001b[0m     \u001b[38;5;28;01mreturn\u001b[39;00m \u001b[38;5;28msum\u001b[39m\u001b[43m(\u001b[49m\u001b[38;5;241;43m1\u001b[39;49m\u001b[43m \u001b[49m\u001b[38;5;28;43;01mfor\u001b[39;49;00m\u001b[43m \u001b[49m\u001b[43me\u001b[49m\u001b[43m \u001b[49m\u001b[38;5;129;43;01min\u001b[39;49;00m\u001b[43m \u001b[49m\u001b[38;5;28;43mself\u001b[39;49m\u001b[43m)\u001b[49m\n",
      "File \u001b[1;32mc:\\Programming\\GitHub\\Data-Processing\\.venv\\Lib\\site-packages\\networkx\\classes\\reportviews.py:948\u001b[0m, in \u001b[0;36m<genexpr>\u001b[1;34m(.0)\u001b[0m\n\u001b[0;32m    946\u001b[0m \u001b[38;5;28;01mdef\u001b[39;00m \u001b[38;5;21m__iter__\u001b[39m(\u001b[38;5;28mself\u001b[39m):\n\u001b[0;32m    947\u001b[0m     \u001b[38;5;28;01mreturn\u001b[39;00m (\n\u001b[1;32m--> 948\u001b[0m         \u001b[38;5;28;43mself\u001b[39;49m\u001b[38;5;241;43m.\u001b[39;49m\u001b[43m_report\u001b[49m\u001b[43m(\u001b[49m\u001b[43mn\u001b[49m\u001b[43m,\u001b[49m\u001b[43m \u001b[49m\u001b[43mnbr\u001b[49m\u001b[43m,\u001b[49m\u001b[43m \u001b[49m\u001b[43mk\u001b[49m\u001b[43m,\u001b[49m\u001b[43m \u001b[49m\u001b[43mdd\u001b[49m\u001b[43m)\u001b[49m\n\u001b[0;32m    949\u001b[0m         \u001b[38;5;28;01mfor\u001b[39;00m n, nbrs \u001b[38;5;129;01min\u001b[39;00m \u001b[38;5;28mself\u001b[39m\u001b[38;5;241m.\u001b[39m_nodes_nbrs()\n\u001b[0;32m    950\u001b[0m         \u001b[38;5;28;01mfor\u001b[39;00m nbr, kd \u001b[38;5;129;01min\u001b[39;00m nbrs\u001b[38;5;241m.\u001b[39mitems()\n\u001b[0;32m    951\u001b[0m         \u001b[38;5;28;01mfor\u001b[39;00m k, dd \u001b[38;5;129;01min\u001b[39;00m kd\u001b[38;5;241m.\u001b[39mitems()\n\u001b[0;32m    952\u001b[0m     )\n",
      "File \u001b[1;32mc:\\Programming\\GitHub\\Data-Processing\\.venv\\Lib\\site-packages\\networkx\\classes\\reportviews.py:938\u001b[0m, in \u001b[0;36mOutMultiEdgeDataView.__init__.<locals>.<lambda>\u001b[1;34m(n, nbr, k, dd)\u001b[0m\n\u001b[0;32m    931\u001b[0m     \u001b[38;5;28mself\u001b[39m\u001b[38;5;241m.\u001b[39m_report \u001b[38;5;241m=\u001b[39m (\n\u001b[0;32m    932\u001b[0m         \u001b[38;5;28;01mlambda\u001b[39;00m n, nbr, k, dd: (n, nbr, k, dd[data])\n\u001b[0;32m    933\u001b[0m         \u001b[38;5;28;01mif\u001b[39;00m data \u001b[38;5;129;01min\u001b[39;00m dd\n\u001b[0;32m    934\u001b[0m         \u001b[38;5;28;01melse\u001b[39;00m (n, nbr, k, default)\n\u001b[0;32m    935\u001b[0m     )\n\u001b[0;32m    936\u001b[0m \u001b[38;5;28;01melse\u001b[39;00m:\n\u001b[0;32m    937\u001b[0m     \u001b[38;5;28mself\u001b[39m\u001b[38;5;241m.\u001b[39m_report \u001b[38;5;241m=\u001b[39m (\n\u001b[1;32m--> 938\u001b[0m         \u001b[38;5;28;01mlambda\u001b[39;00m n, nbr, k, dd: (n, nbr, dd[data])\n\u001b[0;32m    939\u001b[0m         \u001b[38;5;28;01mif\u001b[39;00m data \u001b[38;5;129;01min\u001b[39;00m dd\n\u001b[0;32m    940\u001b[0m         \u001b[38;5;28;01melse\u001b[39;00m (n, nbr, default)\n\u001b[0;32m    941\u001b[0m     )\n",
      "\u001b[1;31mKeyboardInterrupt\u001b[0m: "
     ]
    }
   ],
   "source": [
    "from tqdm import tqdm  # Import tqdm\n",
    "\n",
    "def find_optimal_parameters(locations, benchmark_times):\n",
    "    optimal_diff = float('inf')\n",
    "    optimal_settings = (None, None)\n",
    "\n",
    "    # Wrap the outer loop with tqdm for a progress bar\n",
    "    for intersection_penalty in tqdm([x * 0.5 for x in range(1, 31)], desc='Intersection Penalty Progress'):  # From 8 to 11 inclusive\n",
    "        # Wrap the inner loop with tqdm as well, but you might want to remove or keep it silent to avoid clutter\n",
    "        for secret_scary_factor in tqdm([x * 0.05 for x in range(1, 41)], desc='Secret Scary Factor Progress', leave=True):  # From 1.0 to 2.0 in 0.1 steps\n",
    "            print(f\"Current Settings: Intersection Penalty = {intersection_penalty}, Secret Scary Factor = {secret_scary_factor}\")  # Print current parameter combination\n",
    "            \n",
    "            # Assuming a function to set simulation parameters exists\n",
    "            calculated_times = calculate_times_for_all_locations(locations, intersection_penalty, secret_scary_factor)  # Pass current parameters to the function\n",
    "\n",
    "            # Assuming a function to calculate times for all locations exists\n",
    "            total_diff, avg_diff_percentage = evaluate_travel_time_accuracy(benchmark_times, calculated_times)\n",
    "\n",
    "            if total_diff < optimal_diff:\n",
    "                optimal_diff = total_diff\n",
    "                optimal_settings = (intersection_penalty, secret_scary_factor)\n",
    "\n",
    "    print(f\"Optimal settings found: Intersection Penalty = {optimal_settings[0]}, Secret Scary Factor = {optimal_settings[1]}\")\n",
    "    print(f\"With a total discrepancy of: {optimal_diff} minutes\")\n",
    "\n",
    "def calculate_times_for_all_locations(locations, intersection_penalty, secret_scary_factor):\n",
    "    calculated_times = {}\n",
    "\n",
    "    for end_point, _ in benchmark_times.items():\n",
    "        start_index = (locations.index(end_point) - 1) % len(locations)  # Ensuring the index wraps correctly\n",
    "        start_point = locations[start_index]\n",
    "        \n",
    "        start_x, start_y = utils.geographic_to_utm(start_point[0], start_point[1])\n",
    "        end_x, end_y = utils.geographic_to_utm(end_point[0], end_point[1])\n",
    "        \n",
    "        start_node = get_node(start_x, start_y)\n",
    "        end_node = get_node(end_x, end_y)\n",
    "\n",
    "        od.set_graph_weights(intersection_penalty, secret_scary_factor, use_ambulance_speeds=False)\n",
    "\n",
    "        shortest_time_path = ox.shortest_path(\n",
    "            od.graph,\n",
    "            start_node,\n",
    "            end_node, \n",
    "            weight='time')\n",
    "        total_travel_time = sum(od.graph[u][v][0]['time'] for u, v in zip(shortest_time_path[:-1], shortest_time_path[1:]))\n",
    "\n",
    "        calculated_times[end_point] = total_travel_time\n",
    "    return calculated_times\n",
    "\n",
    "find_optimal_parameters(locations, benchmark_times)\n"
   ]
  }
 ],
 "metadata": {
  "kernelspec": {
   "display_name": ".venv",
   "language": "python",
   "name": "python3"
  },
  "language_info": {
   "codemirror_mode": {
    "name": "ipython",
    "version": 3
   },
   "file_extension": ".py",
   "mimetype": "text/x-python",
   "name": "python",
   "nbconvert_exporter": "python",
   "pygments_lexer": "ipython3",
   "version": "3.11.7"
  }
 },
 "nbformat": 4,
 "nbformat_minor": 2
}
