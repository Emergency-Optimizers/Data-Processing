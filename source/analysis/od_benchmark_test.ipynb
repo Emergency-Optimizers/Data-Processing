{
 "cells": [
  {
   "cell_type": "markdown",
   "metadata": {},
   "source": [
    "# Fix pathing"
   ]
  },
  {
   "cell_type": "code",
   "execution_count": 1,
   "metadata": {},
   "outputs": [],
   "source": [
    "import sys\n",
    "\n",
    "\n",
    "sys.path.append(\"..\")\n"
   ]
  },
  {
   "cell_type": "code",
   "execution_count": 2,
   "metadata": {},
   "outputs": [],
   "source": [
    "import constants\n",
    "\n",
    "import os\n",
    "\n",
    "\n",
    "constants.PROJECT_DIRECTORY_PATH = os.path.dirname(os.path.dirname(constants.PROJECT_DIRECTORY_PATH))\n"
   ]
  },
  {
   "cell_type": "markdown",
   "metadata": {},
   "source": [
    "# Imports"
   ]
  },
  {
   "cell_type": "code",
   "execution_count": 3,
   "metadata": {},
   "outputs": [],
   "source": [
    "import datahandler\n",
    "import plotter\n",
    "import utils\n",
    "import pathing\n",
    "\n",
    "import matplotlib\n",
    "import matplotlib.pyplot as plt\n",
    "import numpy as np\n",
    "import seaborn as sns\n",
    "import geopandas as gpd\n",
    "import pandas as pd\n",
    "\n",
    "import osmnx as ox\n",
    "import networkx as nx\n",
    "import geopandas as gpd\n",
    "import shapely\n",
    "import shapely.geometry\n",
    "import folium\n",
    "import scipy\n",
    "import networkx\n"
   ]
  },
  {
   "cell_type": "markdown",
   "metadata": {},
   "source": [
    "# Constants"
   ]
  },
  {
   "cell_type": "code",
   "execution_count": 4,
   "metadata": {},
   "outputs": [
    {
     "name": "stderr",
     "output_type": "stream",
     "text": [
      "Cleaning dataset: 100%|██████████| 2/2 [00:00<?, ?it/s]\n",
      "Processing dataset: 100%|██████████| 2/2 [00:00<00:00, 1665.07it/s]\n",
      "Enhancing dataset: 100%|██████████| 2/2 [00:00<?, ?it/s]\n"
     ]
    }
   ],
   "source": [
    "data_preprocessor = datahandler.DataPreprocessorOUS_V2()\n",
    "data_preprocessor.execute()\n",
    "\n",
    "data_loader = datahandler.DataLoader(datahandler.DataPreprocessorOUS_V2)\n",
    "data_loader.execute(clean=False, processed=False, enhanced=False)"
   ]
  },
  {
   "cell_type": "markdown",
   "metadata": {},
   "source": [
    "# Main"
   ]
  },
  {
   "cell_type": "code",
   "execution_count": 5,
   "metadata": {},
   "outputs": [],
   "source": [
    "od = pathing.OriginDestination(\n",
    "    dataset_id=\"oslo\",\n",
    "    utm_epsg=f\"EPSG:326{33}\"\n",
    ")\n",
    "\n",
    "od.get_graph()"
   ]
  },
  {
   "cell_type": "code",
   "execution_count": 6,
   "metadata": {},
   "outputs": [],
   "source": [
    "central_depot_grid_id = 22620006649000\n",
    "central_depot_x, central_depot_y = utils.id_to_utm(central_depot_grid_id)\n",
    "od.node_validator = ox.distance.nearest_nodes(od.graph, central_depot_x, central_depot_y)"
   ]
  },
  {
   "cell_type": "code",
   "execution_count": 7,
   "metadata": {},
   "outputs": [],
   "source": [
    "def get_node(x, y):\n",
    "    while True:\n",
    "        node = ox.distance.nearest_nodes(od.graph, x, y)\n",
    "        if networkx.has_path(od.graph, node, od.node_validator) and networkx.has_path(od.graph, od.node_validator, node):\n",
    "            od.node_cache[(x, y)] = node\n",
    "            return node\n",
    "        else:\n",
    "            od.graph.remove_node(node)"
   ]
  },
  {
   "cell_type": "code",
   "execution_count": 8,
   "metadata": {},
   "outputs": [],
   "source": [
    "def evaluate_travel_time_accuracy(benchmark_times, calculated_times):\n",
    "    total_diff = 0\n",
    "    total_diff_percentage = 0\n",
    "\n",
    "    for destination, benchmark in benchmark_times.items():\n",
    "        if destination in calculated_times:\n",
    "            calculated = calculated_times[destination]\n",
    "            diff = abs(benchmark - calculated)\n",
    "            diff_percentage = (diff / benchmark) * 100\n",
    "\n",
    "            total_diff += diff\n",
    "            total_diff_percentage += diff_percentage\n",
    "\n",
    "            print(f\"Destination {destination}:\")\n",
    "            print(f\"  Benchmark Time: {benchmark} minutes\")\n",
    "            print(f\"  Calculated Time: {calculated} minutes\")\n",
    "            print(f\"  Difference: {diff} minutes ({diff_percentage:.2f}%)\")\n",
    "            print()\n",
    "        else:\n",
    "            print(f\"Destination {destination} not found in calculated times.\")\n",
    "\n",
    "    avg_diff_percentage = total_diff_percentage / len(benchmark_times)\n",
    "    print(f\"Total Discrepancy: {total_diff} minutes across all destinations.\")\n",
    "    print(f\"Average Discrepancy Percentage: {avg_diff_percentage:.2f}%\")"
   ]
  },
  {
   "cell_type": "code",
   "execution_count": 12,
   "metadata": {},
   "outputs": [],
   "source": [
    "intersection_penalty = 10\n",
    "secret_scary_factor = 0.65\n",
    "use_ambulance_speeds = False\n",
    "\n",
    "od.set_graph_weights(intersection_penalty, secret_scary_factor, use_ambulance_speeds)"
   ]
  },
  {
   "cell_type": "code",
   "execution_count": 13,
   "metadata": {},
   "outputs": [],
   "source": [
    "x, y = utils.geographic_to_utm(10.7343661,59.9369806)\n",
    "start_node = get_node(x, y)\n",
    "\n",
    "destinations = [(10.7740711,59.9276535), (10.7367191,59.9086137), (10.8131627,59.8967944)]\n",
    "\n",
    "benchmark_times = {(10.7740711,59.9276535):7, # 6-8 minutes\n",
    "                   (10.7367191,59.9086137):16, # 14-18 minutes\n",
    "                   (10.8131627,59.8967944):14} # 14 minutter"
   ]
  },
  {
   "cell_type": "code",
   "execution_count": 14,
   "metadata": {},
   "outputs": [
    {
     "name": "stdout",
     "output_type": "stream",
     "text": [
      "Destination (10.7740711, 59.9276535):\n",
      "  Benchmark Time: 7 minutes\n",
      "  Calculated Time: 6.95308767179487 minutes\n",
      "  Difference: 0.04691232820512958 minutes (0.67%)\n",
      "\n",
      "Destination (10.7367191, 59.9086137):\n",
      "  Benchmark Time: 16 minutes\n",
      "  Calculated Time: 11.790558451282054 minutes\n",
      "  Difference: 4.209441548717946 minutes (26.31%)\n",
      "\n",
      "Destination (10.8131627, 59.8967944):\n",
      "  Benchmark Time: 14 minutes\n",
      "  Calculated Time: 13.458137878388275 minutes\n",
      "  Difference: 0.5418621216117252 minutes (3.87%)\n",
      "\n",
      "Total Discrepancy: 4.7982159985348005 minutes across all destinations.\n",
      "Average Discrepancy Percentage: 10.28%\n"
     ]
    }
   ],
   "source": [
    "calculated_times = {}\n",
    "\n",
    "for destination in destinations:\n",
    "    x, y = utils.geographic_to_utm(destination[0], destination[1])\n",
    "    destination_node = get_node(x, y)\n",
    "\n",
    "    shortest_time_path = ox.shortest_path(\n",
    "                    od.graph,\n",
    "                    start_node,\n",
    "                    destination_node,\n",
    "                    weight='time'\n",
    "                )\n",
    "\n",
    "    total_travel_time = sum(od.graph[u][v][0]['time'] for u, v in zip(shortest_time_path[:-1], shortest_time_path[1:]))\n",
    "    \n",
    "    calculated_times[destination] = total_travel_time\n",
    "    \n",
    "evaluate_travel_time_accuracy(benchmark_times, calculated_times)"
   ]
  }
 ],
 "metadata": {
  "kernelspec": {
   "display_name": ".venv",
   "language": "python",
   "name": "python3"
  },
  "language_info": {
   "codemirror_mode": {
    "name": "ipython",
    "version": 3
   },
   "file_extension": ".py",
   "mimetype": "text/x-python",
   "name": "python",
   "nbconvert_exporter": "python",
   "pygments_lexer": "ipython3",
   "version": "3.11.7"
  }
 },
 "nbformat": 4,
 "nbformat_minor": 2
}
