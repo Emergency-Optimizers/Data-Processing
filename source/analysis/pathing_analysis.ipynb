{
 "cells": [
  {
   "cell_type": "markdown",
   "metadata": {},
   "source": [
    "# Fix pathing"
   ]
  },
  {
   "cell_type": "code",
   "execution_count": 1,
   "metadata": {},
   "outputs": [],
   "source": [
    "import sys\n",
    "\n",
    "\n",
    "sys.path.append(\"..\")\n"
   ]
  },
  {
   "cell_type": "code",
   "execution_count": 2,
   "metadata": {},
   "outputs": [],
   "source": [
    "import constants\n",
    "\n",
    "import os\n",
    "\n",
    "\n",
    "constants.PROJECT_DIRECTORY_PATH = os.path.dirname(os.path.dirname(constants.PROJECT_DIRECTORY_PATH))\n"
   ]
  },
  {
   "cell_type": "markdown",
   "metadata": {},
   "source": [
    "# Imports"
   ]
  },
  {
   "cell_type": "code",
   "execution_count": 3,
   "metadata": {},
   "outputs": [],
   "source": [
    "import utils\n",
    "import datahandler\n",
    "\n",
    "import numpy as np\n",
    "import pandas as pd\n",
    "from tqdm import tqdm\n",
    "import osmnx\n",
    "import osmnx.utils_graph\n",
    "import networkx\n",
    "import math\n",
    "import osmnx.distance\n",
    "import geopandas as gpd\n",
    "import shapely.geometry\n"
   ]
  },
  {
   "cell_type": "markdown",
   "metadata": {},
   "source": [
    "# Load dataset"
   ]
  },
  {
   "cell_type": "code",
   "execution_count": 4,
   "metadata": {},
   "outputs": [
    {
     "name": "stderr",
     "output_type": "stream",
     "text": [
      "Cleaning dataset: 100%|██████████| 2/2 [00:00<?, ?it/s]\n",
      "Processing dataset: 100%|██████████| 2/2 [00:00<00:00, 4000.29it/s]\n",
      "Enhancing dataset: 100%|██████████| 2/2 [00:00<?, ?it/s]\n",
      "Loading dataset: 100%|██████████| 6/6 [00:13<00:00,  2.26s/it]\n"
     ]
    }
   ],
   "source": [
    "dataset_id = \"oslo\"\n",
    "\n",
    "data_preprocessor = datahandler.DataPreprocessorOUS(dataset_id)\n",
    "data_preprocessor.execute()\n",
    "\n",
    "data_loader = datahandler.DataLoader(dataset_id)\n",
    "data_loader.execute()\n"
   ]
  },
  {
   "cell_type": "markdown",
   "metadata": {},
   "source": [
    "# Main"
   ]
  },
  {
   "cell_type": "code",
   "execution_count": 5,
   "metadata": {},
   "outputs": [],
   "source": [
    "def get_centroid_max_distance():\n",
    "    akershus_gdf: gpd.GeoDataFrame = gpd.read_file(os.path.join(constants.PROJECT_DIRECTORY_PATH, \"data\", \"ssb_2019_akershus_polygon_epsg4326.geojson\"))\n",
    "    oslo_gdf: gpd.GeoDataFrame = gpd.read_file(os.path.join(constants.PROJECT_DIRECTORY_PATH, \"data\", \"ssb_2019_oslo_polygon_epsg4326.geojson\"))\n",
    "\n",
    "    akershus_gdf['dissolve_field'] = 'Region'\n",
    "    oslo_gdf['dissolve_field'] = 'Region'\n",
    "    combined_gdf: gpd.GeoDataFrame = pd.concat([akershus_gdf, oslo_gdf], ignore_index=True)\n",
    "    gdf: gpd.GeoDataFrame = combined_gdf.dissolve(by='dissolve_field')\n",
    "\n",
    "    gdf = gdf.to_crs(epsg=32633)\n",
    "    centroid: shapely.geometry.Point = gdf.geometry.centroid.iloc[0]\n",
    "\n",
    "    lon, lat = utils.utm_to_geographic(centroid.x, centroid.y)\n",
    "\n",
    "    max_distance = gdf.geometry.bounds.apply(\n",
    "        lambda row: max(\n",
    "            centroid.distance(shapely.geometry.Point(row['minx'], row['miny'])),\n",
    "            centroid.distance(shapely.geometry.Point(row['minx'], row['maxy'])),\n",
    "            centroid.distance(shapely.geometry.Point(row['maxx'], row['miny'])),\n",
    "            centroid.distance(shapely.geometry.Point(row['maxx'], row['maxy']))\n",
    "        ),\n",
    "        axis=1\n",
    "    ).max()\n",
    "\n",
    "    return (lat, lon), max_distance\n"
   ]
  },
  {
   "cell_type": "code",
   "execution_count": 6,
   "metadata": {},
   "outputs": [],
   "source": [
    "def get_graph(centroid, distance, epsg: str = f\"EPSG:326{33}\"):\n",
    "    graph = osmnx.graph_from_point(\n",
    "        centroid,\n",
    "        distance,\n",
    "        dist_type=\"bbox\",\n",
    "        network_type=\"drive\",\n",
    "        simplify=True,\n",
    "        retain_all=False,\n",
    "        truncate_by_edge=False\n",
    "    )\n",
    "    graph = osmnx.project_graph(graph, to_crs=epsg)\n",
    "\n",
    "    return graph\n"
   ]
  },
  {
   "cell_type": "code",
   "execution_count": 7,
   "metadata": {},
   "outputs": [],
   "source": [
    "def set_graph_weights(graph: networkx.MultiDiGraph):\n",
    "    speeds_normal = {\n",
    "        30: 26.9,\n",
    "        40: 45.4,\n",
    "        50: 67.6,\n",
    "        60: 85.8,\n",
    "        70: 91.8,\n",
    "        80: 104.2,\n",
    "        90: 112.1,\n",
    "        100: 120.0,\n",
    "        110: 128.45,\n",
    "        120: 136.9\n",
    "    }\n",
    "    INTERSECTION_PENALTY = 10\n",
    "\n",
    "    for u, v, data in graph.edges(data=True):\n",
    "        if \"maxspeed\" in data and data[\"maxspeed\"] != \"NO:urban\":\n",
    "            if isinstance(data[\"maxspeed\"], list):\n",
    "                speed_limits = [speeds_normal.get(int(s), int(s)) for s in data[\"maxspeed\"]]\n",
    "                speed_limit = sum(speed_limits) / len(speed_limits)\n",
    "            else:\n",
    "                speed_limit = speeds_normal.get(int(data[\"maxspeed\"]), int(data[\"maxspeed\"]))\n",
    "            \n",
    "            avg_speed = speed_limit * 0.65\n",
    "        else:\n",
    "            avg_speed = 50\n",
    "        \n",
    "        data[\"time\"] = data[\"length\"] / (avg_speed * 1000/60)\n",
    "\n",
    "        if \"junction\" in graph.nodes[u] or \"highway\" in graph.nodes[u] and graph.nodes[u][\"highway\"] == \"traffic_signals\":\n",
    "            data[\"time\"] += INTERSECTION_PENALTY / 60\n",
    "        if \"junction\" in graph.nodes[v] or \"highway\" in graph.nodes[v] and graph.nodes[v][\"highway\"] == \"traffic_signals\":\n",
    "            data[\"time\"] += INTERSECTION_PENALTY / 60\n"
   ]
  },
  {
   "cell_type": "code",
   "execution_count": 8,
   "metadata": {},
   "outputs": [],
   "source": [
    "def plot_route(graph: networkx.MultiDiGraph, grid_id1, grid_id2):\n",
    "    x1, y1 = utils.id_to_utm(grid_id1)\n",
    "    x2, y2 = utils.id_to_utm(grid_id2)\n",
    "\n",
    "    node1 = osmnx.distance.nearest_nodes(graph, x1, y1)\n",
    "    node2 = osmnx.distance.nearest_nodes(graph, x2, y2)\n",
    "\n",
    "    if networkx.has_path(graph, node1, node2):\n",
    "        shortest_path = osmnx.shortest_path(graph, node1, node2, weight='time')\n",
    "        osmnx.plot_graph_route(graph, shortest_path)\n",
    "    else:\n",
    "        print(\"No path between the specified nodes.\")\n"
   ]
  },
  {
   "cell_type": "code",
   "execution_count": 9,
   "metadata": {},
   "outputs": [],
   "source": [
    "def get_node(graph: networkx.MultiDiGraph, node_validator, grid_id, cache):\n",
    "    if grid_id in cache:\n",
    "        return cache[grid_id]\n",
    "    \n",
    "    x, y = utils.id_to_utm(grid_id)\n",
    "\n",
    "    while True:\n",
    "        node = osmnx.distance.nearest_nodes(graph, x, y)\n",
    "        if networkx.has_path(graph, node, node_validator) and networkx.has_path(graph, node_validator, node):\n",
    "            cache[grid_id] = node\n",
    "            return node\n",
    "        else:\n",
    "            graph.remove_node(node)\n"
   ]
  },
  {
   "cell_type": "code",
   "execution_count": 11,
   "metadata": {},
   "outputs": [],
   "source": [
    "def simplify_graph(graph: networkx.MultiDiGraph, grid_id_validator, grid_ids, cache):\n",
    "    \"\"\"Does not work\"\"\"\n",
    "    x, y = utils.id_to_utm(grid_id_validator)\n",
    "    node_validator = osmnx.distance.nearest_nodes(graph, x, y)\n",
    "\n",
    "    edges = []\n",
    "    for grid_id in tqdm(grid_ids, desc=\"Simplifying graph\"):\n",
    "        edges.extend(list(graph.edges(get_node(graph, node_validator, grid_id, cache), keys=True)))\n",
    "    \n",
    "    return graph.edge_subgraph(edges).copy()\n"
   ]
  },
  {
   "cell_type": "code",
   "execution_count": 12,
   "metadata": {},
   "outputs": [
    {
     "name": "stderr",
     "output_type": "stream",
     "text": [
      "Simplifying graph: 100%|██████████| 2616/2616 [25:58<00:00,  1.68it/s]\n"
     ]
    }
   ],
   "source": [
    "grid_ids = pd.concat([data_loader.enhanced_incidents_df[\"grid_id\"], data_loader.enhanced_depots_df[\"grid_id\"]])\n",
    "grid_ids = grid_ids.unique()\n",
    "grid_ids.sort()\n",
    "\n",
    "centroid, distance = get_centroid_max_distance()\n",
    "graph = get_graph(centroid, distance)\n",
    "set_graph_weights(graph)\n",
    "\n",
    "central_depot_grid_id = 22620006649000\n",
    "central_depot_x, central_depot_y = utils.id_to_utm(central_depot_grid_id)\n",
    "node_validator = osmnx.distance.nearest_nodes(graph, central_depot_x, central_depot_y)\n",
    "node_cache = {}\n"
   ]
  }
 ],
 "metadata": {
  "kernelspec": {
   "display_name": ".venv",
   "language": "python",
   "name": "python3"
  },
  "language_info": {
   "codemirror_mode": {
    "name": "ipython",
    "version": 3
   },
   "file_extension": ".py",
   "mimetype": "text/x-python",
   "name": "python",
   "nbconvert_exporter": "python",
   "pygments_lexer": "ipython3",
   "version": "3.11.6"
  }
 },
 "nbformat": 4,
 "nbformat_minor": 2
}
