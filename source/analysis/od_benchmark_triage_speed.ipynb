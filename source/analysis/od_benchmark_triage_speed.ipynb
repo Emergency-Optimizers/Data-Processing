{
 "cells": [
  {
   "cell_type": "markdown",
   "metadata": {},
   "source": [
    "# Fix pathing"
   ]
  },
  {
   "cell_type": "code",
   "execution_count": 1,
   "metadata": {},
   "outputs": [],
   "source": [
    "import sys\n",
    "\n",
    "\n",
    "sys.path.append(\"..\")\n"
   ]
  },
  {
   "cell_type": "code",
   "execution_count": 2,
   "metadata": {},
   "outputs": [],
   "source": [
    "import constants\n",
    "\n",
    "import os\n",
    "\n",
    "\n",
    "constants.PROJECT_DIRECTORY_PATH = os.path.dirname(os.path.dirname(constants.PROJECT_DIRECTORY_PATH))\n"
   ]
  },
  {
   "cell_type": "markdown",
   "metadata": {},
   "source": [
    "# Imports"
   ]
  },
  {
   "cell_type": "code",
   "execution_count": 3,
   "metadata": {},
   "outputs": [],
   "source": [
    "import datahandler\n",
    "import utils\n",
    "import pathing\n",
    "\n",
    "import osmnx as ox\n",
    "import networkx\n",
    "import random\n",
    "import time\n",
    "from tqdm import tqdm\n"
   ]
  },
  {
   "cell_type": "markdown",
   "metadata": {},
   "source": [
    "# Constants"
   ]
  },
  {
   "cell_type": "code",
   "execution_count": 4,
   "metadata": {},
   "outputs": [
    {
     "name": "stderr",
     "output_type": "stream",
     "text": [
      "Cleaning dataset: 100%|██████████| 2/2 [00:00<00:00, 250.26it/s]\n",
      "Processing dataset: 100%|██████████| 2/2 [00:00<?, ?it/s]\n",
      "Enhancing dataset: 100%|██████████| 2/2 [00:00<?, ?it/s]\n"
     ]
    }
   ],
   "source": [
    "data_preprocessor = datahandler.DataPreprocessorOUS_V2()\n",
    "data_preprocessor.execute()\n",
    "\n",
    "data_loader = datahandler.DataLoader(datahandler.DataPreprocessorOUS_V2)\n",
    "data_loader.execute(clean=False, processed=False, enhanced=False)"
   ]
  },
  {
   "cell_type": "markdown",
   "metadata": {},
   "source": [
    "# Methods"
   ]
  },
  {
   "cell_type": "code",
   "execution_count": 5,
   "metadata": {},
   "outputs": [],
   "source": [
    "def get_node(od: pathing.OriginDestination, x, y):\n",
    "    if (x, y) in od.node_cache:\n",
    "        return od.node_cache[(x, y)]\n",
    "    \n",
    "    while True:\n",
    "        node = ox.distance.nearest_nodes(od.graph, x, y)\n",
    "        if networkx.has_path(od.graph, node, od.node_validator) and networkx.has_path(od.graph, od.node_validator, node):\n",
    "            od.node_cache[(x, y)] = node\n",
    "            return node\n",
    "        else:\n",
    "            od.graph.remove_node(node)\n"
   ]
  },
  {
   "cell_type": "code",
   "execution_count": 6,
   "metadata": {},
   "outputs": [],
   "source": [
    "def gen_linkers(road_type_factors, link_factor):\n",
    "    linkables = [\n",
    "        \"motorway\",\n",
    "        \"trunk\",\n",
    "        \"primary\",\n",
    "        \"secondary\",\n",
    "        \"tertiary\",\n",
    "    ]\n",
    "\n",
    "    for linkable in linkables:\n",
    "        if linkable in road_type_factors:\n",
    "            road_type_factors[linkable + \"_link\"] = road_type_factors[linkable] * link_factor\n",
    "    \n",
    "    return road_type_factors\n"
   ]
  },
  {
   "cell_type": "code",
   "execution_count": 14,
   "metadata": {},
   "outputs": [],
   "source": [
    "def evaluate_travel_time_accuracy(benchmark_times, calculated_times_with_acute_speeds, calculated_times_without_acute_speeds):\n",
    "    total_diff = 0\n",
    "    total_diff_percentage = 0\n",
    "\n",
    "    for path, acceptable_range in benchmark_times.items():\n",
    "        diff = abs(calculated_times_without_acute_speeds[path] - calculated_times_with_acute_speeds[path])\n",
    "        diff_percentage = (diff / calculated_times_with_acute_speeds[path]) * 100\n",
    "\n",
    "        total_diff += diff\n",
    "        total_diff_percentage += diff_percentage\n",
    "\n",
    "        print(f\"Path {path}:\")\n",
    "        print(f\"  Benchmark Time: {acceptable_range} minutes\")\n",
    "        print(f\"  Calculated Time With Acute Speeds: {calculated_times_with_acute_speeds[path]} minutes\")\n",
    "        print(f\"  Calculated Time Without Acute Speeds: {calculated_times_without_acute_speeds[path]} minutes\")\n",
    "        print(f\"  Difference: {diff} minutes ({diff_percentage:.2f}%)\")\n",
    "        print()\n",
    "\n",
    "    avg_diff_percentage = total_diff_percentage / len(benchmark_times)\n",
    "    print(f\"Total Discrepancy: {total_diff} minutes across all paths.\")\n",
    "    print(f\"Average Discrepancy Percentage: {avg_diff_percentage:.2f}%\")\n"
   ]
  },
  {
   "cell_type": "code",
   "execution_count": 30,
   "metadata": {},
   "outputs": [],
   "source": [
    "def evaluate_travel_time_accuracy_2(benchmark_times, calculated_times, acute_factor):\n",
    "    total_diff = 0\n",
    "    total_diff_percentage = 0\n",
    "\n",
    "    for path, acceptable_range in benchmark_times.items():\n",
    "        diff = abs(calculated_times[path] - calculated_times[path] * acute_factor)\n",
    "        diff_percentage = (diff / calculated_times[path] * acute_factor) * 100\n",
    "\n",
    "        total_diff += diff\n",
    "        total_diff_percentage += diff_percentage\n",
    "\n",
    "        print(f\"Path {path}:\")\n",
    "        print(f\"  Benchmark Time: {acceptable_range} minutes\")\n",
    "        print(f\"  Calculated Time With Acute Speeds: {calculated_times[path] * acute_factor} minutes\")\n",
    "        print(f\"  Calculated Time Without Acute Speeds: {calculated_times[path]} minutes\")\n",
    "        print(f\"  Difference: {diff} minutes ({diff_percentage:.2f}%)\")\n",
    "        print()\n",
    "\n",
    "    avg_diff_percentage = total_diff_percentage / len(benchmark_times)\n",
    "    print(f\"Total Discrepancy: {total_diff} minutes across all paths.\")\n",
    "    print(f\"Average Discrepancy Percentage: {avg_diff_percentage:.2f}%\")\n"
   ]
  },
  {
   "cell_type": "code",
   "execution_count": 31,
   "metadata": {},
   "outputs": [],
   "source": [
    "def calculate_error_old(od: pathing.OriginDestination, benchmark_times):\n",
    "    calculated_times = {}\n",
    "    \n",
    "    # Assuming utils and get_node functions are defined and work as intended\n",
    "    for ((start_lon, start_lat), (end_lon, end_lat)), _ in benchmark_times.items():\n",
    "        # Convert geographic coordinates to UTM and get the corresponding node\n",
    "        start_x, start_y = utils.geographic_to_utm(start_lon, start_lat)\n",
    "        end_x, end_y = utils.geographic_to_utm(end_lon, end_lat)\n",
    "\n",
    "        start_node = get_node(od, start_x, start_y)\n",
    "        end_node = get_node(od, end_x, end_y)\n",
    "\n",
    "        # Calculate the shortest path and total travel time\n",
    "        shortest_time_path = ox.shortest_path(\n",
    "            od.graph,\n",
    "            start_node,\n",
    "            end_node,\n",
    "            weight='time'\n",
    "        )\n",
    "        total_travel_time = sum(od.graph[u][v][0]['time'] for u, v in zip(shortest_time_path[:-1], shortest_time_path[1:]))\n",
    "\n",
    "        # Store the calculated travel time\n",
    "        calculated_times[((start_lon, start_lat), (end_lon, end_lat))] = total_travel_time\n",
    "\n",
    "    # Calculate MSE\n",
    "    errors = []\n",
    "\n",
    "    for path, acceptable_range in benchmark_times.items():\n",
    "        calculated_time = calculated_times[path]\n",
    "        lower_bound, upper_bound = acceptable_range\n",
    "\n",
    "        # Check if the calculated time falls within the acceptable range\n",
    "        if lower_bound <= calculated_time <= upper_bound:\n",
    "            error = 0\n",
    "        else:\n",
    "            # If outside the range, find the smallest absolute difference to the bounds\n",
    "            error = min(abs(calculated_time - lower_bound), abs(calculated_time - upper_bound))\n",
    "        \n",
    "        errors.append(error)\n",
    "\n",
    "    mse = sum(error ** 2 for error in errors) / len(errors)\n",
    "    \n",
    "    return mse, calculated_times\n"
   ]
  },
  {
   "cell_type": "code",
   "execution_count": 15,
   "metadata": {},
   "outputs": [],
   "source": [
    "def calculate_error(od: pathing.OriginDestination, benchmark_times, current_solution, acute_factor):\n",
    "    calculated_times_with_acute_speeds = {}\n",
    "    calculated_times_without_acute_speeds = {}\n",
    "    \n",
    "    # Assuming utils and get_node functions are defined and work as intended\n",
    "    for ((start_lon, start_lat), (end_lon, end_lat)), _ in benchmark_times.items():\n",
    "        # Convert geographic coordinates to UTM and get the corresponding node\n",
    "        start_x, start_y = utils.geographic_to_utm(start_lon, start_lat)\n",
    "        end_x, end_y = utils.geographic_to_utm(end_lon, end_lat)\n",
    "\n",
    "        start_node = get_node(od, start_x, start_y)\n",
    "        end_node = get_node(od, end_x, end_y)\n",
    "\n",
    "        # Calculate the shortest path and total travel time\n",
    "        shortest_time_path = ox.shortest_path(\n",
    "            od.graph,\n",
    "            start_node,\n",
    "            end_node,\n",
    "            weight='time'\n",
    "        )\n",
    "        total_travel_time = sum(od.graph[u][v][0]['time'] for u, v in zip(shortest_time_path[:-1], shortest_time_path[1:]))\n",
    "\n",
    "        # Store the calculated travel time\n",
    "        calculated_times_with_acute_speeds[((start_lon, start_lat), (end_lon, end_lat))] = total_travel_time\n",
    "    \n",
    "    \n",
    "    od.set_graph_weights_v2(**current_solution, use_ambulance_speeds=False)\n",
    "\n",
    "    # Assuming utils and get_node functions are defined and work as intended\n",
    "    for ((start_lon, start_lat), (end_lon, end_lat)), _ in benchmark_times.items():\n",
    "        # Convert geographic coordinates to UTM and get the corresponding node\n",
    "        start_x, start_y = utils.geographic_to_utm(start_lon, start_lat)\n",
    "        end_x, end_y = utils.geographic_to_utm(end_lon, end_lat)\n",
    "\n",
    "        start_node = get_node(od, start_x, start_y)\n",
    "        end_node = get_node(od, end_x, end_y)\n",
    "\n",
    "        # Calculate the shortest path and total travel time\n",
    "        shortest_time_path = ox.shortest_path(\n",
    "            od.graph,\n",
    "            start_node,\n",
    "            end_node,\n",
    "            weight='time'\n",
    "        )\n",
    "        total_travel_time = sum(od.graph[u][v][0]['time'] for u, v in zip(shortest_time_path[:-1], shortest_time_path[1:]))\n",
    "\n",
    "        # Store the calculated travel time\n",
    "        calculated_times_without_acute_speeds[((start_lon, start_lat), (end_lon, end_lat))] = total_travel_time * acute_factor\n",
    "\n",
    "    # Calculate MSE\n",
    "    errors = []\n",
    "\n",
    "    for path, _ in benchmark_times.items():\n",
    "        error = abs(calculated_times_without_acute_speeds[path] - calculated_times_with_acute_speeds[path])\n",
    "        errors.append(error)\n",
    "\n",
    "    mse = sum(error ** 2 for error in errors) / len(errors)\n",
    "    \n",
    "    return mse, calculated_times_with_acute_speeds, calculated_times_without_acute_speeds\n"
   ]
  },
  {
   "cell_type": "code",
   "execution_count": 24,
   "metadata": {},
   "outputs": [],
   "source": [
    "def optimize_parameters(od: pathing.OriginDestination, benchmark_times, max_duration_minutes):\n",
    "    start_time = time.time()\n",
    "    max_duration_seconds = max_duration_minutes * 60\n",
    "    \n",
    "    # Define parameter bounds\n",
    "    param_bounds = {\n",
    "        \"acute_factor\": (0.1, 2.0),\n",
    "    }\n",
    "    \n",
    "    # Initialize the best solution\n",
    "    best_solution = None\n",
    "    best_error = float(\"inf\")\n",
    "    \n",
    "    # Progress bar\n",
    "    with tqdm(desc=\"Optimizing Parameters\") as pbar:\n",
    "        while time.time() - start_time < max_duration_seconds:\n",
    "            # Generate a random solution within the bounds\n",
    "            current_solution = {\n",
    "                \"default_intersection_penalty\": 4,\n",
    "                \"traffic_signal_penalty\": 9,\n",
    "                \"road_type_factors\": {\n",
    "                    \"motorway\": 0.9004725950459835,\n",
    "                    \"trunk\": 0.9602555300158857,\n",
    "                    \"primary\": 0.8957176686384549,\n",
    "                    \"secondary\": 0.812242943390013,\n",
    "                    \"tertiary\": 0.8779790728890131,\n",
    "                    \"unclassified\": 0.7187557285185038,\n",
    "                    \"residential\": 0.5840639670583821,\n",
    "                    \"living_street\": 0.3375975835998158,\n",
    "                },\n",
    "            }\n",
    "            acute_factor = random.uniform(*param_bounds[\"acute_factor\"])\n",
    "\n",
    "            current_solution[\"road_type_factors\"] = gen_linkers(\n",
    "                current_solution[\"road_type_factors\"],\n",
    "                link_factor=0.8521506076850045\n",
    "            )\n",
    "            \n",
    "            # Set graph weights with the current solution\n",
    "            od.set_graph_weights_v2(**current_solution, use_ambulance_speeds=True)\n",
    "            \n",
    "            # Calculate the error for the current solution\n",
    "            current_error, _, _ = calculate_error(od, benchmark_times, current_solution, acute_factor)\n",
    "            \n",
    "            # Update best solution if the current one is better\n",
    "            if current_error < best_error:\n",
    "                best_solution = current_solution\n",
    "                best_acute_factor = acute_factor\n",
    "                best_error = current_error\n",
    "                tqdm.write(\n",
    "                    f\"    New best solution:\\n\"\n",
    "                    f\"        Triage A Factor: {best_acute_factor}\\n\"\n",
    "                    f\"        Error: {best_error}\"\n",
    "                )\n",
    "            else:\n",
    "                if acute_factor > best_acute_factor:\n",
    "                    param_bounds[\"acute_factor\"] = (param_bounds[\"acute_factor\"][0], acute_factor)\n",
    "                else:\n",
    "                    param_bounds[\"acute_factor\"] = (acute_factor, param_bounds[\"acute_factor\"][1])\n",
    "                print(param_bounds[\"acute_factor\"])\n",
    "            \n",
    "            # Update progress bar\n",
    "            pbar.update()\n",
    "\n",
    "            # early stop\n",
    "            if current_error == 0:\n",
    "                break\n",
    "    \n",
    "    return best_solution, best_acute_factor, best_error\n"
   ]
  },
  {
   "cell_type": "code",
   "execution_count": 10,
   "metadata": {},
   "outputs": [],
   "source": [
    "def fix_lat_lon(benchmark_times):\n",
    "    new_benchmark_times = {}\n",
    "\n",
    "    for ((start_lat, start_lon), (end_lat, end_lon)), benchmark in benchmark_times.items():\n",
    "        new_benchmark_times[((start_lon, start_lat), (end_lon, end_lat))] = benchmark\n",
    "\n",
    "    return new_benchmark_times"
   ]
  },
  {
   "cell_type": "markdown",
   "metadata": {},
   "source": [
    "# Main"
   ]
  },
  {
   "cell_type": "code",
   "execution_count": 11,
   "metadata": {},
   "outputs": [],
   "source": [
    "od = pathing.OriginDestination(\n",
    "    dataset_id=\"oslo\",\n",
    "    utm_epsg=f\"EPSG:326{33}\"\n",
    ")\n",
    "\n",
    "od.get_graph()\n",
    "\n",
    "central_depot_grid_id = 22620006649000\n",
    "central_depot_x, central_depot_y = utils.id_to_utm(central_depot_grid_id)\n",
    "od.node_validator = ox.distance.nearest_nodes(od.graph, central_depot_x, central_depot_y)\n"
   ]
  },
  {
   "cell_type": "code",
   "execution_count": 25,
   "metadata": {},
   "outputs": [],
   "source": [
    "# times from Google Maps (17/03/2024 02:00)\n",
    "benchmark_times = {\n",
    "    ((59.9369806, 10.7343661), (59.6800045, 10.6572104)): (35, 45),\n",
    "    ((59.93596, 10.73244), (59.92629, 10.77570)): (4, 9),\n",
    "    ((59.90864, 10.73921), (59.93037, 10.77273)): (9, 16),\n",
    "    ((59.92727, 10.73174), (59.86305, 10.66617)): (50, 60),\n",
    "    ((59.82052, 10.47168), (59.95577, 11.04773)): (40, 50),\n",
    "    ((60.00352, 10.76216), (59.83905, 10.80742)): (28, 28),\n",
    "\n",
    "    ((60.31262, 11.14674), (60.11964, 11.47577)): (40, 40),\n",
    "    ((60.11964, 11.47577), (60.13423, 11.166858)): (22, 26),\n",
    "    ((60.13423, 11.166858), (59.879044, 11.561687)): (50, 50),\n",
    "    ((59.879044, 11.561687), (59.932076, 10.987775)): (40, 40),\n",
    "    ((59.932076, 10.987775), (60.042152, 10.880784)): (20, 22),\n",
    "    ((60.042152, 10.880784), (59.930733, 10.831094)): (20, 20),\n",
    "    ((59.930733, 10.831094), (59.917, 10.758744)): (9, 14),\n",
    "    ((59.917, 10.758744), (59.93917, 10.741926)): (7, 14),\n",
    "    ((59.93917, 10.741926), (59.71566, 10.853331)): (35, 35),\n",
    "    ((59.71566, 10.853331), (59.659687, 10.725881)): (18, 18),\n",
    "    ((59.659687, 10.725881), (59.833073, 10.806946)): (22, 22),\n",
    "    ((59.833073, 10.806946), (59.830055, 10.439887)): (30, 40),\n",
    "    ((59.830055, 10.439887), (59.89813, 10.509723)): (14, 14),\n",
    "    ((59.89813, 10.509723), (59.939663, 10.687367)): (16, 20),\n",
    "    ((59.939663, 10.687367), (59.893173, 10.806364)): (12, 16),\n",
    "    ((59.893173, 10.806364), (59.960304, 10.884091)): (12, 18),\n",
    "    ((59.960304, 10.884091), (59.997875, 11.03928)): (20, 20),\n",
    "    ((59.997875, 11.03928), (59.917873, 10.585751)): (28, 35),\n",
    "    ((59.917873, 10.585751), (60.31262, 11.14674)): (55, 65),\n",
    "}\n",
    "\n",
    "benchmark_times = fix_lat_lon(benchmark_times)\n"
   ]
  },
  {
   "cell_type": "code",
   "execution_count": 28,
   "metadata": {},
   "outputs": [
    {
     "name": "stderr",
     "output_type": "stream",
     "text": [
      "Optimizing Parameters: 0it [00:00, ?it/s]"
     ]
    },
    {
     "name": "stderr",
     "output_type": "stream",
     "text": [
      "Optimizing Parameters: 1it [00:18, 18.19s/it]"
     ]
    },
    {
     "name": "stdout",
     "output_type": "stream",
     "text": [
      "    New best solution:\n",
      "        Triage A Factor: 1.6022459604649324\n",
      "        Error: 609.7329069173169\n"
     ]
    },
    {
     "name": "stderr",
     "output_type": "stream",
     "text": [
      "Optimizing Parameters: 2it [00:36, 18.11s/it]"
     ]
    },
    {
     "name": "stdout",
     "output_type": "stream",
     "text": [
      "    New best solution:\n",
      "        Triage A Factor: 0.5558308717442332\n",
      "        Error: 54.695341600307785\n"
     ]
    },
    {
     "name": "stderr",
     "output_type": "stream",
     "text": [
      "Optimizing Parameters: 3it [00:55, 18.54s/it]"
     ]
    },
    {
     "name": "stdout",
     "output_type": "stream",
     "text": [
      "(0.1, 1.2110053907593403)\n"
     ]
    },
    {
     "name": "stderr",
     "output_type": "stream",
     "text": [
      "Optimizing Parameters: 4it [01:15, 19.31s/it]"
     ]
    },
    {
     "name": "stdout",
     "output_type": "stream",
     "text": [
      "    New best solution:\n",
      "        Triage A Factor: 0.6350423722135138\n",
      "        Error: 25.08100821573645\n"
     ]
    },
    {
     "name": "stderr",
     "output_type": "stream",
     "text": [
      "Optimizing Parameters: 5it [01:37, 20.02s/it]"
     ]
    },
    {
     "name": "stdout",
     "output_type": "stream",
     "text": [
      "(0.15896683051810692, 1.2110053907593403)\n"
     ]
    },
    {
     "name": "stderr",
     "output_type": "stream",
     "text": [
      "Optimizing Parameters: 6it [01:56, 19.89s/it]"
     ]
    },
    {
     "name": "stdout",
     "output_type": "stream",
     "text": [
      "    New best solution:\n",
      "        Triage A Factor: 0.8315966575562592\n",
      "        Error: 2.273202328870776\n"
     ]
    },
    {
     "name": "stderr",
     "output_type": "stream",
     "text": [
      "Optimizing Parameters: 7it [02:15, 19.61s/it]"
     ]
    },
    {
     "name": "stdout",
     "output_type": "stream",
     "text": [
      "(0.15896683051810692, 1.095386372640486)\n"
     ]
    },
    {
     "name": "stderr",
     "output_type": "stream",
     "text": [
      "Optimizing Parameters: 8it [02:36, 20.13s/it]"
     ]
    },
    {
     "name": "stdout",
     "output_type": "stream",
     "text": [
      "(0.21436208083757147, 1.095386372640486)\n"
     ]
    },
    {
     "name": "stderr",
     "output_type": "stream",
     "text": [
      "Optimizing Parameters: 9it [02:57, 20.19s/it]"
     ]
    },
    {
     "name": "stdout",
     "output_type": "stream",
     "text": [
      "(0.21436208083757147, 0.9798704692710926)\n"
     ]
    },
    {
     "name": "stderr",
     "output_type": "stream",
     "text": [
      "Optimizing Parameters: 10it [03:16, 20.02s/it]"
     ]
    },
    {
     "name": "stdout",
     "output_type": "stream",
     "text": [
      "(0.27263528909817636, 0.9798704692710926)\n"
     ]
    },
    {
     "name": "stderr",
     "output_type": "stream",
     "text": [
      "Optimizing Parameters: 11it [03:37, 20.13s/it]"
     ]
    },
    {
     "name": "stdout",
     "output_type": "stream",
     "text": [
      "(0.3025838930570898, 0.9798704692710926)\n"
     ]
    },
    {
     "name": "stderr",
     "output_type": "stream",
     "text": [
      "Optimizing Parameters: 12it [03:57, 20.22s/it]"
     ]
    },
    {
     "name": "stdout",
     "output_type": "stream",
     "text": [
      "    New best solution:\n",
      "        Triage A Factor: 0.8039166011168051\n",
      "        Error: 1.114794045637216\n"
     ]
    },
    {
     "name": "stderr",
     "output_type": "stream",
     "text": [
      "Optimizing Parameters: 13it [04:18, 20.32s/it]"
     ]
    },
    {
     "name": "stdout",
     "output_type": "stream",
     "text": [
      "(0.5789606524968847, 0.9798704692710926)\n"
     ]
    },
    {
     "name": "stderr",
     "output_type": "stream",
     "text": [
      "Optimizing Parameters: 14it [04:38, 20.20s/it]"
     ]
    },
    {
     "name": "stdout",
     "output_type": "stream",
     "text": [
      "(0.5789606524968847, 0.9301259262831456)\n"
     ]
    },
    {
     "name": "stderr",
     "output_type": "stream",
     "text": [
      "Optimizing Parameters: 15it [04:59, 20.58s/it]"
     ]
    },
    {
     "name": "stdout",
     "output_type": "stream",
     "text": [
      "(0.6585699230233911, 0.9301259262831456)\n"
     ]
    },
    {
     "name": "stderr",
     "output_type": "stream",
     "text": [
      "Optimizing Parameters: 16it [05:20, 20.57s/it]"
     ]
    },
    {
     "name": "stdout",
     "output_type": "stream",
     "text": [
      "(0.7657354267432518, 0.9301259262831456)\n"
     ]
    },
    {
     "name": "stderr",
     "output_type": "stream",
     "text": [
      "Optimizing Parameters: 17it [05:40, 20.61s/it]"
     ]
    },
    {
     "name": "stdout",
     "output_type": "stream",
     "text": [
      "(0.7657354267432518, 0.841711299654144)\n"
     ]
    },
    {
     "name": "stderr",
     "output_type": "stream",
     "text": [
      "Optimizing Parameters: 18it [06:04, 21.37s/it]"
     ]
    },
    {
     "name": "stdout",
     "output_type": "stream",
     "text": [
      "(0.7692846703898034, 0.841711299654144)\n"
     ]
    },
    {
     "name": "stderr",
     "output_type": "stream",
     "text": [
      "Optimizing Parameters: 19it [06:25, 21.28s/it]"
     ]
    },
    {
     "name": "stdout",
     "output_type": "stream",
     "text": [
      "(0.7692846703898034, 0.8224136774570551)\n"
     ]
    },
    {
     "name": "stderr",
     "output_type": "stream",
     "text": [
      "Optimizing Parameters: 20it [06:46, 21.35s/it]"
     ]
    },
    {
     "name": "stdout",
     "output_type": "stream",
     "text": [
      "(0.7692846703898034, 0.8204318935884036)\n"
     ]
    },
    {
     "name": "stderr",
     "output_type": "stream",
     "text": [
      "Optimizing Parameters: 21it [07:08, 21.36s/it]"
     ]
    },
    {
     "name": "stdout",
     "output_type": "stream",
     "text": [
      "    New best solution:\n",
      "        Triage A Factor: 0.7970529291911193\n",
      "        Error: 1.0492223915910768\n"
     ]
    },
    {
     "name": "stderr",
     "output_type": "stream",
     "text": [
      "Optimizing Parameters: 22it [07:29, 21.29s/it]"
     ]
    },
    {
     "name": "stdout",
     "output_type": "stream",
     "text": [
      "(0.7705124693202013, 0.8204318935884036)\n"
     ]
    },
    {
     "name": "stderr",
     "output_type": "stream",
     "text": [
      "Optimizing Parameters: 23it [07:51, 21.52s/it]"
     ]
    },
    {
     "name": "stdout",
     "output_type": "stream",
     "text": [
      "(0.7705124693202013, 0.8113556849288552)\n"
     ]
    },
    {
     "name": "stderr",
     "output_type": "stream",
     "text": [
      "Optimizing Parameters: 24it [08:20, 23.85s/it]"
     ]
    },
    {
     "name": "stdout",
     "output_type": "stream",
     "text": [
      "(0.7781665511727052, 0.8113556849288552)\n"
     ]
    },
    {
     "name": "stderr",
     "output_type": "stream",
     "text": [
      "Optimizing Parameters: 25it [08:49, 25.29s/it]"
     ]
    },
    {
     "name": "stdout",
     "output_type": "stream",
     "text": [
      "(0.7781665511727052, 0.7979703409235928)\n"
     ]
    },
    {
     "name": "stderr",
     "output_type": "stream",
     "text": [
      "Optimizing Parameters: 26it [09:11, 24.37s/it]"
     ]
    },
    {
     "name": "stdout",
     "output_type": "stream",
     "text": [
      "(0.7859620317562253, 0.7979703409235928)\n"
     ]
    },
    {
     "name": "stderr",
     "output_type": "stream",
     "text": [
      "Optimizing Parameters: 27it [09:38, 25.07s/it]"
     ]
    },
    {
     "name": "stdout",
     "output_type": "stream",
     "text": [
      "    New best solution:\n",
      "        Triage A Factor: 0.7947008778386679\n",
      "        Error: 1.0470179514122242\n"
     ]
    },
    {
     "name": "stderr",
     "output_type": "stream",
     "text": [
      "Optimizing Parameters: 28it [10:07, 26.52s/it]"
     ]
    },
    {
     "name": "stdout",
     "output_type": "stream",
     "text": [
      "(0.7873824599458034, 0.7979703409235928)\n"
     ]
    },
    {
     "name": "stderr",
     "output_type": "stream",
     "text": [
      "Optimizing Parameters: 29it [10:32, 25.94s/it]"
     ]
    },
    {
     "name": "stdout",
     "output_type": "stream",
     "text": [
      "(0.7920516574655101, 0.7979703409235928)\n"
     ]
    },
    {
     "name": "stderr",
     "output_type": "stream",
     "text": [
      "Optimizing Parameters: 30it [10:53, 24.57s/it]"
     ]
    },
    {
     "name": "stdout",
     "output_type": "stream",
     "text": [
      "(0.7927979122082304, 0.7979703409235928)\n"
     ]
    },
    {
     "name": "stderr",
     "output_type": "stream",
     "text": [
      "Optimizing Parameters: 31it [11:15, 23.55s/it]"
     ]
    },
    {
     "name": "stdout",
     "output_type": "stream",
     "text": [
      "    New best solution:\n",
      "        Triage A Factor: 0.7952600814418165\n",
      "        Error: 1.0466047152499283\n"
     ]
    },
    {
     "name": "stderr",
     "output_type": "stream",
     "text": [
      "Optimizing Parameters: 32it [11:36, 22.82s/it]"
     ]
    },
    {
     "name": "stdout",
     "output_type": "stream",
     "text": [
      "(0.7950068373724871, 0.7979703409235928)\n"
     ]
    },
    {
     "name": "stderr",
     "output_type": "stream",
     "text": [
      "Optimizing Parameters: 33it [12:00, 23.12s/it]"
     ]
    },
    {
     "name": "stdout",
     "output_type": "stream",
     "text": [
      "(0.7950068373724871, 0.7973416942764839)\n"
     ]
    },
    {
     "name": "stderr",
     "output_type": "stream",
     "text": [
      "Optimizing Parameters: 34it [12:24, 23.45s/it]"
     ]
    },
    {
     "name": "stdout",
     "output_type": "stream",
     "text": [
      "(0.7950068373724871, 0.795837347765472)\n"
     ]
    },
    {
     "name": "stderr",
     "output_type": "stream",
     "text": [
      "Optimizing Parameters: 35it [12:46, 23.08s/it]"
     ]
    },
    {
     "name": "stdout",
     "output_type": "stream",
     "text": [
      "(0.7950859842299866, 0.795837347765472)\n"
     ]
    },
    {
     "name": "stderr",
     "output_type": "stream",
     "text": [
      "Optimizing Parameters: 36it [13:09, 22.97s/it]"
     ]
    },
    {
     "name": "stdout",
     "output_type": "stream",
     "text": [
      "(0.7950859842299866, 0.7958306805310934)\n"
     ]
    },
    {
     "name": "stderr",
     "output_type": "stream",
     "text": [
      "Optimizing Parameters: 37it [13:31, 22.65s/it]"
     ]
    },
    {
     "name": "stdout",
     "output_type": "stream",
     "text": [
      "(0.7950859842299866, 0.7954924638645454)\n"
     ]
    },
    {
     "name": "stderr",
     "output_type": "stream",
     "text": [
      "Optimizing Parameters: 38it [13:54, 22.97s/it]"
     ]
    },
    {
     "name": "stdout",
     "output_type": "stream",
     "text": [
      "(0.7951908277082275, 0.7954924638645454)\n"
     ]
    },
    {
     "name": "stderr",
     "output_type": "stream",
     "text": [
      "Optimizing Parameters: 39it [14:18, 23.20s/it]"
     ]
    },
    {
     "name": "stdout",
     "output_type": "stream",
     "text": [
      "    New best solution:\n",
      "        Triage A Factor: 0.7954443105675928\n",
      "        Error: 1.046596626876968\n"
     ]
    },
    {
     "name": "stderr",
     "output_type": "stream",
     "text": [
      "Optimizing Parameters: 40it [14:42, 23.38s/it]"
     ]
    },
    {
     "name": "stdout",
     "output_type": "stream",
     "text": [
      "(0.7952219162254597, 0.7954924638645454)\n"
     ]
    },
    {
     "name": "stderr",
     "output_type": "stream",
     "text": [
      "Optimizing Parameters: 41it [15:04, 22.95s/it]"
     ]
    },
    {
     "name": "stdout",
     "output_type": "stream",
     "text": [
      "(0.7952782843285456, 0.7954924638645454)\n"
     ]
    },
    {
     "name": "stderr",
     "output_type": "stream",
     "text": [
      "Optimizing Parameters: 42it [15:26, 22.82s/it]"
     ]
    },
    {
     "name": "stdout",
     "output_type": "stream",
     "text": [
      "    New best solution:\n",
      "        Triage A Factor: 0.7954096796062137\n",
      "        Error: 1.0465933036141346\n"
     ]
    },
    {
     "name": "stderr",
     "output_type": "stream",
     "text": [
      "Optimizing Parameters: 43it [15:48, 22.60s/it]"
     ]
    },
    {
     "name": "stdout",
     "output_type": "stream",
     "text": [
      "(0.7952782843285456, 0.7954711745235818)\n"
     ]
    },
    {
     "name": "stderr",
     "output_type": "stream",
     "text": [
      "Optimizing Parameters: 44it [16:11, 22.69s/it]"
     ]
    },
    {
     "name": "stdout",
     "output_type": "stream",
     "text": [
      "    New best solution:\n",
      "        Triage A Factor: 0.7953912967513079\n",
      "        Error: 1.046592450701466\n"
     ]
    },
    {
     "name": "stderr",
     "output_type": "stream",
     "text": [
      "Optimizing Parameters: 45it [16:33, 22.48s/it]"
     ]
    },
    {
     "name": "stdout",
     "output_type": "stream",
     "text": [
      "(0.7952782843285456, 0.7954651052584281)\n"
     ]
    },
    {
     "name": "stderr",
     "output_type": "stream",
     "text": [
      "Optimizing Parameters: 46it [16:56, 22.40s/it]"
     ]
    },
    {
     "name": "stdout",
     "output_type": "stream",
     "text": [
      "(0.7952782843285456, 0.7954365287999622)\n"
     ]
    },
    {
     "name": "stderr",
     "output_type": "stream",
     "text": [
      "Optimizing Parameters: 47it [17:17, 22.18s/it]"
     ]
    },
    {
     "name": "stdout",
     "output_type": "stream",
     "text": [
      "(0.7953064826555689, 0.7954365287999622)\n"
     ]
    },
    {
     "name": "stderr",
     "output_type": "stream",
     "text": [
      "Optimizing Parameters: 48it [17:39, 22.12s/it]"
     ]
    },
    {
     "name": "stdout",
     "output_type": "stream",
     "text": [
      "(0.7953589305622004, 0.7954365287999622)\n"
     ]
    },
    {
     "name": "stderr",
     "output_type": "stream",
     "text": [
      "Optimizing Parameters: 49it [18:01, 22.15s/it]"
     ]
    },
    {
     "name": "stdout",
     "output_type": "stream",
     "text": [
      "    New best solution:\n",
      "        Triage A Factor: 0.7953711902650347\n",
      "        Error: 1.0465922413575042\n"
     ]
    },
    {
     "name": "stderr",
     "output_type": "stream",
     "text": [
      "Optimizing Parameters: 50it [18:24, 22.39s/it]"
     ]
    },
    {
     "name": "stdout",
     "output_type": "stream",
     "text": [
      "(0.7953589305622004, 0.7954215260334082)\n"
     ]
    },
    {
     "name": "stderr",
     "output_type": "stream",
     "text": [
      "Optimizing Parameters: 51it [18:49, 22.99s/it]"
     ]
    },
    {
     "name": "stdout",
     "output_type": "stream",
     "text": [
      "(0.7953589305622004, 0.7954134098647235)\n"
     ]
    },
    {
     "name": "stderr",
     "output_type": "stream",
     "text": [
      "Optimizing Parameters: 52it [19:16, 24.27s/it]"
     ]
    },
    {
     "name": "stdout",
     "output_type": "stream",
     "text": [
      "(0.7953593884696724, 0.7954134098647235)\n"
     ]
    },
    {
     "name": "stderr",
     "output_type": "stream",
     "text": [
      "Optimizing Parameters: 53it [19:40, 24.08s/it]"
     ]
    },
    {
     "name": "stdout",
     "output_type": "stream",
     "text": [
      "(0.7953593884696724, 0.7954081367773088)\n"
     ]
    },
    {
     "name": "stderr",
     "output_type": "stream",
     "text": [
      "Optimizing Parameters: 54it [20:02, 22.26s/it]"
     ]
    },
    {
     "name": "stdout",
     "output_type": "stream",
     "text": [
      "(0.7953593884696724, 0.7953829926922608)\n"
     ]
    },
    {
     "name": "stderr",
     "output_type": "stream",
     "text": [
      "\n"
     ]
    }
   ],
   "source": [
    "best_solution, best_acute_factor, best_error = optimize_parameters(\n",
    "    od,\n",
    "    benchmark_times,\n",
    "    max_duration_minutes=20\n",
    ")\n"
   ]
  },
  {
   "cell_type": "code",
   "execution_count": 29,
   "metadata": {},
   "outputs": [
    {
     "name": "stdout",
     "output_type": "stream",
     "text": [
      "Path ((10.7343661, 59.9369806), (10.6572104, 59.6800045)):\n",
      "  Benchmark Time: (35, 45) minutes\n",
      "  Calculated Time With Acute Speeds: 32.76485672202334 minutes\n",
      "  Calculated Time Without Acute Speeds: 31.461585075283296 minutes\n",
      "  Difference: 1.3032716467400434 minutes (3.98%)\n",
      "\n",
      "Path ((10.73244, 59.93596), (10.7757, 59.92629)):\n",
      "  Benchmark Time: (4, 9) minutes\n",
      "  Calculated Time With Acute Speeds: 5.914945242980406 minutes\n",
      "  Calculated Time Without Acute Speeds: 5.455792367342134 minutes\n",
      "  Difference: 0.4591528756382717 minutes (7.76%)\n",
      "\n",
      "Path ((10.73921, 59.90864), (10.77273, 59.93037)):\n",
      "  Benchmark Time: (9, 16) minutes\n",
      "  Calculated Time With Acute Speeds: 10.43831711996 minutes\n",
      "  Calculated Time Without Acute Speeds: 8.665639755664445 minutes\n",
      "  Difference: 1.7726773642955553 minutes (16.98%)\n",
      "\n",
      "Path ((10.73174, 59.92727), (10.66617, 59.86305)):\n",
      "  Benchmark Time: (50, 60) minutes\n",
      "  Calculated Time With Acute Speeds: 40.76299772220561 minutes\n",
      "  Calculated Time Without Acute Speeds: 42.39056045268041 minutes\n",
      "  Difference: 1.6275627304748 minutes (3.99%)\n",
      "\n",
      "Path ((10.47168, 59.82052), (11.04773, 59.95577)):\n",
      "  Benchmark Time: (40, 50) minutes\n",
      "  Calculated Time With Acute Speeds: 34.24469366597379 minutes\n",
      "  Calculated Time Without Acute Speeds: 34.3875364682732 minutes\n",
      "  Difference: 0.1428428022994055 minutes (0.42%)\n",
      "\n",
      "Path ((10.76216, 60.00352), (10.80742, 59.83905)):\n",
      "  Benchmark Time: (28, 28) minutes\n",
      "  Calculated Time With Acute Speeds: 25.492292995974417 minutes\n",
      "  Calculated Time Without Acute Speeds: 24.227765456131426 minutes\n",
      "  Difference: 1.264527539842991 minutes (4.96%)\n",
      "\n",
      "Path ((11.14674, 60.31262), (11.47577, 60.11964)):\n",
      "  Benchmark Time: (40, 40) minutes\n",
      "  Calculated Time With Acute Speeds: 27.353259727996488 minutes\n",
      "  Calculated Time Without Acute Speeds: 27.97213935469432 minutes\n",
      "  Difference: 0.6188796266978329 minutes (2.26%)\n",
      "\n",
      "Path ((11.47577, 60.11964), (11.166858, 60.13423)):\n",
      "  Benchmark Time: (22, 26) minutes\n",
      "  Calculated Time With Acute Speeds: 17.513644331440677 minutes\n",
      "  Calculated Time Without Acute Speeds: 18.051388975944413 minutes\n",
      "  Difference: 0.5377446445037357 minutes (3.07%)\n",
      "\n",
      "Path ((11.166858, 60.13423), (11.561687, 59.879044)):\n",
      "  Benchmark Time: (50, 50) minutes\n",
      "  Calculated Time With Acute Speeds: 40.373975068408505 minutes\n",
      "  Calculated Time Without Acute Speeds: 41.8638770666265 minutes\n",
      "  Difference: 1.489901998217995 minutes (3.69%)\n",
      "\n",
      "Path ((11.561687, 59.879044), (10.987775, 59.932076)):\n",
      "  Benchmark Time: (40, 40) minutes\n",
      "  Calculated Time With Acute Speeds: 30.27925291301562 minutes\n",
      "  Calculated Time Without Acute Speeds: 31.695324219459817 minutes\n",
      "  Difference: 1.4160713064441985 minutes (4.68%)\n",
      "\n",
      "Path ((10.987775, 59.932076), (10.880784, 60.042152)):\n",
      "  Benchmark Time: (20, 22) minutes\n",
      "  Calculated Time With Acute Speeds: 13.891437449457383 minutes\n",
      "  Calculated Time Without Acute Speeds: 14.730212835223304 minutes\n",
      "  Difference: 0.8387753857659206 minutes (6.04%)\n",
      "\n",
      "Path ((10.880784, 60.042152), (10.831094, 59.930733)):\n",
      "  Benchmark Time: (20, 20) minutes\n",
      "  Calculated Time With Acute Speeds: 13.507904213853582 minutes\n",
      "  Calculated Time Without Acute Speeds: 13.980669307667073 minutes\n",
      "  Difference: 0.4727650938134911 minutes (3.50%)\n",
      "\n",
      "Path ((10.831094, 59.930733), (10.758744, 59.917)):\n",
      "  Benchmark Time: (9, 14) minutes\n",
      "  Calculated Time With Acute Speeds: 7.78430553026548 minutes\n",
      "  Calculated Time Without Acute Speeds: 7.2729050611832715 minutes\n",
      "  Difference: 0.5114004690822087 minutes (6.57%)\n",
      "\n",
      "Path ((10.758744, 59.917), (10.741926, 59.93917)):\n",
      "  Benchmark Time: (7, 14) minutes\n",
      "  Calculated Time With Acute Speeds: 8.013116437125811 minutes\n",
      "  Calculated Time Without Acute Speeds: 5.799354090226293 minutes\n",
      "  Difference: 2.213762346899518 minutes (27.63%)\n",
      "\n",
      "Path ((10.741926, 59.93917), (10.853331, 59.71566)):\n",
      "  Benchmark Time: (35, 35) minutes\n",
      "  Calculated Time With Acute Speeds: 28.664644548942338 minutes\n",
      "  Calculated Time Without Acute Speeds: 27.843691987865103 minutes\n",
      "  Difference: 0.8209525610772346 minutes (2.86%)\n",
      "\n",
      "Path ((10.853331, 59.71566), (10.725881, 59.659687)):\n",
      "  Benchmark Time: (18, 18) minutes\n",
      "  Calculated Time With Acute Speeds: 12.42099500933155 minutes\n",
      "  Calculated Time Without Acute Speeds: 12.33580468238127 minutes\n",
      "  Difference: 0.08519032695028095 minutes (0.69%)\n",
      "\n",
      "Path ((10.725881, 59.659687), (10.806946, 59.833073)):\n",
      "  Benchmark Time: (22, 22) minutes\n",
      "  Calculated Time With Acute Speeds: 18.088753659291935 minutes\n",
      "  Calculated Time Without Acute Speeds: 18.052320779981336 minutes\n",
      "  Difference: 0.03643287931059902 minutes (0.20%)\n",
      "\n",
      "Path ((10.806946, 59.833073), (10.439887, 59.830055)):\n",
      "  Benchmark Time: (30, 40) minutes\n",
      "  Calculated Time With Acute Speeds: 30.325543532920317 minutes\n",
      "  Calculated Time Without Acute Speeds: 30.62326743331209 minutes\n",
      "  Difference: 0.2977239003917731 minutes (0.98%)\n",
      "\n",
      "Path ((10.439887, 59.830055), (10.509723, 59.89813)):\n",
      "  Benchmark Time: (14, 14) minutes\n",
      "  Calculated Time With Acute Speeds: 10.53098371442528 minutes\n",
      "  Calculated Time Without Acute Speeds: 10.17231203924862 minutes\n",
      "  Difference: 0.35867167517666054 minutes (3.41%)\n",
      "\n",
      "Path ((10.509723, 59.89813), (10.687367, 59.939663)):\n",
      "  Benchmark Time: (16, 20) minutes\n",
      "  Calculated Time With Acute Speeds: 14.100471151347378 minutes\n",
      "  Calculated Time Without Acute Speeds: 13.183234149743905 minutes\n",
      "  Difference: 0.917237001603473 minutes (6.51%)\n",
      "\n",
      "Path ((10.687367, 59.939663), (10.806364, 59.893173)):\n",
      "  Benchmark Time: (12, 16) minutes\n",
      "  Calculated Time With Acute Speeds: 11.629026886214493 minutes\n",
      "  Calculated Time Without Acute Speeds: 11.468618133252823 minutes\n",
      "  Difference: 0.16040875296167023 minutes (1.38%)\n",
      "\n",
      "Path ((10.806364, 59.893173), (10.884091, 59.960304)):\n",
      "  Benchmark Time: (12, 18) minutes\n",
      "  Calculated Time With Acute Speeds: 10.124717941443985 minutes\n",
      "  Calculated Time Without Acute Speeds: 10.374957320425866 minutes\n",
      "  Difference: 0.2502393789818811 minutes (2.47%)\n",
      "\n",
      "Path ((10.884091, 59.960304), (11.03928, 59.997875)):\n",
      "  Benchmark Time: (20, 20) minutes\n",
      "  Calculated Time With Acute Speeds: 15.75041776415623 minutes\n",
      "  Calculated Time Without Acute Speeds: 14.505848792634774 minutes\n",
      "  Difference: 1.2445689715214563 minutes (7.90%)\n",
      "\n",
      "Path ((11.03928, 59.997875), (10.585751, 59.917873)):\n",
      "  Benchmark Time: (28, 35) minutes\n",
      "  Calculated Time With Acute Speeds: 25.61193817570281 minutes\n",
      "  Calculated Time Without Acute Speeds: 25.647595576765337 minutes\n",
      "  Difference: 0.035657401062525906 minutes (0.14%)\n",
      "\n",
      "Path ((10.585751, 59.917873), (11.14674, 60.31262)):\n",
      "  Benchmark Time: (55, 65) minutes\n",
      "  Calculated Time With Acute Speeds: 48.32003703831185 minutes\n",
      "  Calculated Time Without Acute Speeds: 46.74574820394611 minutes\n",
      "  Difference: 1.5742888343657455 minutes (3.26%)\n",
      "\n",
      "Total Discrepancy: 20.450707514119273 minutes across all paths.\n",
      "Average Discrepancy Percentage: 5.01%\n"
     ]
    }
   ],
   "source": [
    "od.set_graph_weights_v2(**best_solution, use_ambulance_speeds=True)\n",
    "\n",
    "_, calculated_times_with_acute_speeds, calculated_times_without_acute_speeds = calculate_error(od, benchmark_times, best_solution, best_acute_factor)\n",
    "\n",
    "evaluate_travel_time_accuracy(benchmark_times, calculated_times_with_acute_speeds, calculated_times_without_acute_speeds)\n"
   ]
  },
  {
   "cell_type": "code",
   "execution_count": 32,
   "metadata": {},
   "outputs": [
    {
     "name": "stdout",
     "output_type": "stream",
     "text": [
      "Path ((10.7343661, 59.9369806), (10.6572104, 59.6800045)):\n",
      "  Benchmark Time: (35, 45) minutes\n",
      "  Calculated Time With Acute Speeds: 31.461585075283296 minutes\n",
      "  Calculated Time Without Acute Speeds: 39.55585198503308 minutes\n",
      "  Difference: 8.094266909749784 minutes (16.28%)\n",
      "\n",
      "Path ((10.73244, 59.93596), (10.7757, 59.92629)):\n",
      "  Benchmark Time: (4, 9) minutes\n",
      "  Calculated Time With Acute Speeds: 5.455792367342134 minutes\n",
      "  Calculated Time Without Acute Speeds: 6.859429199999245 minutes\n",
      "  Difference: 1.403636832657111 minutes (16.28%)\n",
      "\n",
      "Path ((10.73921, 59.90864), (10.77273, 59.93037)):\n",
      "  Benchmark Time: (9, 16) minutes\n",
      "  Calculated Time With Acute Speeds: 8.665639755664445 minutes\n",
      "  Calculated Time Without Acute Speeds: 10.89508881102026 minutes\n",
      "  Difference: 2.229449055355815 minutes (16.28%)\n",
      "\n",
      "Path ((10.73174, 59.92727), (10.66617, 59.86305)):\n",
      "  Benchmark Time: (50, 60) minutes\n",
      "  Calculated Time With Acute Speeds: 42.39056045268041 minutes\n",
      "  Calculated Time Without Acute Speeds: 53.296575198499426 minutes\n",
      "  Difference: 10.906014745819014 minutes (16.28%)\n",
      "\n",
      "Path ((10.47168, 59.82052), (11.04773, 59.95577)):\n",
      "  Benchmark Time: (40, 50) minutes\n",
      "  Calculated Time With Acute Speeds: 34.3875364682732 minutes\n",
      "  Calculated Time Without Acute Speeds: 43.2345763703291 minutes\n",
      "  Difference: 8.847039902055904 minutes (16.28%)\n",
      "\n",
      "Path ((10.76216, 60.00352), (10.80742, 59.83905)):\n",
      "  Benchmark Time: (28, 28) minutes\n",
      "  Calculated Time With Acute Speeds: 24.227765456131426 minutes\n",
      "  Calculated Time Without Acute Speeds: 30.46095427225396 minutes\n",
      "  Difference: 6.233188816122535 minutes (16.28%)\n",
      "\n",
      "Path ((11.14674, 60.31262), (11.47577, 60.11964)):\n",
      "  Benchmark Time: (40, 40) minutes\n",
      "  Calculated Time With Acute Speeds: 27.97213935469432 minutes\n",
      "  Calculated Time Without Acute Speeds: 35.16866049092551 minutes\n",
      "  Difference: 7.1965211362311905 minutes (16.28%)\n",
      "\n",
      "Path ((11.47577, 60.11964), (11.166858, 60.13423)):\n",
      "  Benchmark Time: (22, 26) minutes\n",
      "  Calculated Time With Acute Speeds: 18.051388975944413 minutes\n",
      "  Calculated Time Without Acute Speeds: 22.6955529655648 minutes\n",
      "  Difference: 4.644163989620388 minutes (16.28%)\n",
      "\n",
      "Path ((11.166858, 60.13423), (11.561687, 59.879044)):\n",
      "  Benchmark Time: (50, 50) minutes\n",
      "  Calculated Time With Acute Speeds: 41.8638770666265 minutes\n",
      "  Calculated Time Without Acute Speeds: 52.63438955172183 minutes\n",
      "  Difference: 10.770512485095331 minutes (16.28%)\n",
      "\n",
      "Path ((11.561687, 59.879044), (10.987775, 59.932076)):\n",
      "  Benchmark Time: (40, 40) minutes\n",
      "  Calculated Time With Acute Speeds: 31.695324219459817 minutes\n",
      "  Calculated Time Without Acute Speeds: 39.849726275474296 minutes\n",
      "  Difference: 8.15440205601448 minutes (16.28%)\n",
      "\n",
      "Path ((10.987775, 59.932076), (10.880784, 60.042152)):\n",
      "  Benchmark Time: (20, 22) minutes\n",
      "  Calculated Time With Acute Speeds: 14.730212835223304 minutes\n",
      "  Calculated Time Without Acute Speeds: 18.51992254121611 minutes\n",
      "  Difference: 3.7897097059928075 minutes (16.28%)\n",
      "\n",
      "Path ((10.880784, 60.042152), (10.831094, 59.930733)):\n",
      "  Benchmark Time: (20, 20) minutes\n",
      "  Calculated Time With Acute Speeds: 13.980669307667073 minutes\n",
      "  Calculated Time Without Acute Speeds: 17.577540497800047 minutes\n",
      "  Difference: 3.5968711901329744 minutes (16.28%)\n",
      "\n",
      "Path ((10.831094, 59.930733), (10.758744, 59.917)):\n",
      "  Benchmark Time: (9, 14) minutes\n",
      "  Calculated Time With Acute Speeds: 7.2729050611832715 minutes\n",
      "  Calculated Time Without Acute Speeds: 9.144038846516159 minutes\n",
      "  Difference: 1.871133785332887 minutes (16.28%)\n",
      "\n",
      "Path ((10.758744, 59.917), (10.741926, 59.93917)):\n",
      "  Benchmark Time: (7, 14) minutes\n",
      "  Calculated Time With Acute Speeds: 5.799354090226293 minutes\n",
      "  Calculated Time Without Acute Speeds: 7.291380629833757 minutes\n",
      "  Difference: 1.4920265396074637 minutes (16.28%)\n",
      "\n",
      "Path ((10.741926, 59.93917), (10.853331, 59.71566)):\n",
      "  Benchmark Time: (35, 35) minutes\n",
      "  Calculated Time With Acute Speeds: 27.843691987865103 minutes\n",
      "  Calculated Time Without Acute Speeds: 35.00716687838164 minutes\n",
      "  Difference: 7.163474890516536 minutes (16.28%)\n",
      "\n",
      "Path ((10.853331, 59.71566), (10.725881, 59.659687)):\n",
      "  Benchmark Time: (18, 18) minutes\n",
      "  Calculated Time With Acute Speeds: 12.33580468238127 minutes\n",
      "  Calculated Time Without Acute Speeds: 15.509493973839705 minutes\n",
      "  Difference: 3.1736892914584356 minutes (16.28%)\n",
      "\n",
      "Path ((10.725881, 59.659687), (10.806946, 59.833073)):\n",
      "  Benchmark Time: (22, 22) minutes\n",
      "  Calculated Time With Acute Speeds: 18.052320779981336 minutes\n",
      "  Calculated Time Without Acute Speeds: 22.69672449911835 minutes\n",
      "  Difference: 4.6444037191370136 minutes (16.28%)\n",
      "\n",
      "Path ((10.806946, 59.833073), (10.439887, 59.830055)):\n",
      "  Benchmark Time: (30, 40) minutes\n",
      "  Calculated Time With Acute Speeds: 30.62326743331209 minutes\n",
      "  Calculated Time Without Acute Speeds: 38.501856501877775 minutes\n",
      "  Difference: 7.8785890685656845 minutes (16.28%)\n",
      "\n",
      "Path ((10.439887, 59.830055), (10.509723, 59.89813)):\n",
      "  Benchmark Time: (14, 14) minutes\n",
      "  Calculated Time With Acute Speeds: 10.17231203924862 minutes\n",
      "  Calculated Time Without Acute Speeds: 12.789389612991878 minutes\n",
      "  Difference: 2.6170775737432574 minutes (16.28%)\n",
      "\n",
      "Path ((10.509723, 59.89813), (10.687367, 59.939663)):\n",
      "  Benchmark Time: (16, 20) minutes\n",
      "  Calculated Time With Acute Speeds: 13.183234149743905 minutes\n",
      "  Calculated Time Without Acute Speeds: 16.574945523675517 minutes\n",
      "  Difference: 3.391711373931612 minutes (16.28%)\n",
      "\n",
      "Path ((10.687367, 59.939663), (10.806364, 59.893173)):\n",
      "  Benchmark Time: (12, 16) minutes\n",
      "  Calculated Time With Acute Speeds: 11.468618133252823 minutes\n",
      "  Calculated Time Without Acute Speeds: 14.419202346807703 minutes\n",
      "  Difference: 2.9505842135548797 minutes (16.28%)\n",
      "\n",
      "Path ((10.806364, 59.893173), (10.884091, 59.960304)):\n",
      "  Benchmark Time: (12, 18) minutes\n",
      "  Calculated Time With Acute Speeds: 10.374957320425866 minutes\n",
      "  Calculated Time Without Acute Speeds: 13.04417037907635 minutes\n",
      "  Difference: 2.6692130586504845 minutes (16.28%)\n",
      "\n",
      "Path ((10.884091, 59.960304), (11.03928, 59.997875)):\n",
      "  Benchmark Time: (20, 20) minutes\n",
      "  Calculated Time With Acute Speeds: 14.505848792634774 minutes\n",
      "  Calculated Time Without Acute Speeds: 18.237835327931748 minutes\n",
      "  Difference: 3.731986535296974 minutes (16.28%)\n",
      "\n",
      "Path ((11.03928, 59.997875), (10.585751, 59.917873)):\n",
      "  Benchmark Time: (28, 35) minutes\n",
      "  Calculated Time With Acute Speeds: 25.647595576765337 minutes\n",
      "  Calculated Time Without Acute Speeds: 32.246070628003274 minutes\n",
      "  Difference: 6.598475051237937 minutes (16.28%)\n",
      "\n",
      "Path ((10.585751, 59.917873), (11.14674, 60.31262)):\n",
      "  Benchmark Time: (55, 65) minutes\n",
      "  Calculated Time With Acute Speeds: 46.74574820394611 minutes\n",
      "  Calculated Time Without Acute Speeds: 58.7722421632715 minutes\n",
      "  Difference: 12.026493959325393 minutes (16.28%)\n",
      "\n",
      "Total Discrepancy: 136.0746358852059 minutes across all paths.\n",
      "Average Discrepancy Percentage: 16.28%\n"
     ]
    }
   ],
   "source": [
    "od.set_graph_weights_v2(**best_solution)\n",
    "\n",
    "_, calculated_times = calculate_error_old(od, benchmark_times)\n",
    "\n",
    "evaluate_travel_time_accuracy_2(benchmark_times, calculated_times, best_acute_factor)\n"
   ]
  }
 ],
 "metadata": {
  "kernelspec": {
   "display_name": ".venv",
   "language": "python",
   "name": "python3"
  },
  "language_info": {
   "codemirror_mode": {
    "name": "ipython",
    "version": 3
   },
   "file_extension": ".py",
   "mimetype": "text/x-python",
   "name": "python",
   "nbconvert_exporter": "python",
   "pygments_lexer": "ipython3",
   "version": "3.11.7"
  }
 },
 "nbformat": 4,
 "nbformat_minor": 2
}
