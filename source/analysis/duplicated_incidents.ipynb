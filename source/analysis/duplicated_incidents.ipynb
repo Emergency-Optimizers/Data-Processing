{
 "cells": [
  {
   "cell_type": "markdown",
   "metadata": {},
   "source": [
    "# Fix pathing"
   ]
  },
  {
   "cell_type": "code",
   "execution_count": 1,
   "metadata": {},
   "outputs": [],
   "source": [
    "import sys\n",
    "\n",
    "\n",
    "sys.path.append(\"..\")\n"
   ]
  },
  {
   "cell_type": "code",
   "execution_count": 2,
   "metadata": {},
   "outputs": [],
   "source": [
    "import constants\n",
    "\n",
    "import os\n",
    "\n",
    "\n",
    "constants.PROJECT_DIRECTORY_PATH = os.path.dirname(os.path.dirname(constants.PROJECT_DIRECTORY_PATH))\n"
   ]
  },
  {
   "cell_type": "markdown",
   "metadata": {},
   "source": [
    "# Imports"
   ]
  },
  {
   "cell_type": "code",
   "execution_count": 3,
   "metadata": {},
   "outputs": [],
   "source": [
    "import datahandler\n",
    "\n",
    "import pandas as pd\n",
    "import matplotlib.pyplot as plt\n",
    "import matplotlib.dates as mdates\n"
   ]
  },
  {
   "cell_type": "markdown",
   "metadata": {},
   "source": [
    "# Constants"
   ]
  },
  {
   "cell_type": "code",
   "execution_count": 4,
   "metadata": {},
   "outputs": [
    {
     "name": "stderr",
     "output_type": "stream",
     "text": [
      "Cleaning dataset: 100%|██████████| 2/2 [00:00<?, ?it/s]\n",
      "Processing dataset: 100%|██████████| 2/2 [00:00<00:00, 250.19it/s]\n",
      "Enhancing dataset:   0%|          | 0/2 [00:00<?, ?it/s]"
     ]
    },
    {
     "name": "stderr",
     "output_type": "stream",
     "text": [
      "Enhancing dataset: 100%|██████████| 2/2 [00:24<00:00, 12.18s/it]\n",
      "Loading dataset: 100%|██████████| 2/2 [00:15<00:00,  7.61s/it]\n"
     ]
    }
   ],
   "source": [
    "data_preprocessor = datahandler.DataPreprocessorOUS_V2()\n",
    "data_preprocessor.execute()\n",
    "\n",
    "data_loader = datahandler.DataLoader(datahandler.DataPreprocessorOUS_V2)\n",
    "data_loader.execute(clean=False, processed=True, enhanced=False)\n"
   ]
  },
  {
   "cell_type": "markdown",
   "metadata": {},
   "source": [
    "# Methods"
   ]
  },
  {
   "cell_type": "code",
   "execution_count": null,
   "metadata": {},
   "outputs": [],
   "source": [
    "\n"
   ]
  },
  {
   "cell_type": "markdown",
   "metadata": {},
   "source": [
    "# Main"
   ]
  },
  {
   "cell_type": "code",
   "execution_count": 5,
   "metadata": {},
   "outputs": [
    {
     "name": "stdout",
     "output_type": "stream",
     "text": [
      "<class 'pandas.core.frame.DataFrame'>\n",
      "Index: 442004 entries, 5199 to 754810\n",
      "Data columns (total 20 columns):\n",
      " #   Column                         Non-Null Count   Dtype         \n",
      "---  ------                         --------------   -----         \n",
      " 0   triage_impression_during_call  441996 non-null  object        \n",
      " 1   resource_id                    442004 non-null  object        \n",
      " 2   resource_type                  442004 non-null  object        \n",
      " 3   time_call_received             442004 non-null  datetime64[ns]\n",
      " 4   time_call_processed            442004 non-null  datetime64[ns]\n",
      " 5   time_ambulance_notified        441782 non-null  datetime64[ns]\n",
      " 6   time_dispatch                  428910 non-null  datetime64[ns]\n",
      " 7   time_arrival_scene             390275 non-null  datetime64[ns]\n",
      " 8   time_departure_scene           325959 non-null  datetime64[ns]\n",
      " 9   time_arrival_hospital          325374 non-null  datetime64[ns]\n",
      " 10  time_available                 441981 non-null  datetime64[ns]\n",
      " 11  grid_id                        442004 non-null  int64         \n",
      " 12  x                              442004 non-null  int64         \n",
      " 13  y                              442004 non-null  int64         \n",
      " 14  x_accurate                     442004 non-null  int64         \n",
      " 15  y_accurate                     442004 non-null  int64         \n",
      " 16  longitude                      442004 non-null  float64       \n",
      " 17  latitude                       442004 non-null  float64       \n",
      " 18  region                         442004 non-null  object        \n",
      " 19  urban_settlement               442004 non-null  bool          \n",
      "dtypes: bool(1), datetime64[ns](8), float64(2), int64(5), object(4)\n",
      "memory usage: 67.9+ MB\n"
     ]
    }
   ],
   "source": [
    "dataframe = data_loader.processed_incidents_df.copy()\n",
    "\n",
    "dataframe = data_preprocessor._remove_incomplete_years(dataframe)\n",
    "dataframe = data_preprocessor._remove_outside_region(dataframe)\n",
    "\n",
    "dataframe.info()\n"
   ]
  },
  {
   "cell_type": "code",
   "execution_count": 6,
   "metadata": {},
   "outputs": [
    {
     "name": "stdout",
     "output_type": "stream",
     "text": [
      "82935\n",
      "83135\n"
     ]
    }
   ],
   "source": [
    "print(dataframe.duplicated(subset=['time_call_received', 'x_accurate', 'y_accurate']).sum())\n",
    "print(dataframe.duplicated(subset=['time_call_received', 'grid_id']).sum())\n"
   ]
  },
  {
   "cell_type": "code",
   "execution_count": 7,
   "metadata": {},
   "outputs": [
    {
     "name": "stdout",
     "output_type": "stream",
     "text": [
      "<class 'pandas.core.frame.DataFrame'>\n",
      "Index: 421678 entries, 5199 to 754810\n",
      "Data columns (total 20 columns):\n",
      " #   Column                         Non-Null Count   Dtype         \n",
      "---  ------                         --------------   -----         \n",
      " 0   triage_impression_during_call  421670 non-null  object        \n",
      " 1   resource_id                    421678 non-null  object        \n",
      " 2   resource_type                  421678 non-null  object        \n",
      " 3   time_call_received             421678 non-null  datetime64[ns]\n",
      " 4   time_call_processed            421678 non-null  datetime64[ns]\n",
      " 5   time_ambulance_notified        421472 non-null  datetime64[ns]\n",
      " 6   time_dispatch                  409579 non-null  datetime64[ns]\n",
      " 7   time_arrival_scene             373982 non-null  datetime64[ns]\n",
      " 8   time_departure_scene           313286 non-null  datetime64[ns]\n",
      " 9   time_arrival_hospital          312748 non-null  datetime64[ns]\n",
      " 10  time_available                 421655 non-null  datetime64[ns]\n",
      " 11  grid_id                        421678 non-null  int64         \n",
      " 12  x                              421678 non-null  int64         \n",
      " 13  y                              421678 non-null  int64         \n",
      " 14  x_accurate                     421678 non-null  int64         \n",
      " 15  y_accurate                     421678 non-null  int64         \n",
      " 16  longitude                      421678 non-null  float64       \n",
      " 17  latitude                       421678 non-null  float64       \n",
      " 18  region                         421678 non-null  object        \n",
      " 19  urban_settlement               421678 non-null  bool          \n",
      "dtypes: bool(1), datetime64[ns](8), float64(2), int64(5), object(4)\n",
      "memory usage: 64.7+ MB\n"
     ]
    }
   ],
   "source": [
    "dataframe = data_preprocessor._remove_duplicates(dataframe)\n",
    "\n",
    "dataframe.info()\n"
   ]
  },
  {
   "cell_type": "code",
   "execution_count": 8,
   "metadata": {},
   "outputs": [
    {
     "name": "stdout",
     "output_type": "stream",
     "text": [
      "62609\n",
      "62809\n"
     ]
    }
   ],
   "source": [
    "print(dataframe.duplicated(subset=['time_call_received', 'x_accurate', 'y_accurate']).sum())\n",
    "print(dataframe.duplicated(subset=['time_call_received', 'grid_id']).sum())\n"
   ]
  },
  {
   "cell_type": "code",
   "execution_count": 9,
   "metadata": {},
   "outputs": [
    {
     "data": {
      "text/plain": [
       "resource_type\n",
       "Ambulanse         404268\n",
       "Operativ Leder     12612\n",
       "Legebil             4617\n",
       "Syketransport        133\n",
       "Akuttbil              48\n",
       "Name: count, dtype: int64"
      ]
     },
     "execution_count": 9,
     "metadata": {},
     "output_type": "execute_result"
    }
   ],
   "source": [
    "dataframe[\"resource_type\"].value_counts()"
   ]
  },
  {
   "cell_type": "code",
   "execution_count": 10,
   "metadata": {},
   "outputs": [
    {
     "name": "stdout",
     "output_type": "stream",
     "text": [
      "52981\n",
      "52989\n"
     ]
    },
    {
     "data": {
      "text/plain": [
       "resource_type\n",
       "Ambulanse         320020\n",
       "Operativ Leder     12440\n",
       "Legebil             4507\n",
       "Akuttbil              46\n",
       "Syketransport          3\n",
       "Name: count, dtype: int64"
      ]
     },
     "execution_count": 10,
     "metadata": {},
     "output_type": "execute_result"
    }
   ],
   "source": [
    "dataframe_test = dataframe[(dataframe[\"triage_impression_during_call\"] == \"A\") | (dataframe[\"triage_impression_during_call\"] == \"H\")]\n",
    "\n",
    "print(dataframe_test.duplicated(subset=['time_call_received', 'x_accurate', 'y_accurate']).sum())\n",
    "print(dataframe_test.duplicated(subset=['time_call_received', 'grid_id']).sum())\n",
    "\n",
    "dataframe_test[\"resource_type\"].value_counts()\n"
   ]
  },
  {
   "cell_type": "code",
   "execution_count": 12,
   "metadata": {},
   "outputs": [
    {
     "name": "stdout",
     "output_type": "stream",
     "text": [
      "28640\n",
      "28825\n"
     ]
    },
    {
     "data": {
      "text/plain": [
       "resource_type\n",
       "Ambulanse         367164\n",
       "Legebil             2873\n",
       "Operativ Leder      2787\n",
       "Syketransport        123\n",
       "Akuttbil              34\n",
       "Name: count, dtype: int64"
      ]
     },
     "execution_count": 12,
     "metadata": {},
     "output_type": "execute_result"
    }
   ],
   "source": [
    "dataframe_test = dataframe.dropna(subset=[\"time_ambulance_notified\", \"time_dispatch\", \"time_arrival_scene\", \"time_available\"])\n",
    "\n",
    "print(dataframe_test.duplicated(subset=['time_call_received', 'x_accurate', 'y_accurate']).sum())\n",
    "print(dataframe_test.duplicated(subset=['time_call_received', 'grid_id']).sum())\n",
    "\n",
    "print(dataframe_test[\"resource_type\"].value_counts())\n"
   ]
  },
  {
   "cell_type": "code",
   "execution_count": 13,
   "metadata": {},
   "outputs": [
    {
     "name": "stdout",
     "output_type": "stream",
     "text": [
      "<class 'pandas.core.frame.DataFrame'>\n",
      "Index: 372981 entries, 89162 to 754810\n",
      "Data columns (total 20 columns):\n",
      " #   Column                         Non-Null Count   Dtype         \n",
      "---  ------                         --------------   -----         \n",
      " 0   triage_impression_during_call  372975 non-null  object        \n",
      " 1   resource_id                    372981 non-null  object        \n",
      " 2   resource_type                  372981 non-null  object        \n",
      " 3   time_call_received             372981 non-null  datetime64[ns]\n",
      " 4   time_call_processed            372981 non-null  datetime64[ns]\n",
      " 5   time_ambulance_notified        372981 non-null  datetime64[ns]\n",
      " 6   time_dispatch                  372981 non-null  datetime64[ns]\n",
      " 7   time_arrival_scene             372981 non-null  datetime64[ns]\n",
      " 8   time_departure_scene           305201 non-null  datetime64[ns]\n",
      " 9   time_arrival_hospital          304439 non-null  datetime64[ns]\n",
      " 10  time_available                 372981 non-null  datetime64[ns]\n",
      " 11  grid_id                        372981 non-null  int64         \n",
      " 12  x                              372981 non-null  int64         \n",
      " 13  y                              372981 non-null  int64         \n",
      " 14  x_accurate                     372981 non-null  int64         \n",
      " 15  y_accurate                     372981 non-null  int64         \n",
      " 16  longitude                      372981 non-null  float64       \n",
      " 17  latitude                       372981 non-null  float64       \n",
      " 18  region                         372981 non-null  object        \n",
      " 19  urban_settlement               372981 non-null  bool          \n",
      "dtypes: bool(1), datetime64[ns](8), float64(2), int64(5), object(4)\n",
      "memory usage: 57.3+ MB\n"
     ]
    }
   ],
   "source": [
    "dataframe_test.info()\n"
   ]
  }
 ],
 "metadata": {
  "kernelspec": {
   "display_name": ".venv",
   "language": "python",
   "name": "python3"
  },
  "language_info": {
   "codemirror_mode": {
    "name": "ipython",
    "version": 3
   },
   "file_extension": ".py",
   "mimetype": "text/x-python",
   "name": "python",
   "nbconvert_exporter": "python",
   "pygments_lexer": "ipython3",
   "version": "3.11.7"
  }
 },
 "nbformat": 4,
 "nbformat_minor": 2
}
