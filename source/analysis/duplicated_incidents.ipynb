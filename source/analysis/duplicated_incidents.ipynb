{
 "cells": [
  {
   "cell_type": "markdown",
   "metadata": {},
   "source": [
    "# Fix pathing"
   ]
  },
  {
   "cell_type": "code",
   "execution_count": 1,
   "metadata": {},
   "outputs": [],
   "source": [
    "import sys\n",
    "\n",
    "\n",
    "sys.path.append(\"..\")\n"
   ]
  },
  {
   "cell_type": "code",
   "execution_count": 2,
   "metadata": {},
   "outputs": [],
   "source": [
    "import constants\n",
    "\n",
    "import os\n",
    "\n",
    "\n",
    "constants.PROJECT_DIRECTORY_PATH = os.path.dirname(os.path.dirname(constants.PROJECT_DIRECTORY_PATH))\n"
   ]
  },
  {
   "cell_type": "markdown",
   "metadata": {},
   "source": [
    "# Imports"
   ]
  },
  {
   "cell_type": "code",
   "execution_count": 3,
   "metadata": {},
   "outputs": [],
   "source": [
    "import datahandler\n",
    "\n",
    "import pandas as pd\n",
    "import matplotlib.pyplot as plt\n",
    "import matplotlib.dates as mdates\n"
   ]
  },
  {
   "cell_type": "markdown",
   "metadata": {},
   "source": [
    "# Constants"
   ]
  },
  {
   "cell_type": "code",
   "execution_count": 4,
   "metadata": {},
   "outputs": [
    {
     "name": "stderr",
     "output_type": "stream",
     "text": [
      "Cleaning dataset: 100%|██████████| 2/2 [00:00<00:00, 1002.46it/s]\n",
      "Processing dataset:   0%|          | 0/2 [00:00<?, ?it/s]"
     ]
    },
    {
     "name": "stderr",
     "output_type": "stream",
     "text": [
      "Processing dataset: 100%|██████████| 2/2 [08:10<00:00, 245.47s/it]\n",
      "Enhancing dataset: 100%|██████████| 2/2 [00:00<00:00, 1002.46it/s]\n",
      "Loading dataset: 100%|██████████| 2/2 [00:19<00:00,  9.87s/it]\n"
     ]
    }
   ],
   "source": [
    "data_preprocessor = datahandler.DataPreprocessorOUS_V2()\n",
    "data_preprocessor.execute()\n",
    "\n",
    "data_loader = datahandler.DataLoader(datahandler.DataPreprocessorOUS_V2)\n",
    "data_loader.execute(clean=False, processed=True, enhanced=False)\n"
   ]
  },
  {
   "cell_type": "markdown",
   "metadata": {},
   "source": [
    "# Methods"
   ]
  },
  {
   "cell_type": "code",
   "execution_count": null,
   "metadata": {},
   "outputs": [],
   "source": [
    "\n"
   ]
  },
  {
   "cell_type": "markdown",
   "metadata": {},
   "source": [
    "# Main"
   ]
  },
  {
   "cell_type": "code",
   "execution_count": 5,
   "metadata": {},
   "outputs": [
    {
     "data": {
      "text/plain": [
       "triage_impression_during_call            object\n",
       "resource_id                              object\n",
       "resource_type                            object\n",
       "time_call_received               datetime64[ns]\n",
       "time_call_processed              datetime64[ns]\n",
       "time_ambulance_notified          datetime64[ns]\n",
       "time_dispatch                    datetime64[ns]\n",
       "time_arrival_scene               datetime64[ns]\n",
       "time_departure_scene             datetime64[ns]\n",
       "time_arrival_hospital            datetime64[ns]\n",
       "time_available                   datetime64[ns]\n",
       "grid_id                                   int64\n",
       "x                                         int64\n",
       "y                                         int64\n",
       "x_accurate                                int64\n",
       "y_accurate                                int64\n",
       "longitude                               float64\n",
       "latitude                                float64\n",
       "region                                   object\n",
       "urban_settlement                           bool\n",
       "dtype: object"
      ]
     },
     "execution_count": 5,
     "metadata": {},
     "output_type": "execute_result"
    }
   ],
   "source": [
    "data_loader.processed_incidents_df.dtypes\n"
   ]
  },
  {
   "cell_type": "code",
   "execution_count": null,
   "metadata": {},
   "outputs": [],
   "source": [
    "# Assuming df is your DataFrame\n",
    "grouped = data_loader.processed_incidents_df.groupby(['time_call_received', 'x_accurate', 'y_accurate'])\n",
    "duplicate_counts = grouped.size()\n",
    "\n",
    "# Count the total number of rows where time_call_received, x_accurate, and y_accurate are the same\n",
    "total_duplicates = duplicate_counts[duplicate_counts > 1].sum()\n",
    "\n",
    "total_duplicates\n"
   ]
  },
  {
   "cell_type": "code",
   "execution_count": null,
   "metadata": {},
   "outputs": [],
   "source": [
    "# Assuming df is your DataFrame\n",
    "grouped = data_loader.processed_incidents_df.groupby(['x_accurate', 'y_accurate'])\n",
    "duplicate_counts = grouped.size()\n",
    "\n",
    "# Count the total number of rows where time_call_received, x_accurate, and y_accurate are the same\n",
    "total_duplicates = duplicate_counts[duplicate_counts > 1].sum()\n",
    "\n",
    "total_duplicates"
   ]
  },
  {
   "cell_type": "code",
   "execution_count": null,
   "metadata": {},
   "outputs": [],
   "source": [
    "# Group by time_call_received, x_accurate, and y_accurate\n",
    "grouped = data_loader.processed_incidents_df.groupby(['time_call_received', 'x_accurate', 'y_accurate'])\n",
    "duplicate_counts = grouped.size().reset_index(name='counts')\n",
    "\n",
    "# Filter to get only duplicates\n",
    "duplicates = duplicate_counts[duplicate_counts['counts'] > 1].copy()\n",
    "\n",
    "# Extract the year from time_call_received for sorting\n",
    "duplicates['year'] = duplicates['time_call_received'].dt.year\n",
    "\n",
    "# Sort the duplicates by year\n",
    "sorted_duplicates = duplicates.sort_values(by='year')\n",
    "\n",
    "# Count the occurrences of each year in the sorted duplicates\n",
    "year_occurrences = sorted_duplicates['year'].value_counts().sort_index()\n",
    "\n",
    "year_occurrences"
   ]
  },
  {
   "cell_type": "code",
   "execution_count": 7,
   "metadata": {},
   "outputs": [
    {
     "name": "stdout",
     "output_type": "stream",
     "text": [
      "<class 'pandas.core.frame.DataFrame'>\n",
      "Index: 580737 entries, 5199 to 754810\n",
      "Data columns (total 20 columns):\n",
      " #   Column                         Non-Null Count   Dtype         \n",
      "---  ------                         --------------   -----         \n",
      " 0   triage_impression_during_call  580728 non-null  object        \n",
      " 1   resource_id                    580737 non-null  object        \n",
      " 2   resource_type                  580737 non-null  object        \n",
      " 3   time_call_received             580737 non-null  datetime64[ns]\n",
      " 4   time_call_processed            580737 non-null  datetime64[ns]\n",
      " 5   time_ambulance_notified        580419 non-null  datetime64[ns]\n",
      " 6   time_dispatch                  563737 non-null  datetime64[ns]\n",
      " 7   time_arrival_scene             513997 non-null  datetime64[ns]\n",
      " 8   time_departure_scene           432640 non-null  datetime64[ns]\n",
      " 9   time_arrival_hospital          430456 non-null  datetime64[ns]\n",
      " 10  time_available                 580714 non-null  datetime64[ns]\n",
      " 11  grid_id                        580737 non-null  int64         \n",
      " 12  x                              580737 non-null  int64         \n",
      " 13  y                              580737 non-null  int64         \n",
      " 14  x_accurate                     580737 non-null  int64         \n",
      " 15  y_accurate                     580737 non-null  int64         \n",
      " 16  longitude                      580737 non-null  float64       \n",
      " 17  latitude                       580737 non-null  float64       \n",
      " 18  region                         442004 non-null  object        \n",
      " 19  urban_settlement               580737 non-null  bool          \n",
      "dtypes: bool(1), datetime64[ns](8), float64(2), int64(5), object(4)\n",
      "memory usage: 89.2+ MB\n"
     ]
    }
   ],
   "source": [
    "# Extract the year from time_call_received\n",
    "data_loader.processed_incidents_df['year'] = data_loader.processed_incidents_df['time_call_received'].dt.year\n",
    "\n",
    "# Keep only the rows where the year is between 2016 and 2018\n",
    "filtered_df = data_loader.processed_incidents_df[(data_loader.processed_incidents_df['year'] >= 2016) & (data_loader.processed_incidents_df['year'] <= 2018)]\n",
    "\n",
    "# Drop the 'year' column if it's no longer needed\n",
    "filtered_df = filtered_df.drop(columns=['year'])\n",
    "\n",
    "filtered_df.info()\n"
   ]
  },
  {
   "cell_type": "code",
   "execution_count": null,
   "metadata": {},
   "outputs": [],
   "source": [
    "# Group by time_call_received, x_accurate, and y_accurate\n",
    "grouped = filtered_df.groupby(['time_call_received', 'x_accurate', 'y_accurate'])\n",
    "duplicate_counts = grouped.size().reset_index(name='counts')\n",
    "\n",
    "# Filter to get only duplicates\n",
    "duplicates = duplicate_counts[duplicate_counts['counts'] > 1].copy()\n",
    "\n",
    "# Extract the year from time_call_received for sorting\n",
    "duplicates['year'] = duplicates['time_call_received'].dt.year\n",
    "\n",
    "# Sort the duplicates by year\n",
    "sorted_duplicates = duplicates.sort_values(by='year')\n",
    "\n",
    "# Count the occurrences of each year in the sorted duplicates\n",
    "year_occurrences = sorted_duplicates['year'].value_counts().sort_index()\n",
    "\n",
    "year_occurrences\n"
   ]
  },
  {
   "cell_type": "code",
   "execution_count": null,
   "metadata": {},
   "outputs": [],
   "source": [
    "# Group by day and count incidents\n",
    "daily_incidents = data_loader.processed_incidents_df.groupby(data_loader.processed_incidents_df['time_call_received'].dt.date).size()\n",
    "\n",
    "# Plotting\n",
    "plt.figure(figsize=(12, 6))\n",
    "plt.plot(daily_incidents.index, daily_incidents.values)\n",
    "\n",
    "# Formatting x-axis to show only the year\n",
    "plt.gca().xaxis.set_major_locator(mdates.YearLocator())\n",
    "plt.gca().xaxis.set_major_formatter(mdates.DateFormatter('%Y'))\n",
    "\n",
    "# Labels and title\n",
    "plt.xlabel('Year')\n",
    "plt.ylabel('Total Incidents')\n",
    "plt.title('Total Incidents Per Day Over Years')\n",
    "\n",
    "plt.grid(True)\n",
    "plt.show()\n"
   ]
  },
  {
   "cell_type": "code",
   "execution_count": null,
   "metadata": {},
   "outputs": [],
   "source": [
    "# Group by day and count incidents\n",
    "daily_incidents = filtered_df.groupby(filtered_df['time_call_received'].dt.date).size()\n",
    "\n",
    "# Plotting\n",
    "plt.figure(figsize=(12, 6))\n",
    "plt.plot(daily_incidents.index, daily_incidents.values)\n",
    "\n",
    "# Formatting x-axis to show only the year\n",
    "plt.gca().xaxis.set_major_locator(mdates.YearLocator())\n",
    "plt.gca().xaxis.set_major_formatter(mdates.DateFormatter('%Y'))\n",
    "\n",
    "# Labels and title\n",
    "plt.xlabel('Year')\n",
    "plt.ylabel('Total Incidents')\n",
    "plt.title('Total Incidents Per Day Over Years')\n",
    "\n",
    "plt.grid(True)\n",
    "plt.show()"
   ]
  },
  {
   "cell_type": "code",
   "execution_count": null,
   "metadata": {},
   "outputs": [],
   "source": [
    "filtered_df = filtered_df.dropna(subset=[\"region\"])\n"
   ]
  },
  {
   "cell_type": "code",
   "execution_count": null,
   "metadata": {},
   "outputs": [],
   "source": [
    "# Group by day and count incidents\n",
    "daily_incidents = filtered_df.groupby(filtered_df['time_call_received'].dt.date).size()\n",
    "\n",
    "# Plotting\n",
    "plt.figure(figsize=(12, 6))\n",
    "plt.plot(daily_incidents.index, daily_incidents.values)\n",
    "\n",
    "# Formatting x-axis to show only the year\n",
    "plt.gca().xaxis.set_major_locator(mdates.YearLocator())\n",
    "plt.gca().xaxis.set_major_formatter(mdates.DateFormatter('%Y'))\n",
    "\n",
    "# Labels and title\n",
    "plt.xlabel('Year')\n",
    "plt.ylabel('Total Incidents')\n",
    "plt.title('Total Incidents Per Day Over Years')\n",
    "\n",
    "plt.grid(True)\n",
    "plt.show()"
   ]
  },
  {
   "cell_type": "code",
   "execution_count": null,
   "metadata": {},
   "outputs": [],
   "source": [
    "# Group by time_call_received, x_accurate, and y_accurate\n",
    "grouped = filtered_df.groupby(['time_call_received', 'x_accurate', 'y_accurate'])\n",
    "duplicate_counts = grouped.size().reset_index(name='counts')\n",
    "\n",
    "# Filter to get only duplicates\n",
    "duplicates = duplicate_counts[duplicate_counts['counts'] > 1].copy()\n",
    "\n",
    "# Extract the year from time_call_received for sorting\n",
    "duplicates['year'] = duplicates['time_call_received'].dt.year\n",
    "\n",
    "# Sort the duplicates by year\n",
    "sorted_duplicates = duplicates.sort_values(by='year')\n",
    "\n",
    "# Count the occurrences of each year in the sorted duplicates\n",
    "year_occurrences = sorted_duplicates['year'].value_counts().sort_index()\n",
    "\n",
    "year_occurrences"
   ]
  },
  {
   "cell_type": "code",
   "execution_count": null,
   "metadata": {},
   "outputs": [],
   "source": [
    "# Group by time_call_received, x_accurate, and y_accurate\n",
    "grouped = filtered_df.groupby(['time_call_received', 'x_accurate', 'y_accurate'])\n",
    "\n",
    "# Identifying duplicate groups (keeping one per group)\n",
    "duplicates = grouped.filter(lambda x: len(x) > 1).drop_duplicates(subset=['time_call_received', 'x_accurate', 'y_accurate'])\n",
    "\n",
    "# Extract the year from time_call_received\n",
    "duplicates['year'] = duplicates['time_call_received'].dt.year\n",
    "\n",
    "# Count the occurrences of each year in the duplicates\n",
    "year_occurrences = duplicates['year'].value_counts().sort_index()\n",
    "\n",
    "year_occurrences"
   ]
  },
  {
   "cell_type": "code",
   "execution_count": null,
   "metadata": {},
   "outputs": [],
   "source": [
    "grouped = filtered_df.groupby(['time_call_received', 'x_accurate', 'y_accurate'])\n",
    "\n",
    "# Count all instances in each duplicate group\n",
    "duplicate_counts = grouped.size()\n",
    "\n",
    "# Calculate the total number of rows to drop (all duplicates minus one per group)\n",
    "rows_to_drop = duplicate_counts.sum() - len(duplicate_counts)\n",
    "\n",
    "rows_to_drop"
   ]
  },
  {
   "cell_type": "code",
   "execution_count": 8,
   "metadata": {},
   "outputs": [
    {
     "name": "stdout",
     "output_type": "stream",
     "text": [
      "25497\n",
      "<class 'pandas.core.frame.DataFrame'>\n",
      "Index: 555240 entries, 5199 to 754810\n",
      "Data columns (total 20 columns):\n",
      " #   Column                         Non-Null Count   Dtype         \n",
      "---  ------                         --------------   -----         \n",
      " 0   triage_impression_during_call  555231 non-null  object        \n",
      " 1   resource_id                    555240 non-null  object        \n",
      " 2   resource_type                  555240 non-null  object        \n",
      " 3   time_call_received             555240 non-null  datetime64[ns]\n",
      " 4   time_call_processed            555240 non-null  datetime64[ns]\n",
      " 5   time_ambulance_notified        554939 non-null  datetime64[ns]\n",
      " 6   time_dispatch                  539467 non-null  datetime64[ns]\n",
      " 7   time_arrival_scene             493393 non-null  datetime64[ns]\n",
      " 8   time_departure_scene           416375 non-null  datetime64[ns]\n",
      " 9   time_arrival_hospital          414308 non-null  datetime64[ns]\n",
      " 10  time_available                 555217 non-null  datetime64[ns]\n",
      " 11  grid_id                        555240 non-null  int64         \n",
      " 12  x                              555240 non-null  int64         \n",
      " 13  y                              555240 non-null  int64         \n",
      " 14  x_accurate                     555240 non-null  int64         \n",
      " 15  y_accurate                     555240 non-null  int64         \n",
      " 16  longitude                      555240 non-null  float64       \n",
      " 17  latitude                       555240 non-null  float64       \n",
      " 18  region                         421678 non-null  object        \n",
      " 19  urban_settlement               555240 non-null  bool          \n",
      "dtypes: bool(1), datetime64[ns](8), float64(2), int64(5), object(4)\n",
      "memory usage: 85.3+ MB\n"
     ]
    }
   ],
   "source": [
    "print(filtered_df.duplicated().sum())\n",
    "filtered_df = filtered_df.drop_duplicates()\n",
    "filtered_df.info()\n"
   ]
  },
  {
   "cell_type": "code",
   "execution_count": null,
   "metadata": {},
   "outputs": [],
   "source": [
    "grouped = df.groupby(['time_call_received', 'x_accurate', 'y_accurate'])\n",
    "\n",
    "# Count all instances in each duplicate group\n",
    "duplicate_counts = grouped.size()\n",
    "\n",
    "# Calculate the total number of rows to drop (all duplicates minus one per group)\n",
    "rows_to_drop = duplicate_counts.sum() - len(duplicate_counts)\n",
    "\n",
    "rows_to_drop"
   ]
  },
  {
   "cell_type": "code",
   "execution_count": null,
   "metadata": {},
   "outputs": [],
   "source": [
    "# Group by day and count incidents\n",
    "daily_incidents = df.groupby(df['time_call_received'].dt.date).size()\n",
    "\n",
    "# Plotting\n",
    "plt.figure(figsize=(12, 6))\n",
    "plt.plot(daily_incidents.index, daily_incidents.values)\n",
    "\n",
    "# Formatting x-axis to show only the year\n",
    "plt.gca().xaxis.set_major_locator(mdates.YearLocator())\n",
    "plt.gca().xaxis.set_major_formatter(mdates.DateFormatter('%Y'))\n",
    "\n",
    "# Labels and title\n",
    "plt.xlabel('Year')\n",
    "plt.ylabel('Total Incidents')\n",
    "plt.title('Total Incidents Per Day Over Years')\n",
    "\n",
    "plt.grid(True)\n",
    "plt.show()"
   ]
  },
  {
   "cell_type": "code",
   "execution_count": 5,
   "metadata": {},
   "outputs": [
    {
     "name": "stdout",
     "output_type": "stream",
     "text": [
      "<class 'pandas.core.frame.DataFrame'>\n",
      "Index: 555240 entries, 5199 to 754810\n",
      "Data columns (total 20 columns):\n",
      " #   Column                         Non-Null Count   Dtype         \n",
      "---  ------                         --------------   -----         \n",
      " 0   triage_impression_during_call  555231 non-null  object        \n",
      " 1   resource_id                    555240 non-null  object        \n",
      " 2   resource_type                  555240 non-null  object        \n",
      " 3   time_call_received             555240 non-null  datetime64[ns]\n",
      " 4   time_call_processed            555240 non-null  datetime64[ns]\n",
      " 5   time_ambulance_notified        554939 non-null  datetime64[ns]\n",
      " 6   time_dispatch                  539467 non-null  datetime64[ns]\n",
      " 7   time_arrival_scene             493393 non-null  datetime64[ns]\n",
      " 8   time_departure_scene           416375 non-null  datetime64[ns]\n",
      " 9   time_arrival_hospital          414308 non-null  datetime64[ns]\n",
      " 10  time_available                 555217 non-null  datetime64[ns]\n",
      " 11  grid_id                        555240 non-null  int64         \n",
      " 12  x                              555240 non-null  int64         \n",
      " 13  y                              555240 non-null  int64         \n",
      " 14  x_accurate                     555240 non-null  int64         \n",
      " 15  y_accurate                     555240 non-null  int64         \n",
      " 16  longitude                      555240 non-null  float64       \n",
      " 17  latitude                       555240 non-null  float64       \n",
      " 18  region                         421678 non-null  object        \n",
      " 19  urban_settlement               555240 non-null  bool          \n",
      "dtypes: bool(1), datetime64[ns](8), float64(2), int64(5), object(4)\n",
      "memory usage: 85.3+ MB\n"
     ]
    }
   ],
   "source": [
    "dataframe = data_loader.processed_incidents_df.copy()\n",
    "\n",
    "dataframe = data_preprocessor._remove_incomplete_years(dataframe)\n",
    "dataframe = data_preprocessor._remove_duplicates(dataframe)\n",
    "\n",
    "dataframe.info()"
   ]
  },
  {
   "cell_type": "code",
   "execution_count": 6,
   "metadata": {},
   "outputs": [
    {
     "data": {
      "text/plain": [
       "5199       True\n",
       "5203       True\n",
       "5205       True\n",
       "5206      False\n",
       "5207       True\n",
       "          ...  \n",
       "754806    False\n",
       "754807    False\n",
       "754808    False\n",
       "754809     True\n",
       "754810    False\n",
       "Length: 555240, dtype: bool"
      ]
     },
     "execution_count": 6,
     "metadata": {},
     "output_type": "execute_result"
    }
   ],
   "source": [
    "dataframe.duplicated(subset=['time_call_received', 'x_accurate', 'y_accurate'], keep=False)"
   ]
  },
  {
   "cell_type": "code",
   "execution_count": 7,
   "metadata": {},
   "outputs": [
    {
     "data": {
      "text/plain": [
       "59901"
      ]
     },
     "execution_count": 7,
     "metadata": {},
     "output_type": "execute_result"
    }
   ],
   "source": [
    "datetime_columns = [\n",
    "    \"time_call_received\", \"time_call_processed\", \"time_ambulance_notified\",\n",
    "    \"time_dispatch\", \"time_arrival_scene\", \"time_departure_scene\",\n",
    "    \"time_arrival_hospital\", \"time_available\"\n",
    "]\n",
    "\n",
    "# Count rows that violate the sequence\n",
    "violations = 0\n",
    "for i in range(len(datetime_columns) - 1):\n",
    "    first_col = datetime_columns[i]\n",
    "    second_col = datetime_columns[i + 1]\n",
    "    \n",
    "    # Count where the first date is after the second date\n",
    "    violations += dataframe[dataframe[first_col] > dataframe[second_col]].shape[0]\n",
    "\n",
    "violations\n"
   ]
  },
  {
   "cell_type": "code",
   "execution_count": 8,
   "metadata": {},
   "outputs": [
    {
     "data": {
      "text/plain": [
       "resource_type\n",
       "Ambulanse         535332\n",
       "Operativ Leder     13328\n",
       "Legebil             5146\n",
       "Akuttbil            1298\n",
       "Syketransport        136\n",
       "Name: count, dtype: int64"
      ]
     },
     "execution_count": 8,
     "metadata": {},
     "output_type": "execute_result"
    }
   ],
   "source": [
    "dataframe[\"resource_type\"].value_counts()"
   ]
  }
 ],
 "metadata": {
  "kernelspec": {
   "display_name": ".venv",
   "language": "python",
   "name": "python3"
  },
  "language_info": {
   "codemirror_mode": {
    "name": "ipython",
    "version": 3
   },
   "file_extension": ".py",
   "mimetype": "text/x-python",
   "name": "python",
   "nbconvert_exporter": "python",
   "pygments_lexer": "ipython3",
   "version": "3.11.7"
  }
 },
 "nbformat": 4,
 "nbformat_minor": 2
}
