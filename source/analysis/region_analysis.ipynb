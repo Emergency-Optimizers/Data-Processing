{
 "cells": [
  {
   "cell_type": "markdown",
   "metadata": {},
   "source": [
    "# Fix pathing"
   ]
  },
  {
   "cell_type": "code",
   "execution_count": 1,
   "metadata": {},
   "outputs": [],
   "source": [
    "import sys\n",
    "\n",
    "\n",
    "sys.path.append(\"..\")\n"
   ]
  },
  {
   "cell_type": "code",
   "execution_count": 2,
   "metadata": {},
   "outputs": [],
   "source": [
    "import constants\n",
    "\n",
    "import os\n",
    "\n",
    "\n",
    "constants.PROJECT_DIRECTORY_PATH = os.path.dirname(os.path.dirname(constants.PROJECT_DIRECTORY_PATH))\n"
   ]
  },
  {
   "cell_type": "markdown",
   "metadata": {},
   "source": [
    "# Imports"
   ]
  },
  {
   "cell_type": "code",
   "execution_count": 3,
   "metadata": {},
   "outputs": [],
   "source": [
    "import datahandler\n",
    "\n",
    "import pandas as pd\n",
    "import matplotlib.pyplot as plt\n",
    "import matplotlib.dates as mdates\n"
   ]
  },
  {
   "cell_type": "markdown",
   "metadata": {},
   "source": [
    "# Constants"
   ]
  },
  {
   "cell_type": "code",
   "execution_count": 4,
   "metadata": {},
   "outputs": [
    {
     "name": "stderr",
     "output_type": "stream",
     "text": [
      "Cleaning dataset: 100%|██████████| 2/2 [00:00<00:00, 2005.40it/s]\n",
      "Processing dataset: 100%|██████████| 2/2 [00:00<00:00, 1996.81it/s]\n",
      "Enhancing dataset: 100%|██████████| 2/2 [00:00<00:00, 2005.88it/s]\n",
      "Loading dataset:   0%|          | 0/2 [00:00<?, ?it/s]"
     ]
    },
    {
     "name": "stderr",
     "output_type": "stream",
     "text": [
      "Loading dataset: 100%|██████████| 2/2 [00:11<00:00,  5.97s/it]\n"
     ]
    }
   ],
   "source": [
    "data_preprocessor = datahandler.DataPreprocessorOUS_V2()\n",
    "data_preprocessor.execute()\n",
    "\n",
    "data_loader = datahandler.DataLoader(datahandler.DataPreprocessorOUS_V2)\n",
    "data_loader.execute(clean=False, processed=True, enhanced=False)\n"
   ]
  },
  {
   "cell_type": "markdown",
   "metadata": {},
   "source": [
    "# Methods"
   ]
  },
  {
   "cell_type": "code",
   "execution_count": 5,
   "metadata": {},
   "outputs": [],
   "source": [
    "def remove_outside_region(dataframe: pd.DataFrame) -> pd.DataFrame:\n",
    "    dataframe = dataframe.dropna(subset=[\"region\"])\n",
    "\n",
    "    return dataframe\n"
   ]
  },
  {
   "cell_type": "markdown",
   "metadata": {},
   "source": [
    "# Main"
   ]
  },
  {
   "cell_type": "code",
   "execution_count": 6,
   "metadata": {},
   "outputs": [
    {
     "name": "stdout",
     "output_type": "stream",
     "text": [
      "<class 'pandas.core.frame.DataFrame'>\n",
      "Index: 555240 entries, 5199 to 754810\n",
      "Data columns (total 20 columns):\n",
      " #   Column                         Non-Null Count   Dtype         \n",
      "---  ------                         --------------   -----         \n",
      " 0   triage_impression_during_call  555231 non-null  object        \n",
      " 1   resource_id                    555240 non-null  object        \n",
      " 2   resource_type                  555240 non-null  object        \n",
      " 3   time_call_received             555240 non-null  datetime64[ns]\n",
      " 4   time_incident_created            555240 non-null  datetime64[ns]\n",
      " 5   time_resource_appointed        554939 non-null  datetime64[ns]\n",
      " 6   time_ambulance_dispatch_to_scene                  539467 non-null  datetime64[ns]\n",
      " 7   time_ambulance_arrived_at_scene             493393 non-null  datetime64[ns]\n",
      " 8   time_ambulance_dispatch_to_hospital           416375 non-null  datetime64[ns]\n",
      " 9   time_ambulance_arrived_at_hospital          414308 non-null  datetime64[ns]\n",
      " 10  time_ambulance_available                 555217 non-null  datetime64[ns]\n",
      " 11  grid_id                        555240 non-null  int64         \n",
      " 12  x                              555240 non-null  int64         \n",
      " 13  y                              555240 non-null  int64         \n",
      " 14  x_accurate                     555240 non-null  int64         \n",
      " 15  y_accurate                     555240 non-null  int64         \n",
      " 16  longitude                      555240 non-null  float64       \n",
      " 17  latitude                       555240 non-null  float64       \n",
      " 18  region                         421678 non-null  object        \n",
      " 19  urban_settlement               555240 non-null  bool          \n",
      "dtypes: bool(1), datetime64[ns](8), float64(2), int64(5), object(4)\n",
      "memory usage: 85.3+ MB\n"
     ]
    }
   ],
   "source": [
    "dataframe = data_loader.processed_incidents_df.copy()\n",
    "\n",
    "dataframe = data_preprocessor._remove_incomplete_years(dataframe)\n",
    "dataframe = data_preprocessor._remove_duplicates(dataframe)\n",
    "\n",
    "dataframe.info()\n"
   ]
  },
  {
   "cell_type": "code",
   "execution_count": 7,
   "metadata": {},
   "outputs": [
    {
     "name": "stdout",
     "output_type": "stream",
     "text": [
      "<class 'pandas.core.frame.DataFrame'>\n",
      "Index: 421678 entries, 5199 to 754810\n",
      "Data columns (total 20 columns):\n",
      " #   Column                         Non-Null Count   Dtype         \n",
      "---  ------                         --------------   -----         \n",
      " 0   triage_impression_during_call  421670 non-null  object        \n",
      " 1   resource_id                    421678 non-null  object        \n",
      " 2   resource_type                  421678 non-null  object        \n",
      " 3   time_call_received             421678 non-null  datetime64[ns]\n",
      " 4   time_incident_created            421678 non-null  datetime64[ns]\n",
      " 5   time_resource_appointed        421472 non-null  datetime64[ns]\n",
      " 6   time_ambulance_dispatch_to_scene                  409579 non-null  datetime64[ns]\n",
      " 7   time_ambulance_arrived_at_scene             373982 non-null  datetime64[ns]\n",
      " 8   time_ambulance_dispatch_to_hospital           313286 non-null  datetime64[ns]\n",
      " 9   time_ambulance_arrived_at_hospital          312748 non-null  datetime64[ns]\n",
      " 10  time_ambulance_available                 421655 non-null  datetime64[ns]\n",
      " 11  grid_id                        421678 non-null  int64         \n",
      " 12  x                              421678 non-null  int64         \n",
      " 13  y                              421678 non-null  int64         \n",
      " 14  x_accurate                     421678 non-null  int64         \n",
      " 15  y_accurate                     421678 non-null  int64         \n",
      " 16  longitude                      421678 non-null  float64       \n",
      " 17  latitude                       421678 non-null  float64       \n",
      " 18  region                         421678 non-null  object        \n",
      " 19  urban_settlement               421678 non-null  bool          \n",
      "dtypes: bool(1), datetime64[ns](8), float64(2), int64(5), object(4)\n",
      "memory usage: 64.7+ MB\n"
     ]
    }
   ],
   "source": [
    "dataframe = remove_outside_region(dataframe)\n",
    "\n",
    "dataframe.info()\n"
   ]
  }
 ],
 "metadata": {
  "kernelspec": {
   "display_name": ".venv",
   "language": "python",
   "name": "python3"
  },
  "language_info": {
   "codemirror_mode": {
    "name": "ipython",
    "version": 3
   },
   "file_extension": ".py",
   "mimetype": "text/x-python",
   "name": "python",
   "nbconvert_exporter": "python",
   "pygments_lexer": "ipython3",
   "version": "3.11.7"
  }
 },
 "nbformat": 4,
 "nbformat_minor": 2
}
