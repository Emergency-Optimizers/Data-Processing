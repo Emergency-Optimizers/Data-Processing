{
 "cells": [
  {
   "cell_type": "markdown",
   "metadata": {},
   "source": [
    "# Fix pathing"
   ]
  },
  {
   "cell_type": "code",
   "execution_count": 1,
   "metadata": {},
   "outputs": [],
   "source": [
    "import sys\n",
    "\n",
    "\n",
    "sys.path.append(\"..\")\n"
   ]
  },
  {
   "cell_type": "code",
   "execution_count": 2,
   "metadata": {},
   "outputs": [],
   "source": [
    "import constants\n",
    "\n",
    "import os\n",
    "\n",
    "\n",
    "constants.PROJECT_DIRECTORY_PATH = os.path.dirname(os.path.dirname(constants.PROJECT_DIRECTORY_PATH))\n"
   ]
  },
  {
   "cell_type": "markdown",
   "metadata": {},
   "source": [
    "# Init"
   ]
  },
  {
   "cell_type": "code",
   "execution_count": 3,
   "metadata": {},
   "outputs": [
    {
     "name": "stderr",
     "output_type": "stream",
     "text": [
      "Cleaning dataset: 100%|██████████| 2/2 [00:00<00:00, 2798.07it/s]\n",
      "Processing dataset: 100%|██████████| 2/2 [00:00<00:00, 10131.17it/s]\n",
      "Enhancing dataset: 100%|██████████| 2/2 [00:00<00:00, 13168.93it/s]\n",
      "Loading dataset: 100%|██████████| 6/6 [00:22<00:00,  3.77s/it]\n"
     ]
    }
   ],
   "source": [
    "import datahandler\n",
    "\n",
    "import matplotlib.pyplot as plt\n",
    "\n",
    "\n",
    "dataset_id = \"oslo\"\n",
    "\n",
    "data_preprocessor = datahandler.DataPreprocessorOUS(dataset_id)\n",
    "data_preprocessor.execute()\n",
    "\n",
    "data_loader = datahandler.DataLoader(dataset_id)\n",
    "data_loader.execute()\n"
   ]
  },
  {
   "cell_type": "markdown",
   "metadata": {},
   "source": [
    "# Analysis\n",
    "- All of the rows where \"time_available\" is NaN should be dropped (64 rows)\n",
    "- All of the rows where \"time_dispatch\" is NaN should be dropped (111 rows)\n",
    "- All of the rows where \"triage_impression_during_call\" is NaN should be dropped (9 rows)\n",
    "- All of the rows where \"time_arrival_scene\" is NaN and \"time_arrival_hospital\" is not NaN should be dropped (13695 rows)\n",
    "- All of the rows where \"time_departure_scene\" is NaN and \"time_arrival_hospital\" is not NaN should be dropped (8356 rows)\n"
   ]
  },
  {
   "cell_type": "code",
   "execution_count": 4,
   "metadata": {},
   "outputs": [
    {
     "name": "stdout",
     "output_type": "stream",
     "text": [
      "64\n"
     ]
    }
   ],
   "source": [
    "nan_rows = data_loader.processed_incidents_df[data_loader.processed_incidents_df[\"time_available\"].isna()]\n",
    "print(nan_rows.shape[0])\n"
   ]
  },
  {
   "cell_type": "code",
   "execution_count": 5,
   "metadata": {},
   "outputs": [
    {
     "name": "stdout",
     "output_type": "stream",
     "text": [
      "23104\n"
     ]
    }
   ],
   "source": [
    "nan_rows = data_loader.processed_incidents_df[data_loader.processed_incidents_df[\"time_dispatch\"].isna()]\n",
    "print(nan_rows.shape[0])"
   ]
  },
  {
   "cell_type": "code",
   "execution_count": 6,
   "metadata": {},
   "outputs": [
    {
     "name": "stdout",
     "output_type": "stream",
     "text": [
      "9\n"
     ]
    }
   ],
   "source": [
    "nan_rows = data_loader.processed_incidents_df[data_loader.processed_incidents_df[\"triage_impression_during_call\"].isna()]\n",
    "print(nan_rows.shape[0])"
   ]
  },
  {
   "cell_type": "code",
   "execution_count": 7,
   "metadata": {},
   "outputs": [
    {
     "name": "stdout",
     "output_type": "stream",
     "text": [
      "13695\n"
     ]
    }
   ],
   "source": [
    "count = data_loader.processed_incidents_df[(data_loader.processed_incidents_df[\"time_arrival_scene\"].isna()) & (~data_loader.processed_incidents_df[\"time_arrival_hospital\"].isna())].shape[0]\n",
    "print(count)"
   ]
  },
  {
   "cell_type": "code",
   "execution_count": 8,
   "metadata": {},
   "outputs": [
    {
     "name": "stdout",
     "output_type": "stream",
     "text": [
      "8356\n"
     ]
    }
   ],
   "source": [
    "count = data_loader.processed_incidents_df[(data_loader.processed_incidents_df[\"time_departure_scene\"].isna()) & (~data_loader.processed_incidents_df[\"time_arrival_hospital\"].isna())].shape[0]\n",
    "print(count)"
   ]
  },
  {
   "cell_type": "code",
   "execution_count": 9,
   "metadata": {},
   "outputs": [
    {
     "name": "stdout",
     "output_type": "stream",
     "text": [
      "(711924, 19)\n"
     ]
    }
   ],
   "source": [
    "print(data_loader.enhanced_incidents_df.shape)"
   ]
  },
  {
   "cell_type": "code",
   "execution_count": 10,
   "metadata": {},
   "outputs": [
    {
     "name": "stdout",
     "output_type": "stream",
     "text": [
      "0            NaN\n",
      "1            NaN\n",
      "2            NaN\n",
      "3            NaN\n",
      "4            NaN\n",
      "           ...  \n",
      "711919    1125.0\n",
      "711920    1773.0\n",
      "711921    1449.0\n",
      "711922    5527.0\n",
      "711923    2357.0\n",
      "Name: response_time_sec, Length: 711924, dtype: float64\n"
     ]
    }
   ],
   "source": [
    "print(data_loader.enhanced_incidents_df[\"response_time_sec\"])"
   ]
  },
  {
   "cell_type": "code",
   "execution_count": null,
   "metadata": {},
   "outputs": [],
   "source": [
    "import matplotlib.pyplot as plt\n",
    "import cartopy.crs as ccrs\n",
    "import cartopy.feature as cfeature\n",
    "import numpy as np\n",
    "\n",
    "df = data_loader.enhanced_incidents_df\n",
    "\n",
    "# Determine the extents of your map from your dataframe\n",
    "min_longitude = df['longitude'].min()\n",
    "max_longitude = df['longitude'].max()\n",
    "min_latitude = df['latitude'].min()\n",
    "max_latitude = df['latitude'].max()\n",
    "\n",
    "grid_width = 1000  # assuming each grid cell is 1000m width, adjust as needed\n",
    "grid_height = 1000  # assuming each grid cell is 1000m height, adjust as needed\n",
    "\n",
    "# Create a map with grid lines\n",
    "fig, ax = plt.subplots(subplot_kw={'projection': ccrs.PlateCarree()})\n",
    "ax.set_extent([min_longitude, max_longitude, min_latitude, max_latitude])\n",
    "\n",
    "# Add natural features\n",
    "ax.add_feature(cfeature.LAND, edgecolor='black')\n",
    "ax.add_feature(cfeature.COASTLINE)\n",
    "ax.add_feature(cfeature.BORDERS, linestyle=':')\n",
    "\n",
    "# Overlay grid based on easting and northing values\n",
    "easting_vals = np.arange(df['easting'].min(), df['easting'].max(), grid_width)\n",
    "northing_vals = np.arange(df['northing'].min(), df['northing'].max(), grid_height)\n",
    "\n",
    "for east in easting_vals:\n",
    "    ax.plot([east, east], [df['northing'].min(), df['northing'].max()], color=\"red\", transform=ccrs.PlateCarree())\n",
    "for north in northing_vals:\n",
    "    ax.plot([df['easting'].min(), df['easting'].max()], [north, north], color=\"red\", transform=ccrs.PlateCarree())\n",
    "\n",
    "# Plotting the incident locations from the dataframe\n",
    "ax.scatter(df['longitude'], df['latitude'], color='blue', transform=ccrs.PlateCarree())\n",
    "\n",
    "plt.show()"
   ]
  }
 ],
 "metadata": {
  "kernelspec": {
   "display_name": ".venv",
   "language": "python",
   "name": "python3"
  },
  "language_info": {
   "codemirror_mode": {
    "name": "ipython",
    "version": 3
   },
   "file_extension": ".py",
   "mimetype": "text/x-python",
   "name": "python",
   "nbconvert_exporter": "python",
   "pygments_lexer": "ipython3",
   "version": "3.11.6"
  }
 },
 "nbformat": 4,
 "nbformat_minor": 2
}
