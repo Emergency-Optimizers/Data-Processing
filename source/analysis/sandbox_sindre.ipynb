{
 "cells": [
  {
   "cell_type": "markdown",
   "metadata": {},
   "source": [
    "# Fix pathing"
   ]
  },
  {
   "cell_type": "code",
   "execution_count": 1,
   "metadata": {},
   "outputs": [],
   "source": [
    "import sys\n",
    "\n",
    "\n",
    "sys.path.append(\"..\")\n"
   ]
  },
  {
   "cell_type": "code",
   "execution_count": 2,
   "metadata": {},
   "outputs": [],
   "source": [
    "import constants\n",
    "\n",
    "import os\n",
    "\n",
    "\n",
    "constants.PROJECT_DIRECTORY_PATH = os.path.dirname(os.path.dirname(constants.PROJECT_DIRECTORY_PATH))\n"
   ]
  },
  {
   "cell_type": "markdown",
   "metadata": {},
   "source": [
    "# Init"
   ]
  },
  {
   "cell_type": "code",
   "execution_count": 3,
   "metadata": {},
   "outputs": [
    {
     "name": "stderr",
     "output_type": "stream",
     "text": [
      "Cleaning dataset: 100%|██████████| 2/2 [00:00<00:00, 2840.71it/s]\n",
      "Processing dataset: 100%|██████████| 2/2 [00:00<00:00, 10837.99it/s]\n",
      "Enhancing dataset: 100%|██████████| 2/2 [00:00<00:00, 16320.25it/s]\n",
      "Loading dataset: 100%|██████████| 6/6 [01:07<00:00, 11.32s/it]\n"
     ]
    }
   ],
   "source": [
    "import datahandler\n",
    "\n",
    "import matplotlib.pyplot as plt\n",
    "\n",
    "\n",
    "dataset_id = \"oslo\"\n",
    "\n",
    "data_preprocessor = datahandler.DataPreprocessorOUS(dataset_id)\n",
    "data_preprocessor.execute()\n",
    "\n",
    "data_loader = datahandler.DataLoader(dataset_id)\n",
    "data_loader.execute()\n"
   ]
  },
  {
   "cell_type": "markdown",
   "metadata": {},
   "source": [
    "# Analysis\n",
    "- All of the rows where \"time_available\" is NaN should be dropped (64 rows)\n",
    "- All of the rows where \"time_dispatch\" is NaN should be dropped (111 rows)\n",
    "- All of the rows where \"triage_impression_during_call\" is NaN should be dropped (9 rows)\n",
    "- All of the rows where \"time_arrival_scene\" is NaN and \"time_arrival_hospital\" is not NaN should be dropped (13695 rows)\n",
    "- All of the rows where \"time_departure_scene\" is NaN and \"time_arrival_hospital\" is not NaN should be dropped (8356 rows)\n"
   ]
  },
  {
   "cell_type": "code",
   "execution_count": 4,
   "metadata": {},
   "outputs": [
    {
     "name": "stdout",
     "output_type": "stream",
     "text": [
      "64\n"
     ]
    }
   ],
   "source": [
    "nan_rows = data_loader.processed_incidents_df[data_loader.processed_incidents_df[\"time_available\"].isna()]\n",
    "print(nan_rows.shape[0])\n"
   ]
  },
  {
   "cell_type": "code",
   "execution_count": 5,
   "metadata": {},
   "outputs": [
    {
     "name": "stdout",
     "output_type": "stream",
     "text": [
      "111\n"
     ]
    }
   ],
   "source": [
    "nan_rows = data_loader.processed_incidents_df[data_loader.processed_incidents_df[\"time_dispatch\"].isna()]\n",
    "print(nan_rows.shape[0])"
   ]
  },
  {
   "cell_type": "code",
   "execution_count": 6,
   "metadata": {},
   "outputs": [
    {
     "name": "stdout",
     "output_type": "stream",
     "text": [
      "9\n"
     ]
    }
   ],
   "source": [
    "nan_rows = data_loader.processed_incidents_df[data_loader.processed_incidents_df[\"triage_impression_during_call\"].isna()]\n",
    "print(nan_rows.shape[0])"
   ]
  },
  {
   "cell_type": "code",
   "execution_count": 7,
   "metadata": {},
   "outputs": [
    {
     "name": "stdout",
     "output_type": "stream",
     "text": [
      "13695\n"
     ]
    }
   ],
   "source": [
    "count = data_loader.processed_incidents_df[(data_loader.processed_incidents_df[\"time_arrival_scene\"].isna()) & (~data_loader.processed_incidents_df[\"time_arrival_hospital\"].isna())].shape[0]\n",
    "print(count)"
   ]
  },
  {
   "cell_type": "code",
   "execution_count": 8,
   "metadata": {},
   "outputs": [
    {
     "name": "stdout",
     "output_type": "stream",
     "text": [
      "8356\n"
     ]
    }
   ],
   "source": [
    "count = data_loader.processed_incidents_df[(data_loader.processed_incidents_df[\"time_departure_scene\"].isna()) & (~data_loader.processed_incidents_df[\"time_arrival_hospital\"].isna())].shape[0]\n",
    "print(count)"
   ]
  }
 ],
 "metadata": {
  "kernelspec": {
   "display_name": ".venv",
   "language": "python",
   "name": "python3"
  },
  "language_info": {
   "codemirror_mode": {
    "name": "ipython",
    "version": 3
   },
   "file_extension": ".py",
   "mimetype": "text/x-python",
   "name": "python",
   "nbconvert_exporter": "python",
   "pygments_lexer": "ipython3",
   "version": "3.11.6"
  }
 },
 "nbformat": 4,
 "nbformat_minor": 2
}
