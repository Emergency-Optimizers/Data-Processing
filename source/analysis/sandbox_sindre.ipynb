{
 "cells": [
  {
   "cell_type": "markdown",
   "metadata": {},
   "source": [
    "# Fix pathing"
   ]
  },
  {
   "cell_type": "code",
   "execution_count": 1,
   "metadata": {},
   "outputs": [],
   "source": [
    "import sys\n",
    "\n",
    "\n",
    "sys.path.append(\"..\")\n"
   ]
  },
  {
   "cell_type": "code",
   "execution_count": 2,
   "metadata": {},
   "outputs": [],
   "source": [
    "import constants\n",
    "\n",
    "import os\n",
    "\n",
    "\n",
    "constants.PROJECT_DIRECTORY_PATH = os.path.dirname(os.path.dirname(constants.PROJECT_DIRECTORY_PATH))\n"
   ]
  },
  {
   "cell_type": "markdown",
   "metadata": {},
   "source": [
    "# Init"
   ]
  },
  {
   "cell_type": "code",
   "execution_count": 3,
   "metadata": {},
   "outputs": [
    {
     "name": "stderr",
     "output_type": "stream",
     "text": [
      "Cleaning dataset: 100%|██████████| 2/2 [00:00<?, ?it/s]\n",
      "Processing dataset: 100%|██████████| 2/2 [00:00<00:00, 1594.79it/s]\n",
      "Enhancing dataset: 100%|██████████| 2/2 [00:00<00:00, 1997.76it/s]\n",
      "Loading dataset: 100%|██████████| 6/6 [00:12<00:00,  2.03s/it]\n"
     ]
    }
   ],
   "source": [
    "import datahandler\n",
    "\n",
    "import matplotlib.pyplot as plt\n",
    "\n",
    "\n",
    "dataset_id = \"oslo\"\n",
    "\n",
    "data_preprocessor = datahandler.DataPreprocessorOUS(dataset_id)\n",
    "data_preprocessor.execute()\n",
    "\n",
    "data_loader = datahandler.DataLoader(dataset_id)\n",
    "data_loader.execute()\n"
   ]
  },
  {
   "cell_type": "markdown",
   "metadata": {},
   "source": [
    "# Analysis\n",
    "- All of the rows where \"time_available\" is NaN should be dropped (64 rows)\n",
    "- All of the rows where \"time_dispatch\" is NaN should be dropped (111 rows)\n",
    "- All of the rows where \"triage_impression_during_call\" is NaN should be dropped (9 rows)\n",
    "- All of the rows where \"time_arrival_scene\" is NaN and \"time_arrival_hospital\" is not NaN should be dropped (13695 rows)\n",
    "- All of the rows where \"time_departure_scene\" is NaN and \"time_arrival_hospital\" is not NaN should be dropped (8356 rows)\n"
   ]
  },
  {
   "cell_type": "code",
   "execution_count": 4,
   "metadata": {},
   "outputs": [
    {
     "name": "stdout",
     "output_type": "stream",
     "text": [
      "64\n"
     ]
    }
   ],
   "source": [
    "nan_rows = data_loader.processed_incidents_df[data_loader.processed_incidents_df[\"time_available\"].isna()]\n",
    "print(nan_rows.shape[0])\n"
   ]
  },
  {
   "cell_type": "code",
   "execution_count": 5,
   "metadata": {},
   "outputs": [
    {
     "name": "stdout",
     "output_type": "stream",
     "text": [
      "23104\n"
     ]
    }
   ],
   "source": [
    "nan_rows = data_loader.processed_incidents_df[data_loader.processed_incidents_df[\"time_dispatch\"].isna()]\n",
    "print(nan_rows.shape[0])"
   ]
  },
  {
   "cell_type": "code",
   "execution_count": 6,
   "metadata": {},
   "outputs": [
    {
     "name": "stdout",
     "output_type": "stream",
     "text": [
      "9\n"
     ]
    }
   ],
   "source": [
    "nan_rows = data_loader.processed_incidents_df[data_loader.processed_incidents_df[\"triage_impression_during_call\"].isna()]\n",
    "print(nan_rows.shape[0])"
   ]
  },
  {
   "cell_type": "code",
   "execution_count": 7,
   "metadata": {},
   "outputs": [
    {
     "name": "stdout",
     "output_type": "stream",
     "text": [
      "13695\n"
     ]
    }
   ],
   "source": [
    "count = data_loader.processed_incidents_df[(data_loader.processed_incidents_df[\"time_arrival_scene\"].isna()) & (~data_loader.processed_incidents_df[\"time_arrival_hospital\"].isna())].shape[0]\n",
    "print(count)"
   ]
  },
  {
   "cell_type": "code",
   "execution_count": 8,
   "metadata": {},
   "outputs": [
    {
     "name": "stdout",
     "output_type": "stream",
     "text": [
      "8356\n"
     ]
    }
   ],
   "source": [
    "count = data_loader.processed_incidents_df[(data_loader.processed_incidents_df[\"time_departure_scene\"].isna()) & (~data_loader.processed_incidents_df[\"time_arrival_hospital\"].isna())].shape[0]\n",
    "print(count)"
   ]
  },
  {
   "cell_type": "code",
   "execution_count": 9,
   "metadata": {},
   "outputs": [
    {
     "name": "stdout",
     "output_type": "stream",
     "text": [
      "(711924, 19)\n"
     ]
    }
   ],
   "source": [
    "print(data_loader.enhanced_incidents_df.shape)"
   ]
  },
  {
   "cell_type": "code",
   "execution_count": 10,
   "metadata": {},
   "outputs": [
    {
     "name": "stdout",
     "output_type": "stream",
     "text": [
      "0            NaN\n",
      "1            NaN\n",
      "2            NaN\n",
      "3            NaN\n",
      "4            NaN\n",
      "           ...  \n",
      "711919    1125.0\n",
      "711920    1773.0\n",
      "711921    1449.0\n",
      "711922    5527.0\n",
      "711923    2357.0\n",
      "Name: response_time_sec, Length: 711924, dtype: float64\n"
     ]
    }
   ],
   "source": [
    "print(data_loader.enhanced_incidents_df[\"response_time_sec\"])"
   ]
  },
  {
   "cell_type": "code",
   "execution_count": 12,
   "metadata": {},
   "outputs": [
    {
     "data": {
      "image/png": "[encoded data removed]",
      "text/plain": [
       "<Figure size 640x480 with 1 Axes>"
      ]
     },
     "metadata": {},
     "output_type": "display_data"
    }
   ],
   "source": [
    "import folium\n",
    "\n",
    "# Sample data for demonstration; replace this with your actual DataFrame\n",
    "sample_data = {\n",
    "    'longitude': [10.75, 10.76, 10.77],\n",
    "    'latitude': [59.91, 59.92, 59.93]\n",
    "}\n",
    "\n",
    "df_sample = df\n",
    "\n",
    "# Create a map object centered around the mean latitude and longitude\n",
    "m = folium.Map(location=[df_sample['latitude'].mean(), df_sample['longitude'].mean()], zoom_start=13)\n",
    "\n",
    "# Add points to the map\n",
    "for _, row in df_sample.iterrows():\n",
    "    folium.CircleMarker(location=[row['latitude'], row['longitude']],\n",
    "                        radius=5,\n",
    "                        color='blue',\n",
    "                        fill=True,\n",
    "                        fill_opacity=0.7).add_to(m)\n",
    "\n",
    "# Display the map\n",
    "m\n"
   ]
  }
 ],
 "metadata": {
  "kernelspec": {
   "display_name": ".venv",
   "language": "python",
   "name": "python3"
  },
  "language_info": {
   "codemirror_mode": {
    "name": "ipython",
    "version": 3
   },
   "file_extension": ".py",
   "mimetype": "text/x-python",
   "name": "python",
   "nbconvert_exporter": "python",
   "pygments_lexer": "ipython3",
   "version": "3.11.1"
  }
 },
 "nbformat": 4,
 "nbformat_minor": 2
}
