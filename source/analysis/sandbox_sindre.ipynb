{
 "cells": [
  {
   "cell_type": "markdown",
   "metadata": {},
   "source": [
    "# Fix pathing"
   ]
  },
  {
   "cell_type": "code",
   "execution_count": 1,
   "metadata": {},
   "outputs": [],
   "source": [
    "import sys\n",
    "sys.path.append(\"..\")\n",
    "\n",
    "import os\n",
    "import constants\n",
    "\n",
    "constants.PROJECT_DIRECTORY_PATH = os.path.dirname(os.path.dirname(constants.PROJECT_DIRECTORY_PATH))\n"
   ]
  },
  {
   "cell_type": "markdown",
   "metadata": {},
   "source": [
    "# Init"
   ]
  },
  {
   "cell_type": "code",
   "execution_count": 2,
   "metadata": {},
   "outputs": [
    {
     "name": "stderr",
     "output_type": "stream",
     "text": [
      "Cleaning dataset: 100%|██████████| 2/2 [00:00<00:00, 10686.12it/s]\n",
      "Processing dataset: 100%|██████████| 2/2 [00:00<00:00, 15307.68it/s]\n",
      "Loading dataset: 100%|██████████| 4/4 [00:15<00:00,  3.97s/it]\n"
     ]
    }
   ],
   "source": [
    "import datahandler\n",
    "\n",
    "\n",
    "dataset_id = \"oslo\"\n",
    "\n",
    "data_preprocessor = datahandler.DataPreprocessorOUS(dataset_id)\n",
    "data_preprocessor.execute()\n",
    "\n",
    "data_loader = datahandler.DataLoader(dataset_id)\n",
    "data_loader.execute()\n"
   ]
  },
  {
   "cell_type": "markdown",
   "metadata": {},
   "source": [
    "# Analysis\n",
    "- All of the rows where \"time_available\" is NaN should be dropped (64 rows)\n",
    "- All of the rows where \"time_dispatch\" is NaN should be dropped (111 rows)\n",
    "- All of the rows where \"triage_impression_during_call\" is NaN should be dropped (9 rows)\n",
    "- All of the rows where \"time_arrival_scene\" is NaN and \"time_arrival_hospital\" is not NaN should be dropped (13695 rows)\n",
    "- All of the rows where \"time_departure_scene\" is NaN and \"time_arrival_hospital\" is not NaN should be dropped (8356 rows)\n"
   ]
  },
  {
   "cell_type": "markdown",
   "metadata": {},
   "source": [
    "# Plot"
   ]
  },
  {
   "cell_type": "code",
   "execution_count": 6,
   "metadata": {},
   "outputs": [
    {
     "name": "stdout",
     "output_type": "stream",
     "text": [
      "            id  synthetic triage_impression_during_call   time_call_received  \\\n",
      "1438      1677      False                             A  18.03.2015T18:18:45   \n",
      "5229      5922      False                             A  05.08.2016T16:30:27   \n",
      "15590    17658      False                             A  16.11.2016T16:53:08   \n",
      "15597    17666      False                             A  16.11.2016T16:53:24   \n",
      "16398    18556      False                             A  07.08.2015T17:13:48   \n",
      "...        ...        ...                           ...                  ...   \n",
      "601232  640197      False                             H  11.02.2019T20:31:37   \n",
      "691060  737290      False                            V1  11.02.2019T19:09:57   \n",
      "717236  768737      False                            V2  29.07.2017T12:33:08   \n",
      "718891  770823      False                            V2  07.07.2017T11:50:44   \n",
      "723180  776248      False                            V2  11.02.2019T16:30:00   \n",
      "\n",
      "              time_dispatch   time_arrival_scene time_departure_scene  \\\n",
      "1438    18.03.2015T18:23:00                  NaN                  NaN   \n",
      "5229    05.08.2016T17:18:28                  NaN                  NaN   \n",
      "15590   16.11.2016T17:12:24                  NaN                  NaN   \n",
      "15597   16.11.2016T16:54:13                  NaN                  NaN   \n",
      "16398   07.08.2015T17:15:43                  NaN                  NaN   \n",
      "...                     ...                  ...                  ...   \n",
      "601232  11.02.2019T20:55:57  11.02.2019T21:10:51  11.02.2019T21:32:56   \n",
      "691060  11.02.2019T21:06:45  11.02.2019T21:23:38  11.02.2019T21:37:40   \n",
      "717236  29.07.2017T17:06:17  29.07.2017T17:15:28  29.07.2017T17:50:19   \n",
      "718891  07.07.2017T16:38:35  07.07.2017T16:52:57  07.07.2017T17:22:56   \n",
      "723180  11.02.2019T21:39:12  11.02.2019T21:42:14                  NaN   \n",
      "\n",
      "       time_arrival_hospital time_available  longitude   latitude  \n",
      "1438                     NaN            NaN   260500.0  6651500.0  \n",
      "5229                     NaN            NaN   265500.0  6648500.0  \n",
      "15590                    NaN            NaN   263500.0  6649500.0  \n",
      "15597                    NaN            NaN   278500.0  6656500.0  \n",
      "16398                    NaN            NaN   267500.0  6650500.0  \n",
      "...                      ...            ...        ...        ...  \n",
      "601232   11.02.2019T21:52:11            NaN   254500.0  6654500.0  \n",
      "691060   11.02.2019T21:51:26            NaN   271500.0  6654500.0  \n",
      "717236   29.07.2017T18:08:15            NaN   260500.0  6653500.0  \n",
      "718891   07.07.2017T18:10:32            NaN   264500.0  6652500.0  \n",
      "723180                   NaN            NaN   273500.0  6582500.0  \n",
      "\n",
      "[64 rows x 11 columns]\n"
     ]
    }
   ],
   "source": [
    "import matplotlib.pyplot as plt\n",
    "\n",
    "\n",
    "nan_rows = data_loader.processed_incidents_df[data_loader.processed_incidents_df[\"time_available\"].isna()]\n",
    "print(nan_rows)\n"
   ]
  },
  {
   "cell_type": "code",
   "execution_count": 7,
   "metadata": {},
   "outputs": [
    {
     "name": "stdout",
     "output_type": "stream",
     "text": [
      "            id  synthetic triage_impression_during_call   time_call_received  \\\n",
      "688        790      False                            V2  27.02.2015T15:00:00   \n",
      "3671      4176      False                            V2  18.01.2015T10:00:00   \n",
      "4649      5287      False                            V2  04.02.2015T19:13:02   \n",
      "6377      7218      False                            V1  18.08.2016T17:07:07   \n",
      "7091      8019      False                             H  20.05.2015T21:20:57   \n",
      "...        ...        ...                           ...                  ...   \n",
      "727239  781360      False                            V2  05.07.2017T23:59:00   \n",
      "727685  781926      False                            V2  27.06.2015T10:00:00   \n",
      "735107  790558      False                            V2  25.08.2015T12:00:00   \n",
      "747740  805714      False                            V2  07.11.2017T14:00:00   \n",
      "753383  813116      False                            V2  20.02.2017T10:00:00   \n",
      "\n",
      "       time_dispatch   time_arrival_scene time_departure_scene  \\\n",
      "688              NaN                  NaN  27.02.2015T17:33:43   \n",
      "3671             NaN                  NaN                  NaN   \n",
      "4649             NaN                  NaN  04.02.2015T17:59:35   \n",
      "6377             NaN                  NaN                  NaN   \n",
      "7091             NaN                  NaN                  NaN   \n",
      "...              ...                  ...                  ...   \n",
      "727239           NaN  05.07.2017T19:33:00                  NaN   \n",
      "727685           NaN  27.06.2015T11:19:33  27.06.2015T11:39:22   \n",
      "735107           NaN  25.08.2015T11:21:03  25.08.2015T12:01:41   \n",
      "747740           NaN  07.11.2017T14:29:39  07.11.2017T14:54:34   \n",
      "753383           NaN  20.02.2017T11:03:34                  NaN   \n",
      "\n",
      "       time_arrival_hospital       time_available  longitude   latitude  \n",
      "688      27.02.2015T17:48:51  27.02.2015T20:38:00   259500.0  6651500.0  \n",
      "3671                     NaN  17.01.2015T21:51:00   260500.0  6653500.0  \n",
      "4649     04.02.2015T18:16:28  04.02.2015T18:31:33   260500.0  6653500.0  \n",
      "6377     18.08.2016T17:18:52  18.08.2016T17:39:04   262500.0  6649500.0  \n",
      "7091                     NaN  20.05.2015T21:34:00   255500.0  6597500.0  \n",
      "...                      ...                  ...        ...        ...  \n",
      "727239                   NaN  05.07.2017T19:53:33   299500.0  6681500.0  \n",
      "727685   27.06.2015T12:54:59  27.06.2015T13:18:48   260500.0  6653500.0  \n",
      "735107   25.08.2015T14:05:12  25.08.2015T14:37:45   260500.0  6653500.0  \n",
      "747740   07.11.2017T15:03:45  07.11.2017T15:20:19   262500.0  6651500.0  \n",
      "753383                   NaN  20.02.2017T10:00:00   260500.0  6653500.0  \n",
      "\n",
      "[111 rows x 11 columns]\n"
     ]
    }
   ],
   "source": [
    "nan_rows = data_loader.processed_incidents_df[data_loader.processed_incidents_df[\"time_dispatch\"].isna()]\n",
    "print(nan_rows)"
   ]
  },
  {
   "cell_type": "code",
   "execution_count": 8,
   "metadata": {},
   "outputs": [
    {
     "name": "stdout",
     "output_type": "stream",
     "text": [
      "            id  synthetic triage_impression_during_call   time_call_received  \\\n",
      "57072    63656      False                           NaN  17.12.2017T21:29:26   \n",
      "58398    65120      False                           NaN  18.05.2016T17:59:26   \n",
      "186581  205469      False                           NaN  30.07.2018T03:08:59   \n",
      "392371  421325      False                           NaN  16.10.2017T15:53:17   \n",
      "527574  562882      False                           NaN  26.03.2018T10:05:25   \n",
      "655730  698090      False                           NaN  01.03.2018T15:35:05   \n",
      "679708  724435      False                           NaN  17.12.2017T21:29:26   \n",
      "706659  755831      False                           NaN  18.05.2016T17:59:26   \n",
      "743726  800652      False                           NaN  15.02.2017T08:30:00   \n",
      "\n",
      "              time_dispatch   time_arrival_scene time_departure_scene  \\\n",
      "57072   17.12.2017T23:05:03                  NaN                  NaN   \n",
      "58398   18.05.2016T20:37:20                  NaN                  NaN   \n",
      "186581  30.07.2018T03:15:41  30.07.2018T03:16:38  30.07.2018T03:24:35   \n",
      "392371  16.10.2017T16:00:33  16.10.2017T16:08:27  16.10.2017T16:26:03   \n",
      "527574  26.03.2018T10:16:38  26.03.2018T10:30:00  26.03.2018T10:37:10   \n",
      "655730  01.03.2018T16:35:36  01.03.2018T16:42:58  01.03.2018T17:01:01   \n",
      "679708  17.12.2017T23:09:03  17.12.2017T23:14:19  17.12.2017T23:56:25   \n",
      "706659  18.05.2016T21:00:54  18.05.2016T21:17:56  18.05.2016T21:19:11   \n",
      "743726  15.02.2017T08:58:47  15.02.2017T09:01:26  15.02.2017T09:12:35   \n",
      "\n",
      "       time_arrival_hospital       time_available  longitude   latitude  \n",
      "57072                    NaN  17.12.2017T23:51:22   266500.0  6630500.0  \n",
      "58398                    NaN  18.05.2016T20:38:00   264500.0  6645500.0  \n",
      "186581   30.07.2018T03:32:20  30.07.2018T03:44:53   262500.0  6649500.0  \n",
      "392371   16.10.2017T16:34:53  16.10.2017T16:48:15   274500.0  6576500.0  \n",
      "527574   26.03.2018T10:45:48  26.03.2018T11:07:14   265500.0  6652500.0  \n",
      "655730   01.03.2018T17:14:39  01.03.2018T17:30:15   267500.0  6652500.0  \n",
      "679708   18.12.2017T00:22:35  18.12.2017T00:49:09   266500.0  6630500.0  \n",
      "706659   18.05.2016T21:44:18  18.05.2016T21:52:29   264500.0  6645500.0  \n",
      "743726   15.02.2017T09:20:15  15.02.2017T09:33:57   263500.0  6652500.0  \n"
     ]
    }
   ],
   "source": [
    "nan_rows = data_loader.processed_incidents_df[data_loader.processed_incidents_df[\"triage_impression_during_call\"].isna()]\n",
    "print(nan_rows)"
   ]
  },
  {
   "cell_type": "code",
   "execution_count": 10,
   "metadata": {},
   "outputs": [
    {
     "name": "stdout",
     "output_type": "stream",
     "text": [
      "13695\n"
     ]
    }
   ],
   "source": [
    "count = data_loader.processed_incidents_df[(data_loader.processed_incidents_df[\"time_arrival_scene\"].isna()) & (~data_loader.processed_incidents_df[\"time_arrival_hospital\"].isna())].shape[0]\n",
    "print(count)"
   ]
  },
  {
   "cell_type": "code",
   "execution_count": 11,
   "metadata": {},
   "outputs": [
    {
     "name": "stdout",
     "output_type": "stream",
     "text": [
      "8356\n"
     ]
    }
   ],
   "source": [
    "count = data_loader.processed_incidents_df[(data_loader.processed_incidents_df[\"time_departure_scene\"].isna()) & (~data_loader.processed_incidents_df[\"time_arrival_hospital\"].isna())].shape[0]\n",
    "print(count)"
   ]
  }
 ],
 "metadata": {
  "kernelspec": {
   "display_name": ".venv",
   "language": "python",
   "name": "python3"
  },
  "language_info": {
   "codemirror_mode": {
    "name": "ipython",
    "version": 3
   },
   "file_extension": ".py",
   "mimetype": "text/x-python",
   "name": "python",
   "nbconvert_exporter": "python",
   "pygments_lexer": "ipython3",
   "version": "3.11.6"
  }
 },
 "nbformat": 4,
 "nbformat_minor": 2
}
